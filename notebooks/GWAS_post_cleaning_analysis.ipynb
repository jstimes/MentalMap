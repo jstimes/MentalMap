{
 "cells": [
  {
   "cell_type": "markdown",
   "metadata": {
    "id": "euegwByXurgM"
   },
   "source": [
    "# Analysis of data after cleaning/normalization"
   ]
  },
  {
   "cell_type": "markdown",
   "metadata": {
    "id": "MN8GQdDhum3G"
   },
   "source": [
    "## Setup"
   ]
  },
  {
   "cell_type": "code",
   "execution_count": null,
   "metadata": {
    "id": "8GqDiu0GSLcb"
   },
   "outputs": [],
   "source": [
    "import pandas as pd\n",
    "import numpy as np\n",
    "import math\n",
    "import seaborn as sns"
   ]
  },
  {
   "cell_type": "code",
   "execution_count": null,
   "metadata": {
    "colab": {
     "base_uri": "https://localhost:8080/"
    },
    "id": "B_NSRxAtSQx1",
    "outputId": "95086a68-0ea9-4e9f-9b43-40623ef1ff5c"
   },
   "outputs": [],
   "source": [
    "METADATA_FILE = 'gwas_trait_metadata.csv'\n",
    "CLEANED_FILE_SUFFIX = '_cleaned.csv'\n",
    "UNKNOWN_GENE = 'UNKNOWN'\n",
    "CHILD_TRAIT_DELIMITER = ';'\n",
    "\n",
    "metadata_df = pd.read_csv(METADATA_FILE)\n",
    "all_traits = metadata_df['Trait'].tolist()\n",
    "print(all_traits)"
   ]
  },
  {
   "cell_type": "code",
   "execution_count": null,
   "metadata": {
    "id": "0btZbsOBSSMS"
   },
   "outputs": [],
   "source": [
    "def trait_to_cleaned_filename(trait):\n",
    "    return trait.replace(\" \", \"_\") + CLEANED_FILE_SUFFIX\n",
    "\n",
    "\n",
    "trait_to_df = {\n",
    "    trait: pd.read_csv(trait_to_cleaned_filename(trait)) for trait in all_traits\n",
    "}"
   ]
  },
  {
   "cell_type": "code",
   "execution_count": null,
   "metadata": {
    "colab": {
     "base_uri": "https://localhost:8080/",
     "height": 206
    },
    "id": "eGoBynF3mmL-",
    "outputId": "81ed0766-e178-4a59-f056-338d747e053a"
   },
   "outputs": [],
   "source": [
    "trait_to_df['schizophrenia'].head()"
   ]
  },
  {
   "cell_type": "markdown",
   "metadata": {
    "id": "dKAE897EumFQ"
   },
   "source": [
    "## Comparing summary stats of data for all traits"
   ]
  },
  {
   "cell_type": "code",
   "execution_count": null,
   "metadata": {
    "colab": {
     "base_uri": "https://localhost:8080/",
     "height": 437
    },
    "id": "nHaBuytqUlhb",
    "outputId": "66745aad-ac21-492b-877f-3a1f9893abcb"
   },
   "outputs": [],
   "source": [
    "trait_summaries = []\n",
    "for trait in all_traits:\n",
    "  trait_df = trait_to_df[trait]\n",
    "  if trait == 'attention deficit hyperactivity disorder':\n",
    "    # Shorten for plots\n",
    "    trait = 'ADHD'\n",
    "  trait_df['parent_trait'] = trait\n",
    "  \n",
    "  num_unknown_genes = len(trait_df.loc[trait_df['gene'] == UNKNOWN_GENE])\n",
    "  trait_summary = {\n",
    "      'parent_trait': trait,\n",
    "      'num_variants': len(trait_df),\n",
    "      'num_unique_genes': len(trait_df['gene'].unique()),\n",
    "      'num_unknown_genes': num_unknown_genes,\n",
    "      'min_pval': trait_df['p_value'].min(),\n",
    "      'max_pval': trait_df['p_value'].max(),\n",
    "  }\n",
    "  trait_summaries.append(trait_summary)\n",
    "\n",
    "summary_df = pd.DataFrame(trait_summaries)\n",
    "summary_df"
   ]
  },
  {
   "cell_type": "code",
   "execution_count": null,
   "metadata": {
    "colab": {
     "base_uri": "https://localhost:8080/",
     "height": 300
    },
    "id": "WCnkgaaxpFpt",
    "outputId": "55f16f76-c628-4930-a9cc-792379f4752c"
   },
   "outputs": [],
   "source": [
    "summary_df.plot(kind='barh', title='# entries per trait',\n",
    "                x='parent_trait', y='num_variants',\n",
    "                xlabel='Trait')"
   ]
  },
  {
   "cell_type": "code",
   "execution_count": null,
   "metadata": {
    "colab": {
     "base_uri": "https://localhost:8080/",
     "height": 300
    },
    "id": "dOZbcDDWpfrR",
    "outputId": "02cb21cd-a4f7-494e-8530-94187cdb7454"
   },
   "outputs": [],
   "source": [
    "summary_df.plot(kind='barh', title='# unique genes per trait',\n",
    "                x='parent_trait', y='num_unique_genes',\n",
    "                xlabel='Trait')"
   ]
  },
  {
   "cell_type": "code",
   "execution_count": null,
   "metadata": {
    "colab": {
     "base_uri": "https://localhost:8080/",
     "height": 354
    },
    "id": "hcxhx6UFq2WS",
    "outputId": "f0f8254a-e265-4e3c-b5de-6b1c00328ac6"
   },
   "outputs": [],
   "source": [
    "all_df = pd.concat(df for df in trait_to_df.values())\n",
    "all_df.head()"
   ]
  },
  {
   "cell_type": "code",
   "execution_count": null,
   "metadata": {
    "colab": {
     "base_uri": "https://localhost:8080/",
     "height": 433
    },
    "id": "zj9wITTKrkwi",
    "outputId": "deec0e85-f2ef-4320-e5eb-e40b51b29a86"
   },
   "outputs": [],
   "source": [
    "ax = sns.boxplot(x='parent_trait', y='p_value', data=all_df)\n",
    "ax.set_xticklabels(ax.get_xticklabels(), rotation=90)\n",
    "ax.set(title='P-value ranges per trait')"
   ]
  },
  {
   "cell_type": "markdown",
   "metadata": {
    "id": "LUj8POBDkw3U"
   },
   "source": [
    "The IQRs of all traits look roughly the same except for personality disorder (and schizophrenia has a much lower IQR and many outliers). It looks like filtering data points with p-values > 6e-6 may remove most of the outliers (and may need to exclude personality disorder; it also appears to have very little coverage based on the previous plots)."
   ]
  },
  {
   "cell_type": "markdown",
   "metadata": {
    "id": "-Rab98mRvCbG"
   },
   "source": [
    "## Comparing gene & variant overlap"
   ]
  },
  {
   "cell_type": "markdown",
   "metadata": {
    "id": "_xWpnuKWvbEP"
   },
   "source": [
    "Do pairwise comparison to see which traits share implicated genes."
   ]
  },
  {
   "cell_type": "code",
   "execution_count": null,
   "metadata": {
    "colab": {
     "base_uri": "https://localhost:8080/"
    },
    "id": "PbRNfbzktetv",
    "outputId": "5a48a55f-c753-4016-efec-ad4b4f4d6453"
   },
   "outputs": [],
   "source": [
    "trait_to_genes = {}\n",
    "for trait in all_traits:\n",
    "  genes = set(trait_to_df[trait]['gene'].unique())\n",
    "  genes.remove(UNKNOWN_GENE)\n",
    "  trait_to_genes[trait] = genes\n",
    "\n",
    " \n",
    "for trait_a in all_traits:\n",
    "  for trait_b in all_traits:\n",
    "    if trait_a == trait_b:\n",
    "      continue\n",
    "    \n",
    "    overlapping_genes = trait_to_genes[trait_a].intersection(trait_to_genes[trait_b])\n",
    "    if len(overlapping_genes) > 0:\n",
    "      print(f'{trait_a} and {trait_b} have {len(overlapping_genes)} overlapping genes.')"
   ]
  },
  {
   "cell_type": "markdown",
   "metadata": {
    "id": "NACoCOE4vr9b"
   },
   "source": [
    "Do a similar check, except for child traits of each given parent trait"
   ]
  },
  {
   "cell_type": "code",
   "execution_count": null,
   "metadata": {
    "colab": {
     "base_uri": "https://localhost:8080/"
    },
    "id": "OcKlLhJ8vYDg",
    "outputId": "8d430000-5167-4187-c6a7-f758b7619b3b"
   },
   "outputs": [],
   "source": [
    "for parent_trait in all_traits:\n",
    "  trait_row = metadata_df.loc[metadata_df['Trait'] == parent_trait]\n",
    "  child_trait_entry = trait_row['Child traits'].astype(str)\n",
    "  if len(child_trait_entry) == 0:\n",
    "    continue\n",
    "\n",
    "  child_traits = child_trait_entry.tolist()[0].split(CHILD_TRAIT_DELIMITER)\n",
    "  child_traits = [c_trait.strip().lower() for c_trait in child_traits]\n",
    "  trait_to_genes = {}\n",
    "  for child_trait in child_traits:\n",
    "    parent_df = trait_to_df[parent_trait]\n",
    "    child_trait_df = parent_df.loc[parent_df['trait'] == child_trait]\n",
    "    child_trait_genes = set(child_trait_df['gene'].unique())\n",
    "    if UNKNOWN_GENE in child_trait_genes:\n",
    "      child_trait_genes.remove(UNKNOWN_GENE)\n",
    "    trait_to_genes[child_trait] = child_trait_genes\n",
    "\n",
    "  for child_trait_a in child_traits:\n",
    "    for child_trait_b in child_traits:\n",
    "      if child_trait_a == child_trait_b:\n",
    "        continue\n",
    "      \n",
    "      genes_a = trait_to_genes[child_trait_a]\n",
    "      genes_b = trait_to_genes[child_trait_b]\n",
    "      overlapping_genes = genes_a.intersection(genes_b)\n",
    "      if len(overlapping_genes) > 0:\n",
    "        print(f'{child_trait_a} and {child_trait_b} have {len(overlapping_genes)} overlapping genes.')  "
   ]
  },
  {
   "cell_type": "markdown",
   "metadata": {
    "id": "QdT4CSomzE00"
   },
   "source": [
    "Finally check if any variants are implicated in multiple (parent) traits"
   ]
  },
  {
   "cell_type": "code",
   "execution_count": null,
   "metadata": {
    "colab": {
     "base_uri": "https://localhost:8080/"
    },
    "id": "6iGz9T8JzI_y",
    "outputId": "b2901424-2a1b-4eb7-d8c2-778f8823b516"
   },
   "outputs": [],
   "source": [
    "trait_to_variants = {}\n",
    "for trait in all_traits:\n",
    "  variants = set(trait_to_df[trait]['variant_and_allele'].unique())\n",
    "  trait_to_variants[trait] = variants\n",
    "\n",
    " \n",
    "for trait_a in all_traits:\n",
    "  for trait_b in all_traits:\n",
    "    if trait_a == trait_b:\n",
    "      continue\n",
    "    \n",
    "    overlapping_variants = trait_to_variants[trait_a].intersection(trait_to_variants[trait_b])\n",
    "    if len(overlapping_variants) > 0:\n",
    "      print(f'{trait_a} and {trait_b} have {len(overlapping_variants)} overlapping variants.')"
   ]
  },
  {
   "cell_type": "markdown",
   "metadata": {
    "id": "Xh4iutRHz6-y"
   },
   "source": [
    "Sanity-check a few of those."
   ]
  },
  {
   "cell_type": "code",
   "execution_count": null,
   "metadata": {
    "colab": {
     "base_uri": "https://localhost:8080/"
    },
    "id": "1X8R1mPpz_OX",
    "outputId": "2552f375-3ec7-488d-8383-2998155b6060"
   },
   "outputs": [],
   "source": [
    "adhd_variants = trait_to_variants['attention deficit hyperactivity disorder']\n",
    "autism_variants = trait_to_variants['autism spectrum disorder']\n",
    "overlapping_variants = adhd_variants.intersection(autism_variants)\n",
    "print(overlapping_variants)"
   ]
  },
  {
   "cell_type": "code",
   "execution_count": null,
   "metadata": {
    "colab": {
     "base_uri": "https://localhost:8080/"
    },
    "id": "_bH_7jl7z5of",
    "outputId": "f1f5ae67-e867-44f7-d569-9f3ae15581a6"
   },
   "outputs": [],
   "source": [
    "depression_variants = trait_to_variants['unipolar depression']\n",
    "anxiety_variants = trait_to_variants['anxiety disorder']\n",
    "overlapping_variants = depression_variants.intersection(anxiety_variants)\n",
    "print(overlapping_variants)"
   ]
  }
 ],
 "metadata": {
  "colab": {
   "collapsed_sections": [],
   "name": "GWAS_post_cleaning_analysis.ipynb",
   "provenance": []
  },
  "kernelspec": {
   "display_name": "Python 3",
   "name": "python3"
  },
  "language_info": {
   "name": "python"
  }
 },
 "nbformat": 4,
 "nbformat_minor": 0
}
