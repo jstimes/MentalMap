{
 "cells": [
  {
   "cell_type": "code",
   "execution_count": null,
   "metadata": {
    "id": "dNdiupC2U3p2"
   },
   "outputs": [],
   "source": [
    "import pandas as pd\n",
    "import numpy as np\n",
    "from sklearn.cluster import AgglomerativeClustering\n",
    "from matplotlib import pyplot as plt\n",
    "from scipy.cluster.hierarchy import dendrogram\n",
    "import math"
   ]
  },
  {
   "cell_type": "markdown",
   "metadata": {
    "id": "cKSJQmSWVkrj"
   },
   "source": [
    "# GWAS summary statistic clustering\n",
    "Data will be encoded into a standardized representation and then clustered to derive potential condition associations."
   ]
  },
  {
   "cell_type": "markdown",
   "metadata": {
    "id": "CBT3ft3YVtqr"
   },
   "source": [
    "## Load & encode data"
   ]
  },
  {
   "cell_type": "code",
   "execution_count": null,
   "metadata": {
    "colab": {
     "base_uri": "https://localhost:8080/"
    },
    "id": "UbmMi71EOrna",
    "outputId": "ccbf36b6-b469-4018-b6e8-257bb79636ff"
   },
   "outputs": [],
   "source": [
    "METADATA_FILE = \"gwas_trait_metadata.csv\"\n",
    "CLEANED_FILE_SUFFIX = \"_cleaned.csv\"\n",
    "UNKNOWN_GENE = \"UNKNOWN\"\n",
    "\n",
    "metadata_df = pd.read_csv(METADATA_FILE)\n",
    "all_traits = metadata_df[\"Trait\"].tolist()\n",
    "print(all_traits)"
   ]
  },
  {
   "cell_type": "code",
   "execution_count": null,
   "metadata": {
    "id": "dbR6lSwxVjur"
   },
   "outputs": [],
   "source": [
    "def trait_to_cleaned_filename(trait):\n",
    "    return trait.replace(\" \", \"_\") + CLEANED_FILE_SUFFIX\n",
    "\n",
    "\n",
    "def filter_unknown_genes(df):\n",
    "    return df.loc[df[\"gene\"] != UNKNOWN_GENE]\n",
    "\n",
    "\n",
    "dfs = []\n",
    "for trait in all_traits:\n",
    "    df = pd.read_csv(trait_to_cleaned_filename(trait))\n",
    "    df = filter_unknown_genes(df)\n",
    "    if trait == \"attention deficit hyperactivity disorder\":\n",
    "        trait = \"ADHD\"\n",
    "    df[\"parent_trait\"] = trait\n",
    "    dfs.append(df)"
   ]
  },
  {
   "cell_type": "markdown",
   "metadata": {
    "id": "omBnWT-HWl9n"
   },
   "source": [
    "### Naive encoding\n",
    "Just use 1-hot encoding of gene implication (i.e. number all genes implicated in the given conditions from 0...N-1. Then create an N-dimensional vector for each condition where element i is 1 if the condition is associated with that gene, 0 if not).\n",
    "The hypothesis is that similar conditions have implicated gene overlap."
   ]
  },
  {
   "cell_type": "code",
   "execution_count": null,
   "metadata": {
    "colab": {
     "base_uri": "https://localhost:8080/"
    },
    "id": "1ozxS_eZWc1r",
    "outputId": "28a518a2-b3ac-4173-aac0-1cf88fbf0a44"
   },
   "outputs": [],
   "source": [
    "all_genes = set()\n",
    "for df in dfs:\n",
    "    genes = df[\"gene\"].unique()\n",
    "    [all_genes.add(gene) for gene in genes]\n",
    "\n",
    "print(f\"Found {len(all_genes)} total genes.\")"
   ]
  },
  {
   "cell_type": "code",
   "execution_count": null,
   "metadata": {
    "id": "t6vEI5exXajJ"
   },
   "outputs": [],
   "source": [
    "all_genes_list = list(all_genes)\n",
    "num_genes = len(all_genes_list)\n",
    "gene_to_index = {all_genes_list[i]: i for i in range(num_genes)}"
   ]
  },
  {
   "cell_type": "code",
   "execution_count": null,
   "metadata": {
    "id": "s_sGOLbiX20d"
   },
   "outputs": [],
   "source": [
    "def encode_condition_df(df):\n",
    "    vec = np.zeros(num_genes)\n",
    "    condition_genes = df[\"gene\"].unique()\n",
    "    for gene in condition_genes:\n",
    "        gene_index = gene_to_index[gene]\n",
    "        vec[gene_index] = 1\n",
    "    return vec\n",
    "\n",
    "\n",
    "# Small test:\n",
    "first_gene = all_genes_list[0]\n",
    "df = pd.DataFrame(\n",
    "    [\n",
    "        {\n",
    "            \"variant_and_allele\": \"test\",\n",
    "            \"p_value\": 0.01,\n",
    "            \"trait\": \"test\",\n",
    "            \"gene\": first_gene,\n",
    "        }\n",
    "    ]\n",
    ")\n",
    "encoding = encode_condition_df(df)\n",
    "assert encoding[0] == 1\n",
    "assert sum(encoding) == 1"
   ]
  },
  {
   "cell_type": "code",
   "execution_count": null,
   "metadata": {
    "colab": {
     "base_uri": "https://localhost:8080/",
     "height": 522
    },
    "id": "37benbMMY4Kb",
    "outputId": "31e014c4-5ee9-4687-d425-ef0c83392eb8"
   },
   "outputs": [],
   "source": [
    "# Encode them all!\n",
    "encodings_vertical = pd.DataFrame(\n",
    "    {df[\"parent_trait\"].unique()[0]: encode_condition_df(df) for df in dfs}\n",
    ")\n",
    "encodings_vertical"
   ]
  },
  {
   "cell_type": "code",
   "execution_count": null,
   "metadata": {
    "colab": {
     "base_uri": "https://localhost:8080/",
     "height": 661
    },
    "id": "8Qu82v2PbcVE",
    "outputId": "dc17082a-48a7-45b0-f16a-7dc79c120314"
   },
   "outputs": [],
   "source": [
    "# Actually needs to have vectors as rows not columns:\n",
    "encodings = encodings_vertical.T\n",
    "encodings"
   ]
  },
  {
   "cell_type": "markdown",
   "metadata": {
    "id": "xY78hqKxZHsV"
   },
   "source": [
    "## Naive Clustering (no special filtering)"
   ]
  },
  {
   "cell_type": "code",
   "execution_count": null,
   "metadata": {
    "id": "FKFeC7UCZK_a"
   },
   "outputs": [],
   "source": [
    "# See docs here:\n",
    "# https://scikit-learn.org/stable/modules/generated/sklearn.cluster.AgglomerativeClustering.html\n",
    "model = AgglomerativeClustering(distance_threshold=0, n_clusters=None, linkage=\"ward\")\n",
    "clustering = model.fit(encodings)"
   ]
  },
  {
   "cell_type": "code",
   "execution_count": null,
   "metadata": {
    "id": "O3vY5yHNZpIn"
   },
   "outputs": [],
   "source": [
    "# This code is from the scikit-learn examples!\n",
    "# https://scikit-learn.org/stable/auto_examples/cluster/plot_agglomerative_dendrogram.html#sphx-glr-auto-examples-cluster-plot-agglomerative-dendrogram-py\n",
    "\n",
    "\n",
    "def plot_dendrogram(model, conditions, **kwargs):\n",
    "    # Create linkage matrix and then plot the dendrogram\n",
    "\n",
    "    # create the counts of samples under each node\n",
    "    counts = np.zeros(model.children_.shape[0])\n",
    "    n_samples = len(model.labels_)\n",
    "    for i, merge in enumerate(model.children_):\n",
    "        current_count = 0\n",
    "        for child_idx in merge:\n",
    "            if child_idx < n_samples:\n",
    "                current_count += 1  # leaf node\n",
    "            else:\n",
    "                current_count += counts[child_idx - n_samples]\n",
    "        counts[i] = current_count\n",
    "\n",
    "    linkage_matrix = np.column_stack(\n",
    "        [model.children_, model.distances_, counts]\n",
    "    ).astype(float)\n",
    "\n",
    "    # Plot the corresponding dendrogram\n",
    "    dendrogram(linkage_matrix, **kwargs, labels=conditions, leaf_rotation=90)"
   ]
  },
  {
   "cell_type": "code",
   "execution_count": null,
   "metadata": {
    "colab": {
     "base_uri": "https://localhost:8080/",
     "height": 454
    },
    "id": "3zbOQpLuZw00",
    "outputId": "feaaf8f5-5585-4442-99b7-65495cfbdcbb"
   },
   "outputs": [],
   "source": [
    "plt.suptitle(\"No filtering besides removing unknown genes\")\n",
    "plt.title(\"Hierarchical Clustering Dendrogram\")\n",
    "# plot all levels of the dendrogram\n",
    "plot_dendrogram(model, encodings_vertical.columns, truncate_mode=\"level\", p=11)\n",
    "plt.xlabel(\"Trait\")\n",
    "plt.show()"
   ]
  },
  {
   "cell_type": "markdown",
   "metadata": {
    "id": "sM7LfqcBbwad"
   },
   "source": [
    "### Observations\n",
    "It seems schizophrenia is the least similar to the others. This is a little surprising given that in my literature review I saw many mentions of Schizophrenia having overlap with other mental illnesses. The results may be skewed at this time because there is more data for schizophrenia.\n",
    "\n",
    "The telescoping shape also seems peculiar (as opposed to distinct subgroups). The ordering seems to be (from left to right) traits with the most data points to traits with the least. Let's double-check:"
   ]
  },
  {
   "cell_type": "code",
   "execution_count": null,
   "metadata": {
    "colab": {
     "base_uri": "https://localhost:8080/"
    },
    "id": "v6qmNEXS3ZO7",
    "outputId": "4c75a9d6-bfd4-4527-ca05-75d1b4b169fd"
   },
   "outputs": [],
   "source": [
    "trait_to_num_data_points = {}\n",
    "for df in dfs:\n",
    "    trait = df[\"parent_trait\"].unique()[0]\n",
    "    num_rows = len(df)\n",
    "    trait_to_num_data_points[trait] = num_rows\n",
    "\n",
    "{k: v for v, k in sorted(trait_to_num_data_points.items(), key=lambda item: item[1])}"
   ]
  },
  {
   "cell_type": "markdown",
   "metadata": {
    "id": "j3aoAf8Y5vZy"
   },
   "source": [
    "Yes, the clustering hierarchy almost perfectly resembles how many data points there are per trait. This makes sense based on vector magnitudes."
   ]
  },
  {
   "cell_type": "markdown",
   "metadata": {
    "id": "I_tJ6lzt5-Yj"
   },
   "source": [
    "## Less naive clustering\n",
    "Drop personality disorder and tourette syndrome as they likely don't have enough data to be meaningful compared to the other traits (also, from the post-cleaning analysis, it seems personality disorder variants have high p-values compared to all other conditions)."
   ]
  },
  {
   "cell_type": "code",
   "execution_count": null,
   "metadata": {
    "colab": {
     "base_uri": "https://localhost:8080/"
    },
    "id": "Hyni_uED6BV1",
    "outputId": "92620474-a54a-480a-e80a-ae5490025117"
   },
   "outputs": [],
   "source": [
    "excluded_traits = [\"personality disorder\", \"tourette syndrome\"]\n",
    "all_df = pd.concat(\n",
    "    df for df in dfs if df[\"parent_trait\"].unique()[0] not in excluded_traits\n",
    ")\n",
    "all_df[\"parent_trait\"].unique()"
   ]
  },
  {
   "cell_type": "code",
   "execution_count": null,
   "metadata": {
    "id": "wLRgkt0Y8U8Z"
   },
   "outputs": [],
   "source": [
    "# Combine some of the code above into a reusable function\n",
    "def gene_based_hierachical_clustering(all_df, title):\n",
    "    traits = all_df[\"parent_trait\"]\n",
    "    trait_dfs = [all_df.loc[all_df[\"parent_trait\"] == trait] for trait in traits]\n",
    "    encodings_vertical = pd.DataFrame(\n",
    "        {df[\"parent_trait\"].unique()[0]: encode_condition_df(df) for df in trait_dfs}\n",
    "    )\n",
    "    encodings = encodings_vertical.T\n",
    "    model = AgglomerativeClustering(\n",
    "        distance_threshold=0, n_clusters=None, linkage=\"ward\"\n",
    "    )\n",
    "    model.fit(encodings)\n",
    "\n",
    "    plt.suptitle(title)\n",
    "    plt.title(\"Hierarchical Clustering Dendrogram\")\n",
    "    # plot all levels of the dendrogram\n",
    "    plot_dendrogram(model, encodings_vertical.columns, truncate_mode=\"level\", p=11)\n",
    "    plt.xlabel(\"Trait\")\n",
    "    plt.show()"
   ]
  },
  {
   "cell_type": "markdown",
   "metadata": {
    "id": "ceczCall-9pG"
   },
   "source": [
    "Try again to see if there's any difference...\n",
    "One hypothesis is that only genes that appear in multiple traits are relevant to include in the encoding and clustering, because genes that are only implicated by one trait only show 'difference' from other traits...\n",
    "but on the other hand, if a trait has only one gene in common with others and hundreds of other unique implicated genes, it could be informative that the trait is actually quite different. Let's try both, starting with all genes."
   ]
  },
  {
   "cell_type": "code",
   "execution_count": null,
   "metadata": {
    "colab": {
     "base_uri": "https://localhost:8080/",
     "height": 454
    },
    "id": "7QVmA1tZ-8wz",
    "outputId": "f869949f-2081-4e03-8841-ce96d534539b"
   },
   "outputs": [],
   "source": [
    "gene_based_hierachical_clustering(all_df, \"Removing low-data conditions\")"
   ]
  },
  {
   "cell_type": "markdown",
   "metadata": {
    "id": "r0RcL3DZB0G4"
   },
   "source": [
    "Still in order of data points. Probably need to do some sort of normalization based on data size. Let's first filter out genes that only appear in one trait though. If we're measuring similarity, unique genes don't really add information, or at least it's not clear how to account for that in an unbiased way."
   ]
  },
  {
   "cell_type": "code",
   "execution_count": null,
   "metadata": {
    "colab": {
     "base_uri": "https://localhost:8080/"
    },
    "id": "acZO90JNCSfx",
    "outputId": "9e254eaf-7774-4d58-86cb-d088e2dc3a98"
   },
   "outputs": [],
   "source": [
    "all_genes = all_df[\"gene\"].unique()\n",
    "# Stores genes that only appear for one trait\n",
    "genes_to_remove = []\n",
    "for gene in all_genes:\n",
    "    num_traits = len(all_df.loc[all_df[\"gene\"] == gene])\n",
    "    if num_traits < 2:\n",
    "        genes_to_remove.append(gene)\n",
    "\n",
    "print(f\"{len(genes_to_remove)} / {len(all_genes)} only appear in a single trait\")"
   ]
  },
  {
   "cell_type": "markdown",
   "metadata": {
    "id": "YZqlmECZGKQG"
   },
   "source": [
    "That's a good chunk of the genes, but let's proceed..."
   ]
  },
  {
   "cell_type": "code",
   "execution_count": null,
   "metadata": {
    "colab": {
     "base_uri": "https://localhost:8080/"
    },
    "id": "UDM4C_5bEtIk",
    "outputId": "4e38288d-b528-4c79-9a8e-f583c5d3923e"
   },
   "outputs": [],
   "source": [
    "print(f\"Initial df size: {len(all_df)}\")\n",
    "\n",
    "\n",
    "def is_common_gene(gene):\n",
    "    return gene not in genes_to_remove\n",
    "\n",
    "\n",
    "is_common_index = all_df[\"gene\"].map(is_common_gene)\n",
    "all_df = all_df.loc[is_common_index]\n",
    "len(all_df)"
   ]
  },
  {
   "cell_type": "markdown",
   "metadata": {
    "id": "-KYNUgpcH3oD"
   },
   "source": [
    "Actually not that many data points were removed. Finally cluster this data:"
   ]
  },
  {
   "cell_type": "code",
   "execution_count": null,
   "metadata": {
    "colab": {
     "base_uri": "https://localhost:8080/",
     "height": 454
    },
    "id": "BW8DGa8LH8YC",
    "outputId": "483ffdbd-1287-48e6-d393-9e5de6de2baf"
   },
   "outputs": [],
   "source": [
    "gene_based_hierachical_clustering(\n",
    "    all_df, \"Excluding genes that appear in one trait only\"\n",
    ")"
   ]
  },
  {
   "cell_type": "markdown",
   "metadata": {
    "id": "CihC61uXIIPD"
   },
   "source": [
    "Well, a slightly different order of the telescoping effect, but still no distinct clusters."
   ]
  },
  {
   "cell_type": "markdown",
   "metadata": {
    "id": "h4ooqwOhR-ui"
   },
   "source": [
    "## Account for data size\n",
    "Vector magnitude (number of data points per condition) seems to be biasing clustering results. Try taking top X data points per trait where X is the number of data points for the trait with the smallest dataset size, and 'top' means lowest p-value variant associations."
   ]
  },
  {
   "cell_type": "code",
   "execution_count": null,
   "metadata": {
    "colab": {
     "base_uri": "https://localhost:8080/"
    },
    "id": "OWDK-l0WTBWF",
    "outputId": "c4b4d17d-3882-4aef-8499-3a14715a11ea"
   },
   "outputs": [],
   "source": [
    "trait_group_df = all_df.groupby(\"parent_trait\").size()\n",
    "trait_group_df"
   ]
  },
  {
   "cell_type": "code",
   "execution_count": null,
   "metadata": {
    "colab": {
     "base_uri": "https://localhost:8080/"
    },
    "id": "AVXtOXU_R9eY",
    "outputId": "7bc46502-350b-4e21-ca7b-108ffda69089"
   },
   "outputs": [],
   "source": [
    "smallest_trait_size = trait_group_df.min()\n",
    "smallest_trait_size"
   ]
  },
  {
   "cell_type": "code",
   "execution_count": null,
   "metadata": {
    "colab": {
     "base_uri": "https://localhost:8080/"
    },
    "id": "r_WG_5RlS8ux",
    "outputId": "b8a8b813-54d8-40bb-94a0-ee881d69f9a0"
   },
   "outputs": [],
   "source": [
    "new_df = pd.DataFrame()\n",
    "for trait in all_df[\"parent_trait\"].unique():\n",
    "    trait_df = all_df[all_df[\"parent_trait\"] == trait]\n",
    "    trait_df.sort_values(by=\"p_value\", inplace=True, ascending=True)\n",
    "    trait_df = trait_df.iloc[range(0, smallest_trait_size)]\n",
    "    new_df = pd.concat([new_df, trait_df])\n",
    "\n",
    "trait_group_df = new_df.groupby(\"parent_trait\").size()\n",
    "trait_group_df"
   ]
  },
  {
   "cell_type": "markdown",
   "metadata": {
    "id": "UmM5JXUxUDzR"
   },
   "source": [
    "Now try clustering with most significant associations for common genes per trait."
   ]
  },
  {
   "cell_type": "code",
   "execution_count": null,
   "metadata": {
    "colab": {
     "base_uri": "https://localhost:8080/",
     "height": 454
    },
    "id": "X7aq_AClUDPr",
    "outputId": "9a08148f-6ace-4efd-8ee7-4f96f2180c09"
   },
   "outputs": [],
   "source": [
    "gene_based_hierachical_clustering(\n",
    "    new_df, \"Most significant associations per trait; common genes only\"\n",
    ")"
   ]
  },
  {
   "cell_type": "markdown",
   "metadata": {
    "id": "RMUUa0KUUiqJ"
   },
   "source": [
    "Well, it's not sorted by magnitude anymore! Bipolar and schizophrenia are clustered together, which is also reported in the literature. I need to look into this a bit, but the association between Alzheimer's and drug dependence seems plausible too."
   ]
  }
 ],
 "metadata": {
  "colab": {
   "collapsed_sections": [],
   "name": "GWAS_encode_and_cluster.ipynb",
   "provenance": []
  },
  "kernelspec": {
   "display_name": "Python 3",
   "name": "python3"
  },
  "language_info": {
   "name": "python"
  }
 },
 "nbformat": 4,
 "nbformat_minor": 0
}
