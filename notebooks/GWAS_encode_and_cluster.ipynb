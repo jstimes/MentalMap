{
 "cells": [
  {
   "cell_type": "code",
   "execution_count": null,
   "metadata": {
    "id": "dNdiupC2U3p2"
   },
   "outputs": [],
   "source": [
    "import pandas as pd\n",
    "import numpy as np\n",
    "from sklearn.cluster import AgglomerativeClustering\n",
    "from matplotlib import pyplot as plt\n",
    "from scipy.cluster.hierarchy import dendrogram\n",
    "import math"
   ]
  },
  {
   "cell_type": "markdown",
   "metadata": {
    "id": "cKSJQmSWVkrj"
   },
   "source": [
    "# GWAS summary statistic clustering\n",
    "Data will be encoded into a standardized representation and then clustered to derive potential condition associations."
   ]
  },
  {
   "cell_type": "markdown",
   "metadata": {
    "id": "CBT3ft3YVtqr"
   },
   "source": [
    "## Load & encode data"
   ]
  },
  {
   "cell_type": "code",
   "execution_count": null,
   "metadata": {
    "colab": {
     "base_uri": "https://localhost:8080/"
    },
    "id": "UbmMi71EOrna",
    "outputId": "55f1da12-eaf4-482a-a2fe-b1bc3ccff7a1"
   },
   "outputs": [],
   "source": [
    "METADATA_FILE = \"gwas_trait_metadata.csv\"\n",
    "CLEANED_FILE_SUFFIX = \"_cleaned.csv\"\n",
    "UNKNOWN_GENE = \"UNKNOWN\"\n",
    "\n",
    "metadata_df = pd.read_csv(METADATA_FILE)\n",
    "all_traits = metadata_df[\"Trait\"].tolist()\n",
    "print(all_traits)"
   ]
  },
  {
   "cell_type": "code",
   "execution_count": null,
   "metadata": {
    "id": "dbR6lSwxVjur"
   },
   "outputs": [],
   "source": [
    "def trait_to_cleaned_filename(trait):\n",
    "    return trait.replace(\" \", \"_\") + CLEANED_FILE_SUFFIX\n",
    "\n",
    "\n",
    "def filter_unknown_genes(df):\n",
    "    return df.loc[df[\"gene\"] != UNKNOWN_GENE]\n",
    "\n",
    "\n",
    "dfs = []\n",
    "for trait in all_traits:\n",
    "    df = pd.read_csv(trait_to_cleaned_filename(trait))\n",
    "    df = filter_unknown_genes(df)\n",
    "    if trait == \"attention deficit hyperactivity disorder\":\n",
    "        trait = \"ADHD\"\n",
    "    df[\"parent_trait\"] = trait\n",
    "    dfs.append(df)"
   ]
  },
  {
   "cell_type": "markdown",
   "metadata": {
    "id": "omBnWT-HWl9n"
   },
   "source": [
    "### Naive encoding\n",
    "Just use 1-hot encoding of gene implication (i.e. number all genes implicated in the given conditions from 0...N-1. Then create an N-dimensional vector for each condition where element i is 1 if the condition is associated with that gene, 0 if not).\n",
    "The hypothesis is that similar conditions have implicated gene overlap."
   ]
  },
  {
   "cell_type": "code",
   "execution_count": null,
   "metadata": {
    "colab": {
     "base_uri": "https://localhost:8080/"
    },
    "id": "1ozxS_eZWc1r",
    "outputId": "883b1442-4b56-4348-ac1e-6599c0c5d845"
   },
   "outputs": [],
   "source": [
    "all_genes = set()\n",
    "for df in dfs:\n",
    "    genes = df[\"gene\"].unique()\n",
    "    [all_genes.add(gene) for gene in genes]\n",
    "\n",
    "print(f\"Found {len(all_genes)} total genes.\")"
   ]
  },
  {
   "cell_type": "code",
   "execution_count": null,
   "metadata": {
    "id": "t6vEI5exXajJ"
   },
   "outputs": [],
   "source": [
    "all_genes_list = list(all_genes)\n",
    "num_genes = len(all_genes_list)\n",
    "gene_to_index = {all_genes_list[i]: i for i in range(num_genes)}"
   ]
  },
  {
   "cell_type": "code",
   "execution_count": null,
   "metadata": {
    "id": "s_sGOLbiX20d"
   },
   "outputs": [],
   "source": [
    "def encode_condition_df(df):\n",
    "    vec = np.zeros(num_genes)\n",
    "    condition_genes = df[\"gene\"].unique()\n",
    "    for gene in condition_genes:\n",
    "        gene_index = gene_to_index[gene]\n",
    "        vec[gene_index] = 1\n",
    "    return vec\n",
    "\n",
    "\n",
    "# Small test:\n",
    "first_gene = all_genes_list[0]\n",
    "df = pd.DataFrame(\n",
    "    [\n",
    "        {\n",
    "            \"variant_and_allele\": \"test\",\n",
    "            \"p_value\": 0.01,\n",
    "            \"trait\": \"test\",\n",
    "            \"gene\": first_gene,\n",
    "        }\n",
    "    ]\n",
    ")\n",
    "encoding = encode_condition_df(df)\n",
    "assert encoding[0] == 1\n",
    "assert sum(encoding) == 1"
   ]
  },
  {
   "cell_type": "code",
   "execution_count": null,
   "metadata": {
    "colab": {
     "base_uri": "https://localhost:8080/",
     "height": 522
    },
    "id": "37benbMMY4Kb",
    "outputId": "1f9d8468-69d1-46b4-eec4-3d576199eb40"
   },
   "outputs": [],
   "source": [
    "# Encode them all!\n",
    "encodings_vertical = pd.DataFrame(\n",
    "    {df[\"parent_trait\"].unique()[0]: encode_condition_df(df) for df in dfs}\n",
    ")\n",
    "encodings_vertical"
   ]
  },
  {
   "cell_type": "code",
   "execution_count": null,
   "metadata": {
    "colab": {
     "base_uri": "https://localhost:8080/",
     "height": 661
    },
    "id": "8Qu82v2PbcVE",
    "outputId": "7be936eb-6560-400c-f623-b77659e0faab"
   },
   "outputs": [],
   "source": [
    "# Actually needs to have vectors as rows not columns:\n",
    "encodings = encodings_vertical.T\n",
    "encodings"
   ]
  },
  {
   "cell_type": "markdown",
   "metadata": {
    "id": "xY78hqKxZHsV"
   },
   "source": [
    "## Cluster"
   ]
  },
  {
   "cell_type": "code",
   "execution_count": null,
   "metadata": {
    "id": "FKFeC7UCZK_a"
   },
   "outputs": [],
   "source": [
    "# See docs here:\n",
    "# https://scikit-learn.org/stable/modules/generated/sklearn.cluster.AgglomerativeClustering.html\n",
    "model = AgglomerativeClustering(distance_threshold=0, n_clusters=None, linkage=\"ward\")\n",
    "clustering = model.fit(encodings)"
   ]
  },
  {
   "cell_type": "code",
   "execution_count": null,
   "metadata": {
    "id": "O3vY5yHNZpIn"
   },
   "outputs": [],
   "source": [
    "# This code is from the scikit-learn examples!\n",
    "# https://scikit-learn.org/stable/auto_examples/cluster/plot_agglomerative_dendrogram.html#sphx-glr-auto-examples-cluster-plot-agglomerative-dendrogram-py\n",
    "\n",
    "\n",
    "def plot_dendrogram(model, **kwargs):\n",
    "    # Create linkage matrix and then plot the dendrogram\n",
    "\n",
    "    # create the counts of samples under each node\n",
    "    counts = np.zeros(model.children_.shape[0])\n",
    "    n_samples = len(model.labels_)\n",
    "    for i, merge in enumerate(model.children_):\n",
    "        current_count = 0\n",
    "        for child_idx in merge:\n",
    "            if child_idx < n_samples:\n",
    "                current_count += 1  # leaf node\n",
    "            else:\n",
    "                current_count += counts[child_idx - n_samples]\n",
    "        counts[i] = current_count\n",
    "\n",
    "    linkage_matrix = np.column_stack(\n",
    "        [model.children_, model.distances_, counts]\n",
    "    ).astype(float)\n",
    "\n",
    "    # Plot the corresponding dendrogram\n",
    "    dendrogram(\n",
    "        linkage_matrix, **kwargs, labels=encodings_vertical.columns, leaf_rotation=90\n",
    "    )"
   ]
  },
  {
   "cell_type": "code",
   "execution_count": null,
   "metadata": {
    "colab": {
     "base_uri": "https://localhost:8080/",
     "height": 454
    },
    "id": "3zbOQpLuZw00",
    "outputId": "165bb2b5-2845-4fd2-f0da-3713b9d06930"
   },
   "outputs": [],
   "source": [
    "plt.suptitle(\"No filtering besides removing unknown genes\")\n",
    "plt.title(\"Hierarchical Clustering Dendrogram\")\n",
    "# plot all levels of the dendrogram\n",
    "plot_dendrogram(model, truncate_mode=\"level\", p=11)\n",
    "plt.xlabel(\"Index of condition.\")\n",
    "plt.show()"
   ]
  },
  {
   "cell_type": "markdown",
   "metadata": {
    "id": "sM7LfqcBbwad"
   },
   "source": [
    "### Observations\n",
    "It seems schizophrenia is the least similar to the others. This is a little surprising given that in my literature review I saw many mentions of Schizophrenia having overlap with other mental illnesses. The results may be skewed at this time because there is more data for schizophrenia.\n",
    "\n",
    "The telescoping shape also seems peculiar (as opposed to distinct subgroups)."
   ]
  }
 ],
 "metadata": {
  "colab": {
   "collapsed_sections": [],
   "name": "GWAS_encode_and_cluster.ipynb",
   "provenance": []
  },
  "kernelspec": {
   "display_name": "Python 3",
   "name": "python3"
  },
  "language_info": {
   "name": "python"
  }
 },
 "nbformat": 4,
 "nbformat_minor": 0
}
