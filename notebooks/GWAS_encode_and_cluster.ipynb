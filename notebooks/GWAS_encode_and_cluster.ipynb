{
  "nbformat": 4,
  "nbformat_minor": 0,
  "metadata": {
    "colab": {
      "name": "GWAS_encode_and_cluster.ipynb",
      "provenance": [],
      "collapsed_sections": []
    },
    "kernelspec": {
      "name": "python3",
      "display_name": "Python 3"
    },
    "language_info": {
      "name": "python"
    }
  },
  "cells": [
    {
      "cell_type": "code",
      "execution_count": 1,
      "metadata": {
        "id": "dNdiupC2U3p2"
      },
      "outputs": [],
      "source": [
        "from typing import Callable, Dict, List\n",
        "import pandas as pd\n",
        "import numpy as np\n",
        "from sklearn.cluster import AgglomerativeClustering, KMeans\n",
        "from sklearn.decomposition import PCA\n",
        "from sklearn.preprocessing import StandardScaler\n",
        "from matplotlib import pyplot as plt\n",
        "from scipy.cluster.hierarchy import dendrogram\n",
        "import math"
      ]
    },
    {
      "cell_type": "markdown",
      "source": [
        "# GWAS summary statistic clustering\n",
        "Data will be encoded into a standardized representation and then clustered to derive potential condition associations."
      ],
      "metadata": {
        "id": "cKSJQmSWVkrj"
      }
    },
    {
      "cell_type": "markdown",
      "source": [
        "## Load & encode data"
      ],
      "metadata": {
        "id": "CBT3ft3YVtqr"
      }
    },
    {
      "cell_type": "code",
      "source": [
        "METADATA_FILE = 'gwas_trait_metadata.csv'\n",
        "CLEANED_FILE_SUFFIX = '.csv'\n",
        "UNKNOWN_GENE = \"UNKNOWN\"\n",
        "\n",
        "metadata_df = pd.read_csv(METADATA_FILE)\n",
        "all_traits = metadata_df['Trait'].tolist()\n",
        "print(all_traits)"
      ],
      "metadata": {
        "colab": {
          "base_uri": "https://localhost:8080/"
        },
        "id": "UbmMi71EOrna",
        "outputId": "0b180abd-293c-4cf1-8b26-997f17083845"
      },
      "execution_count": 2,
      "outputs": [
        {
          "output_type": "stream",
          "name": "stdout",
          "text": [
            "['attention deficit hyperactivity disorder', 'alzheimer disease', 'anxiety disorder', 'autism spectrum disorder', 'bipolar disorder', 'drug dependence', 'eating disorder', 'personality disorder', 'schizophrenia', 'tourette syndrome', 'unipolar depression']\n"
          ]
        }
      ]
    },
    {
      "cell_type": "code",
      "source": [
        "def trait_to_cleaned_filename(trait):\n",
        "    return trait.replace(\" \", \"_\") + CLEANED_FILE_SUFFIX\n",
        "\n",
        "\n",
        "def filter_unknown_genes(df):\n",
        "  return df.loc[df['gene'] != UNKNOWN_GENE]\n",
        "\n",
        "\n",
        "dfs = []\n",
        "for trait in all_traits:\n",
        "  df = pd.read_csv(trait_to_cleaned_filename(trait))\n",
        "  df = filter_unknown_genes(df)\n",
        "  if trait == 'attention deficit hyperactivity disorder':\n",
        "    trait = 'ADHD'\n",
        "  df['parent_trait'] = trait\n",
        "  dfs.append(df)"
      ],
      "metadata": {
        "id": "dbR6lSwxVjur"
      },
      "execution_count": 3,
      "outputs": []
    },
    {
      "cell_type": "markdown",
      "source": [
        "### Naive encoding\n",
        "Just use 1-hot encoding of gene implication (i.e. number all genes implicated in the given conditions from 0...N-1. Then create an N-dimensional vector for each condition where element i is 1 if the condition is associated with that gene, 0 if not).\n",
        "The hypothesis is that similar conditions have implicated gene overlap."
      ],
      "metadata": {
        "id": "omBnWT-HWl9n"
      }
    },
    {
      "cell_type": "code",
      "source": [
        "def create_gene_to_index_dict(all_data_df: pd.DataFrame) -> Dict[str, int]:\n",
        "  \"\"\"Maps gene to index such that each gene is assigned a unique index.\"\"\"\n",
        "  all_genes = set()\n",
        "  genes = all_data_df['gene'].unique()\n",
        "  [all_genes.add(gene) for gene in genes]\n",
        "\n",
        "  all_genes_list = list(all_genes)\n",
        "  num_genes = len(all_genes_list)\n",
        "  gene_to_index = {all_genes_list[i]: i for i in range(num_genes)}\n",
        "  return gene_to_index\n",
        "\n",
        "gene_to_index = create_gene_to_index_dict(pd.concat([df for df in dfs]))\n",
        "print(f\"Found {len(gene_to_index.keys())} total genes.\")"
      ],
      "metadata": {
        "colab": {
          "base_uri": "https://localhost:8080/"
        },
        "id": "1ozxS_eZWc1r",
        "outputId": "dffc3d6d-05c4-4efb-f996-cca907ef2f03"
      },
      "execution_count": 4,
      "outputs": [
        {
          "output_type": "stream",
          "name": "stdout",
          "text": [
            "Found 3259 total genes.\n"
          ]
        }
      ]
    },
    {
      "cell_type": "code",
      "source": [
        "def encode_condition_df(df, gene_to_index):\n",
        "  num_genes = len(gene_to_index.keys())\n",
        "  vec = np.zeros(num_genes)\n",
        "  condition_genes = df['gene'].unique()\n",
        "  for gene in condition_genes:\n",
        "    gene_index = gene_to_index[gene]\n",
        "    vec[gene_index] = 1\n",
        "  return vec\n",
        "\n",
        "\n",
        "# Small test:\n",
        "apoe_index = gene_to_index['APOE']\n",
        "df = pd.DataFrame([{'variant_and_allele': 'test', 'p_value': 0.01, 'trait': 'test', 'gene': 'APOE'}])\n",
        "encoding = encode_condition_df(df, gene_to_index)\n",
        "assert encoding[apoe_index] == 1\n",
        "assert sum(encoding) == 1"
      ],
      "metadata": {
        "id": "s_sGOLbiX20d"
      },
      "execution_count": 5,
      "outputs": []
    },
    {
      "cell_type": "code",
      "source": [
        "# Encode them all!\n",
        "encodings_vertical = pd.DataFrame({df['parent_trait'].unique()[0]: encode_condition_df(df, gene_to_index) for df in dfs})\n",
        "encodings_vertical"
      ],
      "metadata": {
        "colab": {
          "base_uri": "https://localhost:8080/",
          "height": 502
        },
        "id": "37benbMMY4Kb",
        "outputId": "90491391-bb7f-4ff8-d6d7-d39975225ab0"
      },
      "execution_count": 6,
      "outputs": [
        {
          "output_type": "execute_result",
          "data": {
            "text/plain": [
              "      ADHD  alzheimer disease  anxiety disorder  autism spectrum disorder  \\\n",
              "0      0.0                1.0               0.0                       0.0   \n",
              "1      1.0                0.0               0.0                       0.0   \n",
              "2      0.0                0.0               0.0                       0.0   \n",
              "3      0.0                0.0               0.0                       0.0   \n",
              "4      0.0                0.0               0.0                       0.0   \n",
              "...    ...                ...               ...                       ...   \n",
              "3254   0.0                0.0               0.0                       0.0   \n",
              "3255   1.0                0.0               0.0                       0.0   \n",
              "3256   0.0                0.0               0.0                       1.0   \n",
              "3257   0.0                0.0               0.0                       0.0   \n",
              "3258   0.0                0.0               0.0                       0.0   \n",
              "\n",
              "      bipolar disorder  drug dependence  eating disorder  \\\n",
              "0                  0.0              0.0              0.0   \n",
              "1                  0.0              0.0              0.0   \n",
              "2                  0.0              0.0              0.0   \n",
              "3                  0.0              0.0              0.0   \n",
              "4                  0.0              0.0              0.0   \n",
              "...                ...              ...              ...   \n",
              "3254               1.0              0.0              0.0   \n",
              "3255               0.0              0.0              0.0   \n",
              "3256               0.0              0.0              0.0   \n",
              "3257               0.0              0.0              0.0   \n",
              "3258               0.0              0.0              0.0   \n",
              "\n",
              "      personality disorder  schizophrenia  tourette syndrome  \\\n",
              "0                      0.0            0.0                0.0   \n",
              "1                      0.0            1.0                0.0   \n",
              "2                      0.0            0.0                0.0   \n",
              "3                      0.0            0.0                0.0   \n",
              "4                      0.0            1.0                0.0   \n",
              "...                    ...            ...                ...   \n",
              "3254                   0.0            0.0                0.0   \n",
              "3255                   0.0            0.0                0.0   \n",
              "3256                   0.0            0.0                0.0   \n",
              "3257                   0.0            0.0                0.0   \n",
              "3258                   0.0            1.0                0.0   \n",
              "\n",
              "      unipolar depression  \n",
              "0                     0.0  \n",
              "1                     0.0  \n",
              "2                     1.0  \n",
              "3                     1.0  \n",
              "4                     0.0  \n",
              "...                   ...  \n",
              "3254                  0.0  \n",
              "3255                  1.0  \n",
              "3256                  0.0  \n",
              "3257                  1.0  \n",
              "3258                  1.0  \n",
              "\n",
              "[3259 rows x 11 columns]"
            ],
            "text/html": [
              "\n",
              "  <div id=\"df-09cb2275-962f-4dce-af6b-14016579bbbf\">\n",
              "    <div class=\"colab-df-container\">\n",
              "      <div>\n",
              "<style scoped>\n",
              "    .dataframe tbody tr th:only-of-type {\n",
              "        vertical-align: middle;\n",
              "    }\n",
              "\n",
              "    .dataframe tbody tr th {\n",
              "        vertical-align: top;\n",
              "    }\n",
              "\n",
              "    .dataframe thead th {\n",
              "        text-align: right;\n",
              "    }\n",
              "</style>\n",
              "<table border=\"1\" class=\"dataframe\">\n",
              "  <thead>\n",
              "    <tr style=\"text-align: right;\">\n",
              "      <th></th>\n",
              "      <th>ADHD</th>\n",
              "      <th>alzheimer disease</th>\n",
              "      <th>anxiety disorder</th>\n",
              "      <th>autism spectrum disorder</th>\n",
              "      <th>bipolar disorder</th>\n",
              "      <th>drug dependence</th>\n",
              "      <th>eating disorder</th>\n",
              "      <th>personality disorder</th>\n",
              "      <th>schizophrenia</th>\n",
              "      <th>tourette syndrome</th>\n",
              "      <th>unipolar depression</th>\n",
              "    </tr>\n",
              "  </thead>\n",
              "  <tbody>\n",
              "    <tr>\n",
              "      <th>0</th>\n",
              "      <td>0.0</td>\n",
              "      <td>1.0</td>\n",
              "      <td>0.0</td>\n",
              "      <td>0.0</td>\n",
              "      <td>0.0</td>\n",
              "      <td>0.0</td>\n",
              "      <td>0.0</td>\n",
              "      <td>0.0</td>\n",
              "      <td>0.0</td>\n",
              "      <td>0.0</td>\n",
              "      <td>0.0</td>\n",
              "    </tr>\n",
              "    <tr>\n",
              "      <th>1</th>\n",
              "      <td>1.0</td>\n",
              "      <td>0.0</td>\n",
              "      <td>0.0</td>\n",
              "      <td>0.0</td>\n",
              "      <td>0.0</td>\n",
              "      <td>0.0</td>\n",
              "      <td>0.0</td>\n",
              "      <td>0.0</td>\n",
              "      <td>1.0</td>\n",
              "      <td>0.0</td>\n",
              "      <td>0.0</td>\n",
              "    </tr>\n",
              "    <tr>\n",
              "      <th>2</th>\n",
              "      <td>0.0</td>\n",
              "      <td>0.0</td>\n",
              "      <td>0.0</td>\n",
              "      <td>0.0</td>\n",
              "      <td>0.0</td>\n",
              "      <td>0.0</td>\n",
              "      <td>0.0</td>\n",
              "      <td>0.0</td>\n",
              "      <td>0.0</td>\n",
              "      <td>0.0</td>\n",
              "      <td>1.0</td>\n",
              "    </tr>\n",
              "    <tr>\n",
              "      <th>3</th>\n",
              "      <td>0.0</td>\n",
              "      <td>0.0</td>\n",
              "      <td>0.0</td>\n",
              "      <td>0.0</td>\n",
              "      <td>0.0</td>\n",
              "      <td>0.0</td>\n",
              "      <td>0.0</td>\n",
              "      <td>0.0</td>\n",
              "      <td>0.0</td>\n",
              "      <td>0.0</td>\n",
              "      <td>1.0</td>\n",
              "    </tr>\n",
              "    <tr>\n",
              "      <th>4</th>\n",
              "      <td>0.0</td>\n",
              "      <td>0.0</td>\n",
              "      <td>0.0</td>\n",
              "      <td>0.0</td>\n",
              "      <td>0.0</td>\n",
              "      <td>0.0</td>\n",
              "      <td>0.0</td>\n",
              "      <td>0.0</td>\n",
              "      <td>1.0</td>\n",
              "      <td>0.0</td>\n",
              "      <td>0.0</td>\n",
              "    </tr>\n",
              "    <tr>\n",
              "      <th>...</th>\n",
              "      <td>...</td>\n",
              "      <td>...</td>\n",
              "      <td>...</td>\n",
              "      <td>...</td>\n",
              "      <td>...</td>\n",
              "      <td>...</td>\n",
              "      <td>...</td>\n",
              "      <td>...</td>\n",
              "      <td>...</td>\n",
              "      <td>...</td>\n",
              "      <td>...</td>\n",
              "    </tr>\n",
              "    <tr>\n",
              "      <th>3254</th>\n",
              "      <td>0.0</td>\n",
              "      <td>0.0</td>\n",
              "      <td>0.0</td>\n",
              "      <td>0.0</td>\n",
              "      <td>1.0</td>\n",
              "      <td>0.0</td>\n",
              "      <td>0.0</td>\n",
              "      <td>0.0</td>\n",
              "      <td>0.0</td>\n",
              "      <td>0.0</td>\n",
              "      <td>0.0</td>\n",
              "    </tr>\n",
              "    <tr>\n",
              "      <th>3255</th>\n",
              "      <td>1.0</td>\n",
              "      <td>0.0</td>\n",
              "      <td>0.0</td>\n",
              "      <td>0.0</td>\n",
              "      <td>0.0</td>\n",
              "      <td>0.0</td>\n",
              "      <td>0.0</td>\n",
              "      <td>0.0</td>\n",
              "      <td>0.0</td>\n",
              "      <td>0.0</td>\n",
              "      <td>1.0</td>\n",
              "    </tr>\n",
              "    <tr>\n",
              "      <th>3256</th>\n",
              "      <td>0.0</td>\n",
              "      <td>0.0</td>\n",
              "      <td>0.0</td>\n",
              "      <td>1.0</td>\n",
              "      <td>0.0</td>\n",
              "      <td>0.0</td>\n",
              "      <td>0.0</td>\n",
              "      <td>0.0</td>\n",
              "      <td>0.0</td>\n",
              "      <td>0.0</td>\n",
              "      <td>0.0</td>\n",
              "    </tr>\n",
              "    <tr>\n",
              "      <th>3257</th>\n",
              "      <td>0.0</td>\n",
              "      <td>0.0</td>\n",
              "      <td>0.0</td>\n",
              "      <td>0.0</td>\n",
              "      <td>0.0</td>\n",
              "      <td>0.0</td>\n",
              "      <td>0.0</td>\n",
              "      <td>0.0</td>\n",
              "      <td>0.0</td>\n",
              "      <td>0.0</td>\n",
              "      <td>1.0</td>\n",
              "    </tr>\n",
              "    <tr>\n",
              "      <th>3258</th>\n",
              "      <td>0.0</td>\n",
              "      <td>0.0</td>\n",
              "      <td>0.0</td>\n",
              "      <td>0.0</td>\n",
              "      <td>0.0</td>\n",
              "      <td>0.0</td>\n",
              "      <td>0.0</td>\n",
              "      <td>0.0</td>\n",
              "      <td>1.0</td>\n",
              "      <td>0.0</td>\n",
              "      <td>1.0</td>\n",
              "    </tr>\n",
              "  </tbody>\n",
              "</table>\n",
              "<p>3259 rows × 11 columns</p>\n",
              "</div>\n",
              "      <button class=\"colab-df-convert\" onclick=\"convertToInteractive('df-09cb2275-962f-4dce-af6b-14016579bbbf')\"\n",
              "              title=\"Convert this dataframe to an interactive table.\"\n",
              "              style=\"display:none;\">\n",
              "        \n",
              "  <svg xmlns=\"http://www.w3.org/2000/svg\" height=\"24px\"viewBox=\"0 0 24 24\"\n",
              "       width=\"24px\">\n",
              "    <path d=\"M0 0h24v24H0V0z\" fill=\"none\"/>\n",
              "    <path d=\"M18.56 5.44l.94 2.06.94-2.06 2.06-.94-2.06-.94-.94-2.06-.94 2.06-2.06.94zm-11 1L8.5 8.5l.94-2.06 2.06-.94-2.06-.94L8.5 2.5l-.94 2.06-2.06.94zm10 10l.94 2.06.94-2.06 2.06-.94-2.06-.94-.94-2.06-.94 2.06-2.06.94z\"/><path d=\"M17.41 7.96l-1.37-1.37c-.4-.4-.92-.59-1.43-.59-.52 0-1.04.2-1.43.59L10.3 9.45l-7.72 7.72c-.78.78-.78 2.05 0 2.83L4 21.41c.39.39.9.59 1.41.59.51 0 1.02-.2 1.41-.59l7.78-7.78 2.81-2.81c.8-.78.8-2.07 0-2.86zM5.41 20L4 18.59l7.72-7.72 1.47 1.35L5.41 20z\"/>\n",
              "  </svg>\n",
              "      </button>\n",
              "      \n",
              "  <style>\n",
              "    .colab-df-container {\n",
              "      display:flex;\n",
              "      flex-wrap:wrap;\n",
              "      gap: 12px;\n",
              "    }\n",
              "\n",
              "    .colab-df-convert {\n",
              "      background-color: #E8F0FE;\n",
              "      border: none;\n",
              "      border-radius: 50%;\n",
              "      cursor: pointer;\n",
              "      display: none;\n",
              "      fill: #1967D2;\n",
              "      height: 32px;\n",
              "      padding: 0 0 0 0;\n",
              "      width: 32px;\n",
              "    }\n",
              "\n",
              "    .colab-df-convert:hover {\n",
              "      background-color: #E2EBFA;\n",
              "      box-shadow: 0px 1px 2px rgba(60, 64, 67, 0.3), 0px 1px 3px 1px rgba(60, 64, 67, 0.15);\n",
              "      fill: #174EA6;\n",
              "    }\n",
              "\n",
              "    [theme=dark] .colab-df-convert {\n",
              "      background-color: #3B4455;\n",
              "      fill: #D2E3FC;\n",
              "    }\n",
              "\n",
              "    [theme=dark] .colab-df-convert:hover {\n",
              "      background-color: #434B5C;\n",
              "      box-shadow: 0px 1px 3px 1px rgba(0, 0, 0, 0.15);\n",
              "      filter: drop-shadow(0px 1px 2px rgba(0, 0, 0, 0.3));\n",
              "      fill: #FFFFFF;\n",
              "    }\n",
              "  </style>\n",
              "\n",
              "      <script>\n",
              "        const buttonEl =\n",
              "          document.querySelector('#df-09cb2275-962f-4dce-af6b-14016579bbbf button.colab-df-convert');\n",
              "        buttonEl.style.display =\n",
              "          google.colab.kernel.accessAllowed ? 'block' : 'none';\n",
              "\n",
              "        async function convertToInteractive(key) {\n",
              "          const element = document.querySelector('#df-09cb2275-962f-4dce-af6b-14016579bbbf');\n",
              "          const dataTable =\n",
              "            await google.colab.kernel.invokeFunction('convertToInteractive',\n",
              "                                                     [key], {});\n",
              "          if (!dataTable) return;\n",
              "\n",
              "          const docLinkHtml = 'Like what you see? Visit the ' +\n",
              "            '<a target=\"_blank\" href=https://colab.research.google.com/notebooks/data_table.ipynb>data table notebook</a>'\n",
              "            + ' to learn more about interactive tables.';\n",
              "          element.innerHTML = '';\n",
              "          dataTable['output_type'] = 'display_data';\n",
              "          await google.colab.output.renderOutput(dataTable, element);\n",
              "          const docLink = document.createElement('div');\n",
              "          docLink.innerHTML = docLinkHtml;\n",
              "          element.appendChild(docLink);\n",
              "        }\n",
              "      </script>\n",
              "    </div>\n",
              "  </div>\n",
              "  "
            ]
          },
          "metadata": {},
          "execution_count": 6
        }
      ]
    },
    {
      "cell_type": "code",
      "source": [
        "# Actually needs to have vectors as rows not columns:\n",
        "encodings = encodings_vertical.T\n",
        "encodings"
      ],
      "metadata": {
        "colab": {
          "base_uri": "https://localhost:8080/",
          "height": 423
        },
        "id": "8Qu82v2PbcVE",
        "outputId": "ab610a4b-8834-42c5-f990-b9a3852199cc"
      },
      "execution_count": 7,
      "outputs": [
        {
          "output_type": "execute_result",
          "data": {
            "text/plain": [
              "                          0     1     2     3     4     5     6     7     \\\n",
              "ADHD                       0.0   1.0   0.0   0.0   0.0   0.0   0.0   0.0   \n",
              "alzheimer disease          1.0   0.0   0.0   0.0   0.0   0.0   1.0   1.0   \n",
              "anxiety disorder           0.0   0.0   0.0   0.0   0.0   0.0   0.0   0.0   \n",
              "autism spectrum disorder   0.0   0.0   0.0   0.0   0.0   0.0   0.0   0.0   \n",
              "bipolar disorder           0.0   0.0   0.0   0.0   0.0   0.0   0.0   0.0   \n",
              "drug dependence            0.0   0.0   0.0   0.0   0.0   0.0   0.0   0.0   \n",
              "eating disorder            0.0   0.0   0.0   0.0   0.0   0.0   0.0   0.0   \n",
              "personality disorder       0.0   0.0   0.0   0.0   0.0   0.0   0.0   0.0   \n",
              "schizophrenia              0.0   1.0   0.0   0.0   1.0   1.0   0.0   0.0   \n",
              "tourette syndrome          0.0   0.0   0.0   0.0   0.0   0.0   0.0   0.0   \n",
              "unipolar depression        0.0   0.0   1.0   1.0   0.0   1.0   0.0   0.0   \n",
              "\n",
              "                          8     9     ...  3249  3250  3251  3252  3253  3254  \\\n",
              "ADHD                       1.0   0.0  ...   0.0   0.0   0.0   0.0   0.0   0.0   \n",
              "alzheimer disease          0.0   1.0  ...   0.0   0.0   0.0   0.0   0.0   0.0   \n",
              "anxiety disorder           0.0   0.0  ...   0.0   0.0   0.0   0.0   0.0   0.0   \n",
              "autism spectrum disorder   0.0   0.0  ...   0.0   0.0   0.0   0.0   1.0   0.0   \n",
              "bipolar disorder           0.0   0.0  ...   1.0   0.0   0.0   0.0   0.0   1.0   \n",
              "drug dependence            0.0   0.0  ...   0.0   0.0   0.0   0.0   0.0   0.0   \n",
              "eating disorder            0.0   0.0  ...   0.0   0.0   0.0   0.0   0.0   0.0   \n",
              "personality disorder       0.0   0.0  ...   0.0   0.0   0.0   0.0   0.0   0.0   \n",
              "schizophrenia              0.0   0.0  ...   0.0   1.0   1.0   0.0   0.0   0.0   \n",
              "tourette syndrome          0.0   0.0  ...   0.0   0.0   0.0   0.0   0.0   0.0   \n",
              "unipolar depression        0.0   0.0  ...   0.0   0.0   0.0   1.0   0.0   0.0   \n",
              "\n",
              "                          3255  3256  3257  3258  \n",
              "ADHD                       1.0   0.0   0.0   0.0  \n",
              "alzheimer disease          0.0   0.0   0.0   0.0  \n",
              "anxiety disorder           0.0   0.0   0.0   0.0  \n",
              "autism spectrum disorder   0.0   1.0   0.0   0.0  \n",
              "bipolar disorder           0.0   0.0   0.0   0.0  \n",
              "drug dependence            0.0   0.0   0.0   0.0  \n",
              "eating disorder            0.0   0.0   0.0   0.0  \n",
              "personality disorder       0.0   0.0   0.0   0.0  \n",
              "schizophrenia              0.0   0.0   0.0   1.0  \n",
              "tourette syndrome          0.0   0.0   0.0   0.0  \n",
              "unipolar depression        1.0   0.0   1.0   1.0  \n",
              "\n",
              "[11 rows x 3259 columns]"
            ],
            "text/html": [
              "\n",
              "  <div id=\"df-bc39dd11-8d63-435f-a043-201f66869b23\">\n",
              "    <div class=\"colab-df-container\">\n",
              "      <div>\n",
              "<style scoped>\n",
              "    .dataframe tbody tr th:only-of-type {\n",
              "        vertical-align: middle;\n",
              "    }\n",
              "\n",
              "    .dataframe tbody tr th {\n",
              "        vertical-align: top;\n",
              "    }\n",
              "\n",
              "    .dataframe thead th {\n",
              "        text-align: right;\n",
              "    }\n",
              "</style>\n",
              "<table border=\"1\" class=\"dataframe\">\n",
              "  <thead>\n",
              "    <tr style=\"text-align: right;\">\n",
              "      <th></th>\n",
              "      <th>0</th>\n",
              "      <th>1</th>\n",
              "      <th>2</th>\n",
              "      <th>3</th>\n",
              "      <th>4</th>\n",
              "      <th>5</th>\n",
              "      <th>6</th>\n",
              "      <th>7</th>\n",
              "      <th>8</th>\n",
              "      <th>9</th>\n",
              "      <th>...</th>\n",
              "      <th>3249</th>\n",
              "      <th>3250</th>\n",
              "      <th>3251</th>\n",
              "      <th>3252</th>\n",
              "      <th>3253</th>\n",
              "      <th>3254</th>\n",
              "      <th>3255</th>\n",
              "      <th>3256</th>\n",
              "      <th>3257</th>\n",
              "      <th>3258</th>\n",
              "    </tr>\n",
              "  </thead>\n",
              "  <tbody>\n",
              "    <tr>\n",
              "      <th>ADHD</th>\n",
              "      <td>0.0</td>\n",
              "      <td>1.0</td>\n",
              "      <td>0.0</td>\n",
              "      <td>0.0</td>\n",
              "      <td>0.0</td>\n",
              "      <td>0.0</td>\n",
              "      <td>0.0</td>\n",
              "      <td>0.0</td>\n",
              "      <td>1.0</td>\n",
              "      <td>0.0</td>\n",
              "      <td>...</td>\n",
              "      <td>0.0</td>\n",
              "      <td>0.0</td>\n",
              "      <td>0.0</td>\n",
              "      <td>0.0</td>\n",
              "      <td>0.0</td>\n",
              "      <td>0.0</td>\n",
              "      <td>1.0</td>\n",
              "      <td>0.0</td>\n",
              "      <td>0.0</td>\n",
              "      <td>0.0</td>\n",
              "    </tr>\n",
              "    <tr>\n",
              "      <th>alzheimer disease</th>\n",
              "      <td>1.0</td>\n",
              "      <td>0.0</td>\n",
              "      <td>0.0</td>\n",
              "      <td>0.0</td>\n",
              "      <td>0.0</td>\n",
              "      <td>0.0</td>\n",
              "      <td>1.0</td>\n",
              "      <td>1.0</td>\n",
              "      <td>0.0</td>\n",
              "      <td>1.0</td>\n",
              "      <td>...</td>\n",
              "      <td>0.0</td>\n",
              "      <td>0.0</td>\n",
              "      <td>0.0</td>\n",
              "      <td>0.0</td>\n",
              "      <td>0.0</td>\n",
              "      <td>0.0</td>\n",
              "      <td>0.0</td>\n",
              "      <td>0.0</td>\n",
              "      <td>0.0</td>\n",
              "      <td>0.0</td>\n",
              "    </tr>\n",
              "    <tr>\n",
              "      <th>anxiety disorder</th>\n",
              "      <td>0.0</td>\n",
              "      <td>0.0</td>\n",
              "      <td>0.0</td>\n",
              "      <td>0.0</td>\n",
              "      <td>0.0</td>\n",
              "      <td>0.0</td>\n",
              "      <td>0.0</td>\n",
              "      <td>0.0</td>\n",
              "      <td>0.0</td>\n",
              "      <td>0.0</td>\n",
              "      <td>...</td>\n",
              "      <td>0.0</td>\n",
              "      <td>0.0</td>\n",
              "      <td>0.0</td>\n",
              "      <td>0.0</td>\n",
              "      <td>0.0</td>\n",
              "      <td>0.0</td>\n",
              "      <td>0.0</td>\n",
              "      <td>0.0</td>\n",
              "      <td>0.0</td>\n",
              "      <td>0.0</td>\n",
              "    </tr>\n",
              "    <tr>\n",
              "      <th>autism spectrum disorder</th>\n",
              "      <td>0.0</td>\n",
              "      <td>0.0</td>\n",
              "      <td>0.0</td>\n",
              "      <td>0.0</td>\n",
              "      <td>0.0</td>\n",
              "      <td>0.0</td>\n",
              "      <td>0.0</td>\n",
              "      <td>0.0</td>\n",
              "      <td>0.0</td>\n",
              "      <td>0.0</td>\n",
              "      <td>...</td>\n",
              "      <td>0.0</td>\n",
              "      <td>0.0</td>\n",
              "      <td>0.0</td>\n",
              "      <td>0.0</td>\n",
              "      <td>1.0</td>\n",
              "      <td>0.0</td>\n",
              "      <td>0.0</td>\n",
              "      <td>1.0</td>\n",
              "      <td>0.0</td>\n",
              "      <td>0.0</td>\n",
              "    </tr>\n",
              "    <tr>\n",
              "      <th>bipolar disorder</th>\n",
              "      <td>0.0</td>\n",
              "      <td>0.0</td>\n",
              "      <td>0.0</td>\n",
              "      <td>0.0</td>\n",
              "      <td>0.0</td>\n",
              "      <td>0.0</td>\n",
              "      <td>0.0</td>\n",
              "      <td>0.0</td>\n",
              "      <td>0.0</td>\n",
              "      <td>0.0</td>\n",
              "      <td>...</td>\n",
              "      <td>1.0</td>\n",
              "      <td>0.0</td>\n",
              "      <td>0.0</td>\n",
              "      <td>0.0</td>\n",
              "      <td>0.0</td>\n",
              "      <td>1.0</td>\n",
              "      <td>0.0</td>\n",
              "      <td>0.0</td>\n",
              "      <td>0.0</td>\n",
              "      <td>0.0</td>\n",
              "    </tr>\n",
              "    <tr>\n",
              "      <th>drug dependence</th>\n",
              "      <td>0.0</td>\n",
              "      <td>0.0</td>\n",
              "      <td>0.0</td>\n",
              "      <td>0.0</td>\n",
              "      <td>0.0</td>\n",
              "      <td>0.0</td>\n",
              "      <td>0.0</td>\n",
              "      <td>0.0</td>\n",
              "      <td>0.0</td>\n",
              "      <td>0.0</td>\n",
              "      <td>...</td>\n",
              "      <td>0.0</td>\n",
              "      <td>0.0</td>\n",
              "      <td>0.0</td>\n",
              "      <td>0.0</td>\n",
              "      <td>0.0</td>\n",
              "      <td>0.0</td>\n",
              "      <td>0.0</td>\n",
              "      <td>0.0</td>\n",
              "      <td>0.0</td>\n",
              "      <td>0.0</td>\n",
              "    </tr>\n",
              "    <tr>\n",
              "      <th>eating disorder</th>\n",
              "      <td>0.0</td>\n",
              "      <td>0.0</td>\n",
              "      <td>0.0</td>\n",
              "      <td>0.0</td>\n",
              "      <td>0.0</td>\n",
              "      <td>0.0</td>\n",
              "      <td>0.0</td>\n",
              "      <td>0.0</td>\n",
              "      <td>0.0</td>\n",
              "      <td>0.0</td>\n",
              "      <td>...</td>\n",
              "      <td>0.0</td>\n",
              "      <td>0.0</td>\n",
              "      <td>0.0</td>\n",
              "      <td>0.0</td>\n",
              "      <td>0.0</td>\n",
              "      <td>0.0</td>\n",
              "      <td>0.0</td>\n",
              "      <td>0.0</td>\n",
              "      <td>0.0</td>\n",
              "      <td>0.0</td>\n",
              "    </tr>\n",
              "    <tr>\n",
              "      <th>personality disorder</th>\n",
              "      <td>0.0</td>\n",
              "      <td>0.0</td>\n",
              "      <td>0.0</td>\n",
              "      <td>0.0</td>\n",
              "      <td>0.0</td>\n",
              "      <td>0.0</td>\n",
              "      <td>0.0</td>\n",
              "      <td>0.0</td>\n",
              "      <td>0.0</td>\n",
              "      <td>0.0</td>\n",
              "      <td>...</td>\n",
              "      <td>0.0</td>\n",
              "      <td>0.0</td>\n",
              "      <td>0.0</td>\n",
              "      <td>0.0</td>\n",
              "      <td>0.0</td>\n",
              "      <td>0.0</td>\n",
              "      <td>0.0</td>\n",
              "      <td>0.0</td>\n",
              "      <td>0.0</td>\n",
              "      <td>0.0</td>\n",
              "    </tr>\n",
              "    <tr>\n",
              "      <th>schizophrenia</th>\n",
              "      <td>0.0</td>\n",
              "      <td>1.0</td>\n",
              "      <td>0.0</td>\n",
              "      <td>0.0</td>\n",
              "      <td>1.0</td>\n",
              "      <td>1.0</td>\n",
              "      <td>0.0</td>\n",
              "      <td>0.0</td>\n",
              "      <td>0.0</td>\n",
              "      <td>0.0</td>\n",
              "      <td>...</td>\n",
              "      <td>0.0</td>\n",
              "      <td>1.0</td>\n",
              "      <td>1.0</td>\n",
              "      <td>0.0</td>\n",
              "      <td>0.0</td>\n",
              "      <td>0.0</td>\n",
              "      <td>0.0</td>\n",
              "      <td>0.0</td>\n",
              "      <td>0.0</td>\n",
              "      <td>1.0</td>\n",
              "    </tr>\n",
              "    <tr>\n",
              "      <th>tourette syndrome</th>\n",
              "      <td>0.0</td>\n",
              "      <td>0.0</td>\n",
              "      <td>0.0</td>\n",
              "      <td>0.0</td>\n",
              "      <td>0.0</td>\n",
              "      <td>0.0</td>\n",
              "      <td>0.0</td>\n",
              "      <td>0.0</td>\n",
              "      <td>0.0</td>\n",
              "      <td>0.0</td>\n",
              "      <td>...</td>\n",
              "      <td>0.0</td>\n",
              "      <td>0.0</td>\n",
              "      <td>0.0</td>\n",
              "      <td>0.0</td>\n",
              "      <td>0.0</td>\n",
              "      <td>0.0</td>\n",
              "      <td>0.0</td>\n",
              "      <td>0.0</td>\n",
              "      <td>0.0</td>\n",
              "      <td>0.0</td>\n",
              "    </tr>\n",
              "    <tr>\n",
              "      <th>unipolar depression</th>\n",
              "      <td>0.0</td>\n",
              "      <td>0.0</td>\n",
              "      <td>1.0</td>\n",
              "      <td>1.0</td>\n",
              "      <td>0.0</td>\n",
              "      <td>1.0</td>\n",
              "      <td>0.0</td>\n",
              "      <td>0.0</td>\n",
              "      <td>0.0</td>\n",
              "      <td>0.0</td>\n",
              "      <td>...</td>\n",
              "      <td>0.0</td>\n",
              "      <td>0.0</td>\n",
              "      <td>0.0</td>\n",
              "      <td>1.0</td>\n",
              "      <td>0.0</td>\n",
              "      <td>0.0</td>\n",
              "      <td>1.0</td>\n",
              "      <td>0.0</td>\n",
              "      <td>1.0</td>\n",
              "      <td>1.0</td>\n",
              "    </tr>\n",
              "  </tbody>\n",
              "</table>\n",
              "<p>11 rows × 3259 columns</p>\n",
              "</div>\n",
              "      <button class=\"colab-df-convert\" onclick=\"convertToInteractive('df-bc39dd11-8d63-435f-a043-201f66869b23')\"\n",
              "              title=\"Convert this dataframe to an interactive table.\"\n",
              "              style=\"display:none;\">\n",
              "        \n",
              "  <svg xmlns=\"http://www.w3.org/2000/svg\" height=\"24px\"viewBox=\"0 0 24 24\"\n",
              "       width=\"24px\">\n",
              "    <path d=\"M0 0h24v24H0V0z\" fill=\"none\"/>\n",
              "    <path d=\"M18.56 5.44l.94 2.06.94-2.06 2.06-.94-2.06-.94-.94-2.06-.94 2.06-2.06.94zm-11 1L8.5 8.5l.94-2.06 2.06-.94-2.06-.94L8.5 2.5l-.94 2.06-2.06.94zm10 10l.94 2.06.94-2.06 2.06-.94-2.06-.94-.94-2.06-.94 2.06-2.06.94z\"/><path d=\"M17.41 7.96l-1.37-1.37c-.4-.4-.92-.59-1.43-.59-.52 0-1.04.2-1.43.59L10.3 9.45l-7.72 7.72c-.78.78-.78 2.05 0 2.83L4 21.41c.39.39.9.59 1.41.59.51 0 1.02-.2 1.41-.59l7.78-7.78 2.81-2.81c.8-.78.8-2.07 0-2.86zM5.41 20L4 18.59l7.72-7.72 1.47 1.35L5.41 20z\"/>\n",
              "  </svg>\n",
              "      </button>\n",
              "      \n",
              "  <style>\n",
              "    .colab-df-container {\n",
              "      display:flex;\n",
              "      flex-wrap:wrap;\n",
              "      gap: 12px;\n",
              "    }\n",
              "\n",
              "    .colab-df-convert {\n",
              "      background-color: #E8F0FE;\n",
              "      border: none;\n",
              "      border-radius: 50%;\n",
              "      cursor: pointer;\n",
              "      display: none;\n",
              "      fill: #1967D2;\n",
              "      height: 32px;\n",
              "      padding: 0 0 0 0;\n",
              "      width: 32px;\n",
              "    }\n",
              "\n",
              "    .colab-df-convert:hover {\n",
              "      background-color: #E2EBFA;\n",
              "      box-shadow: 0px 1px 2px rgba(60, 64, 67, 0.3), 0px 1px 3px 1px rgba(60, 64, 67, 0.15);\n",
              "      fill: #174EA6;\n",
              "    }\n",
              "\n",
              "    [theme=dark] .colab-df-convert {\n",
              "      background-color: #3B4455;\n",
              "      fill: #D2E3FC;\n",
              "    }\n",
              "\n",
              "    [theme=dark] .colab-df-convert:hover {\n",
              "      background-color: #434B5C;\n",
              "      box-shadow: 0px 1px 3px 1px rgba(0, 0, 0, 0.15);\n",
              "      filter: drop-shadow(0px 1px 2px rgba(0, 0, 0, 0.3));\n",
              "      fill: #FFFFFF;\n",
              "    }\n",
              "  </style>\n",
              "\n",
              "      <script>\n",
              "        const buttonEl =\n",
              "          document.querySelector('#df-bc39dd11-8d63-435f-a043-201f66869b23 button.colab-df-convert');\n",
              "        buttonEl.style.display =\n",
              "          google.colab.kernel.accessAllowed ? 'block' : 'none';\n",
              "\n",
              "        async function convertToInteractive(key) {\n",
              "          const element = document.querySelector('#df-bc39dd11-8d63-435f-a043-201f66869b23');\n",
              "          const dataTable =\n",
              "            await google.colab.kernel.invokeFunction('convertToInteractive',\n",
              "                                                     [key], {});\n",
              "          if (!dataTable) return;\n",
              "\n",
              "          const docLinkHtml = 'Like what you see? Visit the ' +\n",
              "            '<a target=\"_blank\" href=https://colab.research.google.com/notebooks/data_table.ipynb>data table notebook</a>'\n",
              "            + ' to learn more about interactive tables.';\n",
              "          element.innerHTML = '';\n",
              "          dataTable['output_type'] = 'display_data';\n",
              "          await google.colab.output.renderOutput(dataTable, element);\n",
              "          const docLink = document.createElement('div');\n",
              "          docLink.innerHTML = docLinkHtml;\n",
              "          element.appendChild(docLink);\n",
              "        }\n",
              "      </script>\n",
              "    </div>\n",
              "  </div>\n",
              "  "
            ]
          },
          "metadata": {},
          "execution_count": 7
        }
      ]
    },
    {
      "cell_type": "markdown",
      "source": [
        "## Naive Clustering (no special filtering)"
      ],
      "metadata": {
        "id": "xY78hqKxZHsV"
      }
    },
    {
      "cell_type": "code",
      "source": [
        "# See docs here:\n",
        "# https://scikit-learn.org/stable/modules/generated/sklearn.cluster.AgglomerativeClustering.html\n",
        "model = AgglomerativeClustering(distance_threshold=0, \n",
        "                                n_clusters=None, \n",
        "                                linkage='ward')\n",
        "clustering = model.fit(encodings)"
      ],
      "metadata": {
        "id": "FKFeC7UCZK_a"
      },
      "execution_count": 8,
      "outputs": []
    },
    {
      "cell_type": "code",
      "source": [
        "# This code is from the scikit-learn examples!\n",
        "# https://scikit-learn.org/stable/auto_examples/cluster/plot_agglomerative_dendrogram.html#sphx-glr-auto-examples-cluster-plot-agglomerative-dendrogram-py\n",
        "\n",
        "def plot_dendrogram(model, conditions, **kwargs):\n",
        "    # Create linkage matrix and then plot the dendrogram\n",
        "\n",
        "    # create the counts of samples under each node\n",
        "    counts = np.zeros(model.children_.shape[0])\n",
        "    n_samples = len(model.labels_)\n",
        "    for i, merge in enumerate(model.children_):\n",
        "        current_count = 0\n",
        "        for child_idx in merge:\n",
        "            if child_idx < n_samples:\n",
        "                current_count += 1  # leaf node\n",
        "            else:\n",
        "                current_count += counts[child_idx - n_samples]\n",
        "        counts[i] = current_count\n",
        "\n",
        "    linkage_matrix = np.column_stack(\n",
        "        [model.children_, model.distances_, counts]\n",
        "    ).astype(float)\n",
        "\n",
        "    # Plot the corresponding dendrogram\n",
        "    dendrogram(linkage_matrix, **kwargs, labels=conditions, leaf_rotation=90)"
      ],
      "metadata": {
        "id": "O3vY5yHNZpIn"
      },
      "execution_count": 9,
      "outputs": []
    },
    {
      "cell_type": "code",
      "source": [
        "plt.suptitle('No filtering besides removing unknown genes')\n",
        "plt.title(\"Hierarchical Clustering Dendrogram\")\n",
        "# plot all levels of the dendrogram\n",
        "plot_dendrogram(model, encodings_vertical.columns, truncate_mode=\"level\", p=11)\n",
        "plt.xlabel(\"Trait\")\n",
        "plt.show()"
      ],
      "metadata": {
        "colab": {
          "base_uri": "https://localhost:8080/",
          "height": 454
        },
        "id": "3zbOQpLuZw00",
        "outputId": "26e85bd5-2b62-42ac-80af-5197b9520fe2"
      },
      "execution_count": 10,
      "outputs": [
        {
          "output_type": "display_data",
          "data": {
            "text/plain": [
              "<Figure size 432x288 with 1 Axes>"
            ],
            "image/png": "[encoded data removed]"
          },
          "metadata": {
            "needs_background": "light"
          }
        }
      ]
    },
    {
      "cell_type": "markdown",
      "source": [
        "### Observations\n",
        "It seems schizophrenia is the least similar to the others. This is a little surprising given that in my literature review I saw many mentions of Schizophrenia having overlap with other mental illnesses. The results may be skewed at this time because there is more data for schizophrenia.\n",
        "\n",
        "The telescoping shape also seems peculiar (as opposed to distinct subgroups). The ordering seems to be (from left to right) traits with the most data points to traits with the least. Let's double-check:"
      ],
      "metadata": {
        "id": "sM7LfqcBbwad"
      }
    },
    {
      "cell_type": "code",
      "source": [
        "trait_to_num_data_points = {}\n",
        "for df in dfs:\n",
        "  trait = df['parent_trait'].unique()[0]\n",
        "  num_rows = len(df)\n",
        "  trait_to_num_data_points[trait] = num_rows\n",
        "\n",
        "{k: v for v, k in sorted(\n",
        "    trait_to_num_data_points.items(), key=lambda item: item[1])}"
      ],
      "metadata": {
        "colab": {
          "base_uri": "https://localhost:8080/"
        },
        "id": "v6qmNEXS3ZO7",
        "outputId": "491d9344-debd-44b8-9be4-461cdf0cbbd8"
      },
      "execution_count": 11,
      "outputs": [
        {
          "output_type": "execute_result",
          "data": {
            "text/plain": [
              "{27: 'personality disorder',\n",
              " 37: 'tourette syndrome',\n",
              " 109: 'eating disorder',\n",
              " 163: 'autism spectrum disorder',\n",
              " 234: 'anxiety disorder',\n",
              " 317: 'drug dependence',\n",
              " 380: 'ADHD',\n",
              " 724: 'alzheimer disease',\n",
              " 748: 'bipolar disorder',\n",
              " 1142: 'unipolar depression',\n",
              " 1954: 'schizophrenia'}"
            ]
          },
          "metadata": {},
          "execution_count": 11
        }
      ]
    },
    {
      "cell_type": "markdown",
      "source": [
        "Yes, the clustering hierarchy almost perfectly resembles how many data points there are per trait. This makes sense based on vector magnitudes."
      ],
      "metadata": {
        "id": "j3aoAf8Y5vZy"
      }
    },
    {
      "cell_type": "markdown",
      "source": [
        "## Less naive clustering\n",
        "Drop personality disorder and tourette syndrome as they likely don't have enough data to be meaningful compared to the other traits (also, from the post-cleaning analysis, it seems personality disorder variants have high p-values compared to all other conditions)."
      ],
      "metadata": {
        "id": "I_tJ6lzt5-Yj"
      }
    },
    {
      "cell_type": "code",
      "source": [
        "excluded_traits = ['personality disorder', 'tourette syndrome']\n",
        "all_df = pd.concat(df for df in dfs if df['parent_trait'].unique()[0] not in excluded_traits)\n",
        "all_df['parent_trait'].unique()"
      ],
      "metadata": {
        "colab": {
          "base_uri": "https://localhost:8080/"
        },
        "id": "Hyni_uED6BV1",
        "outputId": "9cbd730f-3dd5-4563-8202-4dabae24059d"
      },
      "execution_count": 12,
      "outputs": [
        {
          "output_type": "execute_result",
          "data": {
            "text/plain": [
              "array(['ADHD', 'alzheimer disease', 'anxiety disorder',\n",
              "       'autism spectrum disorder', 'bipolar disorder', 'drug dependence',\n",
              "       'eating disorder', 'schizophrenia', 'unipolar depression'],\n",
              "      dtype=object)"
            ]
          },
          "metadata": {},
          "execution_count": 12
        }
      ]
    },
    {
      "cell_type": "code",
      "source": [
        "all_df['tissues'] = all_df['tissues'].fillna('')"
      ],
      "metadata": {
        "id": "GS_tNZUabNFp"
      },
      "execution_count": 13,
      "outputs": []
    },
    {
      "cell_type": "code",
      "source": [
        "# Combine some of the code above into a reusable function\n",
        "def gene_based_hierachical_clustering(all_df, title):\n",
        "  traits = all_df['parent_trait']\n",
        "  trait_dfs = [all_df.loc[all_df['parent_trait'] == trait] for trait in traits]\n",
        "  encodings_vertical = pd.DataFrame({df['parent_trait'].unique()[0]: encode_condition_df(df, gene_to_index) for df in trait_dfs})\n",
        "  encodings = encodings_vertical.T\n",
        "  model = AgglomerativeClustering(distance_threshold=0,\n",
        "                                  n_clusters=None, \n",
        "                                  linkage='ward')\n",
        "  model.fit(encodings)\n",
        "\n",
        "  plt.suptitle(title)\n",
        "  plt.title(\"Hierarchical Clustering Dendrogram\")\n",
        "  # plot all levels of the dendrogram\n",
        "  plot_dendrogram(model, encodings_vertical.columns, truncate_mode=\"level\", p=11)\n",
        "  plt.xlabel('Trait')\n",
        "  plt.show()"
      ],
      "metadata": {
        "id": "wLRgkt0Y8U8Z"
      },
      "execution_count": 14,
      "outputs": []
    },
    {
      "cell_type": "markdown",
      "source": [
        "Try again to see if there's any difference...\n",
        "One hypothesis is that only genes that appear in multiple traits are relevant to include in the encoding and clustering, because genes that are only implicated by one trait only show 'difference' from other traits...\n",
        "but on the other hand, if a trait has only one gene in common with others and hundreds of other unique implicated genes, it could be informative that the trait is actually quite different. Let's try both, starting with all genes."
      ],
      "metadata": {
        "id": "ceczCall-9pG"
      }
    },
    {
      "cell_type": "code",
      "source": [
        "gene_based_hierachical_clustering(all_df, 'Removing low-data conditions')"
      ],
      "metadata": {
        "colab": {
          "base_uri": "https://localhost:8080/",
          "height": 454
        },
        "id": "7QVmA1tZ-8wz",
        "outputId": "838f4550-0072-4047-a8fb-15af22f6d431"
      },
      "execution_count": 15,
      "outputs": [
        {
          "output_type": "display_data",
          "data": {
            "text/plain": [
              "<Figure size 432x288 with 1 Axes>"
            ],
            "image/png": "[encoded data removed]"
          },
          "metadata": {
            "needs_background": "light"
          }
        }
      ]
    },
    {
      "cell_type": "markdown",
      "source": [
        "Still in order of data points. Probably need to do some sort of normalization based on data size. Let's first filter out genes that only appear in one trait though. If we're measuring similarity, unique genes don't really add information, or at least it's not clear how to account for that in an unbiased way."
      ],
      "metadata": {
        "id": "r0RcL3DZB0G4"
      }
    },
    {
      "cell_type": "code",
      "source": [
        "all_genes = all_df['gene'].unique()\n",
        "# Stores genes that only appear for one trait\n",
        "genes_to_remove = []\n",
        "for gene in all_genes:\n",
        "  num_traits = len(all_df.loc[all_df['gene'] == gene])\n",
        "  if num_traits < 2:\n",
        "    genes_to_remove.append(gene)\n",
        "\n",
        "print(f'{len(genes_to_remove)} / {len(all_genes)} only appear in a single trait')"
      ],
      "metadata": {
        "colab": {
          "base_uri": "https://localhost:8080/"
        },
        "id": "acZO90JNCSfx",
        "outputId": "a4d58dea-2914-4674-a6d6-578f113cc2ca"
      },
      "execution_count": 16,
      "outputs": [
        {
          "output_type": "stream",
          "name": "stdout",
          "text": [
            "2227 / 3213 only appear in a single trait\n"
          ]
        }
      ]
    },
    {
      "cell_type": "markdown",
      "source": [
        "That's a good chunk of the genes, but let's proceed..."
      ],
      "metadata": {
        "id": "YZqlmECZGKQG"
      }
    },
    {
      "cell_type": "code",
      "source": [
        "print(f'Initial df size: {len(all_df)}')\n",
        "\n",
        "def is_common_gene(gene):\n",
        "  return gene not in genes_to_remove\n",
        "\n",
        "\n",
        "is_common_index = all_df['gene'].map(is_common_gene)\n",
        "all_df = all_df.loc[is_common_index]\n",
        "len(all_df)"
      ],
      "metadata": {
        "colab": {
          "base_uri": "https://localhost:8080/"
        },
        "id": "UDM4C_5bEtIk",
        "outputId": "0ee5ae78-94d4-471c-fa39-8cfca9758dc7"
      },
      "execution_count": 17,
      "outputs": [
        {
          "output_type": "stream",
          "name": "stdout",
          "text": [
            "Initial df size: 5771\n"
          ]
        },
        {
          "output_type": "execute_result",
          "data": {
            "text/plain": [
              "3544"
            ]
          },
          "metadata": {},
          "execution_count": 17
        }
      ]
    },
    {
      "cell_type": "markdown",
      "source": [
        "Actually not that many data points were removed. Finally cluster this data:"
      ],
      "metadata": {
        "id": "-KYNUgpcH3oD"
      }
    },
    {
      "cell_type": "code",
      "source": [
        "gene_based_hierachical_clustering(all_df, \n",
        "                                  'Excluding genes that appear in one trait only')"
      ],
      "metadata": {
        "colab": {
          "base_uri": "https://localhost:8080/",
          "height": 454
        },
        "id": "BW8DGa8LH8YC",
        "outputId": "56219f13-4f09-4812-a034-c66b3a7859a0"
      },
      "execution_count": 18,
      "outputs": [
        {
          "output_type": "display_data",
          "data": {
            "text/plain": [
              "<Figure size 432x288 with 1 Axes>"
            ],
            "image/png": "[encoded data removed]"
          },
          "metadata": {
            "needs_background": "light"
          }
        }
      ]
    },
    {
      "cell_type": "markdown",
      "source": [
        "Well, a slightly different order of the telescoping effect, but still no distinct clusters."
      ],
      "metadata": {
        "id": "CihC61uXIIPD"
      }
    },
    {
      "cell_type": "markdown",
      "source": [
        "## Account for data size\n",
        "Vector magnitude (number of data points per condition) seems to be biasing clustering results. Try taking top X data points per trait where X is the number of data points for the trait with the smallest dataset size, and 'top' means lowest p-value variant associations."
      ],
      "metadata": {
        "id": "h4ooqwOhR-ui"
      }
    },
    {
      "cell_type": "code",
      "source": [
        "trait_group_df = all_df.groupby('parent_trait').size()\n",
        "trait_group_df"
      ],
      "metadata": {
        "colab": {
          "base_uri": "https://localhost:8080/"
        },
        "id": "OWDK-l0WTBWF",
        "outputId": "f6c2a10a-1e6d-41e0-8cfe-e008645c754b"
      },
      "execution_count": 19,
      "outputs": [
        {
          "output_type": "execute_result",
          "data": {
            "text/plain": [
              "parent_trait\n",
              "ADHD                         209\n",
              "alzheimer disease            382\n",
              "anxiety disorder             115\n",
              "autism spectrum disorder      80\n",
              "bipolar disorder             511\n",
              "drug dependence              141\n",
              "eating disorder               41\n",
              "schizophrenia               1392\n",
              "unipolar depression          673\n",
              "dtype: int64"
            ]
          },
          "metadata": {},
          "execution_count": 19
        }
      ]
    },
    {
      "cell_type": "code",
      "source": [
        "smallest_trait_size = trait_group_df.min()\n",
        "smallest_trait_size"
      ],
      "metadata": {
        "colab": {
          "base_uri": "https://localhost:8080/"
        },
        "id": "AVXtOXU_R9eY",
        "outputId": "2b1b612f-ebe9-4a74-e1bb-af39efc3b1c8"
      },
      "execution_count": 20,
      "outputs": [
        {
          "output_type": "execute_result",
          "data": {
            "text/plain": [
              "41"
            ]
          },
          "metadata": {},
          "execution_count": 20
        }
      ]
    },
    {
      "cell_type": "code",
      "source": [
        "def filter_to_smallest_pvalues_same_sizes(in_df: pd.DataFrame) -> pd.DataFrame:\n",
        "  \"\"\"Creates DF with same smallest N p-value entries per trait.\n",
        "  \n",
        "  Specifically, finds smallest data count per-trait, and takes that many rows \n",
        "  for each trait, where rows are the lowest p-values.\"\"\"\n",
        "  trait_group_df = in_df.groupby('parent_trait').size()\n",
        "  smallest_trait_size = trait_group_df.min()\n",
        "  new_df = pd.DataFrame()\n",
        "  for trait in in_df['parent_trait'].unique():\n",
        "    trait_df = in_df[in_df['parent_trait'] == trait]\n",
        "    trait_df.sort_values(by='p_value', \n",
        "                        inplace=True, \n",
        "                        ascending=True)\n",
        "    trait_df = trait_df.iloc[range(0, smallest_trait_size)]\n",
        "    new_df = pd.concat([new_df, trait_df])\n",
        "  return new_df\n",
        "\n",
        "\n",
        "new_df = filter_to_smallest_pvalues_same_sizes(all_df)\n",
        "trait_group_df = new_df.groupby('parent_trait').size()\n",
        "trait_group_df"
      ],
      "metadata": {
        "colab": {
          "base_uri": "https://localhost:8080/"
        },
        "id": "r_WG_5RlS8ux",
        "outputId": "5f35cc52-7fd2-4d56-ceb1-21ef02dda3cf"
      },
      "execution_count": 21,
      "outputs": [
        {
          "output_type": "stream",
          "name": "stderr",
          "text": [
            "/usr/local/lib/python3.7/dist-packages/pandas/util/_decorators.py:311: SettingWithCopyWarning: \n",
            "A value is trying to be set on a copy of a slice from a DataFrame\n",
            "\n",
            "See the caveats in the documentation: https://pandas.pydata.org/pandas-docs/stable/user_guide/indexing.html#returning-a-view-versus-a-copy\n",
            "  return func(*args, **kwargs)\n"
          ]
        },
        {
          "output_type": "execute_result",
          "data": {
            "text/plain": [
              "parent_trait\n",
              "ADHD                        41\n",
              "alzheimer disease           41\n",
              "anxiety disorder            41\n",
              "autism spectrum disorder    41\n",
              "bipolar disorder            41\n",
              "drug dependence             41\n",
              "eating disorder             41\n",
              "schizophrenia               41\n",
              "unipolar depression         41\n",
              "dtype: int64"
            ]
          },
          "metadata": {},
          "execution_count": 21
        }
      ]
    },
    {
      "cell_type": "markdown",
      "source": [
        "Now try clustering with most significant associations for common genes per trait."
      ],
      "metadata": {
        "id": "UmM5JXUxUDzR"
      }
    },
    {
      "cell_type": "code",
      "source": [
        "gene_based_hierachical_clustering(\n",
        "    new_df, \n",
        "    'Most significant associations per trait; common genes only')"
      ],
      "metadata": {
        "colab": {
          "base_uri": "https://localhost:8080/",
          "height": 454
        },
        "id": "X7aq_AClUDPr",
        "outputId": "8ca8869b-65c2-468a-f58e-ac1aea1ec58d"
      },
      "execution_count": 22,
      "outputs": [
        {
          "output_type": "display_data",
          "data": {
            "text/plain": [
              "<Figure size 432x288 with 1 Axes>"
            ],
            "image/png": "[encoded data removed]"
          },
          "metadata": {
            "needs_background": "light"
          }
        }
      ]
    },
    {
      "cell_type": "markdown",
      "source": [
        "Well, it's not sorted by magnitude anymore! Bipolar and schizophrenia are clustered together, which is also reported in the literature. I need to look into this a bit, but the association between Alzheimer's and drug dependence seems plausible too."
      ],
      "metadata": {
        "id": "RMUUa0KUUiqJ"
      }
    },
    {
      "cell_type": "markdown",
      "source": [
        "## Experiment with different gene-based encodings"
      ],
      "metadata": {
        "id": "dDXMDEe8Ebnu"
      }
    },
    {
      "cell_type": "code",
      "source": [
        "# Abstract the function from above slightly more to take in an encoding function\n",
        "def hierachical_clustering(\n",
        "    all_df: pd.DataFrame,\n",
        "    title: str,\n",
        "    encode: Callable[[pd.DataFrame], pd.DataFrame]) -> None:\n",
        "  encodings_vertical = encode(all_df)\n",
        "  encodings = encodings_vertical.T\n",
        "  model = AgglomerativeClustering(distance_threshold=0,\n",
        "                                  n_clusters=None, \n",
        "                                  linkage='ward')\n",
        "  model.fit(encodings)\n",
        "\n",
        "  plt.suptitle(title)\n",
        "  plt.title(\"Hierarchical Clustering Dendrogram\")\n",
        "  # plot all levels of the dendrogram\n",
        "  plot_dendrogram(model, encodings_vertical.columns, truncate_mode=\"level\", p=11)\n",
        "  plt.xlabel('Trait')\n",
        "  plt.show()\n",
        "\n",
        "\n",
        "# Copy code from above to test generalized clustering function.\n",
        "def one_hot_gene_encoding(in_df: pd.DataFrame) -> pd.DataFrame:\n",
        "  traits = in_df['parent_trait']\n",
        "  trait_dfs = [in_df.loc[in_df['parent_trait'] == trait] for trait in traits]\n",
        "  return pd.DataFrame({df['parent_trait'].unique()[0]: encode_condition_df(df, gene_to_index) for df in trait_dfs})\n",
        "\n",
        "\n",
        "hierachical_clustering(new_df, 'testing', one_hot_gene_encoding)"
      ],
      "metadata": {
        "colab": {
          "base_uri": "https://localhost:8080/",
          "height": 454
        },
        "id": "tboz8NvzEopQ",
        "outputId": "d4217863-bca6-4a5c-b1ce-c9d5f0421c53"
      },
      "execution_count": 23,
      "outputs": [
        {
          "output_type": "display_data",
          "data": {
            "text/plain": [
              "<Figure size 432x288 with 1 Axes>"
            ],
            "image/png": "[encoded data removed]"
          },
          "metadata": {
            "needs_background": "light"
          }
        }
      ]
    },
    {
      "cell_type": "code",
      "source": [
        "def implicated_gene_weighted_encoding(in_df: pd.DataFrame) -> pd.DataFrame:\n",
        "  \"\"\"Encodes trait vectors where elements are relative gene implications.\n",
        "\n",
        "  Specifically, for each trait, creates a vector (V1, V2... Vn) \n",
        "  where Vi = Gi/Max(Gi) where a trait has Gi variants implicated with ith gene\n",
        "  and n is total genes in `in_df`.\n",
        "  \n",
        "  E.g. if trait has gene associations:\n",
        "    gene1  gene2  gene3\n",
        "    1      3      5\n",
        "\n",
        "  Then encoding is:\n",
        "   (.2,   .6,     1)\n",
        "\n",
        "   DataFrame is returned with traits as column headers and vectors as columns.\n",
        "  \"\"\"\n",
        "  gene_to_index = create_gene_to_index_dict(in_df)\n",
        "  traits = in_df['parent_trait']\n",
        "  trait_dfs = [in_df.loc[in_df['parent_trait'] == trait] for trait in traits]\n",
        "  trait_to_encoding = {}\n",
        "  for trait_df in trait_dfs:\n",
        "    trait = trait_df['parent_trait'].unique()[0]\n",
        "    gene_counts_encoding = weighted_gene_encoding(trait_df, gene_to_index)\n",
        "    max_val = max(gene_counts_encoding)\n",
        "    gene_counts_encoding = gene_counts_encoding / max_val\n",
        "    trait_to_encoding[trait] = gene_counts_encoding\n",
        "  return pd.DataFrame(trait_to_encoding)\n",
        "\n",
        "\n",
        "def weighted_gene_encoding(\n",
        "    trait_df: pd.DataFrame, gene_to_index: Dict[str, int]) -> np.ndarray:\n",
        "  num_genes = len(gene_to_index.keys())\n",
        "  vec = np.zeros(num_genes)\n",
        "  trait_genes = trait_df['gene']\n",
        "  for gene in trait_genes:\n",
        "    gene_index = gene_to_index[gene]\n",
        "    vec[gene_index] += 1\n",
        "  return vec"
      ],
      "metadata": {
        "id": "Qi11mxrcGfBI"
      },
      "execution_count": 24,
      "outputs": []
    },
    {
      "cell_type": "code",
      "source": [
        "# Test encoding function:\n",
        "implicated_gene_weighted_encoding(all_df)"
      ],
      "metadata": {
        "colab": {
          "base_uri": "https://localhost:8080/",
          "height": 484
        },
        "id": "nhRL9YUmLO1q",
        "outputId": "1be00476-433b-4f62-8854-1cee6c571f66"
      },
      "execution_count": 25,
      "outputs": [
        {
          "output_type": "execute_result",
          "data": {
            "text/plain": [
              "         ADHD  alzheimer disease  anxiety disorder  autism spectrum disorder  \\\n",
              "0    0.000000            0.00000               0.0                      0.00   \n",
              "1    0.000000            0.00000               0.0                      0.00   \n",
              "2    0.266667            0.00000               0.0                      0.00   \n",
              "3    0.000000            0.00000               0.0                      0.00   \n",
              "4    0.000000            0.00000               0.0                      0.00   \n",
              "..        ...                ...               ...                       ...   \n",
              "981  0.000000            0.00000               0.0                      0.25   \n",
              "982  0.000000            0.00000               0.0                      0.00   \n",
              "983  0.000000            0.00000               0.0                      0.00   \n",
              "984  0.000000            0.00000               0.0                      0.00   \n",
              "985  0.000000            0.52381               0.0                      0.00   \n",
              "\n",
              "     bipolar disorder  drug dependence  eating disorder  schizophrenia  \\\n",
              "0                 0.0              0.0              0.0       0.095238   \n",
              "1                 0.1              0.0              0.0       0.047619   \n",
              "2                 0.0              0.0              0.0       0.047619   \n",
              "3                 0.4              0.0              0.0       0.000000   \n",
              "4                 0.0              0.0              0.0       0.000000   \n",
              "..                ...              ...              ...            ...   \n",
              "981               0.1              0.0              0.0       0.000000   \n",
              "982               0.0              0.0              0.0       0.047619   \n",
              "983               0.1              0.0              0.0       0.047619   \n",
              "984               0.0              0.0              0.0       0.095238   \n",
              "985               0.0              0.0              0.0       0.000000   \n",
              "\n",
              "     unipolar depression  \n",
              "0               0.000000  \n",
              "1               0.000000  \n",
              "2               0.000000  \n",
              "3               0.000000  \n",
              "4               0.142857  \n",
              "..                   ...  \n",
              "981             0.000000  \n",
              "982             0.071429  \n",
              "983             0.000000  \n",
              "984             0.000000  \n",
              "985             0.000000  \n",
              "\n",
              "[986 rows x 9 columns]"
            ],
            "text/html": [
              "\n",
              "  <div id=\"df-8b4cc1b8-18e8-45d2-a43f-a6774389d312\">\n",
              "    <div class=\"colab-df-container\">\n",
              "      <div>\n",
              "<style scoped>\n",
              "    .dataframe tbody tr th:only-of-type {\n",
              "        vertical-align: middle;\n",
              "    }\n",
              "\n",
              "    .dataframe tbody tr th {\n",
              "        vertical-align: top;\n",
              "    }\n",
              "\n",
              "    .dataframe thead th {\n",
              "        text-align: right;\n",
              "    }\n",
              "</style>\n",
              "<table border=\"1\" class=\"dataframe\">\n",
              "  <thead>\n",
              "    <tr style=\"text-align: right;\">\n",
              "      <th></th>\n",
              "      <th>ADHD</th>\n",
              "      <th>alzheimer disease</th>\n",
              "      <th>anxiety disorder</th>\n",
              "      <th>autism spectrum disorder</th>\n",
              "      <th>bipolar disorder</th>\n",
              "      <th>drug dependence</th>\n",
              "      <th>eating disorder</th>\n",
              "      <th>schizophrenia</th>\n",
              "      <th>unipolar depression</th>\n",
              "    </tr>\n",
              "  </thead>\n",
              "  <tbody>\n",
              "    <tr>\n",
              "      <th>0</th>\n",
              "      <td>0.000000</td>\n",
              "      <td>0.00000</td>\n",
              "      <td>0.0</td>\n",
              "      <td>0.00</td>\n",
              "      <td>0.0</td>\n",
              "      <td>0.0</td>\n",
              "      <td>0.0</td>\n",
              "      <td>0.095238</td>\n",
              "      <td>0.000000</td>\n",
              "    </tr>\n",
              "    <tr>\n",
              "      <th>1</th>\n",
              "      <td>0.000000</td>\n",
              "      <td>0.00000</td>\n",
              "      <td>0.0</td>\n",
              "      <td>0.00</td>\n",
              "      <td>0.1</td>\n",
              "      <td>0.0</td>\n",
              "      <td>0.0</td>\n",
              "      <td>0.047619</td>\n",
              "      <td>0.000000</td>\n",
              "    </tr>\n",
              "    <tr>\n",
              "      <th>2</th>\n",
              "      <td>0.266667</td>\n",
              "      <td>0.00000</td>\n",
              "      <td>0.0</td>\n",
              "      <td>0.00</td>\n",
              "      <td>0.0</td>\n",
              "      <td>0.0</td>\n",
              "      <td>0.0</td>\n",
              "      <td>0.047619</td>\n",
              "      <td>0.000000</td>\n",
              "    </tr>\n",
              "    <tr>\n",
              "      <th>3</th>\n",
              "      <td>0.000000</td>\n",
              "      <td>0.00000</td>\n",
              "      <td>0.0</td>\n",
              "      <td>0.00</td>\n",
              "      <td>0.4</td>\n",
              "      <td>0.0</td>\n",
              "      <td>0.0</td>\n",
              "      <td>0.000000</td>\n",
              "      <td>0.000000</td>\n",
              "    </tr>\n",
              "    <tr>\n",
              "      <th>4</th>\n",
              "      <td>0.000000</td>\n",
              "      <td>0.00000</td>\n",
              "      <td>0.0</td>\n",
              "      <td>0.00</td>\n",
              "      <td>0.0</td>\n",
              "      <td>0.0</td>\n",
              "      <td>0.0</td>\n",
              "      <td>0.000000</td>\n",
              "      <td>0.142857</td>\n",
              "    </tr>\n",
              "    <tr>\n",
              "      <th>...</th>\n",
              "      <td>...</td>\n",
              "      <td>...</td>\n",
              "      <td>...</td>\n",
              "      <td>...</td>\n",
              "      <td>...</td>\n",
              "      <td>...</td>\n",
              "      <td>...</td>\n",
              "      <td>...</td>\n",
              "      <td>...</td>\n",
              "    </tr>\n",
              "    <tr>\n",
              "      <th>981</th>\n",
              "      <td>0.000000</td>\n",
              "      <td>0.00000</td>\n",
              "      <td>0.0</td>\n",
              "      <td>0.25</td>\n",
              "      <td>0.1</td>\n",
              "      <td>0.0</td>\n",
              "      <td>0.0</td>\n",
              "      <td>0.000000</td>\n",
              "      <td>0.000000</td>\n",
              "    </tr>\n",
              "    <tr>\n",
              "      <th>982</th>\n",
              "      <td>0.000000</td>\n",
              "      <td>0.00000</td>\n",
              "      <td>0.0</td>\n",
              "      <td>0.00</td>\n",
              "      <td>0.0</td>\n",
              "      <td>0.0</td>\n",
              "      <td>0.0</td>\n",
              "      <td>0.047619</td>\n",
              "      <td>0.071429</td>\n",
              "    </tr>\n",
              "    <tr>\n",
              "      <th>983</th>\n",
              "      <td>0.000000</td>\n",
              "      <td>0.00000</td>\n",
              "      <td>0.0</td>\n",
              "      <td>0.00</td>\n",
              "      <td>0.1</td>\n",
              "      <td>0.0</td>\n",
              "      <td>0.0</td>\n",
              "      <td>0.047619</td>\n",
              "      <td>0.000000</td>\n",
              "    </tr>\n",
              "    <tr>\n",
              "      <th>984</th>\n",
              "      <td>0.000000</td>\n",
              "      <td>0.00000</td>\n",
              "      <td>0.0</td>\n",
              "      <td>0.00</td>\n",
              "      <td>0.0</td>\n",
              "      <td>0.0</td>\n",
              "      <td>0.0</td>\n",
              "      <td>0.095238</td>\n",
              "      <td>0.000000</td>\n",
              "    </tr>\n",
              "    <tr>\n",
              "      <th>985</th>\n",
              "      <td>0.000000</td>\n",
              "      <td>0.52381</td>\n",
              "      <td>0.0</td>\n",
              "      <td>0.00</td>\n",
              "      <td>0.0</td>\n",
              "      <td>0.0</td>\n",
              "      <td>0.0</td>\n",
              "      <td>0.000000</td>\n",
              "      <td>0.000000</td>\n",
              "    </tr>\n",
              "  </tbody>\n",
              "</table>\n",
              "<p>986 rows × 9 columns</p>\n",
              "</div>\n",
              "      <button class=\"colab-df-convert\" onclick=\"convertToInteractive('df-8b4cc1b8-18e8-45d2-a43f-a6774389d312')\"\n",
              "              title=\"Convert this dataframe to an interactive table.\"\n",
              "              style=\"display:none;\">\n",
              "        \n",
              "  <svg xmlns=\"http://www.w3.org/2000/svg\" height=\"24px\"viewBox=\"0 0 24 24\"\n",
              "       width=\"24px\">\n",
              "    <path d=\"M0 0h24v24H0V0z\" fill=\"none\"/>\n",
              "    <path d=\"M18.56 5.44l.94 2.06.94-2.06 2.06-.94-2.06-.94-.94-2.06-.94 2.06-2.06.94zm-11 1L8.5 8.5l.94-2.06 2.06-.94-2.06-.94L8.5 2.5l-.94 2.06-2.06.94zm10 10l.94 2.06.94-2.06 2.06-.94-2.06-.94-.94-2.06-.94 2.06-2.06.94z\"/><path d=\"M17.41 7.96l-1.37-1.37c-.4-.4-.92-.59-1.43-.59-.52 0-1.04.2-1.43.59L10.3 9.45l-7.72 7.72c-.78.78-.78 2.05 0 2.83L4 21.41c.39.39.9.59 1.41.59.51 0 1.02-.2 1.41-.59l7.78-7.78 2.81-2.81c.8-.78.8-2.07 0-2.86zM5.41 20L4 18.59l7.72-7.72 1.47 1.35L5.41 20z\"/>\n",
              "  </svg>\n",
              "      </button>\n",
              "      \n",
              "  <style>\n",
              "    .colab-df-container {\n",
              "      display:flex;\n",
              "      flex-wrap:wrap;\n",
              "      gap: 12px;\n",
              "    }\n",
              "\n",
              "    .colab-df-convert {\n",
              "      background-color: #E8F0FE;\n",
              "      border: none;\n",
              "      border-radius: 50%;\n",
              "      cursor: pointer;\n",
              "      display: none;\n",
              "      fill: #1967D2;\n",
              "      height: 32px;\n",
              "      padding: 0 0 0 0;\n",
              "      width: 32px;\n",
              "    }\n",
              "\n",
              "    .colab-df-convert:hover {\n",
              "      background-color: #E2EBFA;\n",
              "      box-shadow: 0px 1px 2px rgba(60, 64, 67, 0.3), 0px 1px 3px 1px rgba(60, 64, 67, 0.15);\n",
              "      fill: #174EA6;\n",
              "    }\n",
              "\n",
              "    [theme=dark] .colab-df-convert {\n",
              "      background-color: #3B4455;\n",
              "      fill: #D2E3FC;\n",
              "    }\n",
              "\n",
              "    [theme=dark] .colab-df-convert:hover {\n",
              "      background-color: #434B5C;\n",
              "      box-shadow: 0px 1px 3px 1px rgba(0, 0, 0, 0.15);\n",
              "      filter: drop-shadow(0px 1px 2px rgba(0, 0, 0, 0.3));\n",
              "      fill: #FFFFFF;\n",
              "    }\n",
              "  </style>\n",
              "\n",
              "      <script>\n",
              "        const buttonEl =\n",
              "          document.querySelector('#df-8b4cc1b8-18e8-45d2-a43f-a6774389d312 button.colab-df-convert');\n",
              "        buttonEl.style.display =\n",
              "          google.colab.kernel.accessAllowed ? 'block' : 'none';\n",
              "\n",
              "        async function convertToInteractive(key) {\n",
              "          const element = document.querySelector('#df-8b4cc1b8-18e8-45d2-a43f-a6774389d312');\n",
              "          const dataTable =\n",
              "            await google.colab.kernel.invokeFunction('convertToInteractive',\n",
              "                                                     [key], {});\n",
              "          if (!dataTable) return;\n",
              "\n",
              "          const docLinkHtml = 'Like what you see? Visit the ' +\n",
              "            '<a target=\"_blank\" href=https://colab.research.google.com/notebooks/data_table.ipynb>data table notebook</a>'\n",
              "            + ' to learn more about interactive tables.';\n",
              "          element.innerHTML = '';\n",
              "          dataTable['output_type'] = 'display_data';\n",
              "          await google.colab.output.renderOutput(dataTable, element);\n",
              "          const docLink = document.createElement('div');\n",
              "          docLink.innerHTML = docLinkHtml;\n",
              "          element.appendChild(docLink);\n",
              "        }\n",
              "      </script>\n",
              "    </div>\n",
              "  </div>\n",
              "  "
            ]
          },
          "metadata": {},
          "execution_count": 25
        }
      ]
    },
    {
      "cell_type": "code",
      "source": [
        "implicated_gene_weighted_encoding(all_df)['schizophrenia'].unique()"
      ],
      "metadata": {
        "colab": {
          "base_uri": "https://localhost:8080/"
        },
        "id": "SgT1S3uAO0J_",
        "outputId": "f1e4d4b6-26d4-4153-81db-6df34d2eec6d"
      },
      "execution_count": 26,
      "outputs": [
        {
          "output_type": "execute_result",
          "data": {
            "text/plain": [
              "array([0.0952381 , 0.04761905, 0.        , 0.23809524, 0.38095238,\n",
              "       0.14285714, 0.42857143, 0.33333333, 0.28571429, 0.19047619,\n",
              "       0.47619048, 0.71428571, 0.52380952, 1.        ])"
            ]
          },
          "metadata": {},
          "execution_count": 26
        }
      ]
    },
    {
      "cell_type": "code",
      "source": [
        "hierachical_clustering(\n",
        "    all_df,\n",
        "    'Implicated-Gene-Weighted Hierarchical Clustering',\n",
        "    implicated_gene_weighted_encoding)"
      ],
      "metadata": {
        "colab": {
          "base_uri": "https://localhost:8080/",
          "height": 454
        },
        "id": "6_zy6wzOPWAX",
        "outputId": "36da45b2-9892-4939-90b2-5bc7f363ec7f"
      },
      "execution_count": 27,
      "outputs": [
        {
          "output_type": "display_data",
          "data": {
            "text/plain": [
              "<Figure size 432x288 with 1 Axes>"
            ],
            "image/png": "[encoded data removed]"
          },
          "metadata": {
            "needs_background": "light"
          }
        }
      ]
    },
    {
      "cell_type": "markdown",
      "source": [
        "Observations:\n",
        "\n",
        "\n",
        "*   Seems quite similar to the previous one, except anxiety disorder and unipolar depression are adjacent here.\n",
        "*   In the previous clustering, anxiety disorder was separated from all other traits, whereas here bipolar disorder and schizophrenia are clustered together and away from all others.\n",
        "*   I think this encoding is better in that it utilizes as much data as possible (not filtering to min p-values, just removing low-data conditions) but still accounts for bias in varying amounts of data for each condition.\n",
        "\n"
      ],
      "metadata": {
        "id": "UQS8Jd2nSZxq"
      }
    },
    {
      "cell_type": "markdown",
      "source": [
        "### Try same approach with AF filtering first."
      ],
      "metadata": {
        "id": "uX9MPZiQS_M3"
      }
    },
    {
      "cell_type": "markdown",
      "source": [
        "Under the assumption these disorders affect a minority of the population, filter to variants with < 0.5 AF."
      ],
      "metadata": {
        "id": "Q6pk8paGT45n"
      }
    },
    {
      "cell_type": "code",
      "source": [
        "def filter_by_af(\n",
        "    in_df: pd.DataFrame, \n",
        "    max_af = None, \n",
        "    min_af = None) -> pd.DataFrame:\n",
        "  \"\"\"Returns copy of `in_df` where `af` column is bounded by min/max AF.\"\"\"\n",
        "  out_df = in_df.copy()\n",
        "  if max_af is not None:\n",
        "    out_df = out_df[out_df['af'] <= max_af]\n",
        "  if min_af is not None:\n",
        "    out_df = out_df[out_df['af'] >= min_af]\n",
        "  return out_df\n",
        "\n",
        "\n",
        "# If we're utilizing AF, need to exclude those with unknown AF value, \n",
        "# i.e. those with values of -1.\n",
        "hierachical_clustering(\n",
        "    filter_by_af(all_df, min_af=0.0, max_af=.49),\n",
        "    'Implicated-Gene-Weighted; Max AF=0.49',\n",
        "    implicated_gene_weighted_encoding)"
      ],
      "metadata": {
        "colab": {
          "base_uri": "https://localhost:8080/",
          "height": 454
        },
        "id": "pWS9gfc2TDLW",
        "outputId": "8108ce1c-e765-48c2-fdb4-f98899e26320"
      },
      "execution_count": 28,
      "outputs": [
        {
          "output_type": "display_data",
          "data": {
            "text/plain": [
              "<Figure size 432x288 with 1 Axes>"
            ],
            "image/png": "[encoded data removed]"
          },
          "metadata": {
            "needs_background": "light"
          }
        }
      ]
    },
    {
      "cell_type": "markdown",
      "source": [
        "Similar to previous except eating disorder is now closer to ADHD and alzheimer, and schizophrenia and unipolar depression are less separated from the rest of the traits. Recalling from the post-cleaning analysis though, most of eating disorder variants had AF > 0.5, so this may be noise from low-data."
      ],
      "metadata": {
        "id": "L5H2bcEwUU0Z"
      }
    },
    {
      "cell_type": "code",
      "source": [
        "minority_df = filter_by_af(all_df, min_af=0.0, max_af=.49)\n",
        "len(minority_df[minority_df['parent_trait'] == 'eating disorder'])"
      ],
      "metadata": {
        "colab": {
          "base_uri": "https://localhost:8080/"
        },
        "id": "Px9MMsArUomv",
        "outputId": "39b18830-01b5-4cac-cf83-7f2445eb03e4"
      },
      "execution_count": 29,
      "outputs": [
        {
          "output_type": "execute_result",
          "data": {
            "text/plain": [
              "10"
            ]
          },
          "metadata": {},
          "execution_count": 29
        }
      ]
    },
    {
      "cell_type": "markdown",
      "source": [
        "Yeah... may be best to exclude eating disorder as well since these \n",
        "were near-outliers according to the post-cleaning analysis."
      ],
      "metadata": {
        "id": "lQRGNWkaUzkI"
      }
    },
    {
      "cell_type": "code",
      "source": [
        "minority_df = minority_df[minority_df['parent_trait'] != 'eating disorder']\n",
        "hierachical_clustering(\n",
        "    minority_df,\n",
        "    'Implicated-Gene-Weighted; Max AF=0.49',\n",
        "    implicated_gene_weighted_encoding)"
      ],
      "metadata": {
        "colab": {
          "base_uri": "https://localhost:8080/",
          "height": 454
        },
        "id": "4Ka5UCMTU03J",
        "outputId": "f0657052-a648-42f4-b190-e2bcb01034e3"
      },
      "execution_count": 30,
      "outputs": [
        {
          "output_type": "display_data",
          "data": {
            "text/plain": [
              "<Figure size 432x288 with 1 Axes>"
            ],
            "image/png": "[encoded data removed]"
          },
          "metadata": {
            "needs_background": "light"
          }
        }
      ]
    },
    {
      "cell_type": "markdown",
      "source": [
        "Getting the telescoping effect again... try normalizing data points per trait again."
      ],
      "metadata": {
        "id": "HVk2hqbuZqZ1"
      }
    },
    {
      "cell_type": "code",
      "source": [
        "hierachical_clustering(\n",
        "    filter_to_smallest_pvalues_same_sizes(minority_df),\n",
        "    'Implicated-Gene-Weighted; Max AF=0.49',\n",
        "    implicated_gene_weighted_encoding)"
      ],
      "metadata": {
        "colab": {
          "base_uri": "https://localhost:8080/",
          "height": 546
        },
        "id": "0gQht7LwZuYn",
        "outputId": "d5a0e804-816e-4816-8d4b-ce779c82a77f"
      },
      "execution_count": 31,
      "outputs": [
        {
          "output_type": "stream",
          "name": "stderr",
          "text": [
            "/usr/local/lib/python3.7/dist-packages/pandas/util/_decorators.py:311: SettingWithCopyWarning: \n",
            "A value is trying to be set on a copy of a slice from a DataFrame\n",
            "\n",
            "See the caveats in the documentation: https://pandas.pydata.org/pandas-docs/stable/user_guide/indexing.html#returning-a-view-versus-a-copy\n",
            "  return func(*args, **kwargs)\n"
          ]
        },
        {
          "output_type": "display_data",
          "data": {
            "text/plain": [
              "<Figure size 432x288 with 1 Axes>"
            ],
            "image/png": "[encoded data removed]"
          },
          "metadata": {
            "needs_background": "light"
          }
        }
      ]
    },
    {
      "cell_type": "markdown",
      "source": [
        "Appears to still be telescoped, but different ordering, and anxiety disorder seems especially unrelated now."
      ],
      "metadata": {
        "id": "madlvqvwZ3AN"
      }
    },
    {
      "cell_type": "markdown",
      "source": [
        "According to a [paper](https://www.frontiersin.org/articles/10.3389/fgene.2020.00679/full) I read, excluding SNPs with AF < 0.01 may be viable too. My assumption is these may be 'too rare' to play a role in common(ish) traits."
      ],
      "metadata": {
        "id": "F_lqV1cnVUOm"
      }
    },
    {
      "cell_type": "code",
      "source": [
        "min_and_max_filtered_df = filter_by_af(minority_df, min_af=0.01)\n",
        "hierachical_clustering(\n",
        "    min_and_max_filtered_df,\n",
        "    'Implicated-Gene-Weighted; 0.01<=AF<=0.49',\n",
        "    implicated_gene_weighted_encoding)"
      ],
      "metadata": {
        "colab": {
          "base_uri": "https://localhost:8080/",
          "height": 454
        },
        "id": "9n8xpxujVrvS",
        "outputId": "b613a631-7d89-418a-ca01-f516fbcb468d"
      },
      "execution_count": 32,
      "outputs": [
        {
          "output_type": "display_data",
          "data": {
            "text/plain": [
              "<Figure size 432x288 with 1 Axes>"
            ],
            "image/png": "[encoded data removed]"
          },
          "metadata": {
            "needs_background": "light"
          }
        }
      ]
    },
    {
      "cell_type": "markdown",
      "source": [
        "Interestingly, this really changes the structure. Double-check how much data is being filtered at each step."
      ],
      "metadata": {
        "id": "WseqG9fZWB7_"
      }
    },
    {
      "cell_type": "code",
      "source": [
        "pre_af_filtering_size = len(all_df)\n",
        "max_af_filtering_size = len(minority_df) # this also removed eating disorder\n",
        "min_and_max_filtering_size = len(min_and_max_filtered_df)\n",
        "\n",
        "print(f'{pre_af_filtering_size} variants before AF filtering.')\n",
        "print(f'{max_af_filtering_size} variants with max AF filtering.')\n",
        "print(f'{min_and_max_filtering_size} variants with min and max AF filtering.')"
      ],
      "metadata": {
        "colab": {
          "base_uri": "https://localhost:8080/"
        },
        "id": "aoWUy2ieWIyD",
        "outputId": "3936625d-a540-4633-81a8-a05a049ec152"
      },
      "execution_count": 33,
      "outputs": [
        {
          "output_type": "stream",
          "name": "stdout",
          "text": [
            "3544 variants before AF filtering.\n",
            "1278 variants with max AF filtering.\n",
            "1237 variants with min and max AF filtering.\n"
          ]
        }
      ]
    },
    {
      "cell_type": "markdown",
      "source": [
        "About a third of original variants remaining after min & max AF filtering (and excluding those with unknown AF values). Check for condition skew"
      ],
      "metadata": {
        "id": "8feHZwK9WouH"
      }
    },
    {
      "cell_type": "code",
      "source": [
        "min_and_max_filtered_df.groupby('parent_trait').size().sort_values()"
      ],
      "metadata": {
        "colab": {
          "base_uri": "https://localhost:8080/"
        },
        "id": "kgp6IwdFWviS",
        "outputId": "288319e1-3c34-4ccb-b1f7-afb1872e1db2"
      },
      "execution_count": 34,
      "outputs": [
        {
          "output_type": "execute_result",
          "data": {
            "text/plain": [
              "parent_trait\n",
              "autism spectrum disorder     36\n",
              "drug dependence              51\n",
              "anxiety disorder             58\n",
              "ADHD                         83\n",
              "alzheimer disease           115\n",
              "bipolar disorder            178\n",
              "unipolar depression         296\n",
              "schizophrenia               420\n",
              "dtype: int64"
            ]
          },
          "metadata": {},
          "execution_count": 34
        }
      ]
    },
    {
      "cell_type": "markdown",
      "source": [
        "Still at least 30 rows per trait."
      ],
      "metadata": {
        "id": "MOw9UdmhW5zK"
      }
    },
    {
      "cell_type": "code",
      "source": [
        "# Just double-checking the logic.\n",
        "min_and_max_filtered_df['af'].describe()"
      ],
      "metadata": {
        "colab": {
          "base_uri": "https://localhost:8080/"
        },
        "id": "ncj8G2VbW-21",
        "outputId": "8102b361-152d-4206-f915-164008247aae"
      },
      "execution_count": 35,
      "outputs": [
        {
          "output_type": "execute_result",
          "data": {
            "text/plain": [
              "count    1237.000000\n",
              "mean        0.257523\n",
              "std         0.140542\n",
              "min         0.010266\n",
              "25%         0.133620\n",
              "50%         0.275067\n",
              "75%         0.378422\n",
              "max         0.489979\n",
              "Name: af, dtype: float64"
            ]
          },
          "metadata": {},
          "execution_count": 35
        }
      ]
    },
    {
      "cell_type": "markdown",
      "source": [
        "What if we focus on rarest variants only?"
      ],
      "metadata": {
        "id": "xFE2nqLTXb2N"
      }
    },
    {
      "cell_type": "code",
      "source": [
        "rare_df = filter_by_af(all_df, min_af=0.0, max_af=.01)\n",
        "len(rare_df)"
      ],
      "metadata": {
        "colab": {
          "base_uri": "https://localhost:8080/"
        },
        "id": "-cRI5lXqXaq1",
        "outputId": "c5f714ae-4590-4bde-9f69-e1f40f53ccb1"
      },
      "execution_count": 36,
      "outputs": [
        {
          "output_type": "execute_result",
          "data": {
            "text/plain": [
              "41"
            ]
          },
          "metadata": {},
          "execution_count": 36
        }
      ]
    },
    {
      "cell_type": "markdown",
      "source": [
        "Probably not enough data points for meaningful clustering. Let's just look at the conditions with significant rare variants."
      ],
      "metadata": {
        "id": "SjZu2_35Yz8c"
      }
    },
    {
      "cell_type": "code",
      "source": [
        "rare_df.groupby('parent_trait').size().sort_values()"
      ],
      "metadata": {
        "colab": {
          "base_uri": "https://localhost:8080/"
        },
        "id": "LaGA1WYbXkue",
        "outputId": "42e79217-2f0e-4944-d4e7-0fca58ce8739"
      },
      "execution_count": 37,
      "outputs": [
        {
          "output_type": "execute_result",
          "data": {
            "text/plain": [
              "parent_trait\n",
              "anxiety disorder             1\n",
              "autism spectrum disorder     1\n",
              "bipolar disorder             3\n",
              "drug dependence              4\n",
              "schizophrenia                4\n",
              "unipolar depression          6\n",
              "alzheimer disease           22\n",
              "dtype: int64"
            ]
          },
          "metadata": {},
          "execution_count": 37
        }
      ]
    },
    {
      "cell_type": "markdown",
      "source": [
        "Surprisingly, alzheimer disease actually has more significant rare (AF <= 0.01) variants than schizophrenia, even though schizophrenia has more known significant variants (by more than 2x according to post-cleaning analysis)."
      ],
      "metadata": {
        "id": "Y6sQxAHQZCr2"
      }
    },
    {
      "cell_type": "markdown",
      "source": [
        "Let's try one more filtering approach for gene-weighted clustering. Only consider those variants which have known significant tissue associations."
      ],
      "metadata": {
        "id": "OjX6OypdakK1"
      }
    },
    {
      "cell_type": "code",
      "source": [
        "def filter_to_tissue_associations(in_df: pd.DataFrame) -> pd.DataFrame:\n",
        "  \"\"\"Filters to rows where 'tissues' != ''. \"\"\"\n",
        "  out_df = in_df.copy()\n",
        "  out_df = out_df[out_df['tissues'].map(lambda tissues: len(tissues) > 0)]\n",
        "  return out_df\n",
        "\n",
        "\n",
        "data_with_tissues_df = filter_to_tissue_associations(all_df)\n",
        "hierachical_clustering(\n",
        "    data_with_tissues_df,\n",
        "    'Implicated-Gene-Weighted; Variants associated with tissues',\n",
        "    implicated_gene_weighted_encoding)"
      ],
      "metadata": {
        "colab": {
          "base_uri": "https://localhost:8080/",
          "height": 454
        },
        "id": "od1v2oZnag2V",
        "outputId": "b011b2cf-131d-4ec3-edc7-2d1d484e9147"
      },
      "execution_count": 38,
      "outputs": [
        {
          "output_type": "display_data",
          "data": {
            "text/plain": [
              "<Figure size 432x288 with 1 Axes>"
            ],
            "image/png": "[encoded data removed]"
          },
          "metadata": {
            "needs_background": "light"
          }
        }
      ]
    },
    {
      "cell_type": "markdown",
      "source": [
        "I see some similarities in other clusterings but also some differences.\n",
        "\n",
        "Similarities: I've noticed alzheimer and drug dependence are often together, as are anxiety and depression.\n",
        "\n",
        "Differences: I think this is the first time I've seen autism and ADHD closest together."
      ],
      "metadata": {
        "id": "DxcJEK6qcbmq"
      }
    },
    {
      "cell_type": "markdown",
      "source": [
        "# Tissue-association based clustering"
      ],
      "metadata": {
        "id": "yrQ2ff9VZWrE"
      }
    },
    {
      "cell_type": "markdown",
      "source": [
        "Re-using some code from post-cleaning analysis to get started with tissue associated variants. Total numbers may be different as low-data traits have already been filtered."
      ],
      "metadata": {
        "id": "olXjHy_6Z9Ew"
      }
    },
    {
      "cell_type": "code",
      "source": [
        "TISSUE_DELIM = \"&\"\n",
        "\n",
        "tissue_metadata_file = 'tissue_metadata.txt'\n",
        "all_tissues = []\n",
        "with open(tissue_metadata_file) as tissue_file:\n",
        "  for tissue in tissue_file.readlines():\n",
        "    all_tissues.append(tissue.replace(\"\\n\", \"\"))\n",
        "\n",
        "print(f'Tissues: {all_tissues}')\n",
        "\n",
        "# In previous cleaning, if a variant mapped to multiple genes, I created \n",
        "# separate rows for it. For tissue association I just blindly match the variant\n",
        "# location and don't care about the gene though... so drop duplicate locations\n",
        "# as they may misrepresent total counts in subsequent tissue analysis here.\n",
        "tissues_df = all_df.copy()\n",
        "tissues_df.drop_duplicates(subset=['location', 'parent_trait'], inplace=True)\n",
        "total_variants = len(tissues_df)\n",
        "tissues_df['has_tissues'] = tissues_df['tissues'].map(lambda tissues: len(tissues) > 0)\n",
        "tissues_df = tissues_df[tissues_df['has_tissues'] == True]\n",
        "num_variants_with_tissues = len(tissues_df)\n",
        "print(f'{num_variants_with_tissues} variants significantly associated with tissues of {total_variants} total.')\n",
        "\n",
        "# Aggregate number of per-tissue associations per trait.\n",
        "# This is a dict from trait to Dict[tissue, tissue association count]\n",
        "trait_to_tissue_to_count = {}\n",
        "all_traits = tissues_df['parent_trait'].unique()\n",
        "for trait in all_traits:\n",
        "  trait_to_tissue_to_count[trait] = {tissue: 0 for tissue in all_tissues}\n",
        "\n",
        "for _, row in tissues_df.iterrows():\n",
        "  trait = row['parent_trait']\n",
        "  variant_tissues = row['tissues'].split(TISSUE_DELIM)\n",
        "  for tissue in variant_tissues:\n",
        "    trait_to_tissue_to_count[trait][tissue] += 1\n",
        "\n",
        "rows = []\n",
        "index = []\n",
        "for trait, tissue_dict in trait_to_tissue_to_count.items():\n",
        "  index.append(trait)\n",
        "  rows.append(tissue_dict)\n",
        "\n",
        "trait_to_tissue_count_df = pd.DataFrame(rows, index=index)\n",
        "trait_to_tissue_count_df.head()"
      ],
      "metadata": {
        "colab": {
          "base_uri": "https://localhost:8080/",
          "height": 423
        },
        "id": "1qVooyheZxpt",
        "outputId": "32ec3916-fa54-4913-99f9-e323b5de7a48"
      },
      "execution_count": 39,
      "outputs": [
        {
          "output_type": "stream",
          "name": "stdout",
          "text": [
            "Tissues: ['Adipose_Subcutaneous', 'Adipose_Visceral_Omentum', 'Adrenal_Gland', 'Artery_Aorta', 'Artery_Coronary', 'Artery_Tibial', 'Brain_Amygdala', 'Brain_Anterior_cingulate_cortex_BA24', 'Brain_Caudate_basal_ganglia', 'Brain_Cerebellar_Hemisphere', 'Brain_Cerebellum', 'Brain_Cortex', 'Brain_Frontal_Cortex_BA9', 'Brain_Hippocampus', 'Brain_Hypothalamus', 'Brain_Nucleus_accumbens_basal_ganglia', 'Brain_Putamen_basal_ganglia', 'Brain_Spinal_cord_cervical_c-1', 'Brain_Substantia_nigra', 'Breast_Mammary_Tissue', 'Cells_Cultured_fibroblasts', 'Cells_EBV-transformed_lymphocytes', 'Colon_Sigmoid', 'Colon_Transverse', 'Esophagus_Gastroesophageal_Junction', 'Esophagus_Mucosa', 'Esophagus_Muscularis', 'Heart_Atrial_Appendage', 'Heart_Left_Ventricle', 'Kidney_Cortex', 'Liver', 'Lung', 'Minor_Salivary_Gland', 'Muscle_Skeletal', 'Nerve_Tibial', 'Ovary', 'Pancreas', 'Pituitary', 'Prostate', 'Skin_Not_Sun_Exposed_Suprapubic', 'Skin_Sun_Exposed_Lower_leg', 'Small_Intestine_Terminal_Ileum', 'Spleen', 'Stomach', 'Testis', 'Thyroid', 'Uterus', 'Vagina', 'Whole_Blood']\n",
            "948 variants significantly associated with tissues of 2615 total.\n"
          ]
        },
        {
          "output_type": "execute_result",
          "data": {
            "text/plain": [
              "                          Adipose_Subcutaneous  Adipose_Visceral_Omentum  \\\n",
              "ADHD                                        15                        11   \n",
              "alzheimer disease                           25                        13   \n",
              "anxiety disorder                             7                         9   \n",
              "autism spectrum disorder                     7                         8   \n",
              "bipolar disorder                            62                        51   \n",
              "\n",
              "                          Adrenal_Gland  Artery_Aorta  Artery_Coronary  \\\n",
              "ADHD                                  5            11                4   \n",
              "alzheimer disease                     9            18                5   \n",
              "anxiety disorder                      6             7                4   \n",
              "autism spectrum disorder              4             6                2   \n",
              "bipolar disorder                     43            62               28   \n",
              "\n",
              "                          Artery_Tibial  Brain_Amygdala  \\\n",
              "ADHD                                 15               2   \n",
              "alzheimer disease                    21               3   \n",
              "anxiety disorder                     13               3   \n",
              "autism spectrum disorder              8               2   \n",
              "bipolar disorder                     72               8   \n",
              "\n",
              "                          Brain_Anterior_cingulate_cortex_BA24  \\\n",
              "ADHD                                                         2   \n",
              "alzheimer disease                                            3   \n",
              "anxiety disorder                                             6   \n",
              "autism spectrum disorder                                     5   \n",
              "bipolar disorder                                            24   \n",
              "\n",
              "                          Brain_Caudate_basal_ganglia  \\\n",
              "ADHD                                                6   \n",
              "alzheimer disease                                  12   \n",
              "anxiety disorder                                    7   \n",
              "autism spectrum disorder                            4   \n",
              "bipolar disorder                                   41   \n",
              "\n",
              "                          Brain_Cerebellar_Hemisphere  ...  \\\n",
              "ADHD                                                6  ...   \n",
              "alzheimer disease                                  14  ...   \n",
              "anxiety disorder                                   10  ...   \n",
              "autism spectrum disorder                            9  ...   \n",
              "bipolar disorder                                   37  ...   \n",
              "\n",
              "                          Skin_Not_Sun_Exposed_Suprapubic  \\\n",
              "ADHD                                                   15   \n",
              "alzheimer disease                                      18   \n",
              "anxiety disorder                                       12   \n",
              "autism spectrum disorder                                8   \n",
              "bipolar disorder                                       60   \n",
              "\n",
              "                          Skin_Sun_Exposed_Lower_leg  \\\n",
              "ADHD                                              15   \n",
              "alzheimer disease                                 21   \n",
              "anxiety disorder                                  12   \n",
              "autism spectrum disorder                           8   \n",
              "bipolar disorder                                  74   \n",
              "\n",
              "                          Small_Intestine_Terminal_Ileum  Spleen  Stomach  \\\n",
              "ADHD                                                   2       5        6   \n",
              "alzheimer disease                                      6      15       16   \n",
              "anxiety disorder                                       4       9        9   \n",
              "autism spectrum disorder                               3       5        3   \n",
              "bipolar disorder                                      29      43       42   \n",
              "\n",
              "                          Testis  Thyroid  Uterus  Vagina  Whole_Blood  \n",
              "ADHD                          12       21       2       2           10  \n",
              "alzheimer disease             18       21       2       2           25  \n",
              "anxiety disorder              14       14       2       2           15  \n",
              "autism spectrum disorder       9        9       0       2            8  \n",
              "bipolar disorder              68       82       7      12           59  \n",
              "\n",
              "[5 rows x 49 columns]"
            ],
            "text/html": [
              "\n",
              "  <div id=\"df-711be0b8-47b9-4e46-b0b8-8293d11218b1\">\n",
              "    <div class=\"colab-df-container\">\n",
              "      <div>\n",
              "<style scoped>\n",
              "    .dataframe tbody tr th:only-of-type {\n",
              "        vertical-align: middle;\n",
              "    }\n",
              "\n",
              "    .dataframe tbody tr th {\n",
              "        vertical-align: top;\n",
              "    }\n",
              "\n",
              "    .dataframe thead th {\n",
              "        text-align: right;\n",
              "    }\n",
              "</style>\n",
              "<table border=\"1\" class=\"dataframe\">\n",
              "  <thead>\n",
              "    <tr style=\"text-align: right;\">\n",
              "      <th></th>\n",
              "      <th>Adipose_Subcutaneous</th>\n",
              "      <th>Adipose_Visceral_Omentum</th>\n",
              "      <th>Adrenal_Gland</th>\n",
              "      <th>Artery_Aorta</th>\n",
              "      <th>Artery_Coronary</th>\n",
              "      <th>Artery_Tibial</th>\n",
              "      <th>Brain_Amygdala</th>\n",
              "      <th>Brain_Anterior_cingulate_cortex_BA24</th>\n",
              "      <th>Brain_Caudate_basal_ganglia</th>\n",
              "      <th>Brain_Cerebellar_Hemisphere</th>\n",
              "      <th>...</th>\n",
              "      <th>Skin_Not_Sun_Exposed_Suprapubic</th>\n",
              "      <th>Skin_Sun_Exposed_Lower_leg</th>\n",
              "      <th>Small_Intestine_Terminal_Ileum</th>\n",
              "      <th>Spleen</th>\n",
              "      <th>Stomach</th>\n",
              "      <th>Testis</th>\n",
              "      <th>Thyroid</th>\n",
              "      <th>Uterus</th>\n",
              "      <th>Vagina</th>\n",
              "      <th>Whole_Blood</th>\n",
              "    </tr>\n",
              "  </thead>\n",
              "  <tbody>\n",
              "    <tr>\n",
              "      <th>ADHD</th>\n",
              "      <td>15</td>\n",
              "      <td>11</td>\n",
              "      <td>5</td>\n",
              "      <td>11</td>\n",
              "      <td>4</td>\n",
              "      <td>15</td>\n",
              "      <td>2</td>\n",
              "      <td>2</td>\n",
              "      <td>6</td>\n",
              "      <td>6</td>\n",
              "      <td>...</td>\n",
              "      <td>15</td>\n",
              "      <td>15</td>\n",
              "      <td>2</td>\n",
              "      <td>5</td>\n",
              "      <td>6</td>\n",
              "      <td>12</td>\n",
              "      <td>21</td>\n",
              "      <td>2</td>\n",
              "      <td>2</td>\n",
              "      <td>10</td>\n",
              "    </tr>\n",
              "    <tr>\n",
              "      <th>alzheimer disease</th>\n",
              "      <td>25</td>\n",
              "      <td>13</td>\n",
              "      <td>9</td>\n",
              "      <td>18</td>\n",
              "      <td>5</td>\n",
              "      <td>21</td>\n",
              "      <td>3</td>\n",
              "      <td>3</td>\n",
              "      <td>12</td>\n",
              "      <td>14</td>\n",
              "      <td>...</td>\n",
              "      <td>18</td>\n",
              "      <td>21</td>\n",
              "      <td>6</td>\n",
              "      <td>15</td>\n",
              "      <td>16</td>\n",
              "      <td>18</td>\n",
              "      <td>21</td>\n",
              "      <td>2</td>\n",
              "      <td>2</td>\n",
              "      <td>25</td>\n",
              "    </tr>\n",
              "    <tr>\n",
              "      <th>anxiety disorder</th>\n",
              "      <td>7</td>\n",
              "      <td>9</td>\n",
              "      <td>6</td>\n",
              "      <td>7</td>\n",
              "      <td>4</td>\n",
              "      <td>13</td>\n",
              "      <td>3</td>\n",
              "      <td>6</td>\n",
              "      <td>7</td>\n",
              "      <td>10</td>\n",
              "      <td>...</td>\n",
              "      <td>12</td>\n",
              "      <td>12</td>\n",
              "      <td>4</td>\n",
              "      <td>9</td>\n",
              "      <td>9</td>\n",
              "      <td>14</td>\n",
              "      <td>14</td>\n",
              "      <td>2</td>\n",
              "      <td>2</td>\n",
              "      <td>15</td>\n",
              "    </tr>\n",
              "    <tr>\n",
              "      <th>autism spectrum disorder</th>\n",
              "      <td>7</td>\n",
              "      <td>8</td>\n",
              "      <td>4</td>\n",
              "      <td>6</td>\n",
              "      <td>2</td>\n",
              "      <td>8</td>\n",
              "      <td>2</td>\n",
              "      <td>5</td>\n",
              "      <td>4</td>\n",
              "      <td>9</td>\n",
              "      <td>...</td>\n",
              "      <td>8</td>\n",
              "      <td>8</td>\n",
              "      <td>3</td>\n",
              "      <td>5</td>\n",
              "      <td>3</td>\n",
              "      <td>9</td>\n",
              "      <td>9</td>\n",
              "      <td>0</td>\n",
              "      <td>2</td>\n",
              "      <td>8</td>\n",
              "    </tr>\n",
              "    <tr>\n",
              "      <th>bipolar disorder</th>\n",
              "      <td>62</td>\n",
              "      <td>51</td>\n",
              "      <td>43</td>\n",
              "      <td>62</td>\n",
              "      <td>28</td>\n",
              "      <td>72</td>\n",
              "      <td>8</td>\n",
              "      <td>24</td>\n",
              "      <td>41</td>\n",
              "      <td>37</td>\n",
              "      <td>...</td>\n",
              "      <td>60</td>\n",
              "      <td>74</td>\n",
              "      <td>29</td>\n",
              "      <td>43</td>\n",
              "      <td>42</td>\n",
              "      <td>68</td>\n",
              "      <td>82</td>\n",
              "      <td>7</td>\n",
              "      <td>12</td>\n",
              "      <td>59</td>\n",
              "    </tr>\n",
              "  </tbody>\n",
              "</table>\n",
              "<p>5 rows × 49 columns</p>\n",
              "</div>\n",
              "      <button class=\"colab-df-convert\" onclick=\"convertToInteractive('df-711be0b8-47b9-4e46-b0b8-8293d11218b1')\"\n",
              "              title=\"Convert this dataframe to an interactive table.\"\n",
              "              style=\"display:none;\">\n",
              "        \n",
              "  <svg xmlns=\"http://www.w3.org/2000/svg\" height=\"24px\"viewBox=\"0 0 24 24\"\n",
              "       width=\"24px\">\n",
              "    <path d=\"M0 0h24v24H0V0z\" fill=\"none\"/>\n",
              "    <path d=\"M18.56 5.44l.94 2.06.94-2.06 2.06-.94-2.06-.94-.94-2.06-.94 2.06-2.06.94zm-11 1L8.5 8.5l.94-2.06 2.06-.94-2.06-.94L8.5 2.5l-.94 2.06-2.06.94zm10 10l.94 2.06.94-2.06 2.06-.94-2.06-.94-.94-2.06-.94 2.06-2.06.94z\"/><path d=\"M17.41 7.96l-1.37-1.37c-.4-.4-.92-.59-1.43-.59-.52 0-1.04.2-1.43.59L10.3 9.45l-7.72 7.72c-.78.78-.78 2.05 0 2.83L4 21.41c.39.39.9.59 1.41.59.51 0 1.02-.2 1.41-.59l7.78-7.78 2.81-2.81c.8-.78.8-2.07 0-2.86zM5.41 20L4 18.59l7.72-7.72 1.47 1.35L5.41 20z\"/>\n",
              "  </svg>\n",
              "      </button>\n",
              "      \n",
              "  <style>\n",
              "    .colab-df-container {\n",
              "      display:flex;\n",
              "      flex-wrap:wrap;\n",
              "      gap: 12px;\n",
              "    }\n",
              "\n",
              "    .colab-df-convert {\n",
              "      background-color: #E8F0FE;\n",
              "      border: none;\n",
              "      border-radius: 50%;\n",
              "      cursor: pointer;\n",
              "      display: none;\n",
              "      fill: #1967D2;\n",
              "      height: 32px;\n",
              "      padding: 0 0 0 0;\n",
              "      width: 32px;\n",
              "    }\n",
              "\n",
              "    .colab-df-convert:hover {\n",
              "      background-color: #E2EBFA;\n",
              "      box-shadow: 0px 1px 2px rgba(60, 64, 67, 0.3), 0px 1px 3px 1px rgba(60, 64, 67, 0.15);\n",
              "      fill: #174EA6;\n",
              "    }\n",
              "\n",
              "    [theme=dark] .colab-df-convert {\n",
              "      background-color: #3B4455;\n",
              "      fill: #D2E3FC;\n",
              "    }\n",
              "\n",
              "    [theme=dark] .colab-df-convert:hover {\n",
              "      background-color: #434B5C;\n",
              "      box-shadow: 0px 1px 3px 1px rgba(0, 0, 0, 0.15);\n",
              "      filter: drop-shadow(0px 1px 2px rgba(0, 0, 0, 0.3));\n",
              "      fill: #FFFFFF;\n",
              "    }\n",
              "  </style>\n",
              "\n",
              "      <script>\n",
              "        const buttonEl =\n",
              "          document.querySelector('#df-711be0b8-47b9-4e46-b0b8-8293d11218b1 button.colab-df-convert');\n",
              "        buttonEl.style.display =\n",
              "          google.colab.kernel.accessAllowed ? 'block' : 'none';\n",
              "\n",
              "        async function convertToInteractive(key) {\n",
              "          const element = document.querySelector('#df-711be0b8-47b9-4e46-b0b8-8293d11218b1');\n",
              "          const dataTable =\n",
              "            await google.colab.kernel.invokeFunction('convertToInteractive',\n",
              "                                                     [key], {});\n",
              "          if (!dataTable) return;\n",
              "\n",
              "          const docLinkHtml = 'Like what you see? Visit the ' +\n",
              "            '<a target=\"_blank\" href=https://colab.research.google.com/notebooks/data_table.ipynb>data table notebook</a>'\n",
              "            + ' to learn more about interactive tables.';\n",
              "          element.innerHTML = '';\n",
              "          dataTable['output_type'] = 'display_data';\n",
              "          await google.colab.output.renderOutput(dataTable, element);\n",
              "          const docLink = document.createElement('div');\n",
              "          docLink.innerHTML = docLinkHtml;\n",
              "          element.appendChild(docLink);\n",
              "        }\n",
              "      </script>\n",
              "    </div>\n",
              "  </div>\n",
              "  "
            ]
          },
          "metadata": {},
          "execution_count": 39
        }
      ]
    },
    {
      "cell_type": "code",
      "source": [
        "# Clustering approach for tissues will be very similar to the weighted gene \n",
        "# encoding, except now each element in a vector here represents \n",
        "# tissue associations instead of gene associations.\n",
        "\n",
        "def implicated_tissue_weighted_encoding(in_df: pd.DataFrame) -> pd.DataFrame:\n",
        "  \"\"\"Encodes trait vectors where elements are relative tissue implications.\n",
        "\n",
        "  Specifically, for each trait, creates a vector (V1, V2... Vn) \n",
        "  where Vi = Ti/Max(Ti) where a trait has Ti variants implicated with ith tissue\n",
        "  and n is total tissues in `in_df`.\n",
        "  \n",
        "  E.g. if trait has tissue associations:\n",
        "    tissue1  tissue2  tissue3\n",
        "    1      3      5\n",
        "\n",
        "  Then encoding is:\n",
        "   (.2,   .6,     1)\n",
        "\n",
        "   DataFrame is returned with traits as column headers and vectors as columns.\n",
        "  \"\"\"\n",
        "  tissue_to_index = create_tissue_to_index_dict()\n",
        "  traits = in_df.index.tolist()\n",
        "  trait_to_encoding = {}\n",
        "  for trait in traits:\n",
        "    trait_row = in_df.loc[trait]\n",
        "    tissue_counts_encoding = trait_row.to_numpy()\n",
        "    max_val = max(tissue_counts_encoding)\n",
        "    tissue_counts_encoding = tissue_counts_encoding / max_val\n",
        "    trait_to_encoding[trait] = tissue_counts_encoding\n",
        "  return pd.DataFrame(trait_to_encoding)\n",
        "\n",
        "\n",
        "def create_tissue_to_index_dict() -> Dict[str, int]:\n",
        "  \"\"\"Maps tissue to index such that each tissue is assigned a unique index.\"\"\"\n",
        "  num_tissues = len(all_tissues)\n",
        "  tissue_to_index = {all_tissues[i]: i for i in range(num_tissues)}\n",
        "  return tissue_to_index\n",
        "\n",
        "\n",
        "# Test\n",
        "implicated_tissue_weighted_encoding(trait_to_tissue_count_df)"
      ],
      "metadata": {
        "colab": {
          "base_uri": "https://localhost:8080/",
          "height": 1000
        },
        "id": "NFyMjThZaqhO",
        "outputId": "126788b1-133a-41b3-a46d-1b616402227e"
      },
      "execution_count": 40,
      "outputs": [
        {
          "output_type": "execute_result",
          "data": {
            "text/plain": [
              "        ADHD  alzheimer disease  anxiety disorder  autism spectrum disorder  \\\n",
              "0   0.714286               1.00          0.466667                  0.777778   \n",
              "1   0.523810               0.52          0.600000                  0.888889   \n",
              "2   0.238095               0.36          0.400000                  0.444444   \n",
              "3   0.523810               0.72          0.466667                  0.666667   \n",
              "4   0.190476               0.20          0.266667                  0.222222   \n",
              "5   0.714286               0.84          0.866667                  0.888889   \n",
              "6   0.095238               0.12          0.200000                  0.222222   \n",
              "7   0.095238               0.12          0.400000                  0.555556   \n",
              "8   0.285714               0.48          0.466667                  0.444444   \n",
              "9   0.285714               0.56          0.666667                  1.000000   \n",
              "10  0.380952               0.80          0.733333                  0.888889   \n",
              "11  0.333333               0.60          0.400000                  0.666667   \n",
              "12  0.095238               0.24          0.333333                  0.555556   \n",
              "13  0.142857               0.44          0.333333                  0.222222   \n",
              "14  0.095238               0.20          0.266667                  0.333333   \n",
              "15  0.190476               0.52          0.533333                  0.555556   \n",
              "16  0.142857               0.56          0.333333                  0.555556   \n",
              "17  0.000000               0.16          0.466667                  0.111111   \n",
              "18  0.000000               0.16          0.133333                  0.111111   \n",
              "19  0.476190               0.32          0.533333                  0.444444   \n",
              "20  0.571429               0.72          0.933333                  1.000000   \n",
              "21  0.047619               0.24          0.266667                  0.111111   \n",
              "22  0.380952               0.80          0.266667                  0.666667   \n",
              "23  0.380952               0.56          0.533333                  0.555556   \n",
              "24  0.523810               0.76          0.400000                  0.666667   \n",
              "25  0.666667               0.88          0.600000                  0.666667   \n",
              "26  0.571429               0.96          0.533333                  0.888889   \n",
              "27  0.571429               0.68          0.533333                  0.888889   \n",
              "28  0.380952               0.64          0.666667                  0.444444   \n",
              "29  0.000000               0.16          0.066667                  0.000000   \n",
              "30  0.142857               0.36          0.266667                  0.222222   \n",
              "31  0.380952               0.84          0.866667                  0.666667   \n",
              "32  0.047619               0.04          0.200000                  0.111111   \n",
              "33  0.476190               0.84          0.533333                  0.777778   \n",
              "34  0.857143               0.80          0.533333                  0.888889   \n",
              "35  0.047619               0.24          0.200000                  0.111111   \n",
              "36  0.380952               0.64          0.600000                  0.555556   \n",
              "37  0.380952               0.44          0.400000                  0.777778   \n",
              "38  0.238095               0.32          0.333333                  0.333333   \n",
              "39  0.714286               0.72          0.800000                  0.888889   \n",
              "40  0.714286               0.84          0.800000                  0.888889   \n",
              "41  0.095238               0.24          0.266667                  0.333333   \n",
              "42  0.238095               0.60          0.600000                  0.555556   \n",
              "43  0.285714               0.64          0.600000                  0.333333   \n",
              "44  0.571429               0.72          0.933333                  1.000000   \n",
              "45  1.000000               0.84          0.933333                  1.000000   \n",
              "46  0.095238               0.08          0.133333                  0.000000   \n",
              "47  0.095238               0.08          0.133333                  0.222222   \n",
              "48  0.476190               1.00          1.000000                  0.888889   \n",
              "\n",
              "    bipolar disorder  drug dependence  eating disorder  schizophrenia  \\\n",
              "0           0.756098         0.600000         0.333333       0.867704   \n",
              "1           0.621951         0.285714         0.000000       0.723735   \n",
              "2           0.524390         0.114286         0.000000       0.501946   \n",
              "3           0.756098         0.485714         0.333333       0.762646   \n",
              "4           0.341463         0.228571         0.000000       0.373541   \n",
              "5           0.878049         0.771429         0.333333       0.871595   \n",
              "6           0.097561         0.057143         0.000000       0.241245   \n",
              "7           0.292683         0.028571         0.000000       0.322957   \n",
              "8           0.500000         0.200000         0.333333       0.517510   \n",
              "9           0.451220         0.342857         0.000000       0.494163   \n",
              "10          0.634146         0.400000         0.333333       0.622568   \n",
              "11          0.512195         0.028571         0.000000       0.501946   \n",
              "12          0.341463         0.028571         0.000000       0.455253   \n",
              "13          0.243902         0.057143         0.000000       0.365759   \n",
              "14          0.292683         0.028571         0.000000       0.338521   \n",
              "15          0.341463         0.057143         0.000000       0.459144   \n",
              "16          0.487805         0.200000         0.000000       0.431907   \n",
              "17          0.195122         0.057143         0.000000       0.315175   \n",
              "18          0.060976         0.028571         0.000000       0.143969   \n",
              "19          0.573171         0.457143         0.000000       0.614786   \n",
              "20          0.865854         0.457143         0.666667       0.898833   \n",
              "21          0.231707         0.085714         0.000000       0.338521   \n",
              "22          0.573171         0.285714         0.333333       0.599222   \n",
              "23          0.524390         0.342857         0.000000       0.595331   \n",
              "24          0.512195         0.371429         0.000000       0.626459   \n",
              "25          0.731707         0.514286         0.666667       0.832685   \n",
              "26          0.792683         0.428571         0.333333       0.797665   \n",
              "27          0.646341         0.628571         0.000000       0.696498   \n",
              "28          0.560976         0.628571         0.000000       0.642023   \n",
              "29          0.024390         0.028571         0.000000       0.081712   \n",
              "30          0.219512         0.285714         0.000000       0.354086   \n",
              "31          0.719512         0.742857         0.000000       0.747082   \n",
              "32          0.219512         0.028571         0.000000       0.214008   \n",
              "33          0.719512         0.742857         0.333333       0.793774   \n",
              "34          0.865854         0.600000         0.000000       0.922179   \n",
              "35          0.219512         0.028571         0.000000       0.315175   \n",
              "36          0.548780         0.257143         0.000000       0.591440   \n",
              "37          0.512195         0.085714         0.000000       0.560311   \n",
              "38          0.304878         0.085714         0.000000       0.459144   \n",
              "39          0.731707         0.542857         0.333333       0.859922   \n",
              "40          0.902439         0.571429         1.000000       0.894942   \n",
              "41          0.353659         0.228571         0.000000       0.377432   \n",
              "42          0.524390         0.314286         0.333333       0.575875   \n",
              "43          0.512195         0.371429         0.000000       0.568093   \n",
              "44          0.829268         0.514286         0.666667       0.902724   \n",
              "45          1.000000         1.000000         0.333333       1.000000   \n",
              "46          0.085366         0.085714         0.000000       0.217899   \n",
              "47          0.146341         0.028571         0.000000       0.264591   \n",
              "48          0.719512         0.314286         0.333333       0.785992   \n",
              "\n",
              "    unipolar depression  \n",
              "0              0.961165  \n",
              "1              0.825243  \n",
              "2              0.660194  \n",
              "3              0.708738  \n",
              "4              0.456311  \n",
              "5              0.951456  \n",
              "6              0.203883  \n",
              "7              0.359223  \n",
              "8              0.718447  \n",
              "9              0.679612  \n",
              "10             0.786408  \n",
              "11             0.689320  \n",
              "12             0.504854  \n",
              "13             0.417476  \n",
              "14             0.262136  \n",
              "15             0.631068  \n",
              "16             0.475728  \n",
              "17             0.368932  \n",
              "18             0.116505  \n",
              "19             0.747573  \n",
              "20             0.941748  \n",
              "21             0.378641  \n",
              "22             0.572816  \n",
              "23             0.747573  \n",
              "24             0.669903  \n",
              "25             0.990291  \n",
              "26             0.932039  \n",
              "27             0.660194  \n",
              "28             0.766990  \n",
              "29             0.029126  \n",
              "30             0.475728  \n",
              "31             0.815534  \n",
              "32             0.291262  \n",
              "33             0.980583  \n",
              "34             1.000000  \n",
              "35             0.504854  \n",
              "36             0.699029  \n",
              "37             0.582524  \n",
              "38             0.485437  \n",
              "39             0.873786  \n",
              "40             0.961165  \n",
              "41             0.456311  \n",
              "42             0.601942  \n",
              "43             0.650485  \n",
              "44             0.970874  \n",
              "45             0.961165  \n",
              "46             0.262136  \n",
              "47             0.349515  \n",
              "48             0.893204  "
            ],
            "text/html": [
              "\n",
              "  <div id=\"df-68ebba28-7baa-4315-8a78-36682e8f9d55\">\n",
              "    <div class=\"colab-df-container\">\n",
              "      <div>\n",
              "<style scoped>\n",
              "    .dataframe tbody tr th:only-of-type {\n",
              "        vertical-align: middle;\n",
              "    }\n",
              "\n",
              "    .dataframe tbody tr th {\n",
              "        vertical-align: top;\n",
              "    }\n",
              "\n",
              "    .dataframe thead th {\n",
              "        text-align: right;\n",
              "    }\n",
              "</style>\n",
              "<table border=\"1\" class=\"dataframe\">\n",
              "  <thead>\n",
              "    <tr style=\"text-align: right;\">\n",
              "      <th></th>\n",
              "      <th>ADHD</th>\n",
              "      <th>alzheimer disease</th>\n",
              "      <th>anxiety disorder</th>\n",
              "      <th>autism spectrum disorder</th>\n",
              "      <th>bipolar disorder</th>\n",
              "      <th>drug dependence</th>\n",
              "      <th>eating disorder</th>\n",
              "      <th>schizophrenia</th>\n",
              "      <th>unipolar depression</th>\n",
              "    </tr>\n",
              "  </thead>\n",
              "  <tbody>\n",
              "    <tr>\n",
              "      <th>0</th>\n",
              "      <td>0.714286</td>\n",
              "      <td>1.00</td>\n",
              "      <td>0.466667</td>\n",
              "      <td>0.777778</td>\n",
              "      <td>0.756098</td>\n",
              "      <td>0.600000</td>\n",
              "      <td>0.333333</td>\n",
              "      <td>0.867704</td>\n",
              "      <td>0.961165</td>\n",
              "    </tr>\n",
              "    <tr>\n",
              "      <th>1</th>\n",
              "      <td>0.523810</td>\n",
              "      <td>0.52</td>\n",
              "      <td>0.600000</td>\n",
              "      <td>0.888889</td>\n",
              "      <td>0.621951</td>\n",
              "      <td>0.285714</td>\n",
              "      <td>0.000000</td>\n",
              "      <td>0.723735</td>\n",
              "      <td>0.825243</td>\n",
              "    </tr>\n",
              "    <tr>\n",
              "      <th>2</th>\n",
              "      <td>0.238095</td>\n",
              "      <td>0.36</td>\n",
              "      <td>0.400000</td>\n",
              "      <td>0.444444</td>\n",
              "      <td>0.524390</td>\n",
              "      <td>0.114286</td>\n",
              "      <td>0.000000</td>\n",
              "      <td>0.501946</td>\n",
              "      <td>0.660194</td>\n",
              "    </tr>\n",
              "    <tr>\n",
              "      <th>3</th>\n",
              "      <td>0.523810</td>\n",
              "      <td>0.72</td>\n",
              "      <td>0.466667</td>\n",
              "      <td>0.666667</td>\n",
              "      <td>0.756098</td>\n",
              "      <td>0.485714</td>\n",
              "      <td>0.333333</td>\n",
              "      <td>0.762646</td>\n",
              "      <td>0.708738</td>\n",
              "    </tr>\n",
              "    <tr>\n",
              "      <th>4</th>\n",
              "      <td>0.190476</td>\n",
              "      <td>0.20</td>\n",
              "      <td>0.266667</td>\n",
              "      <td>0.222222</td>\n",
              "      <td>0.341463</td>\n",
              "      <td>0.228571</td>\n",
              "      <td>0.000000</td>\n",
              "      <td>0.373541</td>\n",
              "      <td>0.456311</td>\n",
              "    </tr>\n",
              "    <tr>\n",
              "      <th>5</th>\n",
              "      <td>0.714286</td>\n",
              "      <td>0.84</td>\n",
              "      <td>0.866667</td>\n",
              "      <td>0.888889</td>\n",
              "      <td>0.878049</td>\n",
              "      <td>0.771429</td>\n",
              "      <td>0.333333</td>\n",
              "      <td>0.871595</td>\n",
              "      <td>0.951456</td>\n",
              "    </tr>\n",
              "    <tr>\n",
              "      <th>6</th>\n",
              "      <td>0.095238</td>\n",
              "      <td>0.12</td>\n",
              "      <td>0.200000</td>\n",
              "      <td>0.222222</td>\n",
              "      <td>0.097561</td>\n",
              "      <td>0.057143</td>\n",
              "      <td>0.000000</td>\n",
              "      <td>0.241245</td>\n",
              "      <td>0.203883</td>\n",
              "    </tr>\n",
              "    <tr>\n",
              "      <th>7</th>\n",
              "      <td>0.095238</td>\n",
              "      <td>0.12</td>\n",
              "      <td>0.400000</td>\n",
              "      <td>0.555556</td>\n",
              "      <td>0.292683</td>\n",
              "      <td>0.028571</td>\n",
              "      <td>0.000000</td>\n",
              "      <td>0.322957</td>\n",
              "      <td>0.359223</td>\n",
              "    </tr>\n",
              "    <tr>\n",
              "      <th>8</th>\n",
              "      <td>0.285714</td>\n",
              "      <td>0.48</td>\n",
              "      <td>0.466667</td>\n",
              "      <td>0.444444</td>\n",
              "      <td>0.500000</td>\n",
              "      <td>0.200000</td>\n",
              "      <td>0.333333</td>\n",
              "      <td>0.517510</td>\n",
              "      <td>0.718447</td>\n",
              "    </tr>\n",
              "    <tr>\n",
              "      <th>9</th>\n",
              "      <td>0.285714</td>\n",
              "      <td>0.56</td>\n",
              "      <td>0.666667</td>\n",
              "      <td>1.000000</td>\n",
              "      <td>0.451220</td>\n",
              "      <td>0.342857</td>\n",
              "      <td>0.000000</td>\n",
              "      <td>0.494163</td>\n",
              "      <td>0.679612</td>\n",
              "    </tr>\n",
              "    <tr>\n",
              "      <th>10</th>\n",
              "      <td>0.380952</td>\n",
              "      <td>0.80</td>\n",
              "      <td>0.733333</td>\n",
              "      <td>0.888889</td>\n",
              "      <td>0.634146</td>\n",
              "      <td>0.400000</td>\n",
              "      <td>0.333333</td>\n",
              "      <td>0.622568</td>\n",
              "      <td>0.786408</td>\n",
              "    </tr>\n",
              "    <tr>\n",
              "      <th>11</th>\n",
              "      <td>0.333333</td>\n",
              "      <td>0.60</td>\n",
              "      <td>0.400000</td>\n",
              "      <td>0.666667</td>\n",
              "      <td>0.512195</td>\n",
              "      <td>0.028571</td>\n",
              "      <td>0.000000</td>\n",
              "      <td>0.501946</td>\n",
              "      <td>0.689320</td>\n",
              "    </tr>\n",
              "    <tr>\n",
              "      <th>12</th>\n",
              "      <td>0.095238</td>\n",
              "      <td>0.24</td>\n",
              "      <td>0.333333</td>\n",
              "      <td>0.555556</td>\n",
              "      <td>0.341463</td>\n",
              "      <td>0.028571</td>\n",
              "      <td>0.000000</td>\n",
              "      <td>0.455253</td>\n",
              "      <td>0.504854</td>\n",
              "    </tr>\n",
              "    <tr>\n",
              "      <th>13</th>\n",
              "      <td>0.142857</td>\n",
              "      <td>0.44</td>\n",
              "      <td>0.333333</td>\n",
              "      <td>0.222222</td>\n",
              "      <td>0.243902</td>\n",
              "      <td>0.057143</td>\n",
              "      <td>0.000000</td>\n",
              "      <td>0.365759</td>\n",
              "      <td>0.417476</td>\n",
              "    </tr>\n",
              "    <tr>\n",
              "      <th>14</th>\n",
              "      <td>0.095238</td>\n",
              "      <td>0.20</td>\n",
              "      <td>0.266667</td>\n",
              "      <td>0.333333</td>\n",
              "      <td>0.292683</td>\n",
              "      <td>0.028571</td>\n",
              "      <td>0.000000</td>\n",
              "      <td>0.338521</td>\n",
              "      <td>0.262136</td>\n",
              "    </tr>\n",
              "    <tr>\n",
              "      <th>15</th>\n",
              "      <td>0.190476</td>\n",
              "      <td>0.52</td>\n",
              "      <td>0.533333</td>\n",
              "      <td>0.555556</td>\n",
              "      <td>0.341463</td>\n",
              "      <td>0.057143</td>\n",
              "      <td>0.000000</td>\n",
              "      <td>0.459144</td>\n",
              "      <td>0.631068</td>\n",
              "    </tr>\n",
              "    <tr>\n",
              "      <th>16</th>\n",
              "      <td>0.142857</td>\n",
              "      <td>0.56</td>\n",
              "      <td>0.333333</td>\n",
              "      <td>0.555556</td>\n",
              "      <td>0.487805</td>\n",
              "      <td>0.200000</td>\n",
              "      <td>0.000000</td>\n",
              "      <td>0.431907</td>\n",
              "      <td>0.475728</td>\n",
              "    </tr>\n",
              "    <tr>\n",
              "      <th>17</th>\n",
              "      <td>0.000000</td>\n",
              "      <td>0.16</td>\n",
              "      <td>0.466667</td>\n",
              "      <td>0.111111</td>\n",
              "      <td>0.195122</td>\n",
              "      <td>0.057143</td>\n",
              "      <td>0.000000</td>\n",
              "      <td>0.315175</td>\n",
              "      <td>0.368932</td>\n",
              "    </tr>\n",
              "    <tr>\n",
              "      <th>18</th>\n",
              "      <td>0.000000</td>\n",
              "      <td>0.16</td>\n",
              "      <td>0.133333</td>\n",
              "      <td>0.111111</td>\n",
              "      <td>0.060976</td>\n",
              "      <td>0.028571</td>\n",
              "      <td>0.000000</td>\n",
              "      <td>0.143969</td>\n",
              "      <td>0.116505</td>\n",
              "    </tr>\n",
              "    <tr>\n",
              "      <th>19</th>\n",
              "      <td>0.476190</td>\n",
              "      <td>0.32</td>\n",
              "      <td>0.533333</td>\n",
              "      <td>0.444444</td>\n",
              "      <td>0.573171</td>\n",
              "      <td>0.457143</td>\n",
              "      <td>0.000000</td>\n",
              "      <td>0.614786</td>\n",
              "      <td>0.747573</td>\n",
              "    </tr>\n",
              "    <tr>\n",
              "      <th>20</th>\n",
              "      <td>0.571429</td>\n",
              "      <td>0.72</td>\n",
              "      <td>0.933333</td>\n",
              "      <td>1.000000</td>\n",
              "      <td>0.865854</td>\n",
              "      <td>0.457143</td>\n",
              "      <td>0.666667</td>\n",
              "      <td>0.898833</td>\n",
              "      <td>0.941748</td>\n",
              "    </tr>\n",
              "    <tr>\n",
              "      <th>21</th>\n",
              "      <td>0.047619</td>\n",
              "      <td>0.24</td>\n",
              "      <td>0.266667</td>\n",
              "      <td>0.111111</td>\n",
              "      <td>0.231707</td>\n",
              "      <td>0.085714</td>\n",
              "      <td>0.000000</td>\n",
              "      <td>0.338521</td>\n",
              "      <td>0.378641</td>\n",
              "    </tr>\n",
              "    <tr>\n",
              "      <th>22</th>\n",
              "      <td>0.380952</td>\n",
              "      <td>0.80</td>\n",
              "      <td>0.266667</td>\n",
              "      <td>0.666667</td>\n",
              "      <td>0.573171</td>\n",
              "      <td>0.285714</td>\n",
              "      <td>0.333333</td>\n",
              "      <td>0.599222</td>\n",
              "      <td>0.572816</td>\n",
              "    </tr>\n",
              "    <tr>\n",
              "      <th>23</th>\n",
              "      <td>0.380952</td>\n",
              "      <td>0.56</td>\n",
              "      <td>0.533333</td>\n",
              "      <td>0.555556</td>\n",
              "      <td>0.524390</td>\n",
              "      <td>0.342857</td>\n",
              "      <td>0.000000</td>\n",
              "      <td>0.595331</td>\n",
              "      <td>0.747573</td>\n",
              "    </tr>\n",
              "    <tr>\n",
              "      <th>24</th>\n",
              "      <td>0.523810</td>\n",
              "      <td>0.76</td>\n",
              "      <td>0.400000</td>\n",
              "      <td>0.666667</td>\n",
              "      <td>0.512195</td>\n",
              "      <td>0.371429</td>\n",
              "      <td>0.000000</td>\n",
              "      <td>0.626459</td>\n",
              "      <td>0.669903</td>\n",
              "    </tr>\n",
              "    <tr>\n",
              "      <th>25</th>\n",
              "      <td>0.666667</td>\n",
              "      <td>0.88</td>\n",
              "      <td>0.600000</td>\n",
              "      <td>0.666667</td>\n",
              "      <td>0.731707</td>\n",
              "      <td>0.514286</td>\n",
              "      <td>0.666667</td>\n",
              "      <td>0.832685</td>\n",
              "      <td>0.990291</td>\n",
              "    </tr>\n",
              "    <tr>\n",
              "      <th>26</th>\n",
              "      <td>0.571429</td>\n",
              "      <td>0.96</td>\n",
              "      <td>0.533333</td>\n",
              "      <td>0.888889</td>\n",
              "      <td>0.792683</td>\n",
              "      <td>0.428571</td>\n",
              "      <td>0.333333</td>\n",
              "      <td>0.797665</td>\n",
              "      <td>0.932039</td>\n",
              "    </tr>\n",
              "    <tr>\n",
              "      <th>27</th>\n",
              "      <td>0.571429</td>\n",
              "      <td>0.68</td>\n",
              "      <td>0.533333</td>\n",
              "      <td>0.888889</td>\n",
              "      <td>0.646341</td>\n",
              "      <td>0.628571</td>\n",
              "      <td>0.000000</td>\n",
              "      <td>0.696498</td>\n",
              "      <td>0.660194</td>\n",
              "    </tr>\n",
              "    <tr>\n",
              "      <th>28</th>\n",
              "      <td>0.380952</td>\n",
              "      <td>0.64</td>\n",
              "      <td>0.666667</td>\n",
              "      <td>0.444444</td>\n",
              "      <td>0.560976</td>\n",
              "      <td>0.628571</td>\n",
              "      <td>0.000000</td>\n",
              "      <td>0.642023</td>\n",
              "      <td>0.766990</td>\n",
              "    </tr>\n",
              "    <tr>\n",
              "      <th>29</th>\n",
              "      <td>0.000000</td>\n",
              "      <td>0.16</td>\n",
              "      <td>0.066667</td>\n",
              "      <td>0.000000</td>\n",
              "      <td>0.024390</td>\n",
              "      <td>0.028571</td>\n",
              "      <td>0.000000</td>\n",
              "      <td>0.081712</td>\n",
              "      <td>0.029126</td>\n",
              "    </tr>\n",
              "    <tr>\n",
              "      <th>30</th>\n",
              "      <td>0.142857</td>\n",
              "      <td>0.36</td>\n",
              "      <td>0.266667</td>\n",
              "      <td>0.222222</td>\n",
              "      <td>0.219512</td>\n",
              "      <td>0.285714</td>\n",
              "      <td>0.000000</td>\n",
              "      <td>0.354086</td>\n",
              "      <td>0.475728</td>\n",
              "    </tr>\n",
              "    <tr>\n",
              "      <th>31</th>\n",
              "      <td>0.380952</td>\n",
              "      <td>0.84</td>\n",
              "      <td>0.866667</td>\n",
              "      <td>0.666667</td>\n",
              "      <td>0.719512</td>\n",
              "      <td>0.742857</td>\n",
              "      <td>0.000000</td>\n",
              "      <td>0.747082</td>\n",
              "      <td>0.815534</td>\n",
              "    </tr>\n",
              "    <tr>\n",
              "      <th>32</th>\n",
              "      <td>0.047619</td>\n",
              "      <td>0.04</td>\n",
              "      <td>0.200000</td>\n",
              "      <td>0.111111</td>\n",
              "      <td>0.219512</td>\n",
              "      <td>0.028571</td>\n",
              "      <td>0.000000</td>\n",
              "      <td>0.214008</td>\n",
              "      <td>0.291262</td>\n",
              "    </tr>\n",
              "    <tr>\n",
              "      <th>33</th>\n",
              "      <td>0.476190</td>\n",
              "      <td>0.84</td>\n",
              "      <td>0.533333</td>\n",
              "      <td>0.777778</td>\n",
              "      <td>0.719512</td>\n",
              "      <td>0.742857</td>\n",
              "      <td>0.333333</td>\n",
              "      <td>0.793774</td>\n",
              "      <td>0.980583</td>\n",
              "    </tr>\n",
              "    <tr>\n",
              "      <th>34</th>\n",
              "      <td>0.857143</td>\n",
              "      <td>0.80</td>\n",
              "      <td>0.533333</td>\n",
              "      <td>0.888889</td>\n",
              "      <td>0.865854</td>\n",
              "      <td>0.600000</td>\n",
              "      <td>0.000000</td>\n",
              "      <td>0.922179</td>\n",
              "      <td>1.000000</td>\n",
              "    </tr>\n",
              "    <tr>\n",
              "      <th>35</th>\n",
              "      <td>0.047619</td>\n",
              "      <td>0.24</td>\n",
              "      <td>0.200000</td>\n",
              "      <td>0.111111</td>\n",
              "      <td>0.219512</td>\n",
              "      <td>0.028571</td>\n",
              "      <td>0.000000</td>\n",
              "      <td>0.315175</td>\n",
              "      <td>0.504854</td>\n",
              "    </tr>\n",
              "    <tr>\n",
              "      <th>36</th>\n",
              "      <td>0.380952</td>\n",
              "      <td>0.64</td>\n",
              "      <td>0.600000</td>\n",
              "      <td>0.555556</td>\n",
              "      <td>0.548780</td>\n",
              "      <td>0.257143</td>\n",
              "      <td>0.000000</td>\n",
              "      <td>0.591440</td>\n",
              "      <td>0.699029</td>\n",
              "    </tr>\n",
              "    <tr>\n",
              "      <th>37</th>\n",
              "      <td>0.380952</td>\n",
              "      <td>0.44</td>\n",
              "      <td>0.400000</td>\n",
              "      <td>0.777778</td>\n",
              "      <td>0.512195</td>\n",
              "      <td>0.085714</td>\n",
              "      <td>0.000000</td>\n",
              "      <td>0.560311</td>\n",
              "      <td>0.582524</td>\n",
              "    </tr>\n",
              "    <tr>\n",
              "      <th>38</th>\n",
              "      <td>0.238095</td>\n",
              "      <td>0.32</td>\n",
              "      <td>0.333333</td>\n",
              "      <td>0.333333</td>\n",
              "      <td>0.304878</td>\n",
              "      <td>0.085714</td>\n",
              "      <td>0.000000</td>\n",
              "      <td>0.459144</td>\n",
              "      <td>0.485437</td>\n",
              "    </tr>\n",
              "    <tr>\n",
              "      <th>39</th>\n",
              "      <td>0.714286</td>\n",
              "      <td>0.72</td>\n",
              "      <td>0.800000</td>\n",
              "      <td>0.888889</td>\n",
              "      <td>0.731707</td>\n",
              "      <td>0.542857</td>\n",
              "      <td>0.333333</td>\n",
              "      <td>0.859922</td>\n",
              "      <td>0.873786</td>\n",
              "    </tr>\n",
              "    <tr>\n",
              "      <th>40</th>\n",
              "      <td>0.714286</td>\n",
              "      <td>0.84</td>\n",
              "      <td>0.800000</td>\n",
              "      <td>0.888889</td>\n",
              "      <td>0.902439</td>\n",
              "      <td>0.571429</td>\n",
              "      <td>1.000000</td>\n",
              "      <td>0.894942</td>\n",
              "      <td>0.961165</td>\n",
              "    </tr>\n",
              "    <tr>\n",
              "      <th>41</th>\n",
              "      <td>0.095238</td>\n",
              "      <td>0.24</td>\n",
              "      <td>0.266667</td>\n",
              "      <td>0.333333</td>\n",
              "      <td>0.353659</td>\n",
              "      <td>0.228571</td>\n",
              "      <td>0.000000</td>\n",
              "      <td>0.377432</td>\n",
              "      <td>0.456311</td>\n",
              "    </tr>\n",
              "    <tr>\n",
              "      <th>42</th>\n",
              "      <td>0.238095</td>\n",
              "      <td>0.60</td>\n",
              "      <td>0.600000</td>\n",
              "      <td>0.555556</td>\n",
              "      <td>0.524390</td>\n",
              "      <td>0.314286</td>\n",
              "      <td>0.333333</td>\n",
              "      <td>0.575875</td>\n",
              "      <td>0.601942</td>\n",
              "    </tr>\n",
              "    <tr>\n",
              "      <th>43</th>\n",
              "      <td>0.285714</td>\n",
              "      <td>0.64</td>\n",
              "      <td>0.600000</td>\n",
              "      <td>0.333333</td>\n",
              "      <td>0.512195</td>\n",
              "      <td>0.371429</td>\n",
              "      <td>0.000000</td>\n",
              "      <td>0.568093</td>\n",
              "      <td>0.650485</td>\n",
              "    </tr>\n",
              "    <tr>\n",
              "      <th>44</th>\n",
              "      <td>0.571429</td>\n",
              "      <td>0.72</td>\n",
              "      <td>0.933333</td>\n",
              "      <td>1.000000</td>\n",
              "      <td>0.829268</td>\n",
              "      <td>0.514286</td>\n",
              "      <td>0.666667</td>\n",
              "      <td>0.902724</td>\n",
              "      <td>0.970874</td>\n",
              "    </tr>\n",
              "    <tr>\n",
              "      <th>45</th>\n",
              "      <td>1.000000</td>\n",
              "      <td>0.84</td>\n",
              "      <td>0.933333</td>\n",
              "      <td>1.000000</td>\n",
              "      <td>1.000000</td>\n",
              "      <td>1.000000</td>\n",
              "      <td>0.333333</td>\n",
              "      <td>1.000000</td>\n",
              "      <td>0.961165</td>\n",
              "    </tr>\n",
              "    <tr>\n",
              "      <th>46</th>\n",
              "      <td>0.095238</td>\n",
              "      <td>0.08</td>\n",
              "      <td>0.133333</td>\n",
              "      <td>0.000000</td>\n",
              "      <td>0.085366</td>\n",
              "      <td>0.085714</td>\n",
              "      <td>0.000000</td>\n",
              "      <td>0.217899</td>\n",
              "      <td>0.262136</td>\n",
              "    </tr>\n",
              "    <tr>\n",
              "      <th>47</th>\n",
              "      <td>0.095238</td>\n",
              "      <td>0.08</td>\n",
              "      <td>0.133333</td>\n",
              "      <td>0.222222</td>\n",
              "      <td>0.146341</td>\n",
              "      <td>0.028571</td>\n",
              "      <td>0.000000</td>\n",
              "      <td>0.264591</td>\n",
              "      <td>0.349515</td>\n",
              "    </tr>\n",
              "    <tr>\n",
              "      <th>48</th>\n",
              "      <td>0.476190</td>\n",
              "      <td>1.00</td>\n",
              "      <td>1.000000</td>\n",
              "      <td>0.888889</td>\n",
              "      <td>0.719512</td>\n",
              "      <td>0.314286</td>\n",
              "      <td>0.333333</td>\n",
              "      <td>0.785992</td>\n",
              "      <td>0.893204</td>\n",
              "    </tr>\n",
              "  </tbody>\n",
              "</table>\n",
              "</div>\n",
              "      <button class=\"colab-df-convert\" onclick=\"convertToInteractive('df-68ebba28-7baa-4315-8a78-36682e8f9d55')\"\n",
              "              title=\"Convert this dataframe to an interactive table.\"\n",
              "              style=\"display:none;\">\n",
              "        \n",
              "  <svg xmlns=\"http://www.w3.org/2000/svg\" height=\"24px\"viewBox=\"0 0 24 24\"\n",
              "       width=\"24px\">\n",
              "    <path d=\"M0 0h24v24H0V0z\" fill=\"none\"/>\n",
              "    <path d=\"M18.56 5.44l.94 2.06.94-2.06 2.06-.94-2.06-.94-.94-2.06-.94 2.06-2.06.94zm-11 1L8.5 8.5l.94-2.06 2.06-.94-2.06-.94L8.5 2.5l-.94 2.06-2.06.94zm10 10l.94 2.06.94-2.06 2.06-.94-2.06-.94-.94-2.06-.94 2.06-2.06.94z\"/><path d=\"M17.41 7.96l-1.37-1.37c-.4-.4-.92-.59-1.43-.59-.52 0-1.04.2-1.43.59L10.3 9.45l-7.72 7.72c-.78.78-.78 2.05 0 2.83L4 21.41c.39.39.9.59 1.41.59.51 0 1.02-.2 1.41-.59l7.78-7.78 2.81-2.81c.8-.78.8-2.07 0-2.86zM5.41 20L4 18.59l7.72-7.72 1.47 1.35L5.41 20z\"/>\n",
              "  </svg>\n",
              "      </button>\n",
              "      \n",
              "  <style>\n",
              "    .colab-df-container {\n",
              "      display:flex;\n",
              "      flex-wrap:wrap;\n",
              "      gap: 12px;\n",
              "    }\n",
              "\n",
              "    .colab-df-convert {\n",
              "      background-color: #E8F0FE;\n",
              "      border: none;\n",
              "      border-radius: 50%;\n",
              "      cursor: pointer;\n",
              "      display: none;\n",
              "      fill: #1967D2;\n",
              "      height: 32px;\n",
              "      padding: 0 0 0 0;\n",
              "      width: 32px;\n",
              "    }\n",
              "\n",
              "    .colab-df-convert:hover {\n",
              "      background-color: #E2EBFA;\n",
              "      box-shadow: 0px 1px 2px rgba(60, 64, 67, 0.3), 0px 1px 3px 1px rgba(60, 64, 67, 0.15);\n",
              "      fill: #174EA6;\n",
              "    }\n",
              "\n",
              "    [theme=dark] .colab-df-convert {\n",
              "      background-color: #3B4455;\n",
              "      fill: #D2E3FC;\n",
              "    }\n",
              "\n",
              "    [theme=dark] .colab-df-convert:hover {\n",
              "      background-color: #434B5C;\n",
              "      box-shadow: 0px 1px 3px 1px rgba(0, 0, 0, 0.15);\n",
              "      filter: drop-shadow(0px 1px 2px rgba(0, 0, 0, 0.3));\n",
              "      fill: #FFFFFF;\n",
              "    }\n",
              "  </style>\n",
              "\n",
              "      <script>\n",
              "        const buttonEl =\n",
              "          document.querySelector('#df-68ebba28-7baa-4315-8a78-36682e8f9d55 button.colab-df-convert');\n",
              "        buttonEl.style.display =\n",
              "          google.colab.kernel.accessAllowed ? 'block' : 'none';\n",
              "\n",
              "        async function convertToInteractive(key) {\n",
              "          const element = document.querySelector('#df-68ebba28-7baa-4315-8a78-36682e8f9d55');\n",
              "          const dataTable =\n",
              "            await google.colab.kernel.invokeFunction('convertToInteractive',\n",
              "                                                     [key], {});\n",
              "          if (!dataTable) return;\n",
              "\n",
              "          const docLinkHtml = 'Like what you see? Visit the ' +\n",
              "            '<a target=\"_blank\" href=https://colab.research.google.com/notebooks/data_table.ipynb>data table notebook</a>'\n",
              "            + ' to learn more about interactive tables.';\n",
              "          element.innerHTML = '';\n",
              "          dataTable['output_type'] = 'display_data';\n",
              "          await google.colab.output.renderOutput(dataTable, element);\n",
              "          const docLink = document.createElement('div');\n",
              "          docLink.innerHTML = docLinkHtml;\n",
              "          element.appendChild(docLink);\n",
              "        }\n",
              "      </script>\n",
              "    </div>\n",
              "  </div>\n",
              "  "
            ]
          },
          "metadata": {},
          "execution_count": 40
        }
      ]
    },
    {
      "cell_type": "code",
      "source": [
        "hierachical_clustering(\n",
        "    trait_to_tissue_count_df,\n",
        "    'Tissue-Associations-Weighted',\n",
        "    implicated_tissue_weighted_encoding)"
      ],
      "metadata": {
        "colab": {
          "base_uri": "https://localhost:8080/",
          "height": 454
        },
        "id": "u2i0ycs5eGrW",
        "outputId": "fe5a153d-4cc3-4446-bc30-3e676bb40023"
      },
      "execution_count": 41,
      "outputs": [
        {
          "output_type": "display_data",
          "data": {
            "text/plain": [
              "<Figure size 432x288 with 1 Axes>"
            ],
            "image/png": "[encoded data removed]"
          },
          "metadata": {
            "needs_background": "light"
          }
        }
      ]
    },
    {
      "cell_type": "markdown",
      "source": [
        "Actually quite different from other plots. The ADHD, eating disorder, drug dependence sub-cluster seems to be very distinct from the other group. Schizophrenia and bipolar disorder are still closely related.\n",
        "\n",
        "Although normalizing the encoded values to the ranges 0-1 somewhat accounts for varying data sizes, it may not be sufficient since more data means more potential to have tissue associations, which could lead to denser vectors for these traits which may not actually have any clinical significance."
      ],
      "metadata": {
        "id": "mtW6E3v9eRBu"
      }
    },
    {
      "cell_type": "markdown",
      "source": [
        "## Combinations of encodings & filtering?"
      ],
      "metadata": {
        "id": "XbDsc6pudR1q"
      }
    },
    {
      "cell_type": "code",
      "source": [
        "# Each encoding is a DF with traits as columns, so can just concatenate them...\n",
        "tissue_encoding = implicated_tissue_weighted_encoding(trait_to_tissue_count_df)\n",
        "gene_weighted_encoding = implicated_gene_weighted_encoding(all_df)\n",
        "both_encoding = pd.concat([tissue_encoding, gene_weighted_encoding])"
      ],
      "metadata": {
        "id": "N8ae1KghdUtk"
      },
      "execution_count": 42,
      "outputs": []
    },
    {
      "cell_type": "code",
      "source": [
        "hierachical_clustering(\n",
        "    both_encoding,\n",
        "    'Gene-weighted & tissue-weighted encoding of data',\n",
        "    lambda df: df)"
      ],
      "metadata": {
        "colab": {
          "base_uri": "https://localhost:8080/",
          "height": 454
        },
        "id": "t0J7058Ed0DL",
        "outputId": "d351143d-95f0-49b7-d34c-86ff6d79d532"
      },
      "execution_count": 43,
      "outputs": [
        {
          "output_type": "display_data",
          "data": {
            "text/plain": [
              "<Figure size 432x288 with 1 Axes>"
            ],
            "image/png": "[encoded data removed]"
          },
          "metadata": {
            "needs_background": "light"
          }
        }
      ]
    },
    {
      "cell_type": "markdown",
      "source": [
        "# Different clustering algorithm: k-means"
      ],
      "metadata": {
        "id": "CE3NKJdhea6u"
      }
    },
    {
      "cell_type": "markdown",
      "source": [
        "With k-means, the desired number of clusters must be pre-specified."
      ],
      "metadata": {
        "id": "cW0ufue1foKL"
      }
    },
    {
      "cell_type": "code",
      "source": [
        "input = implicated_gene_weighted_encoding(all_df).T\n",
        "input"
      ],
      "metadata": {
        "colab": {
          "base_uri": "https://localhost:8080/",
          "height": 563
        },
        "id": "HZ47Z4kLhg8A",
        "outputId": "847bc929-b31c-4bcc-c753-2d24060c373d"
      },
      "execution_count": 44,
      "outputs": [
        {
          "output_type": "execute_result",
          "data": {
            "text/plain": [
              "                               0         1         2    3         4    5    \\\n",
              "ADHD                      0.000000  0.000000  0.266667  0.0  0.000000  0.0   \n",
              "alzheimer disease         0.000000  0.000000  0.000000  0.0  0.000000  0.0   \n",
              "anxiety disorder          0.000000  0.000000  0.000000  0.0  0.000000  0.0   \n",
              "autism spectrum disorder  0.000000  0.000000  0.000000  0.0  0.000000  0.0   \n",
              "bipolar disorder          0.000000  0.100000  0.000000  0.4  0.000000  0.2   \n",
              "drug dependence           0.000000  0.000000  0.000000  0.0  0.000000  0.0   \n",
              "eating disorder           0.000000  0.000000  0.000000  0.0  0.000000  0.0   \n",
              "schizophrenia             0.095238  0.047619  0.047619  0.0  0.000000  0.0   \n",
              "unipolar depression       0.000000  0.000000  0.000000  0.0  0.142857  0.0   \n",
              "\n",
              "                               6         7         8         9    ...  \\\n",
              "ADHD                      0.000000  0.000000  0.000000  0.000000  ...   \n",
              "alzheimer disease         0.000000  0.000000  0.000000  0.000000  ...   \n",
              "anxiety disorder          0.000000  0.000000  0.000000  0.000000  ...   \n",
              "autism spectrum disorder  0.000000  0.000000  0.000000  0.500000  ...   \n",
              "bipolar disorder          0.100000  0.000000  0.000000  0.000000  ...   \n",
              "drug dependence           0.000000  0.000000  0.000000  0.000000  ...   \n",
              "eating disorder           0.000000  0.000000  0.000000  0.000000  ...   \n",
              "schizophrenia             0.238095  0.047619  0.380952  0.142857  ...   \n",
              "unipolar depression       0.000000  0.142857  0.000000  0.000000  ...   \n",
              "\n",
              "                               976       977       978       979   980   981  \\\n",
              "ADHD                      0.000000  0.000000  0.000000  0.000000  0.00  0.00   \n",
              "alzheimer disease         0.142857  0.857143  0.238095  0.000000  0.00  0.00   \n",
              "anxiety disorder          0.000000  0.000000  0.000000  0.250000  0.00  0.00   \n",
              "autism spectrum disorder  0.000000  0.000000  0.000000  0.000000  0.75  0.25   \n",
              "bipolar disorder          0.000000  0.000000  0.000000  0.000000  0.40  0.10   \n",
              "drug dependence           0.000000  0.000000  0.000000  0.000000  0.00  0.00   \n",
              "eating disorder           0.000000  0.000000  0.000000  0.000000  0.50  0.00   \n",
              "schizophrenia             0.000000  0.000000  0.000000  0.000000  0.00  0.00   \n",
              "unipolar depression       0.000000  0.000000  0.000000  0.214286  0.00  0.00   \n",
              "\n",
              "                               982       983       984      985  \n",
              "ADHD                      0.000000  0.000000  0.000000  0.00000  \n",
              "alzheimer disease         0.000000  0.000000  0.000000  0.52381  \n",
              "anxiety disorder          0.000000  0.000000  0.000000  0.00000  \n",
              "autism spectrum disorder  0.000000  0.000000  0.000000  0.00000  \n",
              "bipolar disorder          0.000000  0.100000  0.000000  0.00000  \n",
              "drug dependence           0.000000  0.000000  0.000000  0.00000  \n",
              "eating disorder           0.000000  0.000000  0.000000  0.00000  \n",
              "schizophrenia             0.047619  0.047619  0.095238  0.00000  \n",
              "unipolar depression       0.071429  0.000000  0.000000  0.00000  \n",
              "\n",
              "[9 rows x 986 columns]"
            ],
            "text/html": [
              "\n",
              "  <div id=\"df-fe7e59f6-8ce0-4eed-9c34-6dbc5e88767d\">\n",
              "    <div class=\"colab-df-container\">\n",
              "      <div>\n",
              "<style scoped>\n",
              "    .dataframe tbody tr th:only-of-type {\n",
              "        vertical-align: middle;\n",
              "    }\n",
              "\n",
              "    .dataframe tbody tr th {\n",
              "        vertical-align: top;\n",
              "    }\n",
              "\n",
              "    .dataframe thead th {\n",
              "        text-align: right;\n",
              "    }\n",
              "</style>\n",
              "<table border=\"1\" class=\"dataframe\">\n",
              "  <thead>\n",
              "    <tr style=\"text-align: right;\">\n",
              "      <th></th>\n",
              "      <th>0</th>\n",
              "      <th>1</th>\n",
              "      <th>2</th>\n",
              "      <th>3</th>\n",
              "      <th>4</th>\n",
              "      <th>5</th>\n",
              "      <th>6</th>\n",
              "      <th>7</th>\n",
              "      <th>8</th>\n",
              "      <th>9</th>\n",
              "      <th>...</th>\n",
              "      <th>976</th>\n",
              "      <th>977</th>\n",
              "      <th>978</th>\n",
              "      <th>979</th>\n",
              "      <th>980</th>\n",
              "      <th>981</th>\n",
              "      <th>982</th>\n",
              "      <th>983</th>\n",
              "      <th>984</th>\n",
              "      <th>985</th>\n",
              "    </tr>\n",
              "  </thead>\n",
              "  <tbody>\n",
              "    <tr>\n",
              "      <th>ADHD</th>\n",
              "      <td>0.000000</td>\n",
              "      <td>0.000000</td>\n",
              "      <td>0.266667</td>\n",
              "      <td>0.0</td>\n",
              "      <td>0.000000</td>\n",
              "      <td>0.0</td>\n",
              "      <td>0.000000</td>\n",
              "      <td>0.000000</td>\n",
              "      <td>0.000000</td>\n",
              "      <td>0.000000</td>\n",
              "      <td>...</td>\n",
              "      <td>0.000000</td>\n",
              "      <td>0.000000</td>\n",
              "      <td>0.000000</td>\n",
              "      <td>0.000000</td>\n",
              "      <td>0.00</td>\n",
              "      <td>0.00</td>\n",
              "      <td>0.000000</td>\n",
              "      <td>0.000000</td>\n",
              "      <td>0.000000</td>\n",
              "      <td>0.00000</td>\n",
              "    </tr>\n",
              "    <tr>\n",
              "      <th>alzheimer disease</th>\n",
              "      <td>0.000000</td>\n",
              "      <td>0.000000</td>\n",
              "      <td>0.000000</td>\n",
              "      <td>0.0</td>\n",
              "      <td>0.000000</td>\n",
              "      <td>0.0</td>\n",
              "      <td>0.000000</td>\n",
              "      <td>0.000000</td>\n",
              "      <td>0.000000</td>\n",
              "      <td>0.000000</td>\n",
              "      <td>...</td>\n",
              "      <td>0.142857</td>\n",
              "      <td>0.857143</td>\n",
              "      <td>0.238095</td>\n",
              "      <td>0.000000</td>\n",
              "      <td>0.00</td>\n",
              "      <td>0.00</td>\n",
              "      <td>0.000000</td>\n",
              "      <td>0.000000</td>\n",
              "      <td>0.000000</td>\n",
              "      <td>0.52381</td>\n",
              "    </tr>\n",
              "    <tr>\n",
              "      <th>anxiety disorder</th>\n",
              "      <td>0.000000</td>\n",
              "      <td>0.000000</td>\n",
              "      <td>0.000000</td>\n",
              "      <td>0.0</td>\n",
              "      <td>0.000000</td>\n",
              "      <td>0.0</td>\n",
              "      <td>0.000000</td>\n",
              "      <td>0.000000</td>\n",
              "      <td>0.000000</td>\n",
              "      <td>0.000000</td>\n",
              "      <td>...</td>\n",
              "      <td>0.000000</td>\n",
              "      <td>0.000000</td>\n",
              "      <td>0.000000</td>\n",
              "      <td>0.250000</td>\n",
              "      <td>0.00</td>\n",
              "      <td>0.00</td>\n",
              "      <td>0.000000</td>\n",
              "      <td>0.000000</td>\n",
              "      <td>0.000000</td>\n",
              "      <td>0.00000</td>\n",
              "    </tr>\n",
              "    <tr>\n",
              "      <th>autism spectrum disorder</th>\n",
              "      <td>0.000000</td>\n",
              "      <td>0.000000</td>\n",
              "      <td>0.000000</td>\n",
              "      <td>0.0</td>\n",
              "      <td>0.000000</td>\n",
              "      <td>0.0</td>\n",
              "      <td>0.000000</td>\n",
              "      <td>0.000000</td>\n",
              "      <td>0.000000</td>\n",
              "      <td>0.500000</td>\n",
              "      <td>...</td>\n",
              "      <td>0.000000</td>\n",
              "      <td>0.000000</td>\n",
              "      <td>0.000000</td>\n",
              "      <td>0.000000</td>\n",
              "      <td>0.75</td>\n",
              "      <td>0.25</td>\n",
              "      <td>0.000000</td>\n",
              "      <td>0.000000</td>\n",
              "      <td>0.000000</td>\n",
              "      <td>0.00000</td>\n",
              "    </tr>\n",
              "    <tr>\n",
              "      <th>bipolar disorder</th>\n",
              "      <td>0.000000</td>\n",
              "      <td>0.100000</td>\n",
              "      <td>0.000000</td>\n",
              "      <td>0.4</td>\n",
              "      <td>0.000000</td>\n",
              "      <td>0.2</td>\n",
              "      <td>0.100000</td>\n",
              "      <td>0.000000</td>\n",
              "      <td>0.000000</td>\n",
              "      <td>0.000000</td>\n",
              "      <td>...</td>\n",
              "      <td>0.000000</td>\n",
              "      <td>0.000000</td>\n",
              "      <td>0.000000</td>\n",
              "      <td>0.000000</td>\n",
              "      <td>0.40</td>\n",
              "      <td>0.10</td>\n",
              "      <td>0.000000</td>\n",
              "      <td>0.100000</td>\n",
              "      <td>0.000000</td>\n",
              "      <td>0.00000</td>\n",
              "    </tr>\n",
              "    <tr>\n",
              "      <th>drug dependence</th>\n",
              "      <td>0.000000</td>\n",
              "      <td>0.000000</td>\n",
              "      <td>0.000000</td>\n",
              "      <td>0.0</td>\n",
              "      <td>0.000000</td>\n",
              "      <td>0.0</td>\n",
              "      <td>0.000000</td>\n",
              "      <td>0.000000</td>\n",
              "      <td>0.000000</td>\n",
              "      <td>0.000000</td>\n",
              "      <td>...</td>\n",
              "      <td>0.000000</td>\n",
              "      <td>0.000000</td>\n",
              "      <td>0.000000</td>\n",
              "      <td>0.000000</td>\n",
              "      <td>0.00</td>\n",
              "      <td>0.00</td>\n",
              "      <td>0.000000</td>\n",
              "      <td>0.000000</td>\n",
              "      <td>0.000000</td>\n",
              "      <td>0.00000</td>\n",
              "    </tr>\n",
              "    <tr>\n",
              "      <th>eating disorder</th>\n",
              "      <td>0.000000</td>\n",
              "      <td>0.000000</td>\n",
              "      <td>0.000000</td>\n",
              "      <td>0.0</td>\n",
              "      <td>0.000000</td>\n",
              "      <td>0.0</td>\n",
              "      <td>0.000000</td>\n",
              "      <td>0.000000</td>\n",
              "      <td>0.000000</td>\n",
              "      <td>0.000000</td>\n",
              "      <td>...</td>\n",
              "      <td>0.000000</td>\n",
              "      <td>0.000000</td>\n",
              "      <td>0.000000</td>\n",
              "      <td>0.000000</td>\n",
              "      <td>0.50</td>\n",
              "      <td>0.00</td>\n",
              "      <td>0.000000</td>\n",
              "      <td>0.000000</td>\n",
              "      <td>0.000000</td>\n",
              "      <td>0.00000</td>\n",
              "    </tr>\n",
              "    <tr>\n",
              "      <th>schizophrenia</th>\n",
              "      <td>0.095238</td>\n",
              "      <td>0.047619</td>\n",
              "      <td>0.047619</td>\n",
              "      <td>0.0</td>\n",
              "      <td>0.000000</td>\n",
              "      <td>0.0</td>\n",
              "      <td>0.238095</td>\n",
              "      <td>0.047619</td>\n",
              "      <td>0.380952</td>\n",
              "      <td>0.142857</td>\n",
              "      <td>...</td>\n",
              "      <td>0.000000</td>\n",
              "      <td>0.000000</td>\n",
              "      <td>0.000000</td>\n",
              "      <td>0.000000</td>\n",
              "      <td>0.00</td>\n",
              "      <td>0.00</td>\n",
              "      <td>0.047619</td>\n",
              "      <td>0.047619</td>\n",
              "      <td>0.095238</td>\n",
              "      <td>0.00000</td>\n",
              "    </tr>\n",
              "    <tr>\n",
              "      <th>unipolar depression</th>\n",
              "      <td>0.000000</td>\n",
              "      <td>0.000000</td>\n",
              "      <td>0.000000</td>\n",
              "      <td>0.0</td>\n",
              "      <td>0.142857</td>\n",
              "      <td>0.0</td>\n",
              "      <td>0.000000</td>\n",
              "      <td>0.142857</td>\n",
              "      <td>0.000000</td>\n",
              "      <td>0.000000</td>\n",
              "      <td>...</td>\n",
              "      <td>0.000000</td>\n",
              "      <td>0.000000</td>\n",
              "      <td>0.000000</td>\n",
              "      <td>0.214286</td>\n",
              "      <td>0.00</td>\n",
              "      <td>0.00</td>\n",
              "      <td>0.071429</td>\n",
              "      <td>0.000000</td>\n",
              "      <td>0.000000</td>\n",
              "      <td>0.00000</td>\n",
              "    </tr>\n",
              "  </tbody>\n",
              "</table>\n",
              "<p>9 rows × 986 columns</p>\n",
              "</div>\n",
              "      <button class=\"colab-df-convert\" onclick=\"convertToInteractive('df-fe7e59f6-8ce0-4eed-9c34-6dbc5e88767d')\"\n",
              "              title=\"Convert this dataframe to an interactive table.\"\n",
              "              style=\"display:none;\">\n",
              "        \n",
              "  <svg xmlns=\"http://www.w3.org/2000/svg\" height=\"24px\"viewBox=\"0 0 24 24\"\n",
              "       width=\"24px\">\n",
              "    <path d=\"M0 0h24v24H0V0z\" fill=\"none\"/>\n",
              "    <path d=\"M18.56 5.44l.94 2.06.94-2.06 2.06-.94-2.06-.94-.94-2.06-.94 2.06-2.06.94zm-11 1L8.5 8.5l.94-2.06 2.06-.94-2.06-.94L8.5 2.5l-.94 2.06-2.06.94zm10 10l.94 2.06.94-2.06 2.06-.94-2.06-.94-.94-2.06-.94 2.06-2.06.94z\"/><path d=\"M17.41 7.96l-1.37-1.37c-.4-.4-.92-.59-1.43-.59-.52 0-1.04.2-1.43.59L10.3 9.45l-7.72 7.72c-.78.78-.78 2.05 0 2.83L4 21.41c.39.39.9.59 1.41.59.51 0 1.02-.2 1.41-.59l7.78-7.78 2.81-2.81c.8-.78.8-2.07 0-2.86zM5.41 20L4 18.59l7.72-7.72 1.47 1.35L5.41 20z\"/>\n",
              "  </svg>\n",
              "      </button>\n",
              "      \n",
              "  <style>\n",
              "    .colab-df-container {\n",
              "      display:flex;\n",
              "      flex-wrap:wrap;\n",
              "      gap: 12px;\n",
              "    }\n",
              "\n",
              "    .colab-df-convert {\n",
              "      background-color: #E8F0FE;\n",
              "      border: none;\n",
              "      border-radius: 50%;\n",
              "      cursor: pointer;\n",
              "      display: none;\n",
              "      fill: #1967D2;\n",
              "      height: 32px;\n",
              "      padding: 0 0 0 0;\n",
              "      width: 32px;\n",
              "    }\n",
              "\n",
              "    .colab-df-convert:hover {\n",
              "      background-color: #E2EBFA;\n",
              "      box-shadow: 0px 1px 2px rgba(60, 64, 67, 0.3), 0px 1px 3px 1px rgba(60, 64, 67, 0.15);\n",
              "      fill: #174EA6;\n",
              "    }\n",
              "\n",
              "    [theme=dark] .colab-df-convert {\n",
              "      background-color: #3B4455;\n",
              "      fill: #D2E3FC;\n",
              "    }\n",
              "\n",
              "    [theme=dark] .colab-df-convert:hover {\n",
              "      background-color: #434B5C;\n",
              "      box-shadow: 0px 1px 3px 1px rgba(0, 0, 0, 0.15);\n",
              "      filter: drop-shadow(0px 1px 2px rgba(0, 0, 0, 0.3));\n",
              "      fill: #FFFFFF;\n",
              "    }\n",
              "  </style>\n",
              "\n",
              "      <script>\n",
              "        const buttonEl =\n",
              "          document.querySelector('#df-fe7e59f6-8ce0-4eed-9c34-6dbc5e88767d button.colab-df-convert');\n",
              "        buttonEl.style.display =\n",
              "          google.colab.kernel.accessAllowed ? 'block' : 'none';\n",
              "\n",
              "        async function convertToInteractive(key) {\n",
              "          const element = document.querySelector('#df-fe7e59f6-8ce0-4eed-9c34-6dbc5e88767d');\n",
              "          const dataTable =\n",
              "            await google.colab.kernel.invokeFunction('convertToInteractive',\n",
              "                                                     [key], {});\n",
              "          if (!dataTable) return;\n",
              "\n",
              "          const docLinkHtml = 'Like what you see? Visit the ' +\n",
              "            '<a target=\"_blank\" href=https://colab.research.google.com/notebooks/data_table.ipynb>data table notebook</a>'\n",
              "            + ' to learn more about interactive tables.';\n",
              "          element.innerHTML = '';\n",
              "          dataTable['output_type'] = 'display_data';\n",
              "          await google.colab.output.renderOutput(dataTable, element);\n",
              "          const docLink = document.createElement('div');\n",
              "          docLink.innerHTML = docLinkHtml;\n",
              "          element.appendChild(docLink);\n",
              "        }\n",
              "      </script>\n",
              "    </div>\n",
              "  </div>\n",
              "  "
            ]
          },
          "metadata": {},
          "execution_count": 44
        }
      ]
    },
    {
      "cell_type": "code",
      "source": [
        "# 4 seems like a reasonable start as it divides the traits into 3 clusters.\n",
        "# (9 total tratis since personality & tourette are dropped).\n",
        "num_clusters = 3\n",
        "kmeans = KMeans(n_clusters=num_clusters, random_state=0).fit(input)"
      ],
      "metadata": {
        "id": "H3OYmNP5elp0"
      },
      "execution_count": 45,
      "outputs": []
    },
    {
      "cell_type": "code",
      "source": [
        "kmeans.labels_"
      ],
      "metadata": {
        "colab": {
          "base_uri": "https://localhost:8080/"
        },
        "id": "B7Qjdv7Agn-b",
        "outputId": "692f99cf-0f04-4634-ba34-2bdb3b358a37"
      },
      "execution_count": 46,
      "outputs": [
        {
          "output_type": "execute_result",
          "data": {
            "text/plain": [
              "array([1, 1, 1, 1, 0, 1, 2, 0, 1], dtype=int32)"
            ]
          },
          "metadata": {},
          "execution_count": 46
        }
      ]
    },
    {
      "cell_type": "code",
      "source": [
        "kmeans.cluster_centers_"
      ],
      "metadata": {
        "colab": {
          "base_uri": "https://localhost:8080/"
        },
        "id": "1LkD9gxSi4of",
        "outputId": "637dad2a-acbe-4707-ae97-2d00e7b5daa2"
      },
      "execution_count": 47,
      "outputs": [
        {
          "output_type": "execute_result",
          "data": {
            "text/plain": [
              "array([[0.04761905, 0.07380952, 0.02380952, ..., 0.07380952, 0.04761905,\n",
              "        0.        ],\n",
              "       [0.        , 0.        , 0.04444444, ..., 0.        , 0.        ,\n",
              "        0.08730159],\n",
              "       [0.        , 0.        , 0.        , ..., 0.        , 0.        ,\n",
              "        0.        ]])"
            ]
          },
          "metadata": {},
          "execution_count": 47
        }
      ]
    },
    {
      "cell_type": "code",
      "source": [
        "trait_order = input.index.tolist()\n",
        "trait_order"
      ],
      "metadata": {
        "colab": {
          "base_uri": "https://localhost:8080/"
        },
        "id": "UTFCr5kBhmdV",
        "outputId": "ad29f374-b4f4-428d-fa69-144df95ef727"
      },
      "execution_count": 48,
      "outputs": [
        {
          "output_type": "execute_result",
          "data": {
            "text/plain": [
              "['ADHD',\n",
              " 'alzheimer disease',\n",
              " 'anxiety disorder',\n",
              " 'autism spectrum disorder',\n",
              " 'bipolar disorder',\n",
              " 'drug dependence',\n",
              " 'eating disorder',\n",
              " 'schizophrenia',\n",
              " 'unipolar depression']"
            ]
          },
          "metadata": {},
          "execution_count": 48
        }
      ]
    },
    {
      "cell_type": "code",
      "source": [
        "for idx in range(len(trait_order)):\n",
        "  print(f'{trait_order[idx]}: cluster {kmeans.labels_[idx] + 1}')"
      ],
      "metadata": {
        "colab": {
          "base_uri": "https://localhost:8080/"
        },
        "id": "WcC-ycmmhtc6",
        "outputId": "b3bf97d7-9456-4df5-aa00-c6c514f98972"
      },
      "execution_count": 49,
      "outputs": [
        {
          "output_type": "stream",
          "name": "stdout",
          "text": [
            "ADHD: cluster 2\n",
            "alzheimer disease: cluster 2\n",
            "anxiety disorder: cluster 2\n",
            "autism spectrum disorder: cluster 2\n",
            "bipolar disorder: cluster 1\n",
            "drug dependence: cluster 2\n",
            "eating disorder: cluster 3\n",
            "schizophrenia: cluster 1\n",
            "unipolar depression: cluster 2\n"
          ]
        }
      ]
    },
    {
      "cell_type": "code",
      "source": [
        "NUM_COMPONENTS = 3\n",
        "PCA_DF_COLUMNS = [f'PC{i}' for i in range(1, NUM_COMPONENTS + 1)]\n",
        "COLORS = ['gold', 'red', 'forestgreen', 'royalblue', 'magenta', 'pink',\n",
        "          'darkorange', 'turquoise', 'gray', 'rosybrown', 'navy']\n",
        "\n",
        "\n",
        "def abbreviate_trait(trait: str) -> str:\n",
        "  \"\"\"Hacky, but gets the job done for abbreviating legend labels.\"\"\"\n",
        "  if trait == 'ADHD':\n",
        "    return trait\n",
        "  if trait == 'anxiety disorder':\n",
        "    return 'AnxD'\n",
        "  if trait == 'alzheimer disease':\n",
        "    return 'AlzD'\n",
        "  if \" \" not in trait:\n",
        "    return trait.upper()[0]\n",
        "  words = trait.split(\" \")\n",
        "  return \"\".join([word.upper()[0] for word in words])\n",
        "\n",
        "\n",
        "def get_pca_and_components(matrix_data):\n",
        "  \"\"\"Returns tuple of the PCA object and DF of components.\"\"\"\n",
        "  scaled_matrix_data = StandardScaler().fit_transform(matrix_data)\n",
        "\n",
        "  pca = PCA(n_components=NUM_COMPONENTS)\n",
        "\n",
        "  components = pca.fit_transform(scaled_matrix_data)\n",
        "  components_df = pd.DataFrame(data=components, columns=PCA_DF_COLUMNS)\n",
        "  \n",
        "  return (pca, components_df)\n",
        "\n",
        "\n",
        "def get_legend_labels(traits: List[str], cluster_labels, n_clusters: int) -> Dict[int, str]:\n",
        "  cluster_to_name_list = {i + 1: [] for i in range(n_clusters)}\n",
        "  for idx in range(len(traits)):\n",
        "    trait = traits[idx]\n",
        "    cluster = cluster_labels[idx] + 1\n",
        "    cluster_to_name_list[cluster].append(abbreviate_trait(trait))\n",
        "\n",
        "  cluster_to_name = {k: \",\".join(v) for k, v in cluster_to_name_list.items()}\n",
        "  return cluster_to_name\n",
        "\n",
        "\n",
        "def kmeans_top_two_pcs_scatter_plot(components_df: pd.DataFrame, \n",
        "                             traits: List[str], \n",
        "                             cluster_labels: np.ndarray, \n",
        "                             n_clusters: int,\n",
        "                             extra_title=None) -> None:\n",
        "  \"\"\"Plots top 2 PCs in scatter plot, using X for cluster centers.\n",
        "  Points belonging to different clusters are colored accordingly.\"\"\"\n",
        "  cluster_to_name = get_legend_labels(traits, cluster_labels, n_clusters)\n",
        "\n",
        "  fig, ax = plt.subplots(figsize=(12, 8))\n",
        "  title = f'K-Means clustering; {n_clusters} clusters; data reduced to 2D'\n",
        "  if extra_title is not None:\n",
        "    title = f'{title}; {extra_title}'\n",
        "  ax.set(title=title)\n",
        "  num_rows = len(components_df)\n",
        "  cluster_to_color = {i: COLORS[i] for i in range(n_clusters)}\n",
        "  labeled = set()\n",
        "  for idx in range(num_rows):\n",
        "    if idx >= len(trait_order):\n",
        "      ax.scatter(components_df.iloc[idx]['PC1'],\n",
        "                components_df.iloc[idx]['PC2'],\n",
        "                c='black',\n",
        "                marker='x')\n",
        "    else:\n",
        "      label = cluster_to_name[cluster_labels[idx] + 1]\n",
        "      if label in labeled:\n",
        "        ax.scatter(components_df.iloc[idx]['PC1'],\n",
        "                 components_df.iloc[idx]['PC2'],\n",
        "                 c=cluster_to_color[cluster_labels[idx]],\n",
        "                 marker='o')\n",
        "      else:\n",
        "        labeled.add(label)\n",
        "        ax.scatter(components_df.iloc[idx]['PC1'],\n",
        "                 components_df.iloc[idx]['PC2'],\n",
        "                 c=cluster_to_color[cluster_labels[idx]],\n",
        "                 marker='o',\n",
        "                 label=label)\n",
        "      \n",
        "  plt.legend(loc='upper right')\n",
        "  plt.show()\n",
        "  plt.clf()\n",
        "\n",
        "\n",
        "# Concat encoded input data and kmeans cluster centers (each have same x-dim).\n",
        "input_and_centers_data_matrix = np.concatenate(\n",
        "    (input.values, kmeans.cluster_centers_), \n",
        "    axis=0)\n",
        "\n",
        "# PCA to reduce 986 dimensions to 2 for visualizing.\n",
        "pca, component_df = get_pca_and_components(\n",
        "    input_and_centers_data_matrix)\n",
        "\n",
        "# Plot, coloring the centers distinctly.\n",
        "kmeans_top_two_pcs_scatter_plot(component_df, \n",
        "                         trait_order, \n",
        "                         kmeans.labels_, \n",
        "                         num_clusters,\n",
        "                         extra_title='Implicated-gene encoding')"
      ],
      "metadata": {
        "colab": {
          "base_uri": "https://localhost:8080/",
          "height": 517
        },
        "id": "0ACAYnvDi_20",
        "outputId": "d695eb71-639b-4bea-cc19-370c2d244871"
      },
      "execution_count": 50,
      "outputs": [
        {
          "output_type": "display_data",
          "data": {
            "text/plain": [
              "<Figure size 864x576 with 1 Axes>"
            ],
            "image/png": "[encoded data removed]"
          },
          "metadata": {
            "needs_background": "light"
          }
        },
        {
          "output_type": "display_data",
          "data": {
            "text/plain": [
              "<Figure size 432x288 with 0 Axes>"
            ]
          },
          "metadata": {}
        }
      ]
    },
    {
      "cell_type": "markdown",
      "source": [
        "Even using a different algorithm, there are similar outcomes:\n",
        "*   Schizophrenia and bipolar disorder are still together\n",
        "*   Eating disorder is by itself\n",
        "*   The rest are together.\n",
        "\n",
        "Let's try upping num clusters to see if there are differences in 'the rest' / cluster 2"
      ],
      "metadata": {
        "id": "WMO2LiUfiD3r"
      }
    },
    {
      "cell_type": "code",
      "source": [
        "# First make a re-usable function\n",
        "def kmeans_cluster_and_pca_plot(in_df: pd.DataFrame, n_clusters: int, extra_title=None) -> None:\n",
        "  kmeans = KMeans(n_clusters=n_clusters, random_state=0).fit(in_df)\n",
        "  # Concat encoded input data and kmeans cluster centers (each have same x-dim).\n",
        "  input_and_centers_data_matrix = np.concatenate(\n",
        "      (in_df.values, kmeans.cluster_centers_), \n",
        "      axis=0)\n",
        "\n",
        "  # PCA to reduce 986 dimensions to 2 for visualizing.\n",
        "  pca, component_df = get_pca_and_components(\n",
        "      input_and_centers_data_matrix)\n",
        "\n",
        "  # Plot, coloring the centers distinctly.\n",
        "  kmeans_top_two_pcs_scatter_plot(component_df, \n",
        "                           in_df.index.tolist(), \n",
        "                           kmeans.labels_, \n",
        "                           n_clusters,\n",
        "                           extra_title=extra_title)\n",
        "  \n",
        "\n",
        "# Test, should equal above plot\n",
        "kmeans_cluster_and_pca_plot(input, num_clusters, extra_title='test')"
      ],
      "metadata": {
        "colab": {
          "base_uri": "https://localhost:8080/",
          "height": 517
        },
        "id": "whAUR6NuiCnH",
        "outputId": "a540fa83-68aa-4f47-d16c-16fca8422ce3"
      },
      "execution_count": 51,
      "outputs": [
        {
          "output_type": "display_data",
          "data": {
            "text/plain": [
              "<Figure size 864x576 with 1 Axes>"
            ],
            "image/png": "[encoded data removed]"
          },
          "metadata": {
            "needs_background": "light"
          }
        },
        {
          "output_type": "display_data",
          "data": {
            "text/plain": [
              "<Figure size 432x288 with 0 Axes>"
            ]
          },
          "metadata": {}
        }
      ]
    },
    {
      "cell_type": "code",
      "source": [
        "# Up num_clusters\n",
        "num_clusters = 4\n",
        "kmeans_cluster_and_pca_plot(input, num_clusters, extra_title='Implicated-gene encoding')"
      ],
      "metadata": {
        "colab": {
          "base_uri": "https://localhost:8080/",
          "height": 517
        },
        "id": "G6ktG2m0vSqi",
        "outputId": "dcc78362-20a2-46f7-eaec-1a02494da077"
      },
      "execution_count": 52,
      "outputs": [
        {
          "output_type": "display_data",
          "data": {
            "text/plain": [
              "<Figure size 864x576 with 1 Axes>"
            ],
            "image/png": "[encoded data removed]"
          },
          "metadata": {
            "needs_background": "light"
          }
        },
        {
          "output_type": "display_data",
          "data": {
            "text/plain": [
              "<Figure size 432x288 with 0 Axes>"
            ]
          },
          "metadata": {}
        }
      ]
    },
    {
      "cell_type": "code",
      "source": [
        "# One more time\n",
        "num_clusters = 5\n",
        "kmeans_cluster_and_pca_plot(input, num_clusters, extra_title='Implicated-gene encoding')"
      ],
      "metadata": {
        "colab": {
          "base_uri": "https://localhost:8080/",
          "height": 517
        },
        "id": "LKhGnAGjvcsQ",
        "outputId": "eca1d0e3-8e43-4f6d-d248-a7e3a0ca6f03"
      },
      "execution_count": 53,
      "outputs": [
        {
          "output_type": "display_data",
          "data": {
            "text/plain": [
              "<Figure size 864x576 with 1 Axes>"
            ],
            "image/png": "[encoded data removed]"
          },
          "metadata": {
            "needs_background": "light"
          }
        },
        {
          "output_type": "display_data",
          "data": {
            "text/plain": [
              "<Figure size 432x288 with 0 Axes>"
            ]
          },
          "metadata": {}
        }
      ]
    },
    {
      "cell_type": "markdown",
      "source": [
        "It seems to still be skewed by traits with more data. Try some filtering..."
      ],
      "metadata": {
        "id": "9ZKkOGW11Wi5"
      }
    },
    {
      "cell_type": "code",
      "source": [
        "input = implicated_gene_weighted_encoding(data_with_tissues_df).T\n",
        "num_clusters = 4\n",
        "kmeans_cluster_and_pca_plot(\n",
        "    input, \n",
        "    num_clusters, \n",
        "    extra_title='Implicated-Gene-Weighted; Variants associated with tissues')"
      ],
      "metadata": {
        "colab": {
          "base_uri": "https://localhost:8080/",
          "height": 517
        },
        "id": "PJtNOOgc1bRV",
        "outputId": "272f57bf-e291-4847-b47d-1704c10cb957"
      },
      "execution_count": 60,
      "outputs": [
        {
          "output_type": "display_data",
          "data": {
            "text/plain": [
              "<Figure size 864x576 with 1 Axes>"
            ],
            "image/png": "[encoded data removed]"
          },
          "metadata": {
            "needs_background": "light"
          }
        },
        {
          "output_type": "display_data",
          "data": {
            "text/plain": [
              "<Figure size 432x288 with 0 Axes>"
            ]
          },
          "metadata": {}
        }
      ]
    },
    {
      "cell_type": "markdown",
      "source": [
        "Not especially skewed by trait data size, but schizophrenia is still very distinct. Blue and yellow clusters are quite close."
      ],
      "metadata": {
        "id": "d4940Qln2Pj6"
      }
    },
    {
      "cell_type": "code",
      "source": [
        "input = implicated_gene_weighted_encoding(filter_to_smallest_pvalues_same_sizes(all_df)).T\n",
        "num_clusters = 4\n",
        "kmeans_cluster_and_pca_plot(\n",
        "    input, \n",
        "    num_clusters, \n",
        "    extra_title='Implicated-Gene-Weighted; Same # data points per trait (min p-value variants)')"
      ],
      "metadata": {
        "colab": {
          "base_uri": "https://localhost:8080/",
          "height": 610
        },
        "id": "x62jSOcT1765",
        "outputId": "f97c18b4-a1da-4381-a928-deb89d099725"
      },
      "execution_count": 61,
      "outputs": [
        {
          "output_type": "stream",
          "name": "stderr",
          "text": [
            "/usr/local/lib/python3.7/dist-packages/pandas/util/_decorators.py:311: SettingWithCopyWarning: \n",
            "A value is trying to be set on a copy of a slice from a DataFrame\n",
            "\n",
            "See the caveats in the documentation: https://pandas.pydata.org/pandas-docs/stable/user_guide/indexing.html#returning-a-view-versus-a-copy\n",
            "  return func(*args, **kwargs)\n"
          ]
        },
        {
          "output_type": "display_data",
          "data": {
            "text/plain": [
              "<Figure size 864x576 with 1 Axes>"
            ],
            "image/png": "[encoded data removed]"
          },
          "metadata": {
            "needs_background": "light"
          }
        },
        {
          "output_type": "display_data",
          "data": {
            "text/plain": [
              "<Figure size 432x288 with 0 Axes>"
            ]
          },
          "metadata": {}
        }
      ]
    },
    {
      "cell_type": "markdown",
      "source": [
        "Even with same # data points per trait, it seems eating disorder is still quite distinct, and for some reason anxiety disorder too."
      ],
      "metadata": {
        "id": "uoIcbtOy2Z5S"
      }
    },
    {
      "cell_type": "markdown",
      "source": [
        "## Try k-means with tissue-encodings"
      ],
      "metadata": {
        "id": "xUhuwCpxvv9g"
      }
    },
    {
      "cell_type": "code",
      "source": [
        "tissue_encoding = implicated_tissue_weighted_encoding(trait_to_tissue_count_df)\n",
        "tissue_input = tissue_encoding.T\n",
        "num_clusters = 3\n",
        "kmeans_cluster_and_pca_plot(\n",
        "    tissue_input, num_clusters, extra_title='Associated-tissue encoding')"
      ],
      "metadata": {
        "colab": {
          "base_uri": "https://localhost:8080/",
          "height": 517
        },
        "id": "1ZwWYFyevpNz",
        "outputId": "7dda5a04-f2a4-4653-9e65-2b76152e18b0"
      },
      "execution_count": 54,
      "outputs": [
        {
          "output_type": "display_data",
          "data": {
            "text/plain": [
              "<Figure size 864x576 with 1 Axes>"
            ],
            "image/png": "[encoded data removed]"
          },
          "metadata": {
            "needs_background": "light"
          }
        },
        {
          "output_type": "display_data",
          "data": {
            "text/plain": [
              "<Figure size 432x288 with 0 Axes>"
            ]
          },
          "metadata": {}
        }
      ]
    },
    {
      "cell_type": "code",
      "source": [
        "num_clusters = 4\n",
        "kmeans_cluster_and_pca_plot(\n",
        "    tissue_input, num_clusters, extra_title='Associated-tissue encoding')"
      ],
      "metadata": {
        "colab": {
          "base_uri": "https://localhost:8080/",
          "height": 517
        },
        "id": "EgyICru5w20N",
        "outputId": "4a012227-14f8-485c-d896-9f7f99c9cfeb"
      },
      "execution_count": 55,
      "outputs": [
        {
          "output_type": "display_data",
          "data": {
            "text/plain": [
              "<Figure size 864x576 with 1 Axes>"
            ],
            "image/png": "[encoded data removed]"
          },
          "metadata": {
            "needs_background": "light"
          }
        },
        {
          "output_type": "display_data",
          "data": {
            "text/plain": [
              "<Figure size 432x288 with 0 Axes>"
            ]
          },
          "metadata": {}
        }
      ]
    },
    {
      "cell_type": "markdown",
      "source": [
        "# PCA on gene & tissue-encoded matrix\n",
        "As one last experiment, simply run PCA on the concatenated gene-encoding and tissue-encoding matrix and plot top 2 to see if there are any insights from reducing dimensions."
      ],
      "metadata": {
        "id": "vi1BSHqyxivd"
      }
    },
    {
      "cell_type": "code",
      "source": [
        "both_encoding"
      ],
      "metadata": {
        "colab": {
          "base_uri": "https://localhost:8080/",
          "height": 484
        },
        "id": "UeI7ceExxySt",
        "outputId": "4ab21ccf-894a-4075-e9f1-8461f89423ad"
      },
      "execution_count": 56,
      "outputs": [
        {
          "output_type": "execute_result",
          "data": {
            "text/plain": [
              "         ADHD  alzheimer disease  anxiety disorder  autism spectrum disorder  \\\n",
              "0    0.714286            1.00000          0.466667                  0.777778   \n",
              "1    0.523810            0.52000          0.600000                  0.888889   \n",
              "2    0.238095            0.36000          0.400000                  0.444444   \n",
              "3    0.523810            0.72000          0.466667                  0.666667   \n",
              "4    0.190476            0.20000          0.266667                  0.222222   \n",
              "..        ...                ...               ...                       ...   \n",
              "981  0.000000            0.00000          0.000000                  0.250000   \n",
              "982  0.000000            0.00000          0.000000                  0.000000   \n",
              "983  0.000000            0.00000          0.000000                  0.000000   \n",
              "984  0.000000            0.00000          0.000000                  0.000000   \n",
              "985  0.000000            0.52381          0.000000                  0.000000   \n",
              "\n",
              "     bipolar disorder  drug dependence  eating disorder  schizophrenia  \\\n",
              "0            0.756098         0.600000         0.333333       0.867704   \n",
              "1            0.621951         0.285714         0.000000       0.723735   \n",
              "2            0.524390         0.114286         0.000000       0.501946   \n",
              "3            0.756098         0.485714         0.333333       0.762646   \n",
              "4            0.341463         0.228571         0.000000       0.373541   \n",
              "..                ...              ...              ...            ...   \n",
              "981          0.100000         0.000000         0.000000       0.000000   \n",
              "982          0.000000         0.000000         0.000000       0.047619   \n",
              "983          0.100000         0.000000         0.000000       0.047619   \n",
              "984          0.000000         0.000000         0.000000       0.095238   \n",
              "985          0.000000         0.000000         0.000000       0.000000   \n",
              "\n",
              "     unipolar depression  \n",
              "0               0.961165  \n",
              "1               0.825243  \n",
              "2               0.660194  \n",
              "3               0.708738  \n",
              "4               0.456311  \n",
              "..                   ...  \n",
              "981             0.000000  \n",
              "982             0.071429  \n",
              "983             0.000000  \n",
              "984             0.000000  \n",
              "985             0.000000  \n",
              "\n",
              "[1035 rows x 9 columns]"
            ],
            "text/html": [
              "\n",
              "  <div id=\"df-3767fed4-2179-4c62-bb24-e38cf3fba311\">\n",
              "    <div class=\"colab-df-container\">\n",
              "      <div>\n",
              "<style scoped>\n",
              "    .dataframe tbody tr th:only-of-type {\n",
              "        vertical-align: middle;\n",
              "    }\n",
              "\n",
              "    .dataframe tbody tr th {\n",
              "        vertical-align: top;\n",
              "    }\n",
              "\n",
              "    .dataframe thead th {\n",
              "        text-align: right;\n",
              "    }\n",
              "</style>\n",
              "<table border=\"1\" class=\"dataframe\">\n",
              "  <thead>\n",
              "    <tr style=\"text-align: right;\">\n",
              "      <th></th>\n",
              "      <th>ADHD</th>\n",
              "      <th>alzheimer disease</th>\n",
              "      <th>anxiety disorder</th>\n",
              "      <th>autism spectrum disorder</th>\n",
              "      <th>bipolar disorder</th>\n",
              "      <th>drug dependence</th>\n",
              "      <th>eating disorder</th>\n",
              "      <th>schizophrenia</th>\n",
              "      <th>unipolar depression</th>\n",
              "    </tr>\n",
              "  </thead>\n",
              "  <tbody>\n",
              "    <tr>\n",
              "      <th>0</th>\n",
              "      <td>0.714286</td>\n",
              "      <td>1.00000</td>\n",
              "      <td>0.466667</td>\n",
              "      <td>0.777778</td>\n",
              "      <td>0.756098</td>\n",
              "      <td>0.600000</td>\n",
              "      <td>0.333333</td>\n",
              "      <td>0.867704</td>\n",
              "      <td>0.961165</td>\n",
              "    </tr>\n",
              "    <tr>\n",
              "      <th>1</th>\n",
              "      <td>0.523810</td>\n",
              "      <td>0.52000</td>\n",
              "      <td>0.600000</td>\n",
              "      <td>0.888889</td>\n",
              "      <td>0.621951</td>\n",
              "      <td>0.285714</td>\n",
              "      <td>0.000000</td>\n",
              "      <td>0.723735</td>\n",
              "      <td>0.825243</td>\n",
              "    </tr>\n",
              "    <tr>\n",
              "      <th>2</th>\n",
              "      <td>0.238095</td>\n",
              "      <td>0.36000</td>\n",
              "      <td>0.400000</td>\n",
              "      <td>0.444444</td>\n",
              "      <td>0.524390</td>\n",
              "      <td>0.114286</td>\n",
              "      <td>0.000000</td>\n",
              "      <td>0.501946</td>\n",
              "      <td>0.660194</td>\n",
              "    </tr>\n",
              "    <tr>\n",
              "      <th>3</th>\n",
              "      <td>0.523810</td>\n",
              "      <td>0.72000</td>\n",
              "      <td>0.466667</td>\n",
              "      <td>0.666667</td>\n",
              "      <td>0.756098</td>\n",
              "      <td>0.485714</td>\n",
              "      <td>0.333333</td>\n",
              "      <td>0.762646</td>\n",
              "      <td>0.708738</td>\n",
              "    </tr>\n",
              "    <tr>\n",
              "      <th>4</th>\n",
              "      <td>0.190476</td>\n",
              "      <td>0.20000</td>\n",
              "      <td>0.266667</td>\n",
              "      <td>0.222222</td>\n",
              "      <td>0.341463</td>\n",
              "      <td>0.228571</td>\n",
              "      <td>0.000000</td>\n",
              "      <td>0.373541</td>\n",
              "      <td>0.456311</td>\n",
              "    </tr>\n",
              "    <tr>\n",
              "      <th>...</th>\n",
              "      <td>...</td>\n",
              "      <td>...</td>\n",
              "      <td>...</td>\n",
              "      <td>...</td>\n",
              "      <td>...</td>\n",
              "      <td>...</td>\n",
              "      <td>...</td>\n",
              "      <td>...</td>\n",
              "      <td>...</td>\n",
              "    </tr>\n",
              "    <tr>\n",
              "      <th>981</th>\n",
              "      <td>0.000000</td>\n",
              "      <td>0.00000</td>\n",
              "      <td>0.000000</td>\n",
              "      <td>0.250000</td>\n",
              "      <td>0.100000</td>\n",
              "      <td>0.000000</td>\n",
              "      <td>0.000000</td>\n",
              "      <td>0.000000</td>\n",
              "      <td>0.000000</td>\n",
              "    </tr>\n",
              "    <tr>\n",
              "      <th>982</th>\n",
              "      <td>0.000000</td>\n",
              "      <td>0.00000</td>\n",
              "      <td>0.000000</td>\n",
              "      <td>0.000000</td>\n",
              "      <td>0.000000</td>\n",
              "      <td>0.000000</td>\n",
              "      <td>0.000000</td>\n",
              "      <td>0.047619</td>\n",
              "      <td>0.071429</td>\n",
              "    </tr>\n",
              "    <tr>\n",
              "      <th>983</th>\n",
              "      <td>0.000000</td>\n",
              "      <td>0.00000</td>\n",
              "      <td>0.000000</td>\n",
              "      <td>0.000000</td>\n",
              "      <td>0.100000</td>\n",
              "      <td>0.000000</td>\n",
              "      <td>0.000000</td>\n",
              "      <td>0.047619</td>\n",
              "      <td>0.000000</td>\n",
              "    </tr>\n",
              "    <tr>\n",
              "      <th>984</th>\n",
              "      <td>0.000000</td>\n",
              "      <td>0.00000</td>\n",
              "      <td>0.000000</td>\n",
              "      <td>0.000000</td>\n",
              "      <td>0.000000</td>\n",
              "      <td>0.000000</td>\n",
              "      <td>0.000000</td>\n",
              "      <td>0.095238</td>\n",
              "      <td>0.000000</td>\n",
              "    </tr>\n",
              "    <tr>\n",
              "      <th>985</th>\n",
              "      <td>0.000000</td>\n",
              "      <td>0.52381</td>\n",
              "      <td>0.000000</td>\n",
              "      <td>0.000000</td>\n",
              "      <td>0.000000</td>\n",
              "      <td>0.000000</td>\n",
              "      <td>0.000000</td>\n",
              "      <td>0.000000</td>\n",
              "      <td>0.000000</td>\n",
              "    </tr>\n",
              "  </tbody>\n",
              "</table>\n",
              "<p>1035 rows × 9 columns</p>\n",
              "</div>\n",
              "      <button class=\"colab-df-convert\" onclick=\"convertToInteractive('df-3767fed4-2179-4c62-bb24-e38cf3fba311')\"\n",
              "              title=\"Convert this dataframe to an interactive table.\"\n",
              "              style=\"display:none;\">\n",
              "        \n",
              "  <svg xmlns=\"http://www.w3.org/2000/svg\" height=\"24px\"viewBox=\"0 0 24 24\"\n",
              "       width=\"24px\">\n",
              "    <path d=\"M0 0h24v24H0V0z\" fill=\"none\"/>\n",
              "    <path d=\"M18.56 5.44l.94 2.06.94-2.06 2.06-.94-2.06-.94-.94-2.06-.94 2.06-2.06.94zm-11 1L8.5 8.5l.94-2.06 2.06-.94-2.06-.94L8.5 2.5l-.94 2.06-2.06.94zm10 10l.94 2.06.94-2.06 2.06-.94-2.06-.94-.94-2.06-.94 2.06-2.06.94z\"/><path d=\"M17.41 7.96l-1.37-1.37c-.4-.4-.92-.59-1.43-.59-.52 0-1.04.2-1.43.59L10.3 9.45l-7.72 7.72c-.78.78-.78 2.05 0 2.83L4 21.41c.39.39.9.59 1.41.59.51 0 1.02-.2 1.41-.59l7.78-7.78 2.81-2.81c.8-.78.8-2.07 0-2.86zM5.41 20L4 18.59l7.72-7.72 1.47 1.35L5.41 20z\"/>\n",
              "  </svg>\n",
              "      </button>\n",
              "      \n",
              "  <style>\n",
              "    .colab-df-container {\n",
              "      display:flex;\n",
              "      flex-wrap:wrap;\n",
              "      gap: 12px;\n",
              "    }\n",
              "\n",
              "    .colab-df-convert {\n",
              "      background-color: #E8F0FE;\n",
              "      border: none;\n",
              "      border-radius: 50%;\n",
              "      cursor: pointer;\n",
              "      display: none;\n",
              "      fill: #1967D2;\n",
              "      height: 32px;\n",
              "      padding: 0 0 0 0;\n",
              "      width: 32px;\n",
              "    }\n",
              "\n",
              "    .colab-df-convert:hover {\n",
              "      background-color: #E2EBFA;\n",
              "      box-shadow: 0px 1px 2px rgba(60, 64, 67, 0.3), 0px 1px 3px 1px rgba(60, 64, 67, 0.15);\n",
              "      fill: #174EA6;\n",
              "    }\n",
              "\n",
              "    [theme=dark] .colab-df-convert {\n",
              "      background-color: #3B4455;\n",
              "      fill: #D2E3FC;\n",
              "    }\n",
              "\n",
              "    [theme=dark] .colab-df-convert:hover {\n",
              "      background-color: #434B5C;\n",
              "      box-shadow: 0px 1px 3px 1px rgba(0, 0, 0, 0.15);\n",
              "      filter: drop-shadow(0px 1px 2px rgba(0, 0, 0, 0.3));\n",
              "      fill: #FFFFFF;\n",
              "    }\n",
              "  </style>\n",
              "\n",
              "      <script>\n",
              "        const buttonEl =\n",
              "          document.querySelector('#df-3767fed4-2179-4c62-bb24-e38cf3fba311 button.colab-df-convert');\n",
              "        buttonEl.style.display =\n",
              "          google.colab.kernel.accessAllowed ? 'block' : 'none';\n",
              "\n",
              "        async function convertToInteractive(key) {\n",
              "          const element = document.querySelector('#df-3767fed4-2179-4c62-bb24-e38cf3fba311');\n",
              "          const dataTable =\n",
              "            await google.colab.kernel.invokeFunction('convertToInteractive',\n",
              "                                                     [key], {});\n",
              "          if (!dataTable) return;\n",
              "\n",
              "          const docLinkHtml = 'Like what you see? Visit the ' +\n",
              "            '<a target=\"_blank\" href=https://colab.research.google.com/notebooks/data_table.ipynb>data table notebook</a>'\n",
              "            + ' to learn more about interactive tables.';\n",
              "          element.innerHTML = '';\n",
              "          dataTable['output_type'] = 'display_data';\n",
              "          await google.colab.output.renderOutput(dataTable, element);\n",
              "          const docLink = document.createElement('div');\n",
              "          docLink.innerHTML = docLinkHtml;\n",
              "          element.appendChild(docLink);\n",
              "        }\n",
              "      </script>\n",
              "    </div>\n",
              "  </div>\n",
              "  "
            ]
          },
          "metadata": {},
          "execution_count": 56
        }
      ]
    },
    {
      "cell_type": "code",
      "source": [
        "def top_two_pcs_scatter_plot(components_df: pd.DataFrame,\n",
        "                             traits: List[str],\n",
        "                             extra_title=None) -> None:\n",
        "  \"\"\"Plots top 2 PCs in scatter plot.\n",
        "  Colors each point differently as each point is a distinct trait.\"\"\"\n",
        "\n",
        "  fig, ax = plt.subplots(figsize=(12, 8))\n",
        "  title = f'PCA, data reduced to 2D'\n",
        "  if extra_title is not None:\n",
        "    title = f'{title}; {extra_title}'\n",
        "  ax.set(title=title)\n",
        "  num_rows = len(components_df)\n",
        "  for idx in range(num_rows):\n",
        "      ax.scatter(components_df.iloc[idx]['PC1'],\n",
        "                components_df.iloc[idx]['PC2'],\n",
        "                c=COLORS[idx],\n",
        "                marker='o',\n",
        "                label=traits[idx])\n",
        "      \n",
        "  plt.legend(loc='upper right')\n",
        "  plt.show()\n",
        "  plt.clf()\n",
        "\n",
        "\n",
        "input_df = both_encoding.T\n",
        "pca, component_df = get_pca_and_components(input_df)\n",
        "top_two_pcs_scatter_plot(\n",
        "    component_df, \n",
        "    input_df.index.tolist(), \n",
        "    extra_title='Combined implicated-gene & tissue-association encoding')"
      ],
      "metadata": {
        "colab": {
          "base_uri": "https://localhost:8080/",
          "height": 517
        },
        "id": "OPuJegl6yxtE",
        "outputId": "a837d8cf-3a24-4393-d837-581c8ab76ed5"
      },
      "execution_count": 57,
      "outputs": [
        {
          "output_type": "display_data",
          "data": {
            "text/plain": [
              "<Figure size 864x576 with 1 Axes>"
            ],
            "image/png": "[encoded data removed]"
          },
          "metadata": {
            "needs_background": "light"
          }
        },
        {
          "output_type": "display_data",
          "data": {
            "text/plain": [
              "<Figure size 432x288 with 0 Axes>"
            ]
          },
          "metadata": {}
        }
      ]
    },
    {
      "cell_type": "markdown",
      "source": [
        "Seems to be again skewed by data size per trait."
      ],
      "metadata": {
        "id": "eLhQhjNN2uB8"
      }
    },
    {
      "cell_type": "code",
      "source": [
        "input_df = implicated_gene_weighted_encoding(\n",
        "    filter_to_smallest_pvalues_same_sizes(data_with_tissues_df)).T\n",
        "pca, component_df = get_pca_and_components(input_df)\n",
        "top_two_pcs_scatter_plot(\n",
        "    component_df, \n",
        "    input_df.index.tolist(), \n",
        "    extra_title='Implicated-gene encoding; only using data with tissue associations; filtered to lowest X p-value variants per trait')"
      ],
      "metadata": {
        "colab": {
          "base_uri": "https://localhost:8080/",
          "height": 610
        },
        "id": "K3WiBnCt2sKE",
        "outputId": "16774b2e-54ea-4723-dba9-91d3b6acc1a6"
      },
      "execution_count": 63,
      "outputs": [
        {
          "output_type": "stream",
          "name": "stderr",
          "text": [
            "/usr/local/lib/python3.7/dist-packages/pandas/util/_decorators.py:311: SettingWithCopyWarning: \n",
            "A value is trying to be set on a copy of a slice from a DataFrame\n",
            "\n",
            "See the caveats in the documentation: https://pandas.pydata.org/pandas-docs/stable/user_guide/indexing.html#returning-a-view-versus-a-copy\n",
            "  return func(*args, **kwargs)\n"
          ]
        },
        {
          "output_type": "display_data",
          "data": {
            "text/plain": [
              "<Figure size 864x576 with 1 Axes>"
            ],
            "image/png": "[encoded data removed]"
          },
          "metadata": {
            "needs_background": "light"
          }
        },
        {
          "output_type": "display_data",
          "data": {
            "text/plain": [
              "<Figure size 432x288 with 0 Axes>"
            ]
          },
          "metadata": {}
        }
      ]
    },
    {
      "cell_type": "markdown",
      "source": [
        "Interesting that all but two conditions (AnxD, ED) fall on a straight line (no Y component)."
      ],
      "metadata": {
        "id": "rEa9bRua3l6D"
      }
    }
  ]
}