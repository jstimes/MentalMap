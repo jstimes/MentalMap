{
  "nbformat": 4,
  "nbformat_minor": 0,
  "metadata": {
    "colab": {
      "name": "GWAS_encode_and_cluster.ipynb",
      "provenance": [],
      "collapsed_sections": []
    },
    "kernelspec": {
      "name": "python3",
      "display_name": "Python 3"
    },
    "language_info": {
      "name": "python"
    }
  },
  "cells": [
    {
      "cell_type": "code",
      "execution_count": 1,
      "metadata": {
        "id": "dNdiupC2U3p2"
      },
      "outputs": [],
      "source": [
        "from typing import Callable, Dict\n",
        "import pandas as pd\n",
        "import numpy as np\n",
        "from sklearn.cluster import AgglomerativeClustering\n",
        "from matplotlib import pyplot as plt\n",
        "from scipy.cluster.hierarchy import dendrogram\n",
        "import math"
      ]
    },
    {
      "cell_type": "markdown",
      "source": [
        "# GWAS summary statistic clustering\n",
        "Data will be encoded into a standardized representation and then clustered to derive potential condition associations."
      ],
      "metadata": {
        "id": "cKSJQmSWVkrj"
      }
    },
    {
      "cell_type": "markdown",
      "source": [
        "## Load & encode data"
      ],
      "metadata": {
        "id": "CBT3ft3YVtqr"
      }
    },
    {
      "cell_type": "code",
      "source": [
        "METADATA_FILE = 'gwas_trait_metadata.csv'\n",
        "CLEANED_FILE_SUFFIX = '.csv'\n",
        "UNKNOWN_GENE = \"UNKNOWN\"\n",
        "\n",
        "metadata_df = pd.read_csv(METADATA_FILE)\n",
        "all_traits = metadata_df['Trait'].tolist()\n",
        "print(all_traits)"
      ],
      "metadata": {
        "colab": {
          "base_uri": "https://localhost:8080/"
        },
        "id": "UbmMi71EOrna",
        "outputId": "6cdcfc04-ef05-4f9a-a42b-c71b80bd6d0a"
      },
      "execution_count": 2,
      "outputs": [
        {
          "output_type": "stream",
          "name": "stdout",
          "text": [
            "['attention deficit hyperactivity disorder', 'alzheimer disease', 'anxiety disorder', 'autism spectrum disorder', 'bipolar disorder', 'drug dependence', 'eating disorder', 'personality disorder', 'schizophrenia', 'tourette syndrome', 'unipolar depression']\n"
          ]
        }
      ]
    },
    {
      "cell_type": "code",
      "source": [
        "def trait_to_cleaned_filename(trait):\n",
        "    return trait.replace(\" \", \"_\") + CLEANED_FILE_SUFFIX\n",
        "\n",
        "\n",
        "def filter_unknown_genes(df):\n",
        "  return df.loc[df['gene'] != UNKNOWN_GENE]\n",
        "\n",
        "\n",
        "dfs = []\n",
        "for trait in all_traits:\n",
        "  df = pd.read_csv(trait_to_cleaned_filename(trait))\n",
        "  df = filter_unknown_genes(df)\n",
        "  if trait == 'attention deficit hyperactivity disorder':\n",
        "    trait = 'ADHD'\n",
        "  df['parent_trait'] = trait\n",
        "  dfs.append(df)"
      ],
      "metadata": {
        "id": "dbR6lSwxVjur"
      },
      "execution_count": 3,
      "outputs": []
    },
    {
      "cell_type": "markdown",
      "source": [
        "### Naive encoding\n",
        "Just use 1-hot encoding of gene implication (i.e. number all genes implicated in the given conditions from 0...N-1. Then create an N-dimensional vector for each condition where element i is 1 if the condition is associated with that gene, 0 if not).\n",
        "The hypothesis is that similar conditions have implicated gene overlap."
      ],
      "metadata": {
        "id": "omBnWT-HWl9n"
      }
    },
    {
      "cell_type": "code",
      "source": [
        "def create_gene_to_index_dict(all_data_df: pd.DataFrame) -> Dict[str, int]:\n",
        "  \"\"\"Maps gene to index such that each gene is assigned a unique index.\"\"\"\n",
        "  all_genes = set()\n",
        "  genes = all_data_df['gene'].unique()\n",
        "  [all_genes.add(gene) for gene in genes]\n",
        "\n",
        "  all_genes_list = list(all_genes)\n",
        "  num_genes = len(all_genes_list)\n",
        "  gene_to_index = {all_genes_list[i]: i for i in range(num_genes)}\n",
        "  return gene_to_index\n",
        "\n",
        "gene_to_index = create_gene_to_index_dict(pd.concat([df for df in dfs]))\n",
        "print(f\"Found {len(gene_to_index.keys())} total genes.\")"
      ],
      "metadata": {
        "colab": {
          "base_uri": "https://localhost:8080/"
        },
        "id": "1ozxS_eZWc1r",
        "outputId": "e9bdac2f-23e5-43ce-f8c4-954a54b89c17"
      },
      "execution_count": 4,
      "outputs": [
        {
          "output_type": "stream",
          "name": "stdout",
          "text": [
            "Found 3259 total genes.\n"
          ]
        }
      ]
    },
    {
      "cell_type": "code",
      "source": [
        "def encode_condition_df(df, gene_to_index):\n",
        "  num_genes = len(gene_to_index.keys())\n",
        "  vec = np.zeros(num_genes)\n",
        "  condition_genes = df['gene'].unique()\n",
        "  for gene in condition_genes:\n",
        "    gene_index = gene_to_index[gene]\n",
        "    vec[gene_index] = 1\n",
        "  return vec\n",
        "\n",
        "\n",
        "# Small test:\n",
        "apoe_index = gene_to_index['APOE']\n",
        "df = pd.DataFrame([{'variant_and_allele': 'test', 'p_value': 0.01, 'trait': 'test', 'gene': 'APOE'}])\n",
        "encoding = encode_condition_df(df, gene_to_index)\n",
        "assert encoding[apoe_index] == 1\n",
        "assert sum(encoding) == 1"
      ],
      "metadata": {
        "id": "s_sGOLbiX20d"
      },
      "execution_count": 5,
      "outputs": []
    },
    {
      "cell_type": "code",
      "source": [
        "# Encode them all!\n",
        "encodings_vertical = pd.DataFrame({df['parent_trait'].unique()[0]: encode_condition_df(df, gene_to_index) for df in dfs})\n",
        "encodings_vertical"
      ],
      "metadata": {
        "colab": {
          "base_uri": "https://localhost:8080/",
          "height": 502
        },
        "id": "37benbMMY4Kb",
        "outputId": "b3f63533-f7b5-438c-a8e9-e5a0157b7f45"
      },
      "execution_count": 6,
      "outputs": [
        {
          "output_type": "execute_result",
          "data": {
            "text/plain": [
              "      ADHD  alzheimer disease  anxiety disorder  autism spectrum disorder  \\\n",
              "0      0.0                0.0               0.0                       0.0   \n",
              "1      0.0                0.0               1.0                       0.0   \n",
              "2      0.0                0.0               0.0                       0.0   \n",
              "3      0.0                0.0               0.0                       0.0   \n",
              "4      0.0                0.0               0.0                       0.0   \n",
              "...    ...                ...               ...                       ...   \n",
              "3254   0.0                0.0               0.0                       0.0   \n",
              "3255   1.0                0.0               0.0                       0.0   \n",
              "3256   1.0                0.0               0.0                       0.0   \n",
              "3257   0.0                0.0               0.0                       0.0   \n",
              "3258   0.0                0.0               0.0                       0.0   \n",
              "\n",
              "      bipolar disorder  drug dependence  eating disorder  \\\n",
              "0                  0.0              1.0              0.0   \n",
              "1                  0.0              0.0              0.0   \n",
              "2                  0.0              0.0              0.0   \n",
              "3                  0.0              0.0              0.0   \n",
              "4                  0.0              0.0              0.0   \n",
              "...                ...              ...              ...   \n",
              "3254               0.0              0.0              0.0   \n",
              "3255               0.0              0.0              0.0   \n",
              "3256               0.0              0.0              0.0   \n",
              "3257               0.0              0.0              0.0   \n",
              "3258               0.0              0.0              0.0   \n",
              "\n",
              "      personality disorder  schizophrenia  tourette syndrome  \\\n",
              "0                      0.0            0.0                0.0   \n",
              "1                      0.0            0.0                0.0   \n",
              "2                      0.0            0.0                0.0   \n",
              "3                      0.0            1.0                0.0   \n",
              "4                      0.0            0.0                0.0   \n",
              "...                    ...            ...                ...   \n",
              "3254                   0.0            0.0                0.0   \n",
              "3255                   0.0            0.0                0.0   \n",
              "3256                   0.0            0.0                0.0   \n",
              "3257                   0.0            1.0                0.0   \n",
              "3258                   0.0            1.0                0.0   \n",
              "\n",
              "      unipolar depression  \n",
              "0                     1.0  \n",
              "1                     0.0  \n",
              "2                     1.0  \n",
              "3                     0.0  \n",
              "4                     1.0  \n",
              "...                   ...  \n",
              "3254                  1.0  \n",
              "3255                  0.0  \n",
              "3256                  0.0  \n",
              "3257                  1.0  \n",
              "3258                  0.0  \n",
              "\n",
              "[3259 rows x 11 columns]"
            ],
            "text/html": [
              "\n",
              "  <div id=\"df-a8a210b1-4a8f-4e10-ac34-947c0a7ea4b1\">\n",
              "    <div class=\"colab-df-container\">\n",
              "      <div>\n",
              "<style scoped>\n",
              "    .dataframe tbody tr th:only-of-type {\n",
              "        vertical-align: middle;\n",
              "    }\n",
              "\n",
              "    .dataframe tbody tr th {\n",
              "        vertical-align: top;\n",
              "    }\n",
              "\n",
              "    .dataframe thead th {\n",
              "        text-align: right;\n",
              "    }\n",
              "</style>\n",
              "<table border=\"1\" class=\"dataframe\">\n",
              "  <thead>\n",
              "    <tr style=\"text-align: right;\">\n",
              "      <th></th>\n",
              "      <th>ADHD</th>\n",
              "      <th>alzheimer disease</th>\n",
              "      <th>anxiety disorder</th>\n",
              "      <th>autism spectrum disorder</th>\n",
              "      <th>bipolar disorder</th>\n",
              "      <th>drug dependence</th>\n",
              "      <th>eating disorder</th>\n",
              "      <th>personality disorder</th>\n",
              "      <th>schizophrenia</th>\n",
              "      <th>tourette syndrome</th>\n",
              "      <th>unipolar depression</th>\n",
              "    </tr>\n",
              "  </thead>\n",
              "  <tbody>\n",
              "    <tr>\n",
              "      <th>0</th>\n",
              "      <td>0.0</td>\n",
              "      <td>0.0</td>\n",
              "      <td>0.0</td>\n",
              "      <td>0.0</td>\n",
              "      <td>0.0</td>\n",
              "      <td>1.0</td>\n",
              "      <td>0.0</td>\n",
              "      <td>0.0</td>\n",
              "      <td>0.0</td>\n",
              "      <td>0.0</td>\n",
              "      <td>1.0</td>\n",
              "    </tr>\n",
              "    <tr>\n",
              "      <th>1</th>\n",
              "      <td>0.0</td>\n",
              "      <td>0.0</td>\n",
              "      <td>1.0</td>\n",
              "      <td>0.0</td>\n",
              "      <td>0.0</td>\n",
              "      <td>0.0</td>\n",
              "      <td>0.0</td>\n",
              "      <td>0.0</td>\n",
              "      <td>0.0</td>\n",
              "      <td>0.0</td>\n",
              "      <td>0.0</td>\n",
              "    </tr>\n",
              "    <tr>\n",
              "      <th>2</th>\n",
              "      <td>0.0</td>\n",
              "      <td>0.0</td>\n",
              "      <td>0.0</td>\n",
              "      <td>0.0</td>\n",
              "      <td>0.0</td>\n",
              "      <td>0.0</td>\n",
              "      <td>0.0</td>\n",
              "      <td>0.0</td>\n",
              "      <td>0.0</td>\n",
              "      <td>0.0</td>\n",
              "      <td>1.0</td>\n",
              "    </tr>\n",
              "    <tr>\n",
              "      <th>3</th>\n",
              "      <td>0.0</td>\n",
              "      <td>0.0</td>\n",
              "      <td>0.0</td>\n",
              "      <td>0.0</td>\n",
              "      <td>0.0</td>\n",
              "      <td>0.0</td>\n",
              "      <td>0.0</td>\n",
              "      <td>0.0</td>\n",
              "      <td>1.0</td>\n",
              "      <td>0.0</td>\n",
              "      <td>0.0</td>\n",
              "    </tr>\n",
              "    <tr>\n",
              "      <th>4</th>\n",
              "      <td>0.0</td>\n",
              "      <td>0.0</td>\n",
              "      <td>0.0</td>\n",
              "      <td>0.0</td>\n",
              "      <td>0.0</td>\n",
              "      <td>0.0</td>\n",
              "      <td>0.0</td>\n",
              "      <td>0.0</td>\n",
              "      <td>0.0</td>\n",
              "      <td>0.0</td>\n",
              "      <td>1.0</td>\n",
              "    </tr>\n",
              "    <tr>\n",
              "      <th>...</th>\n",
              "      <td>...</td>\n",
              "      <td>...</td>\n",
              "      <td>...</td>\n",
              "      <td>...</td>\n",
              "      <td>...</td>\n",
              "      <td>...</td>\n",
              "      <td>...</td>\n",
              "      <td>...</td>\n",
              "      <td>...</td>\n",
              "      <td>...</td>\n",
              "      <td>...</td>\n",
              "    </tr>\n",
              "    <tr>\n",
              "      <th>3254</th>\n",
              "      <td>0.0</td>\n",
              "      <td>0.0</td>\n",
              "      <td>0.0</td>\n",
              "      <td>0.0</td>\n",
              "      <td>0.0</td>\n",
              "      <td>0.0</td>\n",
              "      <td>0.0</td>\n",
              "      <td>0.0</td>\n",
              "      <td>0.0</td>\n",
              "      <td>0.0</td>\n",
              "      <td>1.0</td>\n",
              "    </tr>\n",
              "    <tr>\n",
              "      <th>3255</th>\n",
              "      <td>1.0</td>\n",
              "      <td>0.0</td>\n",
              "      <td>0.0</td>\n",
              "      <td>0.0</td>\n",
              "      <td>0.0</td>\n",
              "      <td>0.0</td>\n",
              "      <td>0.0</td>\n",
              "      <td>0.0</td>\n",
              "      <td>0.0</td>\n",
              "      <td>0.0</td>\n",
              "      <td>0.0</td>\n",
              "    </tr>\n",
              "    <tr>\n",
              "      <th>3256</th>\n",
              "      <td>1.0</td>\n",
              "      <td>0.0</td>\n",
              "      <td>0.0</td>\n",
              "      <td>0.0</td>\n",
              "      <td>0.0</td>\n",
              "      <td>0.0</td>\n",
              "      <td>0.0</td>\n",
              "      <td>0.0</td>\n",
              "      <td>0.0</td>\n",
              "      <td>0.0</td>\n",
              "      <td>0.0</td>\n",
              "    </tr>\n",
              "    <tr>\n",
              "      <th>3257</th>\n",
              "      <td>0.0</td>\n",
              "      <td>0.0</td>\n",
              "      <td>0.0</td>\n",
              "      <td>0.0</td>\n",
              "      <td>0.0</td>\n",
              "      <td>0.0</td>\n",
              "      <td>0.0</td>\n",
              "      <td>0.0</td>\n",
              "      <td>1.0</td>\n",
              "      <td>0.0</td>\n",
              "      <td>1.0</td>\n",
              "    </tr>\n",
              "    <tr>\n",
              "      <th>3258</th>\n",
              "      <td>0.0</td>\n",
              "      <td>0.0</td>\n",
              "      <td>0.0</td>\n",
              "      <td>0.0</td>\n",
              "      <td>0.0</td>\n",
              "      <td>0.0</td>\n",
              "      <td>0.0</td>\n",
              "      <td>0.0</td>\n",
              "      <td>1.0</td>\n",
              "      <td>0.0</td>\n",
              "      <td>0.0</td>\n",
              "    </tr>\n",
              "  </tbody>\n",
              "</table>\n",
              "<p>3259 rows × 11 columns</p>\n",
              "</div>\n",
              "      <button class=\"colab-df-convert\" onclick=\"convertToInteractive('df-a8a210b1-4a8f-4e10-ac34-947c0a7ea4b1')\"\n",
              "              title=\"Convert this dataframe to an interactive table.\"\n",
              "              style=\"display:none;\">\n",
              "        \n",
              "  <svg xmlns=\"http://www.w3.org/2000/svg\" height=\"24px\"viewBox=\"0 0 24 24\"\n",
              "       width=\"24px\">\n",
              "    <path d=\"M0 0h24v24H0V0z\" fill=\"none\"/>\n",
              "    <path d=\"M18.56 5.44l.94 2.06.94-2.06 2.06-.94-2.06-.94-.94-2.06-.94 2.06-2.06.94zm-11 1L8.5 8.5l.94-2.06 2.06-.94-2.06-.94L8.5 2.5l-.94 2.06-2.06.94zm10 10l.94 2.06.94-2.06 2.06-.94-2.06-.94-.94-2.06-.94 2.06-2.06.94z\"/><path d=\"M17.41 7.96l-1.37-1.37c-.4-.4-.92-.59-1.43-.59-.52 0-1.04.2-1.43.59L10.3 9.45l-7.72 7.72c-.78.78-.78 2.05 0 2.83L4 21.41c.39.39.9.59 1.41.59.51 0 1.02-.2 1.41-.59l7.78-7.78 2.81-2.81c.8-.78.8-2.07 0-2.86zM5.41 20L4 18.59l7.72-7.72 1.47 1.35L5.41 20z\"/>\n",
              "  </svg>\n",
              "      </button>\n",
              "      \n",
              "  <style>\n",
              "    .colab-df-container {\n",
              "      display:flex;\n",
              "      flex-wrap:wrap;\n",
              "      gap: 12px;\n",
              "    }\n",
              "\n",
              "    .colab-df-convert {\n",
              "      background-color: #E8F0FE;\n",
              "      border: none;\n",
              "      border-radius: 50%;\n",
              "      cursor: pointer;\n",
              "      display: none;\n",
              "      fill: #1967D2;\n",
              "      height: 32px;\n",
              "      padding: 0 0 0 0;\n",
              "      width: 32px;\n",
              "    }\n",
              "\n",
              "    .colab-df-convert:hover {\n",
              "      background-color: #E2EBFA;\n",
              "      box-shadow: 0px 1px 2px rgba(60, 64, 67, 0.3), 0px 1px 3px 1px rgba(60, 64, 67, 0.15);\n",
              "      fill: #174EA6;\n",
              "    }\n",
              "\n",
              "    [theme=dark] .colab-df-convert {\n",
              "      background-color: #3B4455;\n",
              "      fill: #D2E3FC;\n",
              "    }\n",
              "\n",
              "    [theme=dark] .colab-df-convert:hover {\n",
              "      background-color: #434B5C;\n",
              "      box-shadow: 0px 1px 3px 1px rgba(0, 0, 0, 0.15);\n",
              "      filter: drop-shadow(0px 1px 2px rgba(0, 0, 0, 0.3));\n",
              "      fill: #FFFFFF;\n",
              "    }\n",
              "  </style>\n",
              "\n",
              "      <script>\n",
              "        const buttonEl =\n",
              "          document.querySelector('#df-a8a210b1-4a8f-4e10-ac34-947c0a7ea4b1 button.colab-df-convert');\n",
              "        buttonEl.style.display =\n",
              "          google.colab.kernel.accessAllowed ? 'block' : 'none';\n",
              "\n",
              "        async function convertToInteractive(key) {\n",
              "          const element = document.querySelector('#df-a8a210b1-4a8f-4e10-ac34-947c0a7ea4b1');\n",
              "          const dataTable =\n",
              "            await google.colab.kernel.invokeFunction('convertToInteractive',\n",
              "                                                     [key], {});\n",
              "          if (!dataTable) return;\n",
              "\n",
              "          const docLinkHtml = 'Like what you see? Visit the ' +\n",
              "            '<a target=\"_blank\" href=https://colab.research.google.com/notebooks/data_table.ipynb>data table notebook</a>'\n",
              "            + ' to learn more about interactive tables.';\n",
              "          element.innerHTML = '';\n",
              "          dataTable['output_type'] = 'display_data';\n",
              "          await google.colab.output.renderOutput(dataTable, element);\n",
              "          const docLink = document.createElement('div');\n",
              "          docLink.innerHTML = docLinkHtml;\n",
              "          element.appendChild(docLink);\n",
              "        }\n",
              "      </script>\n",
              "    </div>\n",
              "  </div>\n",
              "  "
            ]
          },
          "metadata": {},
          "execution_count": 6
        }
      ]
    },
    {
      "cell_type": "code",
      "source": [
        "# Actually needs to have vectors as rows not columns:\n",
        "encodings = encodings_vertical.T\n",
        "encodings"
      ],
      "metadata": {
        "colab": {
          "base_uri": "https://localhost:8080/",
          "height": 423
        },
        "id": "8Qu82v2PbcVE",
        "outputId": "9fbcefa0-0223-4cd1-8918-ba16a666bfa8"
      },
      "execution_count": 7,
      "outputs": [
        {
          "output_type": "execute_result",
          "data": {
            "text/plain": [
              "                          0     1     2     3     4     5     6     7     \\\n",
              "ADHD                       0.0   0.0   0.0   0.0   0.0   0.0   0.0   0.0   \n",
              "alzheimer disease          0.0   0.0   0.0   0.0   0.0   0.0   0.0   0.0   \n",
              "anxiety disorder           0.0   1.0   0.0   0.0   0.0   0.0   0.0   0.0   \n",
              "autism spectrum disorder   0.0   0.0   0.0   0.0   0.0   0.0   0.0   0.0   \n",
              "bipolar disorder           0.0   0.0   0.0   0.0   0.0   0.0   0.0   0.0   \n",
              "drug dependence            1.0   0.0   0.0   0.0   0.0   0.0   0.0   0.0   \n",
              "eating disorder            0.0   0.0   0.0   0.0   0.0   0.0   0.0   0.0   \n",
              "personality disorder       0.0   0.0   0.0   0.0   0.0   0.0   0.0   0.0   \n",
              "schizophrenia              0.0   0.0   0.0   1.0   0.0   0.0   0.0   1.0   \n",
              "tourette syndrome          0.0   0.0   0.0   0.0   0.0   0.0   0.0   0.0   \n",
              "unipolar depression        1.0   0.0   1.0   0.0   1.0   1.0   1.0   0.0   \n",
              "\n",
              "                          8     9     ...  3249  3250  3251  3252  3253  3254  \\\n",
              "ADHD                       1.0   0.0  ...   0.0   0.0   0.0   0.0   0.0   0.0   \n",
              "alzheimer disease          0.0   0.0  ...   0.0   0.0   1.0   1.0   0.0   0.0   \n",
              "anxiety disorder           0.0   0.0  ...   0.0   0.0   0.0   0.0   0.0   0.0   \n",
              "autism spectrum disorder   0.0   0.0  ...   0.0   0.0   0.0   0.0   0.0   0.0   \n",
              "bipolar disorder           0.0   0.0  ...   0.0   0.0   0.0   0.0   0.0   0.0   \n",
              "drug dependence            0.0   0.0  ...   1.0   0.0   0.0   0.0   0.0   0.0   \n",
              "eating disorder            0.0   0.0  ...   0.0   0.0   0.0   0.0   0.0   0.0   \n",
              "personality disorder       0.0   0.0  ...   0.0   0.0   0.0   0.0   0.0   0.0   \n",
              "schizophrenia              0.0   1.0  ...   0.0   1.0   0.0   0.0   1.0   0.0   \n",
              "tourette syndrome          0.0   0.0  ...   0.0   0.0   0.0   0.0   0.0   0.0   \n",
              "unipolar depression        0.0   0.0  ...   0.0   0.0   0.0   0.0   0.0   1.0   \n",
              "\n",
              "                          3255  3256  3257  3258  \n",
              "ADHD                       1.0   1.0   0.0   0.0  \n",
              "alzheimer disease          0.0   0.0   0.0   0.0  \n",
              "anxiety disorder           0.0   0.0   0.0   0.0  \n",
              "autism spectrum disorder   0.0   0.0   0.0   0.0  \n",
              "bipolar disorder           0.0   0.0   0.0   0.0  \n",
              "drug dependence            0.0   0.0   0.0   0.0  \n",
              "eating disorder            0.0   0.0   0.0   0.0  \n",
              "personality disorder       0.0   0.0   0.0   0.0  \n",
              "schizophrenia              0.0   0.0   1.0   1.0  \n",
              "tourette syndrome          0.0   0.0   0.0   0.0  \n",
              "unipolar depression        0.0   0.0   1.0   0.0  \n",
              "\n",
              "[11 rows x 3259 columns]"
            ],
            "text/html": [
              "\n",
              "  <div id=\"df-35b38072-8fda-4bd3-ad0d-0f4eba675c65\">\n",
              "    <div class=\"colab-df-container\">\n",
              "      <div>\n",
              "<style scoped>\n",
              "    .dataframe tbody tr th:only-of-type {\n",
              "        vertical-align: middle;\n",
              "    }\n",
              "\n",
              "    .dataframe tbody tr th {\n",
              "        vertical-align: top;\n",
              "    }\n",
              "\n",
              "    .dataframe thead th {\n",
              "        text-align: right;\n",
              "    }\n",
              "</style>\n",
              "<table border=\"1\" class=\"dataframe\">\n",
              "  <thead>\n",
              "    <tr style=\"text-align: right;\">\n",
              "      <th></th>\n",
              "      <th>0</th>\n",
              "      <th>1</th>\n",
              "      <th>2</th>\n",
              "      <th>3</th>\n",
              "      <th>4</th>\n",
              "      <th>5</th>\n",
              "      <th>6</th>\n",
              "      <th>7</th>\n",
              "      <th>8</th>\n",
              "      <th>9</th>\n",
              "      <th>...</th>\n",
              "      <th>3249</th>\n",
              "      <th>3250</th>\n",
              "      <th>3251</th>\n",
              "      <th>3252</th>\n",
              "      <th>3253</th>\n",
              "      <th>3254</th>\n",
              "      <th>3255</th>\n",
              "      <th>3256</th>\n",
              "      <th>3257</th>\n",
              "      <th>3258</th>\n",
              "    </tr>\n",
              "  </thead>\n",
              "  <tbody>\n",
              "    <tr>\n",
              "      <th>ADHD</th>\n",
              "      <td>0.0</td>\n",
              "      <td>0.0</td>\n",
              "      <td>0.0</td>\n",
              "      <td>0.0</td>\n",
              "      <td>0.0</td>\n",
              "      <td>0.0</td>\n",
              "      <td>0.0</td>\n",
              "      <td>0.0</td>\n",
              "      <td>1.0</td>\n",
              "      <td>0.0</td>\n",
              "      <td>...</td>\n",
              "      <td>0.0</td>\n",
              "      <td>0.0</td>\n",
              "      <td>0.0</td>\n",
              "      <td>0.0</td>\n",
              "      <td>0.0</td>\n",
              "      <td>0.0</td>\n",
              "      <td>1.0</td>\n",
              "      <td>1.0</td>\n",
              "      <td>0.0</td>\n",
              "      <td>0.0</td>\n",
              "    </tr>\n",
              "    <tr>\n",
              "      <th>alzheimer disease</th>\n",
              "      <td>0.0</td>\n",
              "      <td>0.0</td>\n",
              "      <td>0.0</td>\n",
              "      <td>0.0</td>\n",
              "      <td>0.0</td>\n",
              "      <td>0.0</td>\n",
              "      <td>0.0</td>\n",
              "      <td>0.0</td>\n",
              "      <td>0.0</td>\n",
              "      <td>0.0</td>\n",
              "      <td>...</td>\n",
              "      <td>0.0</td>\n",
              "      <td>0.0</td>\n",
              "      <td>1.0</td>\n",
              "      <td>1.0</td>\n",
              "      <td>0.0</td>\n",
              "      <td>0.0</td>\n",
              "      <td>0.0</td>\n",
              "      <td>0.0</td>\n",
              "      <td>0.0</td>\n",
              "      <td>0.0</td>\n",
              "    </tr>\n",
              "    <tr>\n",
              "      <th>anxiety disorder</th>\n",
              "      <td>0.0</td>\n",
              "      <td>1.0</td>\n",
              "      <td>0.0</td>\n",
              "      <td>0.0</td>\n",
              "      <td>0.0</td>\n",
              "      <td>0.0</td>\n",
              "      <td>0.0</td>\n",
              "      <td>0.0</td>\n",
              "      <td>0.0</td>\n",
              "      <td>0.0</td>\n",
              "      <td>...</td>\n",
              "      <td>0.0</td>\n",
              "      <td>0.0</td>\n",
              "      <td>0.0</td>\n",
              "      <td>0.0</td>\n",
              "      <td>0.0</td>\n",
              "      <td>0.0</td>\n",
              "      <td>0.0</td>\n",
              "      <td>0.0</td>\n",
              "      <td>0.0</td>\n",
              "      <td>0.0</td>\n",
              "    </tr>\n",
              "    <tr>\n",
              "      <th>autism spectrum disorder</th>\n",
              "      <td>0.0</td>\n",
              "      <td>0.0</td>\n",
              "      <td>0.0</td>\n",
              "      <td>0.0</td>\n",
              "      <td>0.0</td>\n",
              "      <td>0.0</td>\n",
              "      <td>0.0</td>\n",
              "      <td>0.0</td>\n",
              "      <td>0.0</td>\n",
              "      <td>0.0</td>\n",
              "      <td>...</td>\n",
              "      <td>0.0</td>\n",
              "      <td>0.0</td>\n",
              "      <td>0.0</td>\n",
              "      <td>0.0</td>\n",
              "      <td>0.0</td>\n",
              "      <td>0.0</td>\n",
              "      <td>0.0</td>\n",
              "      <td>0.0</td>\n",
              "      <td>0.0</td>\n",
              "      <td>0.0</td>\n",
              "    </tr>\n",
              "    <tr>\n",
              "      <th>bipolar disorder</th>\n",
              "      <td>0.0</td>\n",
              "      <td>0.0</td>\n",
              "      <td>0.0</td>\n",
              "      <td>0.0</td>\n",
              "      <td>0.0</td>\n",
              "      <td>0.0</td>\n",
              "      <td>0.0</td>\n",
              "      <td>0.0</td>\n",
              "      <td>0.0</td>\n",
              "      <td>0.0</td>\n",
              "      <td>...</td>\n",
              "      <td>0.0</td>\n",
              "      <td>0.0</td>\n",
              "      <td>0.0</td>\n",
              "      <td>0.0</td>\n",
              "      <td>0.0</td>\n",
              "      <td>0.0</td>\n",
              "      <td>0.0</td>\n",
              "      <td>0.0</td>\n",
              "      <td>0.0</td>\n",
              "      <td>0.0</td>\n",
              "    </tr>\n",
              "    <tr>\n",
              "      <th>drug dependence</th>\n",
              "      <td>1.0</td>\n",
              "      <td>0.0</td>\n",
              "      <td>0.0</td>\n",
              "      <td>0.0</td>\n",
              "      <td>0.0</td>\n",
              "      <td>0.0</td>\n",
              "      <td>0.0</td>\n",
              "      <td>0.0</td>\n",
              "      <td>0.0</td>\n",
              "      <td>0.0</td>\n",
              "      <td>...</td>\n",
              "      <td>1.0</td>\n",
              "      <td>0.0</td>\n",
              "      <td>0.0</td>\n",
              "      <td>0.0</td>\n",
              "      <td>0.0</td>\n",
              "      <td>0.0</td>\n",
              "      <td>0.0</td>\n",
              "      <td>0.0</td>\n",
              "      <td>0.0</td>\n",
              "      <td>0.0</td>\n",
              "    </tr>\n",
              "    <tr>\n",
              "      <th>eating disorder</th>\n",
              "      <td>0.0</td>\n",
              "      <td>0.0</td>\n",
              "      <td>0.0</td>\n",
              "      <td>0.0</td>\n",
              "      <td>0.0</td>\n",
              "      <td>0.0</td>\n",
              "      <td>0.0</td>\n",
              "      <td>0.0</td>\n",
              "      <td>0.0</td>\n",
              "      <td>0.0</td>\n",
              "      <td>...</td>\n",
              "      <td>0.0</td>\n",
              "      <td>0.0</td>\n",
              "      <td>0.0</td>\n",
              "      <td>0.0</td>\n",
              "      <td>0.0</td>\n",
              "      <td>0.0</td>\n",
              "      <td>0.0</td>\n",
              "      <td>0.0</td>\n",
              "      <td>0.0</td>\n",
              "      <td>0.0</td>\n",
              "    </tr>\n",
              "    <tr>\n",
              "      <th>personality disorder</th>\n",
              "      <td>0.0</td>\n",
              "      <td>0.0</td>\n",
              "      <td>0.0</td>\n",
              "      <td>0.0</td>\n",
              "      <td>0.0</td>\n",
              "      <td>0.0</td>\n",
              "      <td>0.0</td>\n",
              "      <td>0.0</td>\n",
              "      <td>0.0</td>\n",
              "      <td>0.0</td>\n",
              "      <td>...</td>\n",
              "      <td>0.0</td>\n",
              "      <td>0.0</td>\n",
              "      <td>0.0</td>\n",
              "      <td>0.0</td>\n",
              "      <td>0.0</td>\n",
              "      <td>0.0</td>\n",
              "      <td>0.0</td>\n",
              "      <td>0.0</td>\n",
              "      <td>0.0</td>\n",
              "      <td>0.0</td>\n",
              "    </tr>\n",
              "    <tr>\n",
              "      <th>schizophrenia</th>\n",
              "      <td>0.0</td>\n",
              "      <td>0.0</td>\n",
              "      <td>0.0</td>\n",
              "      <td>1.0</td>\n",
              "      <td>0.0</td>\n",
              "      <td>0.0</td>\n",
              "      <td>0.0</td>\n",
              "      <td>1.0</td>\n",
              "      <td>0.0</td>\n",
              "      <td>1.0</td>\n",
              "      <td>...</td>\n",
              "      <td>0.0</td>\n",
              "      <td>1.0</td>\n",
              "      <td>0.0</td>\n",
              "      <td>0.0</td>\n",
              "      <td>1.0</td>\n",
              "      <td>0.0</td>\n",
              "      <td>0.0</td>\n",
              "      <td>0.0</td>\n",
              "      <td>1.0</td>\n",
              "      <td>1.0</td>\n",
              "    </tr>\n",
              "    <tr>\n",
              "      <th>tourette syndrome</th>\n",
              "      <td>0.0</td>\n",
              "      <td>0.0</td>\n",
              "      <td>0.0</td>\n",
              "      <td>0.0</td>\n",
              "      <td>0.0</td>\n",
              "      <td>0.0</td>\n",
              "      <td>0.0</td>\n",
              "      <td>0.0</td>\n",
              "      <td>0.0</td>\n",
              "      <td>0.0</td>\n",
              "      <td>...</td>\n",
              "      <td>0.0</td>\n",
              "      <td>0.0</td>\n",
              "      <td>0.0</td>\n",
              "      <td>0.0</td>\n",
              "      <td>0.0</td>\n",
              "      <td>0.0</td>\n",
              "      <td>0.0</td>\n",
              "      <td>0.0</td>\n",
              "      <td>0.0</td>\n",
              "      <td>0.0</td>\n",
              "    </tr>\n",
              "    <tr>\n",
              "      <th>unipolar depression</th>\n",
              "      <td>1.0</td>\n",
              "      <td>0.0</td>\n",
              "      <td>1.0</td>\n",
              "      <td>0.0</td>\n",
              "      <td>1.0</td>\n",
              "      <td>1.0</td>\n",
              "      <td>1.0</td>\n",
              "      <td>0.0</td>\n",
              "      <td>0.0</td>\n",
              "      <td>0.0</td>\n",
              "      <td>...</td>\n",
              "      <td>0.0</td>\n",
              "      <td>0.0</td>\n",
              "      <td>0.0</td>\n",
              "      <td>0.0</td>\n",
              "      <td>0.0</td>\n",
              "      <td>1.0</td>\n",
              "      <td>0.0</td>\n",
              "      <td>0.0</td>\n",
              "      <td>1.0</td>\n",
              "      <td>0.0</td>\n",
              "    </tr>\n",
              "  </tbody>\n",
              "</table>\n",
              "<p>11 rows × 3259 columns</p>\n",
              "</div>\n",
              "      <button class=\"colab-df-convert\" onclick=\"convertToInteractive('df-35b38072-8fda-4bd3-ad0d-0f4eba675c65')\"\n",
              "              title=\"Convert this dataframe to an interactive table.\"\n",
              "              style=\"display:none;\">\n",
              "        \n",
              "  <svg xmlns=\"http://www.w3.org/2000/svg\" height=\"24px\"viewBox=\"0 0 24 24\"\n",
              "       width=\"24px\">\n",
              "    <path d=\"M0 0h24v24H0V0z\" fill=\"none\"/>\n",
              "    <path d=\"M18.56 5.44l.94 2.06.94-2.06 2.06-.94-2.06-.94-.94-2.06-.94 2.06-2.06.94zm-11 1L8.5 8.5l.94-2.06 2.06-.94-2.06-.94L8.5 2.5l-.94 2.06-2.06.94zm10 10l.94 2.06.94-2.06 2.06-.94-2.06-.94-.94-2.06-.94 2.06-2.06.94z\"/><path d=\"M17.41 7.96l-1.37-1.37c-.4-.4-.92-.59-1.43-.59-.52 0-1.04.2-1.43.59L10.3 9.45l-7.72 7.72c-.78.78-.78 2.05 0 2.83L4 21.41c.39.39.9.59 1.41.59.51 0 1.02-.2 1.41-.59l7.78-7.78 2.81-2.81c.8-.78.8-2.07 0-2.86zM5.41 20L4 18.59l7.72-7.72 1.47 1.35L5.41 20z\"/>\n",
              "  </svg>\n",
              "      </button>\n",
              "      \n",
              "  <style>\n",
              "    .colab-df-container {\n",
              "      display:flex;\n",
              "      flex-wrap:wrap;\n",
              "      gap: 12px;\n",
              "    }\n",
              "\n",
              "    .colab-df-convert {\n",
              "      background-color: #E8F0FE;\n",
              "      border: none;\n",
              "      border-radius: 50%;\n",
              "      cursor: pointer;\n",
              "      display: none;\n",
              "      fill: #1967D2;\n",
              "      height: 32px;\n",
              "      padding: 0 0 0 0;\n",
              "      width: 32px;\n",
              "    }\n",
              "\n",
              "    .colab-df-convert:hover {\n",
              "      background-color: #E2EBFA;\n",
              "      box-shadow: 0px 1px 2px rgba(60, 64, 67, 0.3), 0px 1px 3px 1px rgba(60, 64, 67, 0.15);\n",
              "      fill: #174EA6;\n",
              "    }\n",
              "\n",
              "    [theme=dark] .colab-df-convert {\n",
              "      background-color: #3B4455;\n",
              "      fill: #D2E3FC;\n",
              "    }\n",
              "\n",
              "    [theme=dark] .colab-df-convert:hover {\n",
              "      background-color: #434B5C;\n",
              "      box-shadow: 0px 1px 3px 1px rgba(0, 0, 0, 0.15);\n",
              "      filter: drop-shadow(0px 1px 2px rgba(0, 0, 0, 0.3));\n",
              "      fill: #FFFFFF;\n",
              "    }\n",
              "  </style>\n",
              "\n",
              "      <script>\n",
              "        const buttonEl =\n",
              "          document.querySelector('#df-35b38072-8fda-4bd3-ad0d-0f4eba675c65 button.colab-df-convert');\n",
              "        buttonEl.style.display =\n",
              "          google.colab.kernel.accessAllowed ? 'block' : 'none';\n",
              "\n",
              "        async function convertToInteractive(key) {\n",
              "          const element = document.querySelector('#df-35b38072-8fda-4bd3-ad0d-0f4eba675c65');\n",
              "          const dataTable =\n",
              "            await google.colab.kernel.invokeFunction('convertToInteractive',\n",
              "                                                     [key], {});\n",
              "          if (!dataTable) return;\n",
              "\n",
              "          const docLinkHtml = 'Like what you see? Visit the ' +\n",
              "            '<a target=\"_blank\" href=https://colab.research.google.com/notebooks/data_table.ipynb>data table notebook</a>'\n",
              "            + ' to learn more about interactive tables.';\n",
              "          element.innerHTML = '';\n",
              "          dataTable['output_type'] = 'display_data';\n",
              "          await google.colab.output.renderOutput(dataTable, element);\n",
              "          const docLink = document.createElement('div');\n",
              "          docLink.innerHTML = docLinkHtml;\n",
              "          element.appendChild(docLink);\n",
              "        }\n",
              "      </script>\n",
              "    </div>\n",
              "  </div>\n",
              "  "
            ]
          },
          "metadata": {},
          "execution_count": 7
        }
      ]
    },
    {
      "cell_type": "markdown",
      "source": [
        "## Naive Clustering (no special filtering)"
      ],
      "metadata": {
        "id": "xY78hqKxZHsV"
      }
    },
    {
      "cell_type": "code",
      "source": [
        "# See docs here:\n",
        "# https://scikit-learn.org/stable/modules/generated/sklearn.cluster.AgglomerativeClustering.html\n",
        "model = AgglomerativeClustering(distance_threshold=0, \n",
        "                                n_clusters=None, \n",
        "                                linkage='ward')\n",
        "clustering = model.fit(encodings)"
      ],
      "metadata": {
        "id": "FKFeC7UCZK_a"
      },
      "execution_count": 8,
      "outputs": []
    },
    {
      "cell_type": "code",
      "source": [
        "# This code is from the scikit-learn examples!\n",
        "# https://scikit-learn.org/stable/auto_examples/cluster/plot_agglomerative_dendrogram.html#sphx-glr-auto-examples-cluster-plot-agglomerative-dendrogram-py\n",
        "\n",
        "def plot_dendrogram(model, conditions, **kwargs):\n",
        "    # Create linkage matrix and then plot the dendrogram\n",
        "\n",
        "    # create the counts of samples under each node\n",
        "    counts = np.zeros(model.children_.shape[0])\n",
        "    n_samples = len(model.labels_)\n",
        "    for i, merge in enumerate(model.children_):\n",
        "        current_count = 0\n",
        "        for child_idx in merge:\n",
        "            if child_idx < n_samples:\n",
        "                current_count += 1  # leaf node\n",
        "            else:\n",
        "                current_count += counts[child_idx - n_samples]\n",
        "        counts[i] = current_count\n",
        "\n",
        "    linkage_matrix = np.column_stack(\n",
        "        [model.children_, model.distances_, counts]\n",
        "    ).astype(float)\n",
        "\n",
        "    # Plot the corresponding dendrogram\n",
        "    dendrogram(linkage_matrix, **kwargs, labels=conditions, leaf_rotation=90)"
      ],
      "metadata": {
        "id": "O3vY5yHNZpIn"
      },
      "execution_count": 9,
      "outputs": []
    },
    {
      "cell_type": "code",
      "source": [
        "plt.suptitle('No filtering besides removing unknown genes')\n",
        "plt.title(\"Hierarchical Clustering Dendrogram\")\n",
        "# plot all levels of the dendrogram\n",
        "plot_dendrogram(model, encodings_vertical.columns, truncate_mode=\"level\", p=11)\n",
        "plt.xlabel(\"Trait\")\n",
        "plt.show()"
      ],
      "metadata": {
        "colab": {
          "base_uri": "https://localhost:8080/",
          "height": 454
        },
        "id": "3zbOQpLuZw00",
        "outputId": "f8d86898-6f99-412e-ee9c-ee2fc68c51ef"
      },
      "execution_count": 10,
      "outputs": [
        {
          "output_type": "display_data",
          "data": {
            "text/plain": [
              "<Figure size 432x288 with 1 Axes>"
            ],
            "image/png": "[encoded data removed]"
          },
          "metadata": {
            "needs_background": "light"
          }
        }
      ]
    },
    {
      "cell_type": "markdown",
      "source": [
        "### Observations\n",
        "It seems schizophrenia is the least similar to the others. This is a little surprising given that in my literature review I saw many mentions of Schizophrenia having overlap with other mental illnesses. The results may be skewed at this time because there is more data for schizophrenia.\n",
        "\n",
        "The telescoping shape also seems peculiar (as opposed to distinct subgroups). The ordering seems to be (from left to right) traits with the most data points to traits with the least. Let's double-check:"
      ],
      "metadata": {
        "id": "sM7LfqcBbwad"
      }
    },
    {
      "cell_type": "code",
      "source": [
        "trait_to_num_data_points = {}\n",
        "for df in dfs:\n",
        "  trait = df['parent_trait'].unique()[0]\n",
        "  num_rows = len(df)\n",
        "  trait_to_num_data_points[trait] = num_rows\n",
        "\n",
        "{k: v for v, k in sorted(\n",
        "    trait_to_num_data_points.items(), key=lambda item: item[1])}"
      ],
      "metadata": {
        "colab": {
          "base_uri": "https://localhost:8080/"
        },
        "id": "v6qmNEXS3ZO7",
        "outputId": "8feb0d82-481c-4869-914e-a753763fdf47"
      },
      "execution_count": 11,
      "outputs": [
        {
          "output_type": "execute_result",
          "data": {
            "text/plain": [
              "{27: 'personality disorder',\n",
              " 37: 'tourette syndrome',\n",
              " 109: 'eating disorder',\n",
              " 163: 'autism spectrum disorder',\n",
              " 234: 'anxiety disorder',\n",
              " 317: 'drug dependence',\n",
              " 380: 'ADHD',\n",
              " 724: 'alzheimer disease',\n",
              " 748: 'bipolar disorder',\n",
              " 1142: 'unipolar depression',\n",
              " 1954: 'schizophrenia'}"
            ]
          },
          "metadata": {},
          "execution_count": 11
        }
      ]
    },
    {
      "cell_type": "markdown",
      "source": [
        "Yes, the clustering hierarchy almost perfectly resembles how many data points there are per trait. This makes sense based on vector magnitudes."
      ],
      "metadata": {
        "id": "j3aoAf8Y5vZy"
      }
    },
    {
      "cell_type": "markdown",
      "source": [
        "## Less naive clustering\n",
        "Drop personality disorder and tourette syndrome as they likely don't have enough data to be meaningful compared to the other traits (also, from the post-cleaning analysis, it seems personality disorder variants have high p-values compared to all other conditions)."
      ],
      "metadata": {
        "id": "I_tJ6lzt5-Yj"
      }
    },
    {
      "cell_type": "code",
      "source": [
        "excluded_traits = ['personality disorder', 'tourette syndrome']\n",
        "all_df = pd.concat(df for df in dfs if df['parent_trait'].unique()[0] not in excluded_traits)\n",
        "all_df['parent_trait'].unique()"
      ],
      "metadata": {
        "colab": {
          "base_uri": "https://localhost:8080/"
        },
        "id": "Hyni_uED6BV1",
        "outputId": "1a3e82a8-bd1e-4674-a402-8a608b94ebc9"
      },
      "execution_count": 12,
      "outputs": [
        {
          "output_type": "execute_result",
          "data": {
            "text/plain": [
              "array(['ADHD', 'alzheimer disease', 'anxiety disorder',\n",
              "       'autism spectrum disorder', 'bipolar disorder', 'drug dependence',\n",
              "       'eating disorder', 'schizophrenia', 'unipolar depression'],\n",
              "      dtype=object)"
            ]
          },
          "metadata": {},
          "execution_count": 12
        }
      ]
    },
    {
      "cell_type": "code",
      "source": [
        "# Combine some of the code above into a reusable function\n",
        "def gene_based_hierachical_clustering(all_df, title):\n",
        "  traits = all_df['parent_trait']\n",
        "  trait_dfs = [all_df.loc[all_df['parent_trait'] == trait] for trait in traits]\n",
        "  encodings_vertical = pd.DataFrame({df['parent_trait'].unique()[0]: encode_condition_df(df, gene_to_index) for df in trait_dfs})\n",
        "  encodings = encodings_vertical.T\n",
        "  model = AgglomerativeClustering(distance_threshold=0,\n",
        "                                  n_clusters=None, \n",
        "                                  linkage='ward')\n",
        "  model.fit(encodings)\n",
        "\n",
        "  plt.suptitle(title)\n",
        "  plt.title(\"Hierarchical Clustering Dendrogram\")\n",
        "  # plot all levels of the dendrogram\n",
        "  plot_dendrogram(model, encodings_vertical.columns, truncate_mode=\"level\", p=11)\n",
        "  plt.xlabel('Trait')\n",
        "  plt.show()"
      ],
      "metadata": {
        "id": "wLRgkt0Y8U8Z"
      },
      "execution_count": 13,
      "outputs": []
    },
    {
      "cell_type": "markdown",
      "source": [
        "Try again to see if there's any difference...\n",
        "One hypothesis is that only genes that appear in multiple traits are relevant to include in the encoding and clustering, because genes that are only implicated by one trait only show 'difference' from other traits...\n",
        "but on the other hand, if a trait has only one gene in common with others and hundreds of other unique implicated genes, it could be informative that the trait is actually quite different. Let's try both, starting with all genes."
      ],
      "metadata": {
        "id": "ceczCall-9pG"
      }
    },
    {
      "cell_type": "code",
      "source": [
        "gene_based_hierachical_clustering(all_df, 'Removing low-data conditions')"
      ],
      "metadata": {
        "colab": {
          "base_uri": "https://localhost:8080/",
          "height": 454
        },
        "id": "7QVmA1tZ-8wz",
        "outputId": "c20f4ab9-5872-4109-f0eb-785c4de8d230"
      },
      "execution_count": 14,
      "outputs": [
        {
          "output_type": "display_data",
          "data": {
            "text/plain": [
              "<Figure size 432x288 with 1 Axes>"
            ],
            "image/png": "[encoded data removed]"
          },
          "metadata": {
            "needs_background": "light"
          }
        }
      ]
    },
    {
      "cell_type": "markdown",
      "source": [
        "Still in order of data points. Probably need to do some sort of normalization based on data size. Let's first filter out genes that only appear in one trait though. If we're measuring similarity, unique genes don't really add information, or at least it's not clear how to account for that in an unbiased way."
      ],
      "metadata": {
        "id": "r0RcL3DZB0G4"
      }
    },
    {
      "cell_type": "code",
      "source": [
        "all_genes = all_df['gene'].unique()\n",
        "# Stores genes that only appear for one trait\n",
        "genes_to_remove = []\n",
        "for gene in all_genes:\n",
        "  num_traits = len(all_df.loc[all_df['gene'] == gene])\n",
        "  if num_traits < 2:\n",
        "    genes_to_remove.append(gene)\n",
        "\n",
        "print(f'{len(genes_to_remove)} / {len(all_genes)} only appear in a single trait')"
      ],
      "metadata": {
        "colab": {
          "base_uri": "https://localhost:8080/"
        },
        "id": "acZO90JNCSfx",
        "outputId": "d6298bfa-3027-4167-84b2-f8bd5b864311"
      },
      "execution_count": 15,
      "outputs": [
        {
          "output_type": "stream",
          "name": "stdout",
          "text": [
            "2227 / 3213 only appear in a single trait\n"
          ]
        }
      ]
    },
    {
      "cell_type": "markdown",
      "source": [
        "That's a good chunk of the genes, but let's proceed..."
      ],
      "metadata": {
        "id": "YZqlmECZGKQG"
      }
    },
    {
      "cell_type": "code",
      "source": [
        "print(f'Initial df size: {len(all_df)}')\n",
        "\n",
        "def is_common_gene(gene):\n",
        "  return gene not in genes_to_remove\n",
        "\n",
        "\n",
        "is_common_index = all_df['gene'].map(is_common_gene)\n",
        "all_df = all_df.loc[is_common_index]\n",
        "len(all_df)"
      ],
      "metadata": {
        "colab": {
          "base_uri": "https://localhost:8080/"
        },
        "id": "UDM4C_5bEtIk",
        "outputId": "16b7307b-b4d6-4033-a552-540717d33dca"
      },
      "execution_count": 16,
      "outputs": [
        {
          "output_type": "stream",
          "name": "stdout",
          "text": [
            "Initial df size: 5771\n"
          ]
        },
        {
          "output_type": "execute_result",
          "data": {
            "text/plain": [
              "3544"
            ]
          },
          "metadata": {},
          "execution_count": 16
        }
      ]
    },
    {
      "cell_type": "markdown",
      "source": [
        "Actually not that many data points were removed. Finally cluster this data:"
      ],
      "metadata": {
        "id": "-KYNUgpcH3oD"
      }
    },
    {
      "cell_type": "code",
      "source": [
        "gene_based_hierachical_clustering(all_df, \n",
        "                                  'Excluding genes that appear in one trait only')"
      ],
      "metadata": {
        "colab": {
          "base_uri": "https://localhost:8080/",
          "height": 454
        },
        "id": "BW8DGa8LH8YC",
        "outputId": "573a132e-cc20-4923-a5e6-c22fce7ce508"
      },
      "execution_count": 17,
      "outputs": [
        {
          "output_type": "display_data",
          "data": {
            "text/plain": [
              "<Figure size 432x288 with 1 Axes>"
            ],
            "image/png": "[encoded data removed]"
          },
          "metadata": {
            "needs_background": "light"
          }
        }
      ]
    },
    {
      "cell_type": "markdown",
      "source": [
        "Well, a slightly different order of the telescoping effect, but still no distinct clusters."
      ],
      "metadata": {
        "id": "CihC61uXIIPD"
      }
    },
    {
      "cell_type": "markdown",
      "source": [
        "## Account for data size\n",
        "Vector magnitude (number of data points per condition) seems to be biasing clustering results. Try taking top X data points per trait where X is the number of data points for the trait with the smallest dataset size, and 'top' means lowest p-value variant associations."
      ],
      "metadata": {
        "id": "h4ooqwOhR-ui"
      }
    },
    {
      "cell_type": "code",
      "source": [
        "trait_group_df = all_df.groupby('parent_trait').size()\n",
        "trait_group_df"
      ],
      "metadata": {
        "colab": {
          "base_uri": "https://localhost:8080/"
        },
        "id": "OWDK-l0WTBWF",
        "outputId": "c830b51b-298d-4b51-b4fb-37ab52261d6f"
      },
      "execution_count": 18,
      "outputs": [
        {
          "output_type": "execute_result",
          "data": {
            "text/plain": [
              "parent_trait\n",
              "ADHD                         209\n",
              "alzheimer disease            382\n",
              "anxiety disorder             115\n",
              "autism spectrum disorder      80\n",
              "bipolar disorder             511\n",
              "drug dependence              141\n",
              "eating disorder               41\n",
              "schizophrenia               1392\n",
              "unipolar depression          673\n",
              "dtype: int64"
            ]
          },
          "metadata": {},
          "execution_count": 18
        }
      ]
    },
    {
      "cell_type": "code",
      "source": [
        "smallest_trait_size = trait_group_df.min()\n",
        "smallest_trait_size"
      ],
      "metadata": {
        "colab": {
          "base_uri": "https://localhost:8080/"
        },
        "id": "AVXtOXU_R9eY",
        "outputId": "585c1562-79dd-4cf2-9ad9-58183ca131a5"
      },
      "execution_count": 19,
      "outputs": [
        {
          "output_type": "execute_result",
          "data": {
            "text/plain": [
              "41"
            ]
          },
          "metadata": {},
          "execution_count": 19
        }
      ]
    },
    {
      "cell_type": "code",
      "source": [
        "new_df = pd.DataFrame()\n",
        "for trait in all_df['parent_trait'].unique():\n",
        "  trait_df = all_df[all_df['parent_trait'] == trait]\n",
        "  trait_df.sort_values(by='p_value', \n",
        "                       inplace=True, \n",
        "                       ascending=True)\n",
        "  trait_df = trait_df.iloc[range(0, smallest_trait_size)]\n",
        "  new_df = pd.concat([new_df, trait_df])\n",
        "\n",
        "trait_group_df = new_df.groupby('parent_trait').size()\n",
        "trait_group_df"
      ],
      "metadata": {
        "colab": {
          "base_uri": "https://localhost:8080/"
        },
        "id": "r_WG_5RlS8ux",
        "outputId": "07f7f3f5-c6f4-4f99-dbcb-d6558932f763"
      },
      "execution_count": 20,
      "outputs": [
        {
          "output_type": "stream",
          "name": "stderr",
          "text": [
            "/usr/local/lib/python3.7/dist-packages/pandas/util/_decorators.py:311: SettingWithCopyWarning: \n",
            "A value is trying to be set on a copy of a slice from a DataFrame\n",
            "\n",
            "See the caveats in the documentation: https://pandas.pydata.org/pandas-docs/stable/user_guide/indexing.html#returning-a-view-versus-a-copy\n",
            "  return func(*args, **kwargs)\n"
          ]
        },
        {
          "output_type": "execute_result",
          "data": {
            "text/plain": [
              "parent_trait\n",
              "ADHD                        41\n",
              "alzheimer disease           41\n",
              "anxiety disorder            41\n",
              "autism spectrum disorder    41\n",
              "bipolar disorder            41\n",
              "drug dependence             41\n",
              "eating disorder             41\n",
              "schizophrenia               41\n",
              "unipolar depression         41\n",
              "dtype: int64"
            ]
          },
          "metadata": {},
          "execution_count": 20
        }
      ]
    },
    {
      "cell_type": "markdown",
      "source": [
        "Now try clustering with most significant associations for common genes per trait."
      ],
      "metadata": {
        "id": "UmM5JXUxUDzR"
      }
    },
    {
      "cell_type": "code",
      "source": [
        "gene_based_hierachical_clustering(new_df, \n",
        "                                  'Most significant associations per trait; common genes only')"
      ],
      "metadata": {
        "colab": {
          "base_uri": "https://localhost:8080/",
          "height": 454
        },
        "id": "X7aq_AClUDPr",
        "outputId": "5965918f-ec81-46f8-e131-b1e3e0bf6694"
      },
      "execution_count": 21,
      "outputs": [
        {
          "output_type": "display_data",
          "data": {
            "text/plain": [
              "<Figure size 432x288 with 1 Axes>"
            ],
            "image/png": "[encoded data removed]"
          },
          "metadata": {
            "needs_background": "light"
          }
        }
      ]
    },
    {
      "cell_type": "markdown",
      "source": [
        "Well, it's not sorted by magnitude anymore! Bipolar and schizophrenia are clustered together, which is also reported in the literature. I need to look into this a bit, but the association between Alzheimer's and drug dependence seems plausible too."
      ],
      "metadata": {
        "id": "RMUUa0KUUiqJ"
      }
    },
    {
      "cell_type": "markdown",
      "source": [
        "## Experiment with different gene-based encodings"
      ],
      "metadata": {
        "id": "dDXMDEe8Ebnu"
      }
    },
    {
      "cell_type": "code",
      "source": [
        "# Abstract the function from above slightly more to take in an encoding function\n",
        "def hierachical_clustering(\n",
        "    all_df: pd.DataFrame,\n",
        "    title: str,\n",
        "    encode: Callable[[pd.DataFrame], pd.DataFrame]) -> None:\n",
        "  encodings_vertical = encode(all_df)\n",
        "  encodings = encodings_vertical.T\n",
        "  model = AgglomerativeClustering(distance_threshold=0,\n",
        "                                  n_clusters=None, \n",
        "                                  linkage='ward')\n",
        "  model.fit(encodings)\n",
        "\n",
        "  plt.suptitle(title)\n",
        "  plt.title(\"Hierarchical Clustering Dendrogram\")\n",
        "  # plot all levels of the dendrogram\n",
        "  plot_dendrogram(model, encodings_vertical.columns, truncate_mode=\"level\", p=11)\n",
        "  plt.xlabel('Trait')\n",
        "  plt.show()\n",
        "\n",
        "\n",
        "# Copy code from above to test generalized clustering function.\n",
        "def one_hot_gene_encoding(in_df: pd.DataFrame) -> pd.DataFrame:\n",
        "  traits = in_df['parent_trait']\n",
        "  trait_dfs = [in_df.loc[in_df['parent_trait'] == trait] for trait in traits]\n",
        "  return pd.DataFrame({df['parent_trait'].unique()[0]: encode_condition_df(df, gene_to_index) for df in trait_dfs})\n",
        "\n",
        "\n",
        "hierachical_clustering(new_df, 'testing', one_hot_gene_encoding)"
      ],
      "metadata": {
        "colab": {
          "base_uri": "https://localhost:8080/",
          "height": 454
        },
        "id": "tboz8NvzEopQ",
        "outputId": "27c38c8b-6ac5-4a5e-9499-0b5446ebd874"
      },
      "execution_count": 22,
      "outputs": [
        {
          "output_type": "display_data",
          "data": {
            "text/plain": [
              "<Figure size 432x288 with 1 Axes>"
            ],
            "image/png": "[encoded data removed]"
          },
          "metadata": {
            "needs_background": "light"
          }
        }
      ]
    },
    {
      "cell_type": "code",
      "source": [
        "def implicated_gene_weighted_encoding(in_df: pd.DataFrame) -> pd.DataFrame:\n",
        "  \"\"\"Encodes trait vectors where elements are relative gene implications.\n",
        "\n",
        "  Specifically, for each trait, creates a vector (V1, V2... Vn) \n",
        "  where Vi = Gi/Max(Gi) where a trait has Gi variants implicated with ith gene\n",
        "  and n is total genes in `in_df`.\n",
        "  \n",
        "  E.g. if trait has gene associations:\n",
        "    gene1  gene2  gene3\n",
        "    1      3      5\n",
        "\n",
        "  Then encoding is:\n",
        "   (.2,   .6,     1)\n",
        "\n",
        "   DataFrame is returned with traits as column headers and vectors as columns.\n",
        "  \"\"\"\n",
        "  gene_to_index = create_gene_to_index_dict(in_df)\n",
        "  traits = in_df['parent_trait']\n",
        "  trait_dfs = [in_df.loc[in_df['parent_trait'] == trait] for trait in traits]\n",
        "  trait_to_encoding = {}\n",
        "  for trait_df in trait_dfs:\n",
        "    trait = trait_df['parent_trait'].unique()[0]\n",
        "    gene_counts_encoding = weighted_gene_encoding(trait_df, gene_to_index)\n",
        "    max_val = max(gene_counts_encoding)\n",
        "    gene_counts_encoding = gene_counts_encoding / max_val\n",
        "    trait_to_encoding[trait] = gene_counts_encoding\n",
        "  return pd.DataFrame(trait_to_encoding)\n",
        "\n",
        "\n",
        "def weighted_gene_encoding(\n",
        "    trait_df: pd.DataFrame, gene_to_index: Dict[str, int]) -> np.ndarray:\n",
        "  num_genes = len(gene_to_index.keys())\n",
        "  vec = np.zeros(num_genes)\n",
        "  trait_genes = trait_df['gene']\n",
        "  for gene in trait_genes:\n",
        "    gene_index = gene_to_index[gene]\n",
        "    vec[gene_index] += 1\n",
        "  return vec"
      ],
      "metadata": {
        "id": "Qi11mxrcGfBI"
      },
      "execution_count": 23,
      "outputs": []
    },
    {
      "cell_type": "code",
      "source": [
        "# Test encoding function:\n",
        "implicated_gene_weighted_encoding(all_df)"
      ],
      "metadata": {
        "colab": {
          "base_uri": "https://localhost:8080/",
          "height": 484
        },
        "id": "nhRL9YUmLO1q",
        "outputId": "f520a887-c8b1-4cb9-f5ff-0a1af2d0b156"
      },
      "execution_count": 24,
      "outputs": [
        {
          "output_type": "execute_result",
          "data": {
            "text/plain": [
              "         ADHD  alzheimer disease  anxiety disorder  autism spectrum disorder  \\\n",
              "0    0.000000           0.000000              0.25                       0.0   \n",
              "1    0.000000           0.000000              0.00                       0.0   \n",
              "2    0.000000           0.000000              0.00                       0.0   \n",
              "3    0.000000           0.000000              0.00                       0.0   \n",
              "4    0.000000           0.000000              0.25                       0.0   \n",
              "..        ...                ...               ...                       ...   \n",
              "981  0.000000           0.095238              0.00                       0.0   \n",
              "982  0.000000           0.000000              0.00                       0.0   \n",
              "983  0.000000           0.047619              0.00                       0.0   \n",
              "984  0.066667           0.000000              0.25                       0.0   \n",
              "985  0.000000           0.000000              0.00                       0.0   \n",
              "\n",
              "     bipolar disorder  drug dependence  eating disorder  schizophrenia  \\\n",
              "0                 0.0         0.000000              0.0       0.000000   \n",
              "1                 0.0         0.000000              0.0       0.095238   \n",
              "2                 0.0         0.058824              0.0       0.000000   \n",
              "3                 0.0         0.000000              0.0       0.142857   \n",
              "4                 0.2         0.000000              0.0       0.000000   \n",
              "..                ...              ...              ...            ...   \n",
              "981               0.0         0.000000              0.0       0.000000   \n",
              "982               0.0         0.000000              0.0       0.047619   \n",
              "983               0.0         0.000000              0.0       0.000000   \n",
              "984               0.0         0.000000              0.0       0.000000   \n",
              "985               0.0         0.000000              0.0       0.095238   \n",
              "\n",
              "     unipolar depression  \n",
              "0               0.071429  \n",
              "1               0.000000  \n",
              "2               0.214286  \n",
              "3               0.000000  \n",
              "4               0.000000  \n",
              "..                   ...  \n",
              "981             0.000000  \n",
              "982             0.071429  \n",
              "983             0.071429  \n",
              "984             0.000000  \n",
              "985             0.000000  \n",
              "\n",
              "[986 rows x 9 columns]"
            ],
            "text/html": [
              "\n",
              "  <div id=\"df-b42159df-c426-421f-9164-8e6972110a93\">\n",
              "    <div class=\"colab-df-container\">\n",
              "      <div>\n",
              "<style scoped>\n",
              "    .dataframe tbody tr th:only-of-type {\n",
              "        vertical-align: middle;\n",
              "    }\n",
              "\n",
              "    .dataframe tbody tr th {\n",
              "        vertical-align: top;\n",
              "    }\n",
              "\n",
              "    .dataframe thead th {\n",
              "        text-align: right;\n",
              "    }\n",
              "</style>\n",
              "<table border=\"1\" class=\"dataframe\">\n",
              "  <thead>\n",
              "    <tr style=\"text-align: right;\">\n",
              "      <th></th>\n",
              "      <th>ADHD</th>\n",
              "      <th>alzheimer disease</th>\n",
              "      <th>anxiety disorder</th>\n",
              "      <th>autism spectrum disorder</th>\n",
              "      <th>bipolar disorder</th>\n",
              "      <th>drug dependence</th>\n",
              "      <th>eating disorder</th>\n",
              "      <th>schizophrenia</th>\n",
              "      <th>unipolar depression</th>\n",
              "    </tr>\n",
              "  </thead>\n",
              "  <tbody>\n",
              "    <tr>\n",
              "      <th>0</th>\n",
              "      <td>0.000000</td>\n",
              "      <td>0.000000</td>\n",
              "      <td>0.25</td>\n",
              "      <td>0.0</td>\n",
              "      <td>0.0</td>\n",
              "      <td>0.000000</td>\n",
              "      <td>0.0</td>\n",
              "      <td>0.000000</td>\n",
              "      <td>0.071429</td>\n",
              "    </tr>\n",
              "    <tr>\n",
              "      <th>1</th>\n",
              "      <td>0.000000</td>\n",
              "      <td>0.000000</td>\n",
              "      <td>0.00</td>\n",
              "      <td>0.0</td>\n",
              "      <td>0.0</td>\n",
              "      <td>0.000000</td>\n",
              "      <td>0.0</td>\n",
              "      <td>0.095238</td>\n",
              "      <td>0.000000</td>\n",
              "    </tr>\n",
              "    <tr>\n",
              "      <th>2</th>\n",
              "      <td>0.000000</td>\n",
              "      <td>0.000000</td>\n",
              "      <td>0.00</td>\n",
              "      <td>0.0</td>\n",
              "      <td>0.0</td>\n",
              "      <td>0.058824</td>\n",
              "      <td>0.0</td>\n",
              "      <td>0.000000</td>\n",
              "      <td>0.214286</td>\n",
              "    </tr>\n",
              "    <tr>\n",
              "      <th>3</th>\n",
              "      <td>0.000000</td>\n",
              "      <td>0.000000</td>\n",
              "      <td>0.00</td>\n",
              "      <td>0.0</td>\n",
              "      <td>0.0</td>\n",
              "      <td>0.000000</td>\n",
              "      <td>0.0</td>\n",
              "      <td>0.142857</td>\n",
              "      <td>0.000000</td>\n",
              "    </tr>\n",
              "    <tr>\n",
              "      <th>4</th>\n",
              "      <td>0.000000</td>\n",
              "      <td>0.000000</td>\n",
              "      <td>0.25</td>\n",
              "      <td>0.0</td>\n",
              "      <td>0.2</td>\n",
              "      <td>0.000000</td>\n",
              "      <td>0.0</td>\n",
              "      <td>0.000000</td>\n",
              "      <td>0.000000</td>\n",
              "    </tr>\n",
              "    <tr>\n",
              "      <th>...</th>\n",
              "      <td>...</td>\n",
              "      <td>...</td>\n",
              "      <td>...</td>\n",
              "      <td>...</td>\n",
              "      <td>...</td>\n",
              "      <td>...</td>\n",
              "      <td>...</td>\n",
              "      <td>...</td>\n",
              "      <td>...</td>\n",
              "    </tr>\n",
              "    <tr>\n",
              "      <th>981</th>\n",
              "      <td>0.000000</td>\n",
              "      <td>0.095238</td>\n",
              "      <td>0.00</td>\n",
              "      <td>0.0</td>\n",
              "      <td>0.0</td>\n",
              "      <td>0.000000</td>\n",
              "      <td>0.0</td>\n",
              "      <td>0.000000</td>\n",
              "      <td>0.000000</td>\n",
              "    </tr>\n",
              "    <tr>\n",
              "      <th>982</th>\n",
              "      <td>0.000000</td>\n",
              "      <td>0.000000</td>\n",
              "      <td>0.00</td>\n",
              "      <td>0.0</td>\n",
              "      <td>0.0</td>\n",
              "      <td>0.000000</td>\n",
              "      <td>0.0</td>\n",
              "      <td>0.047619</td>\n",
              "      <td>0.071429</td>\n",
              "    </tr>\n",
              "    <tr>\n",
              "      <th>983</th>\n",
              "      <td>0.000000</td>\n",
              "      <td>0.047619</td>\n",
              "      <td>0.00</td>\n",
              "      <td>0.0</td>\n",
              "      <td>0.0</td>\n",
              "      <td>0.000000</td>\n",
              "      <td>0.0</td>\n",
              "      <td>0.000000</td>\n",
              "      <td>0.071429</td>\n",
              "    </tr>\n",
              "    <tr>\n",
              "      <th>984</th>\n",
              "      <td>0.066667</td>\n",
              "      <td>0.000000</td>\n",
              "      <td>0.25</td>\n",
              "      <td>0.0</td>\n",
              "      <td>0.0</td>\n",
              "      <td>0.000000</td>\n",
              "      <td>0.0</td>\n",
              "      <td>0.000000</td>\n",
              "      <td>0.000000</td>\n",
              "    </tr>\n",
              "    <tr>\n",
              "      <th>985</th>\n",
              "      <td>0.000000</td>\n",
              "      <td>0.000000</td>\n",
              "      <td>0.00</td>\n",
              "      <td>0.0</td>\n",
              "      <td>0.0</td>\n",
              "      <td>0.000000</td>\n",
              "      <td>0.0</td>\n",
              "      <td>0.095238</td>\n",
              "      <td>0.000000</td>\n",
              "    </tr>\n",
              "  </tbody>\n",
              "</table>\n",
              "<p>986 rows × 9 columns</p>\n",
              "</div>\n",
              "      <button class=\"colab-df-convert\" onclick=\"convertToInteractive('df-b42159df-c426-421f-9164-8e6972110a93')\"\n",
              "              title=\"Convert this dataframe to an interactive table.\"\n",
              "              style=\"display:none;\">\n",
              "        \n",
              "  <svg xmlns=\"http://www.w3.org/2000/svg\" height=\"24px\"viewBox=\"0 0 24 24\"\n",
              "       width=\"24px\">\n",
              "    <path d=\"M0 0h24v24H0V0z\" fill=\"none\"/>\n",
              "    <path d=\"M18.56 5.44l.94 2.06.94-2.06 2.06-.94-2.06-.94-.94-2.06-.94 2.06-2.06.94zm-11 1L8.5 8.5l.94-2.06 2.06-.94-2.06-.94L8.5 2.5l-.94 2.06-2.06.94zm10 10l.94 2.06.94-2.06 2.06-.94-2.06-.94-.94-2.06-.94 2.06-2.06.94z\"/><path d=\"M17.41 7.96l-1.37-1.37c-.4-.4-.92-.59-1.43-.59-.52 0-1.04.2-1.43.59L10.3 9.45l-7.72 7.72c-.78.78-.78 2.05 0 2.83L4 21.41c.39.39.9.59 1.41.59.51 0 1.02-.2 1.41-.59l7.78-7.78 2.81-2.81c.8-.78.8-2.07 0-2.86zM5.41 20L4 18.59l7.72-7.72 1.47 1.35L5.41 20z\"/>\n",
              "  </svg>\n",
              "      </button>\n",
              "      \n",
              "  <style>\n",
              "    .colab-df-container {\n",
              "      display:flex;\n",
              "      flex-wrap:wrap;\n",
              "      gap: 12px;\n",
              "    }\n",
              "\n",
              "    .colab-df-convert {\n",
              "      background-color: #E8F0FE;\n",
              "      border: none;\n",
              "      border-radius: 50%;\n",
              "      cursor: pointer;\n",
              "      display: none;\n",
              "      fill: #1967D2;\n",
              "      height: 32px;\n",
              "      padding: 0 0 0 0;\n",
              "      width: 32px;\n",
              "    }\n",
              "\n",
              "    .colab-df-convert:hover {\n",
              "      background-color: #E2EBFA;\n",
              "      box-shadow: 0px 1px 2px rgba(60, 64, 67, 0.3), 0px 1px 3px 1px rgba(60, 64, 67, 0.15);\n",
              "      fill: #174EA6;\n",
              "    }\n",
              "\n",
              "    [theme=dark] .colab-df-convert {\n",
              "      background-color: #3B4455;\n",
              "      fill: #D2E3FC;\n",
              "    }\n",
              "\n",
              "    [theme=dark] .colab-df-convert:hover {\n",
              "      background-color: #434B5C;\n",
              "      box-shadow: 0px 1px 3px 1px rgba(0, 0, 0, 0.15);\n",
              "      filter: drop-shadow(0px 1px 2px rgba(0, 0, 0, 0.3));\n",
              "      fill: #FFFFFF;\n",
              "    }\n",
              "  </style>\n",
              "\n",
              "      <script>\n",
              "        const buttonEl =\n",
              "          document.querySelector('#df-b42159df-c426-421f-9164-8e6972110a93 button.colab-df-convert');\n",
              "        buttonEl.style.display =\n",
              "          google.colab.kernel.accessAllowed ? 'block' : 'none';\n",
              "\n",
              "        async function convertToInteractive(key) {\n",
              "          const element = document.querySelector('#df-b42159df-c426-421f-9164-8e6972110a93');\n",
              "          const dataTable =\n",
              "            await google.colab.kernel.invokeFunction('convertToInteractive',\n",
              "                                                     [key], {});\n",
              "          if (!dataTable) return;\n",
              "\n",
              "          const docLinkHtml = 'Like what you see? Visit the ' +\n",
              "            '<a target=\"_blank\" href=https://colab.research.google.com/notebooks/data_table.ipynb>data table notebook</a>'\n",
              "            + ' to learn more about interactive tables.';\n",
              "          element.innerHTML = '';\n",
              "          dataTable['output_type'] = 'display_data';\n",
              "          await google.colab.output.renderOutput(dataTable, element);\n",
              "          const docLink = document.createElement('div');\n",
              "          docLink.innerHTML = docLinkHtml;\n",
              "          element.appendChild(docLink);\n",
              "        }\n",
              "      </script>\n",
              "    </div>\n",
              "  </div>\n",
              "  "
            ]
          },
          "metadata": {},
          "execution_count": 24
        }
      ]
    },
    {
      "cell_type": "code",
      "source": [
        "implicated_gene_weighted_encoding(all_df)['schizophrenia'].unique()"
      ],
      "metadata": {
        "colab": {
          "base_uri": "https://localhost:8080/"
        },
        "id": "SgT1S3uAO0J_",
        "outputId": "d32ca6aa-8894-4bd1-ad5c-5cffee1587ff"
      },
      "execution_count": 25,
      "outputs": [
        {
          "output_type": "execute_result",
          "data": {
            "text/plain": [
              "array([0.        , 0.0952381 , 0.14285714, 0.04761905, 0.33333333,\n",
              "       0.19047619, 0.23809524, 0.28571429, 0.38095238, 0.42857143,\n",
              "       0.47619048, 0.71428571, 0.52380952, 1.        ])"
            ]
          },
          "metadata": {},
          "execution_count": 25
        }
      ]
    },
    {
      "cell_type": "code",
      "source": [
        "hierachical_clustering(\n",
        "    all_df,\n",
        "    'Implicated-Gene-Weighted Hierarchical Clustering',\n",
        "    implicated_gene_weighted_encoding)"
      ],
      "metadata": {
        "colab": {
          "base_uri": "https://localhost:8080/",
          "height": 454
        },
        "id": "6_zy6wzOPWAX",
        "outputId": "17ee8b71-a75f-4c2e-b84a-b89762e8c420"
      },
      "execution_count": 26,
      "outputs": [
        {
          "output_type": "display_data",
          "data": {
            "text/plain": [
              "<Figure size 432x288 with 1 Axes>"
            ],
            "image/png": "[encoded data removed]"
          },
          "metadata": {
            "needs_background": "light"
          }
        }
      ]
    },
    {
      "cell_type": "markdown",
      "source": [
        "Observations:\n",
        "\n",
        "\n",
        "*   Seems quite similar to the previous one, except anxiety disorder and unipolar depression are adjacent here.\n",
        "*   In the previous clustering, anxiety disorder was separated from all other traits, whereas here bipolar disorder and schizophrenia are clustered together and away from all others.\n",
        "*   I think this encoding is better in that it utilizes as much data as possible (not filtering to min p-values, just removing low-data conditions) but still accounts for bias in varying amounts of data for each condition.\n",
        "\n"
      ],
      "metadata": {
        "id": "UQS8Jd2nSZxq"
      }
    },
    {
      "cell_type": "markdown",
      "source": [
        "### Try same approach with AF filtering first."
      ],
      "metadata": {
        "id": "uX9MPZiQS_M3"
      }
    },
    {
      "cell_type": "markdown",
      "source": [
        "Under the assumption these disorders affect a minority of the population, filter to variants with < 0.5 AF."
      ],
      "metadata": {
        "id": "Q6pk8paGT45n"
      }
    },
    {
      "cell_type": "code",
      "source": [
        "def filter_by_af(\n",
        "    in_df: pd.DataFrame, \n",
        "    max_af = None, \n",
        "    min_af = None) -> pd.DataFrame:\n",
        "  \"\"\"Returns copy of `in_df` where `af` column is bounded by min/max AF.\"\"\"\n",
        "  out_df = in_df.copy()\n",
        "  if max_af is not None:\n",
        "    out_df = out_df[out_df['af'] <= max_af]\n",
        "  if min_af is not None:\n",
        "    out_df = out_df[out_df['af'] >= min_af]\n",
        "  return out_df\n",
        "\n",
        "\n",
        "# If we're utilizing AF, need to exclude those with unknown AF value, \n",
        "# i.e. those with values of -1.\n",
        "hierachical_clustering(\n",
        "    filter_by_af(all_df, min_af=0.0, max_af=.49),\n",
        "    'Implicated-Gene-Weighted; Max AF=0.49',\n",
        "    implicated_gene_weighted_encoding)"
      ],
      "metadata": {
        "colab": {
          "base_uri": "https://localhost:8080/",
          "height": 454
        },
        "id": "pWS9gfc2TDLW",
        "outputId": "a18b1238-6fd3-4927-9cde-f5e3223376d4"
      },
      "execution_count": 27,
      "outputs": [
        {
          "output_type": "display_data",
          "data": {
            "text/plain": [
              "<Figure size 432x288 with 1 Axes>"
            ],
            "image/png": "[encoded data removed]"
          },
          "metadata": {
            "needs_background": "light"
          }
        }
      ]
    },
    {
      "cell_type": "markdown",
      "source": [
        "Similar to previous except eating disorder is now closer to ADHD and alzheimer, and schizophrenia and unipolar depression are less separated from the rest of the traits. Recalling from the post-cleaning analysis though, most of eating disorder variants had AF > 0.5, so this may be noise from low-data."
      ],
      "metadata": {
        "id": "L5H2bcEwUU0Z"
      }
    },
    {
      "cell_type": "code",
      "source": [
        "minority_df = filter_by_af(all_df, min_af=0.0, max_af=.49)\n",
        "len(minority_df[minority_df['parent_trait'] == 'eating disorder'])"
      ],
      "metadata": {
        "colab": {
          "base_uri": "https://localhost:8080/"
        },
        "id": "Px9MMsArUomv",
        "outputId": "1b41c4eb-21f3-422e-8424-02a868732060"
      },
      "execution_count": 28,
      "outputs": [
        {
          "output_type": "execute_result",
          "data": {
            "text/plain": [
              "10"
            ]
          },
          "metadata": {},
          "execution_count": 28
        }
      ]
    },
    {
      "cell_type": "markdown",
      "source": [
        "Yeah... may be best to exclude eating disorder as well since these \n",
        "were near-outliers according to the post-cleaning analysis."
      ],
      "metadata": {
        "id": "lQRGNWkaUzkI"
      }
    },
    {
      "cell_type": "code",
      "source": [
        "minority_df = minority_df[minority_df['parent_trait'] != 'eating disorder']\n",
        "hierachical_clustering(\n",
        "    minority_df,\n",
        "    'Implicated-Gene-Weighted; Max AF=0.49',\n",
        "    implicated_gene_weighted_encoding)"
      ],
      "metadata": {
        "colab": {
          "base_uri": "https://localhost:8080/",
          "height": 454
        },
        "id": "4Ka5UCMTU03J",
        "outputId": "cb363c62-e9b1-4f6e-c914-fc060074a492"
      },
      "execution_count": 29,
      "outputs": [
        {
          "output_type": "display_data",
          "data": {
            "text/plain": [
              "<Figure size 432x288 with 1 Axes>"
            ],
            "image/png": "[encoded data removed]"
          },
          "metadata": {
            "needs_background": "light"
          }
        }
      ]
    },
    {
      "cell_type": "markdown",
      "source": [
        "According to a [paper](https://www.frontiersin.org/articles/10.3389/fgene.2020.00679/full) I read, excluding SNPs with AF < 0.01 may be viable too. My assumption is these may be 'too rare' to play a role in common(ish) traits."
      ],
      "metadata": {
        "id": "F_lqV1cnVUOm"
      }
    },
    {
      "cell_type": "code",
      "source": [
        "min_and_max_filtered_df = filter_by_af(minority_df, min_af=0.01)\n",
        "hierachical_clustering(\n",
        "    min_and_max_filtered_df,\n",
        "    'Implicated-Gene-Weighted; 0.01<=AF<=0.49',\n",
        "    implicated_gene_weighted_encoding)"
      ],
      "metadata": {
        "colab": {
          "base_uri": "https://localhost:8080/",
          "height": 454
        },
        "id": "9n8xpxujVrvS",
        "outputId": "e3ac9c7b-e59a-44b8-878a-d49f3e9c6777"
      },
      "execution_count": 30,
      "outputs": [
        {
          "output_type": "display_data",
          "data": {
            "text/plain": [
              "<Figure size 432x288 with 1 Axes>"
            ],
            "image/png": "[encoded data removed]"
          },
          "metadata": {
            "needs_background": "light"
          }
        }
      ]
    },
    {
      "cell_type": "markdown",
      "source": [
        "Interestingly, this really changes the structure. Double-check how much data is being filtered at each step."
      ],
      "metadata": {
        "id": "WseqG9fZWB7_"
      }
    },
    {
      "cell_type": "code",
      "source": [
        "pre_af_filtering_size = len(all_df)\n",
        "max_af_filtering_size = len(minority_df) # this also removed eating disorder\n",
        "min_and_max_filtering_size = len(min_and_max_filtered_df)\n",
        "\n",
        "print(f'{pre_af_filtering_size} variants before AF filtering.')\n",
        "print(f'{max_af_filtering_size} variants with max AF filtering.')\n",
        "print(f'{min_and_max_filtering_size} variants with min and max AF filtering.')"
      ],
      "metadata": {
        "colab": {
          "base_uri": "https://localhost:8080/"
        },
        "id": "aoWUy2ieWIyD",
        "outputId": "4bd64f96-9ccd-4084-9e68-1632a760436f"
      },
      "execution_count": 31,
      "outputs": [
        {
          "output_type": "stream",
          "name": "stdout",
          "text": [
            "3544 variants before AF filtering.\n",
            "1278 variants with max AF filtering.\n",
            "1237 variants with min and max AF filtering.\n"
          ]
        }
      ]
    },
    {
      "cell_type": "markdown",
      "source": [
        "About a third of original variants remaining after min & max AF filtering. Check for condition skew"
      ],
      "metadata": {
        "id": "8feHZwK9WouH"
      }
    },
    {
      "cell_type": "code",
      "source": [
        "min_and_max_filtered_df.groupby('parent_trait').size().sort_values()"
      ],
      "metadata": {
        "colab": {
          "base_uri": "https://localhost:8080/"
        },
        "id": "kgp6IwdFWviS",
        "outputId": "dc02462f-8730-4f93-c3b1-1879f5494754"
      },
      "execution_count": 32,
      "outputs": [
        {
          "output_type": "execute_result",
          "data": {
            "text/plain": [
              "parent_trait\n",
              "autism spectrum disorder     36\n",
              "drug dependence              51\n",
              "anxiety disorder             58\n",
              "ADHD                         83\n",
              "alzheimer disease           115\n",
              "bipolar disorder            178\n",
              "unipolar depression         296\n",
              "schizophrenia               420\n",
              "dtype: int64"
            ]
          },
          "metadata": {},
          "execution_count": 32
        }
      ]
    },
    {
      "cell_type": "markdown",
      "source": [
        "Still at least 30 rows per trait."
      ],
      "metadata": {
        "id": "MOw9UdmhW5zK"
      }
    },
    {
      "cell_type": "code",
      "source": [
        "# Just double-checking the logic.\n",
        "min_and_max_filtered_df['af'].describe()"
      ],
      "metadata": {
        "colab": {
          "base_uri": "https://localhost:8080/"
        },
        "id": "ncj8G2VbW-21",
        "outputId": "3f336f78-8ae3-474a-d052-a45d5f1b0baa"
      },
      "execution_count": 33,
      "outputs": [
        {
          "output_type": "execute_result",
          "data": {
            "text/plain": [
              "count    1237.000000\n",
              "mean        0.257523\n",
              "std         0.140542\n",
              "min         0.010266\n",
              "25%         0.133620\n",
              "50%         0.275067\n",
              "75%         0.378422\n",
              "max         0.489979\n",
              "Name: af, dtype: float64"
            ]
          },
          "metadata": {},
          "execution_count": 33
        }
      ]
    },
    {
      "cell_type": "markdown",
      "source": [
        "What if we focus on rarest variants only?"
      ],
      "metadata": {
        "id": "xFE2nqLTXb2N"
      }
    },
    {
      "cell_type": "code",
      "source": [
        "rare_df = filter_by_af(all_df, min_af=0.0, max_af=.01)\n",
        "len(rare_df)"
      ],
      "metadata": {
        "colab": {
          "base_uri": "https://localhost:8080/"
        },
        "id": "-cRI5lXqXaq1",
        "outputId": "50a7bcad-5624-4f78-914a-8c0e41698f1c"
      },
      "execution_count": 34,
      "outputs": [
        {
          "output_type": "execute_result",
          "data": {
            "text/plain": [
              "41"
            ]
          },
          "metadata": {},
          "execution_count": 34
        }
      ]
    },
    {
      "cell_type": "markdown",
      "source": [
        "Probably not enough data points for meaningful clustering. Let's just look at the conditions with significant rare variants."
      ],
      "metadata": {
        "id": "SjZu2_35Yz8c"
      }
    },
    {
      "cell_type": "code",
      "source": [
        "rare_df.groupby('parent_trait').size().sort_values()"
      ],
      "metadata": {
        "colab": {
          "base_uri": "https://localhost:8080/"
        },
        "id": "LaGA1WYbXkue",
        "outputId": "6abd5bc4-cbda-4e08-ac5b-de18f003e261"
      },
      "execution_count": 35,
      "outputs": [
        {
          "output_type": "execute_result",
          "data": {
            "text/plain": [
              "parent_trait\n",
              "anxiety disorder             1\n",
              "autism spectrum disorder     1\n",
              "bipolar disorder             3\n",
              "drug dependence              4\n",
              "schizophrenia                4\n",
              "unipolar depression          6\n",
              "alzheimer disease           22\n",
              "dtype: int64"
            ]
          },
          "metadata": {},
          "execution_count": 35
        }
      ]
    },
    {
      "cell_type": "markdown",
      "source": [
        "Surprisingly, alzheimer disease actually has more significant rare (AF <= 0.01) variants than schizophrenia, even though schizophrenia has more known significant variants (by more than 2x according to post-cleaning analysis)."
      ],
      "metadata": {
        "id": "Y6sQxAHQZCr2"
      }
    },
    {
      "cell_type": "markdown",
      "source": [
        "# Tissue-association based clustering"
      ],
      "metadata": {
        "id": "yrQ2ff9VZWrE"
      }
    },
    {
      "cell_type": "markdown",
      "source": [
        "Re-using some code from post-cleaning analysis to get started with tissue associated variants. Total numbers may be different as low-data traits have already been filtered."
      ],
      "metadata": {
        "id": "olXjHy_6Z9Ew"
      }
    },
    {
      "cell_type": "code",
      "source": [
        "TISSUE_DELIM = \"&\"\n",
        "\n",
        "all_df['tissues'] = all_df['tissues'].fillna('')\n",
        "\n",
        "tissue_metadata_file = 'tissue_metadata.txt'\n",
        "all_tissues = []\n",
        "with open(tissue_metadata_file) as tissue_file:\n",
        "  for tissue in tissue_file.readlines():\n",
        "    all_tissues.append(tissue.replace(\"\\n\", \"\"))\n",
        "\n",
        "print(f'Tissues: {all_tissues}')\n",
        "\n",
        "# In previous cleaning, if a variant mapped to multiple genes, I created \n",
        "# separate rows for it. For tissue association I just blindly match the variant\n",
        "# location and don't care about the gene though... so drop duplicate locations\n",
        "# as they may misrepresent total counts in subsequent tissue analysis here.\n",
        "tissues_df = all_df.copy()\n",
        "tissues_df.drop_duplicates(subset=['location', 'parent_trait'], inplace=True)\n",
        "total_variants = len(tissues_df)\n",
        "tissues_df['has_tissues'] = tissues_df['tissues'].map(lambda tissues: len(tissues) > 0)\n",
        "tissues_df = tissues_df[tissues_df['has_tissues'] == True]\n",
        "num_variants_with_tissues = len(tissues_df)\n",
        "print(f'{num_variants_with_tissues} variants significantly associated with tissues of {total_variants} total.')\n",
        "\n",
        "# Aggregate number of per-tissue associations per trait.\n",
        "# This is a dict from trait to Dict[tissue, tissue association count]\n",
        "trait_to_tissue_to_count = {}\n",
        "all_traits = tissues_df['parent_trait'].unique()\n",
        "for trait in all_traits:\n",
        "  trait_to_tissue_to_count[trait] = {tissue: 0 for tissue in all_tissues}\n",
        "\n",
        "for _, row in tissues_df.iterrows():\n",
        "  trait = row['parent_trait']\n",
        "  variant_tissues = row['tissues'].split(TISSUE_DELIM)\n",
        "  for tissue in variant_tissues:\n",
        "    trait_to_tissue_to_count[trait][tissue] += 1\n",
        "\n",
        "rows = []\n",
        "index = []\n",
        "for trait, tissue_dict in trait_to_tissue_to_count.items():\n",
        "  index.append(trait)\n",
        "  rows.append(tissue_dict)\n",
        "\n",
        "trait_to_tissue_count_df = pd.DataFrame(rows, index=index)\n",
        "trait_to_tissue_count_df.head()"
      ],
      "metadata": {
        "colab": {
          "base_uri": "https://localhost:8080/",
          "height": 423
        },
        "id": "1qVooyheZxpt",
        "outputId": "598cb809-f173-48c0-e448-72cc2f471040"
      },
      "execution_count": 36,
      "outputs": [
        {
          "output_type": "stream",
          "name": "stdout",
          "text": [
            "Tissues: ['Adipose_Subcutaneous', 'Adipose_Visceral_Omentum', 'Adrenal_Gland', 'Artery_Aorta', 'Artery_Coronary', 'Artery_Tibial', 'Brain_Amygdala', 'Brain_Anterior_cingulate_cortex_BA24', 'Brain_Caudate_basal_ganglia', 'Brain_Cerebellar_Hemisphere', 'Brain_Cerebellum', 'Brain_Cortex', 'Brain_Frontal_Cortex_BA9', 'Brain_Hippocampus', 'Brain_Hypothalamus', 'Brain_Nucleus_accumbens_basal_ganglia', 'Brain_Putamen_basal_ganglia', 'Brain_Spinal_cord_cervical_c-1', 'Brain_Substantia_nigra', 'Breast_Mammary_Tissue', 'Cells_Cultured_fibroblasts', 'Cells_EBV-transformed_lymphocytes', 'Colon_Sigmoid', 'Colon_Transverse', 'Esophagus_Gastroesophageal_Junction', 'Esophagus_Mucosa', 'Esophagus_Muscularis', 'Heart_Atrial_Appendage', 'Heart_Left_Ventricle', 'Kidney_Cortex', 'Liver', 'Lung', 'Minor_Salivary_Gland', 'Muscle_Skeletal', 'Nerve_Tibial', 'Ovary', 'Pancreas', 'Pituitary', 'Prostate', 'Skin_Not_Sun_Exposed_Suprapubic', 'Skin_Sun_Exposed_Lower_leg', 'Small_Intestine_Terminal_Ileum', 'Spleen', 'Stomach', 'Testis', 'Thyroid', 'Uterus', 'Vagina', 'Whole_Blood']\n",
            "948 variants significantly associated with tissues of 2615 total.\n"
          ]
        },
        {
          "output_type": "execute_result",
          "data": {
            "text/plain": [
              "                          Adipose_Subcutaneous  Adipose_Visceral_Omentum  \\\n",
              "ADHD                                        15                        11   \n",
              "alzheimer disease                           25                        13   \n",
              "anxiety disorder                             7                         9   \n",
              "autism spectrum disorder                     7                         8   \n",
              "bipolar disorder                            62                        51   \n",
              "\n",
              "                          Adrenal_Gland  Artery_Aorta  Artery_Coronary  \\\n",
              "ADHD                                  5            11                4   \n",
              "alzheimer disease                     9            18                5   \n",
              "anxiety disorder                      6             7                4   \n",
              "autism spectrum disorder              4             6                2   \n",
              "bipolar disorder                     43            62               28   \n",
              "\n",
              "                          Artery_Tibial  Brain_Amygdala  \\\n",
              "ADHD                                 15               2   \n",
              "alzheimer disease                    21               3   \n",
              "anxiety disorder                     13               3   \n",
              "autism spectrum disorder              8               2   \n",
              "bipolar disorder                     72               8   \n",
              "\n",
              "                          Brain_Anterior_cingulate_cortex_BA24  \\\n",
              "ADHD                                                         2   \n",
              "alzheimer disease                                            3   \n",
              "anxiety disorder                                             6   \n",
              "autism spectrum disorder                                     5   \n",
              "bipolar disorder                                            24   \n",
              "\n",
              "                          Brain_Caudate_basal_ganglia  \\\n",
              "ADHD                                                6   \n",
              "alzheimer disease                                  12   \n",
              "anxiety disorder                                    7   \n",
              "autism spectrum disorder                            4   \n",
              "bipolar disorder                                   41   \n",
              "\n",
              "                          Brain_Cerebellar_Hemisphere  ...  \\\n",
              "ADHD                                                6  ...   \n",
              "alzheimer disease                                  14  ...   \n",
              "anxiety disorder                                   10  ...   \n",
              "autism spectrum disorder                            9  ...   \n",
              "bipolar disorder                                   37  ...   \n",
              "\n",
              "                          Skin_Not_Sun_Exposed_Suprapubic  \\\n",
              "ADHD                                                   15   \n",
              "alzheimer disease                                      18   \n",
              "anxiety disorder                                       12   \n",
              "autism spectrum disorder                                8   \n",
              "bipolar disorder                                       60   \n",
              "\n",
              "                          Skin_Sun_Exposed_Lower_leg  \\\n",
              "ADHD                                              15   \n",
              "alzheimer disease                                 21   \n",
              "anxiety disorder                                  12   \n",
              "autism spectrum disorder                           8   \n",
              "bipolar disorder                                  74   \n",
              "\n",
              "                          Small_Intestine_Terminal_Ileum  Spleen  Stomach  \\\n",
              "ADHD                                                   2       5        6   \n",
              "alzheimer disease                                      6      15       16   \n",
              "anxiety disorder                                       4       9        9   \n",
              "autism spectrum disorder                               3       5        3   \n",
              "bipolar disorder                                      29      43       42   \n",
              "\n",
              "                          Testis  Thyroid  Uterus  Vagina  Whole_Blood  \n",
              "ADHD                          12       21       2       2           10  \n",
              "alzheimer disease             18       21       2       2           25  \n",
              "anxiety disorder              14       14       2       2           15  \n",
              "autism spectrum disorder       9        9       0       2            8  \n",
              "bipolar disorder              68       82       7      12           59  \n",
              "\n",
              "[5 rows x 49 columns]"
            ],
            "text/html": [
              "\n",
              "  <div id=\"df-8d32217d-69b7-4c84-aa89-553e308f1148\">\n",
              "    <div class=\"colab-df-container\">\n",
              "      <div>\n",
              "<style scoped>\n",
              "    .dataframe tbody tr th:only-of-type {\n",
              "        vertical-align: middle;\n",
              "    }\n",
              "\n",
              "    .dataframe tbody tr th {\n",
              "        vertical-align: top;\n",
              "    }\n",
              "\n",
              "    .dataframe thead th {\n",
              "        text-align: right;\n",
              "    }\n",
              "</style>\n",
              "<table border=\"1\" class=\"dataframe\">\n",
              "  <thead>\n",
              "    <tr style=\"text-align: right;\">\n",
              "      <th></th>\n",
              "      <th>Adipose_Subcutaneous</th>\n",
              "      <th>Adipose_Visceral_Omentum</th>\n",
              "      <th>Adrenal_Gland</th>\n",
              "      <th>Artery_Aorta</th>\n",
              "      <th>Artery_Coronary</th>\n",
              "      <th>Artery_Tibial</th>\n",
              "      <th>Brain_Amygdala</th>\n",
              "      <th>Brain_Anterior_cingulate_cortex_BA24</th>\n",
              "      <th>Brain_Caudate_basal_ganglia</th>\n",
              "      <th>Brain_Cerebellar_Hemisphere</th>\n",
              "      <th>...</th>\n",
              "      <th>Skin_Not_Sun_Exposed_Suprapubic</th>\n",
              "      <th>Skin_Sun_Exposed_Lower_leg</th>\n",
              "      <th>Small_Intestine_Terminal_Ileum</th>\n",
              "      <th>Spleen</th>\n",
              "      <th>Stomach</th>\n",
              "      <th>Testis</th>\n",
              "      <th>Thyroid</th>\n",
              "      <th>Uterus</th>\n",
              "      <th>Vagina</th>\n",
              "      <th>Whole_Blood</th>\n",
              "    </tr>\n",
              "  </thead>\n",
              "  <tbody>\n",
              "    <tr>\n",
              "      <th>ADHD</th>\n",
              "      <td>15</td>\n",
              "      <td>11</td>\n",
              "      <td>5</td>\n",
              "      <td>11</td>\n",
              "      <td>4</td>\n",
              "      <td>15</td>\n",
              "      <td>2</td>\n",
              "      <td>2</td>\n",
              "      <td>6</td>\n",
              "      <td>6</td>\n",
              "      <td>...</td>\n",
              "      <td>15</td>\n",
              "      <td>15</td>\n",
              "      <td>2</td>\n",
              "      <td>5</td>\n",
              "      <td>6</td>\n",
              "      <td>12</td>\n",
              "      <td>21</td>\n",
              "      <td>2</td>\n",
              "      <td>2</td>\n",
              "      <td>10</td>\n",
              "    </tr>\n",
              "    <tr>\n",
              "      <th>alzheimer disease</th>\n",
              "      <td>25</td>\n",
              "      <td>13</td>\n",
              "      <td>9</td>\n",
              "      <td>18</td>\n",
              "      <td>5</td>\n",
              "      <td>21</td>\n",
              "      <td>3</td>\n",
              "      <td>3</td>\n",
              "      <td>12</td>\n",
              "      <td>14</td>\n",
              "      <td>...</td>\n",
              "      <td>18</td>\n",
              "      <td>21</td>\n",
              "      <td>6</td>\n",
              "      <td>15</td>\n",
              "      <td>16</td>\n",
              "      <td>18</td>\n",
              "      <td>21</td>\n",
              "      <td>2</td>\n",
              "      <td>2</td>\n",
              "      <td>25</td>\n",
              "    </tr>\n",
              "    <tr>\n",
              "      <th>anxiety disorder</th>\n",
              "      <td>7</td>\n",
              "      <td>9</td>\n",
              "      <td>6</td>\n",
              "      <td>7</td>\n",
              "      <td>4</td>\n",
              "      <td>13</td>\n",
              "      <td>3</td>\n",
              "      <td>6</td>\n",
              "      <td>7</td>\n",
              "      <td>10</td>\n",
              "      <td>...</td>\n",
              "      <td>12</td>\n",
              "      <td>12</td>\n",
              "      <td>4</td>\n",
              "      <td>9</td>\n",
              "      <td>9</td>\n",
              "      <td>14</td>\n",
              "      <td>14</td>\n",
              "      <td>2</td>\n",
              "      <td>2</td>\n",
              "      <td>15</td>\n",
              "    </tr>\n",
              "    <tr>\n",
              "      <th>autism spectrum disorder</th>\n",
              "      <td>7</td>\n",
              "      <td>8</td>\n",
              "      <td>4</td>\n",
              "      <td>6</td>\n",
              "      <td>2</td>\n",
              "      <td>8</td>\n",
              "      <td>2</td>\n",
              "      <td>5</td>\n",
              "      <td>4</td>\n",
              "      <td>9</td>\n",
              "      <td>...</td>\n",
              "      <td>8</td>\n",
              "      <td>8</td>\n",
              "      <td>3</td>\n",
              "      <td>5</td>\n",
              "      <td>3</td>\n",
              "      <td>9</td>\n",
              "      <td>9</td>\n",
              "      <td>0</td>\n",
              "      <td>2</td>\n",
              "      <td>8</td>\n",
              "    </tr>\n",
              "    <tr>\n",
              "      <th>bipolar disorder</th>\n",
              "      <td>62</td>\n",
              "      <td>51</td>\n",
              "      <td>43</td>\n",
              "      <td>62</td>\n",
              "      <td>28</td>\n",
              "      <td>72</td>\n",
              "      <td>8</td>\n",
              "      <td>24</td>\n",
              "      <td>41</td>\n",
              "      <td>37</td>\n",
              "      <td>...</td>\n",
              "      <td>60</td>\n",
              "      <td>74</td>\n",
              "      <td>29</td>\n",
              "      <td>43</td>\n",
              "      <td>42</td>\n",
              "      <td>68</td>\n",
              "      <td>82</td>\n",
              "      <td>7</td>\n",
              "      <td>12</td>\n",
              "      <td>59</td>\n",
              "    </tr>\n",
              "  </tbody>\n",
              "</table>\n",
              "<p>5 rows × 49 columns</p>\n",
              "</div>\n",
              "      <button class=\"colab-df-convert\" onclick=\"convertToInteractive('df-8d32217d-69b7-4c84-aa89-553e308f1148')\"\n",
              "              title=\"Convert this dataframe to an interactive table.\"\n",
              "              style=\"display:none;\">\n",
              "        \n",
              "  <svg xmlns=\"http://www.w3.org/2000/svg\" height=\"24px\"viewBox=\"0 0 24 24\"\n",
              "       width=\"24px\">\n",
              "    <path d=\"M0 0h24v24H0V0z\" fill=\"none\"/>\n",
              "    <path d=\"M18.56 5.44l.94 2.06.94-2.06 2.06-.94-2.06-.94-.94-2.06-.94 2.06-2.06.94zm-11 1L8.5 8.5l.94-2.06 2.06-.94-2.06-.94L8.5 2.5l-.94 2.06-2.06.94zm10 10l.94 2.06.94-2.06 2.06-.94-2.06-.94-.94-2.06-.94 2.06-2.06.94z\"/><path d=\"M17.41 7.96l-1.37-1.37c-.4-.4-.92-.59-1.43-.59-.52 0-1.04.2-1.43.59L10.3 9.45l-7.72 7.72c-.78.78-.78 2.05 0 2.83L4 21.41c.39.39.9.59 1.41.59.51 0 1.02-.2 1.41-.59l7.78-7.78 2.81-2.81c.8-.78.8-2.07 0-2.86zM5.41 20L4 18.59l7.72-7.72 1.47 1.35L5.41 20z\"/>\n",
              "  </svg>\n",
              "      </button>\n",
              "      \n",
              "  <style>\n",
              "    .colab-df-container {\n",
              "      display:flex;\n",
              "      flex-wrap:wrap;\n",
              "      gap: 12px;\n",
              "    }\n",
              "\n",
              "    .colab-df-convert {\n",
              "      background-color: #E8F0FE;\n",
              "      border: none;\n",
              "      border-radius: 50%;\n",
              "      cursor: pointer;\n",
              "      display: none;\n",
              "      fill: #1967D2;\n",
              "      height: 32px;\n",
              "      padding: 0 0 0 0;\n",
              "      width: 32px;\n",
              "    }\n",
              "\n",
              "    .colab-df-convert:hover {\n",
              "      background-color: #E2EBFA;\n",
              "      box-shadow: 0px 1px 2px rgba(60, 64, 67, 0.3), 0px 1px 3px 1px rgba(60, 64, 67, 0.15);\n",
              "      fill: #174EA6;\n",
              "    }\n",
              "\n",
              "    [theme=dark] .colab-df-convert {\n",
              "      background-color: #3B4455;\n",
              "      fill: #D2E3FC;\n",
              "    }\n",
              "\n",
              "    [theme=dark] .colab-df-convert:hover {\n",
              "      background-color: #434B5C;\n",
              "      box-shadow: 0px 1px 3px 1px rgba(0, 0, 0, 0.15);\n",
              "      filter: drop-shadow(0px 1px 2px rgba(0, 0, 0, 0.3));\n",
              "      fill: #FFFFFF;\n",
              "    }\n",
              "  </style>\n",
              "\n",
              "      <script>\n",
              "        const buttonEl =\n",
              "          document.querySelector('#df-8d32217d-69b7-4c84-aa89-553e308f1148 button.colab-df-convert');\n",
              "        buttonEl.style.display =\n",
              "          google.colab.kernel.accessAllowed ? 'block' : 'none';\n",
              "\n",
              "        async function convertToInteractive(key) {\n",
              "          const element = document.querySelector('#df-8d32217d-69b7-4c84-aa89-553e308f1148');\n",
              "          const dataTable =\n",
              "            await google.colab.kernel.invokeFunction('convertToInteractive',\n",
              "                                                     [key], {});\n",
              "          if (!dataTable) return;\n",
              "\n",
              "          const docLinkHtml = 'Like what you see? Visit the ' +\n",
              "            '<a target=\"_blank\" href=https://colab.research.google.com/notebooks/data_table.ipynb>data table notebook</a>'\n",
              "            + ' to learn more about interactive tables.';\n",
              "          element.innerHTML = '';\n",
              "          dataTable['output_type'] = 'display_data';\n",
              "          await google.colab.output.renderOutput(dataTable, element);\n",
              "          const docLink = document.createElement('div');\n",
              "          docLink.innerHTML = docLinkHtml;\n",
              "          element.appendChild(docLink);\n",
              "        }\n",
              "      </script>\n",
              "    </div>\n",
              "  </div>\n",
              "  "
            ]
          },
          "metadata": {},
          "execution_count": 36
        }
      ]
    },
    {
      "cell_type": "code",
      "source": [
        "# Clustering approach for tissues will be very similar to the weighted gene \n",
        "# encoding, except now each element in a vector here represents \n",
        "# tissue associations instead of gene associations.\n",
        "\n",
        "def implicated_tissue_weighted_encoding(in_df: pd.DataFrame) -> pd.DataFrame:\n",
        "  \"\"\"Encodes trait vectors where elements are relative tissue implications.\n",
        "\n",
        "  Specifically, for each trait, creates a vector (V1, V2... Vn) \n",
        "  where Vi = Ti/Max(Ti) where a trait has Ti variants implicated with ith tissue\n",
        "  and n is total tissues in `in_df`.\n",
        "  \n",
        "  E.g. if trait has tissue associations:\n",
        "    tissue1  tissue2  tissue3\n",
        "    1      3      5\n",
        "\n",
        "  Then encoding is:\n",
        "   (.2,   .6,     1)\n",
        "\n",
        "   DataFrame is returned with traits as column headers and vectors as columns.\n",
        "  \"\"\"\n",
        "  tissue_to_index = create_tissue_to_index_dict()\n",
        "  traits = in_df.index.tolist()\n",
        "  trait_to_encoding = {}\n",
        "  for trait in traits:\n",
        "    trait_row = in_df.loc[trait]\n",
        "    tissue_counts_encoding = trait_row.to_numpy()\n",
        "    max_val = max(tissue_counts_encoding)\n",
        "    tissue_counts_encoding = tissue_counts_encoding / max_val\n",
        "    trait_to_encoding[trait] = tissue_counts_encoding\n",
        "  return pd.DataFrame(trait_to_encoding)\n",
        "\n",
        "\n",
        "def create_tissue_to_index_dict() -> Dict[str, int]:\n",
        "  \"\"\"Maps tissue to index such that each tissue is assigned a unique index.\"\"\"\n",
        "  num_tissues = len(all_tissues)\n",
        "  tissue_to_index = {all_tissues[i]: i for i in range(num_tissues)}\n",
        "  return tissue_to_index\n",
        "\n",
        "\n",
        "# Test\n",
        "implicated_tissue_weighted_encoding(trait_to_tissue_count_df)"
      ],
      "metadata": {
        "colab": {
          "base_uri": "https://localhost:8080/",
          "height": 1000
        },
        "id": "NFyMjThZaqhO",
        "outputId": "75869cac-3b41-4f98-bcd5-92f677d6ef10"
      },
      "execution_count": 37,
      "outputs": [
        {
          "output_type": "execute_result",
          "data": {
            "text/plain": [
              "        ADHD  alzheimer disease  anxiety disorder  autism spectrum disorder  \\\n",
              "0   0.714286               1.00          0.466667                  0.777778   \n",
              "1   0.523810               0.52          0.600000                  0.888889   \n",
              "2   0.238095               0.36          0.400000                  0.444444   \n",
              "3   0.523810               0.72          0.466667                  0.666667   \n",
              "4   0.190476               0.20          0.266667                  0.222222   \n",
              "5   0.714286               0.84          0.866667                  0.888889   \n",
              "6   0.095238               0.12          0.200000                  0.222222   \n",
              "7   0.095238               0.12          0.400000                  0.555556   \n",
              "8   0.285714               0.48          0.466667                  0.444444   \n",
              "9   0.285714               0.56          0.666667                  1.000000   \n",
              "10  0.380952               0.80          0.733333                  0.888889   \n",
              "11  0.333333               0.60          0.400000                  0.666667   \n",
              "12  0.095238               0.24          0.333333                  0.555556   \n",
              "13  0.142857               0.44          0.333333                  0.222222   \n",
              "14  0.095238               0.20          0.266667                  0.333333   \n",
              "15  0.190476               0.52          0.533333                  0.555556   \n",
              "16  0.142857               0.56          0.333333                  0.555556   \n",
              "17  0.000000               0.16          0.466667                  0.111111   \n",
              "18  0.000000               0.16          0.133333                  0.111111   \n",
              "19  0.476190               0.32          0.533333                  0.444444   \n",
              "20  0.571429               0.72          0.933333                  1.000000   \n",
              "21  0.047619               0.24          0.266667                  0.111111   \n",
              "22  0.380952               0.80          0.266667                  0.666667   \n",
              "23  0.380952               0.56          0.533333                  0.555556   \n",
              "24  0.523810               0.76          0.400000                  0.666667   \n",
              "25  0.666667               0.88          0.600000                  0.666667   \n",
              "26  0.571429               0.96          0.533333                  0.888889   \n",
              "27  0.571429               0.68          0.533333                  0.888889   \n",
              "28  0.380952               0.64          0.666667                  0.444444   \n",
              "29  0.000000               0.16          0.066667                  0.000000   \n",
              "30  0.142857               0.36          0.266667                  0.222222   \n",
              "31  0.380952               0.84          0.866667                  0.666667   \n",
              "32  0.047619               0.04          0.200000                  0.111111   \n",
              "33  0.476190               0.84          0.533333                  0.777778   \n",
              "34  0.857143               0.80          0.533333                  0.888889   \n",
              "35  0.047619               0.24          0.200000                  0.111111   \n",
              "36  0.380952               0.64          0.600000                  0.555556   \n",
              "37  0.380952               0.44          0.400000                  0.777778   \n",
              "38  0.238095               0.32          0.333333                  0.333333   \n",
              "39  0.714286               0.72          0.800000                  0.888889   \n",
              "40  0.714286               0.84          0.800000                  0.888889   \n",
              "41  0.095238               0.24          0.266667                  0.333333   \n",
              "42  0.238095               0.60          0.600000                  0.555556   \n",
              "43  0.285714               0.64          0.600000                  0.333333   \n",
              "44  0.571429               0.72          0.933333                  1.000000   \n",
              "45  1.000000               0.84          0.933333                  1.000000   \n",
              "46  0.095238               0.08          0.133333                  0.000000   \n",
              "47  0.095238               0.08          0.133333                  0.222222   \n",
              "48  0.476190               1.00          1.000000                  0.888889   \n",
              "\n",
              "    bipolar disorder  drug dependence  eating disorder  schizophrenia  \\\n",
              "0           0.756098         0.600000         0.333333       0.867704   \n",
              "1           0.621951         0.285714         0.000000       0.723735   \n",
              "2           0.524390         0.114286         0.000000       0.501946   \n",
              "3           0.756098         0.485714         0.333333       0.762646   \n",
              "4           0.341463         0.228571         0.000000       0.373541   \n",
              "5           0.878049         0.771429         0.333333       0.871595   \n",
              "6           0.097561         0.057143         0.000000       0.241245   \n",
              "7           0.292683         0.028571         0.000000       0.322957   \n",
              "8           0.500000         0.200000         0.333333       0.517510   \n",
              "9           0.451220         0.342857         0.000000       0.494163   \n",
              "10          0.634146         0.400000         0.333333       0.622568   \n",
              "11          0.512195         0.028571         0.000000       0.501946   \n",
              "12          0.341463         0.028571         0.000000       0.455253   \n",
              "13          0.243902         0.057143         0.000000       0.365759   \n",
              "14          0.292683         0.028571         0.000000       0.338521   \n",
              "15          0.341463         0.057143         0.000000       0.459144   \n",
              "16          0.487805         0.200000         0.000000       0.431907   \n",
              "17          0.195122         0.057143         0.000000       0.315175   \n",
              "18          0.060976         0.028571         0.000000       0.143969   \n",
              "19          0.573171         0.457143         0.000000       0.614786   \n",
              "20          0.865854         0.457143         0.666667       0.898833   \n",
              "21          0.231707         0.085714         0.000000       0.338521   \n",
              "22          0.573171         0.285714         0.333333       0.599222   \n",
              "23          0.524390         0.342857         0.000000       0.595331   \n",
              "24          0.512195         0.371429         0.000000       0.626459   \n",
              "25          0.731707         0.514286         0.666667       0.832685   \n",
              "26          0.792683         0.428571         0.333333       0.797665   \n",
              "27          0.646341         0.628571         0.000000       0.696498   \n",
              "28          0.560976         0.628571         0.000000       0.642023   \n",
              "29          0.024390         0.028571         0.000000       0.081712   \n",
              "30          0.219512         0.285714         0.000000       0.354086   \n",
              "31          0.719512         0.742857         0.000000       0.747082   \n",
              "32          0.219512         0.028571         0.000000       0.214008   \n",
              "33          0.719512         0.742857         0.333333       0.793774   \n",
              "34          0.865854         0.600000         0.000000       0.922179   \n",
              "35          0.219512         0.028571         0.000000       0.315175   \n",
              "36          0.548780         0.257143         0.000000       0.591440   \n",
              "37          0.512195         0.085714         0.000000       0.560311   \n",
              "38          0.304878         0.085714         0.000000       0.459144   \n",
              "39          0.731707         0.542857         0.333333       0.859922   \n",
              "40          0.902439         0.571429         1.000000       0.894942   \n",
              "41          0.353659         0.228571         0.000000       0.377432   \n",
              "42          0.524390         0.314286         0.333333       0.575875   \n",
              "43          0.512195         0.371429         0.000000       0.568093   \n",
              "44          0.829268         0.514286         0.666667       0.902724   \n",
              "45          1.000000         1.000000         0.333333       1.000000   \n",
              "46          0.085366         0.085714         0.000000       0.217899   \n",
              "47          0.146341         0.028571         0.000000       0.264591   \n",
              "48          0.719512         0.314286         0.333333       0.785992   \n",
              "\n",
              "    unipolar depression  \n",
              "0              0.961165  \n",
              "1              0.825243  \n",
              "2              0.660194  \n",
              "3              0.708738  \n",
              "4              0.456311  \n",
              "5              0.951456  \n",
              "6              0.203883  \n",
              "7              0.359223  \n",
              "8              0.718447  \n",
              "9              0.679612  \n",
              "10             0.786408  \n",
              "11             0.689320  \n",
              "12             0.504854  \n",
              "13             0.417476  \n",
              "14             0.262136  \n",
              "15             0.631068  \n",
              "16             0.475728  \n",
              "17             0.368932  \n",
              "18             0.116505  \n",
              "19             0.747573  \n",
              "20             0.941748  \n",
              "21             0.378641  \n",
              "22             0.572816  \n",
              "23             0.747573  \n",
              "24             0.669903  \n",
              "25             0.990291  \n",
              "26             0.932039  \n",
              "27             0.660194  \n",
              "28             0.766990  \n",
              "29             0.029126  \n",
              "30             0.475728  \n",
              "31             0.815534  \n",
              "32             0.291262  \n",
              "33             0.980583  \n",
              "34             1.000000  \n",
              "35             0.504854  \n",
              "36             0.699029  \n",
              "37             0.582524  \n",
              "38             0.485437  \n",
              "39             0.873786  \n",
              "40             0.961165  \n",
              "41             0.456311  \n",
              "42             0.601942  \n",
              "43             0.650485  \n",
              "44             0.970874  \n",
              "45             0.961165  \n",
              "46             0.262136  \n",
              "47             0.349515  \n",
              "48             0.893204  "
            ],
            "text/html": [
              "\n",
              "  <div id=\"df-4f4ea963-88fe-4b88-bab9-bddc87cc9c73\">\n",
              "    <div class=\"colab-df-container\">\n",
              "      <div>\n",
              "<style scoped>\n",
              "    .dataframe tbody tr th:only-of-type {\n",
              "        vertical-align: middle;\n",
              "    }\n",
              "\n",
              "    .dataframe tbody tr th {\n",
              "        vertical-align: top;\n",
              "    }\n",
              "\n",
              "    .dataframe thead th {\n",
              "        text-align: right;\n",
              "    }\n",
              "</style>\n",
              "<table border=\"1\" class=\"dataframe\">\n",
              "  <thead>\n",
              "    <tr style=\"text-align: right;\">\n",
              "      <th></th>\n",
              "      <th>ADHD</th>\n",
              "      <th>alzheimer disease</th>\n",
              "      <th>anxiety disorder</th>\n",
              "      <th>autism spectrum disorder</th>\n",
              "      <th>bipolar disorder</th>\n",
              "      <th>drug dependence</th>\n",
              "      <th>eating disorder</th>\n",
              "      <th>schizophrenia</th>\n",
              "      <th>unipolar depression</th>\n",
              "    </tr>\n",
              "  </thead>\n",
              "  <tbody>\n",
              "    <tr>\n",
              "      <th>0</th>\n",
              "      <td>0.714286</td>\n",
              "      <td>1.00</td>\n",
              "      <td>0.466667</td>\n",
              "      <td>0.777778</td>\n",
              "      <td>0.756098</td>\n",
              "      <td>0.600000</td>\n",
              "      <td>0.333333</td>\n",
              "      <td>0.867704</td>\n",
              "      <td>0.961165</td>\n",
              "    </tr>\n",
              "    <tr>\n",
              "      <th>1</th>\n",
              "      <td>0.523810</td>\n",
              "      <td>0.52</td>\n",
              "      <td>0.600000</td>\n",
              "      <td>0.888889</td>\n",
              "      <td>0.621951</td>\n",
              "      <td>0.285714</td>\n",
              "      <td>0.000000</td>\n",
              "      <td>0.723735</td>\n",
              "      <td>0.825243</td>\n",
              "    </tr>\n",
              "    <tr>\n",
              "      <th>2</th>\n",
              "      <td>0.238095</td>\n",
              "      <td>0.36</td>\n",
              "      <td>0.400000</td>\n",
              "      <td>0.444444</td>\n",
              "      <td>0.524390</td>\n",
              "      <td>0.114286</td>\n",
              "      <td>0.000000</td>\n",
              "      <td>0.501946</td>\n",
              "      <td>0.660194</td>\n",
              "    </tr>\n",
              "    <tr>\n",
              "      <th>3</th>\n",
              "      <td>0.523810</td>\n",
              "      <td>0.72</td>\n",
              "      <td>0.466667</td>\n",
              "      <td>0.666667</td>\n",
              "      <td>0.756098</td>\n",
              "      <td>0.485714</td>\n",
              "      <td>0.333333</td>\n",
              "      <td>0.762646</td>\n",
              "      <td>0.708738</td>\n",
              "    </tr>\n",
              "    <tr>\n",
              "      <th>4</th>\n",
              "      <td>0.190476</td>\n",
              "      <td>0.20</td>\n",
              "      <td>0.266667</td>\n",
              "      <td>0.222222</td>\n",
              "      <td>0.341463</td>\n",
              "      <td>0.228571</td>\n",
              "      <td>0.000000</td>\n",
              "      <td>0.373541</td>\n",
              "      <td>0.456311</td>\n",
              "    </tr>\n",
              "    <tr>\n",
              "      <th>5</th>\n",
              "      <td>0.714286</td>\n",
              "      <td>0.84</td>\n",
              "      <td>0.866667</td>\n",
              "      <td>0.888889</td>\n",
              "      <td>0.878049</td>\n",
              "      <td>0.771429</td>\n",
              "      <td>0.333333</td>\n",
              "      <td>0.871595</td>\n",
              "      <td>0.951456</td>\n",
              "    </tr>\n",
              "    <tr>\n",
              "      <th>6</th>\n",
              "      <td>0.095238</td>\n",
              "      <td>0.12</td>\n",
              "      <td>0.200000</td>\n",
              "      <td>0.222222</td>\n",
              "      <td>0.097561</td>\n",
              "      <td>0.057143</td>\n",
              "      <td>0.000000</td>\n",
              "      <td>0.241245</td>\n",
              "      <td>0.203883</td>\n",
              "    </tr>\n",
              "    <tr>\n",
              "      <th>7</th>\n",
              "      <td>0.095238</td>\n",
              "      <td>0.12</td>\n",
              "      <td>0.400000</td>\n",
              "      <td>0.555556</td>\n",
              "      <td>0.292683</td>\n",
              "      <td>0.028571</td>\n",
              "      <td>0.000000</td>\n",
              "      <td>0.322957</td>\n",
              "      <td>0.359223</td>\n",
              "    </tr>\n",
              "    <tr>\n",
              "      <th>8</th>\n",
              "      <td>0.285714</td>\n",
              "      <td>0.48</td>\n",
              "      <td>0.466667</td>\n",
              "      <td>0.444444</td>\n",
              "      <td>0.500000</td>\n",
              "      <td>0.200000</td>\n",
              "      <td>0.333333</td>\n",
              "      <td>0.517510</td>\n",
              "      <td>0.718447</td>\n",
              "    </tr>\n",
              "    <tr>\n",
              "      <th>9</th>\n",
              "      <td>0.285714</td>\n",
              "      <td>0.56</td>\n",
              "      <td>0.666667</td>\n",
              "      <td>1.000000</td>\n",
              "      <td>0.451220</td>\n",
              "      <td>0.342857</td>\n",
              "      <td>0.000000</td>\n",
              "      <td>0.494163</td>\n",
              "      <td>0.679612</td>\n",
              "    </tr>\n",
              "    <tr>\n",
              "      <th>10</th>\n",
              "      <td>0.380952</td>\n",
              "      <td>0.80</td>\n",
              "      <td>0.733333</td>\n",
              "      <td>0.888889</td>\n",
              "      <td>0.634146</td>\n",
              "      <td>0.400000</td>\n",
              "      <td>0.333333</td>\n",
              "      <td>0.622568</td>\n",
              "      <td>0.786408</td>\n",
              "    </tr>\n",
              "    <tr>\n",
              "      <th>11</th>\n",
              "      <td>0.333333</td>\n",
              "      <td>0.60</td>\n",
              "      <td>0.400000</td>\n",
              "      <td>0.666667</td>\n",
              "      <td>0.512195</td>\n",
              "      <td>0.028571</td>\n",
              "      <td>0.000000</td>\n",
              "      <td>0.501946</td>\n",
              "      <td>0.689320</td>\n",
              "    </tr>\n",
              "    <tr>\n",
              "      <th>12</th>\n",
              "      <td>0.095238</td>\n",
              "      <td>0.24</td>\n",
              "      <td>0.333333</td>\n",
              "      <td>0.555556</td>\n",
              "      <td>0.341463</td>\n",
              "      <td>0.028571</td>\n",
              "      <td>0.000000</td>\n",
              "      <td>0.455253</td>\n",
              "      <td>0.504854</td>\n",
              "    </tr>\n",
              "    <tr>\n",
              "      <th>13</th>\n",
              "      <td>0.142857</td>\n",
              "      <td>0.44</td>\n",
              "      <td>0.333333</td>\n",
              "      <td>0.222222</td>\n",
              "      <td>0.243902</td>\n",
              "      <td>0.057143</td>\n",
              "      <td>0.000000</td>\n",
              "      <td>0.365759</td>\n",
              "      <td>0.417476</td>\n",
              "    </tr>\n",
              "    <tr>\n",
              "      <th>14</th>\n",
              "      <td>0.095238</td>\n",
              "      <td>0.20</td>\n",
              "      <td>0.266667</td>\n",
              "      <td>0.333333</td>\n",
              "      <td>0.292683</td>\n",
              "      <td>0.028571</td>\n",
              "      <td>0.000000</td>\n",
              "      <td>0.338521</td>\n",
              "      <td>0.262136</td>\n",
              "    </tr>\n",
              "    <tr>\n",
              "      <th>15</th>\n",
              "      <td>0.190476</td>\n",
              "      <td>0.52</td>\n",
              "      <td>0.533333</td>\n",
              "      <td>0.555556</td>\n",
              "      <td>0.341463</td>\n",
              "      <td>0.057143</td>\n",
              "      <td>0.000000</td>\n",
              "      <td>0.459144</td>\n",
              "      <td>0.631068</td>\n",
              "    </tr>\n",
              "    <tr>\n",
              "      <th>16</th>\n",
              "      <td>0.142857</td>\n",
              "      <td>0.56</td>\n",
              "      <td>0.333333</td>\n",
              "      <td>0.555556</td>\n",
              "      <td>0.487805</td>\n",
              "      <td>0.200000</td>\n",
              "      <td>0.000000</td>\n",
              "      <td>0.431907</td>\n",
              "      <td>0.475728</td>\n",
              "    </tr>\n",
              "    <tr>\n",
              "      <th>17</th>\n",
              "      <td>0.000000</td>\n",
              "      <td>0.16</td>\n",
              "      <td>0.466667</td>\n",
              "      <td>0.111111</td>\n",
              "      <td>0.195122</td>\n",
              "      <td>0.057143</td>\n",
              "      <td>0.000000</td>\n",
              "      <td>0.315175</td>\n",
              "      <td>0.368932</td>\n",
              "    </tr>\n",
              "    <tr>\n",
              "      <th>18</th>\n",
              "      <td>0.000000</td>\n",
              "      <td>0.16</td>\n",
              "      <td>0.133333</td>\n",
              "      <td>0.111111</td>\n",
              "      <td>0.060976</td>\n",
              "      <td>0.028571</td>\n",
              "      <td>0.000000</td>\n",
              "      <td>0.143969</td>\n",
              "      <td>0.116505</td>\n",
              "    </tr>\n",
              "    <tr>\n",
              "      <th>19</th>\n",
              "      <td>0.476190</td>\n",
              "      <td>0.32</td>\n",
              "      <td>0.533333</td>\n",
              "      <td>0.444444</td>\n",
              "      <td>0.573171</td>\n",
              "      <td>0.457143</td>\n",
              "      <td>0.000000</td>\n",
              "      <td>0.614786</td>\n",
              "      <td>0.747573</td>\n",
              "    </tr>\n",
              "    <tr>\n",
              "      <th>20</th>\n",
              "      <td>0.571429</td>\n",
              "      <td>0.72</td>\n",
              "      <td>0.933333</td>\n",
              "      <td>1.000000</td>\n",
              "      <td>0.865854</td>\n",
              "      <td>0.457143</td>\n",
              "      <td>0.666667</td>\n",
              "      <td>0.898833</td>\n",
              "      <td>0.941748</td>\n",
              "    </tr>\n",
              "    <tr>\n",
              "      <th>21</th>\n",
              "      <td>0.047619</td>\n",
              "      <td>0.24</td>\n",
              "      <td>0.266667</td>\n",
              "      <td>0.111111</td>\n",
              "      <td>0.231707</td>\n",
              "      <td>0.085714</td>\n",
              "      <td>0.000000</td>\n",
              "      <td>0.338521</td>\n",
              "      <td>0.378641</td>\n",
              "    </tr>\n",
              "    <tr>\n",
              "      <th>22</th>\n",
              "      <td>0.380952</td>\n",
              "      <td>0.80</td>\n",
              "      <td>0.266667</td>\n",
              "      <td>0.666667</td>\n",
              "      <td>0.573171</td>\n",
              "      <td>0.285714</td>\n",
              "      <td>0.333333</td>\n",
              "      <td>0.599222</td>\n",
              "      <td>0.572816</td>\n",
              "    </tr>\n",
              "    <tr>\n",
              "      <th>23</th>\n",
              "      <td>0.380952</td>\n",
              "      <td>0.56</td>\n",
              "      <td>0.533333</td>\n",
              "      <td>0.555556</td>\n",
              "      <td>0.524390</td>\n",
              "      <td>0.342857</td>\n",
              "      <td>0.000000</td>\n",
              "      <td>0.595331</td>\n",
              "      <td>0.747573</td>\n",
              "    </tr>\n",
              "    <tr>\n",
              "      <th>24</th>\n",
              "      <td>0.523810</td>\n",
              "      <td>0.76</td>\n",
              "      <td>0.400000</td>\n",
              "      <td>0.666667</td>\n",
              "      <td>0.512195</td>\n",
              "      <td>0.371429</td>\n",
              "      <td>0.000000</td>\n",
              "      <td>0.626459</td>\n",
              "      <td>0.669903</td>\n",
              "    </tr>\n",
              "    <tr>\n",
              "      <th>25</th>\n",
              "      <td>0.666667</td>\n",
              "      <td>0.88</td>\n",
              "      <td>0.600000</td>\n",
              "      <td>0.666667</td>\n",
              "      <td>0.731707</td>\n",
              "      <td>0.514286</td>\n",
              "      <td>0.666667</td>\n",
              "      <td>0.832685</td>\n",
              "      <td>0.990291</td>\n",
              "    </tr>\n",
              "    <tr>\n",
              "      <th>26</th>\n",
              "      <td>0.571429</td>\n",
              "      <td>0.96</td>\n",
              "      <td>0.533333</td>\n",
              "      <td>0.888889</td>\n",
              "      <td>0.792683</td>\n",
              "      <td>0.428571</td>\n",
              "      <td>0.333333</td>\n",
              "      <td>0.797665</td>\n",
              "      <td>0.932039</td>\n",
              "    </tr>\n",
              "    <tr>\n",
              "      <th>27</th>\n",
              "      <td>0.571429</td>\n",
              "      <td>0.68</td>\n",
              "      <td>0.533333</td>\n",
              "      <td>0.888889</td>\n",
              "      <td>0.646341</td>\n",
              "      <td>0.628571</td>\n",
              "      <td>0.000000</td>\n",
              "      <td>0.696498</td>\n",
              "      <td>0.660194</td>\n",
              "    </tr>\n",
              "    <tr>\n",
              "      <th>28</th>\n",
              "      <td>0.380952</td>\n",
              "      <td>0.64</td>\n",
              "      <td>0.666667</td>\n",
              "      <td>0.444444</td>\n",
              "      <td>0.560976</td>\n",
              "      <td>0.628571</td>\n",
              "      <td>0.000000</td>\n",
              "      <td>0.642023</td>\n",
              "      <td>0.766990</td>\n",
              "    </tr>\n",
              "    <tr>\n",
              "      <th>29</th>\n",
              "      <td>0.000000</td>\n",
              "      <td>0.16</td>\n",
              "      <td>0.066667</td>\n",
              "      <td>0.000000</td>\n",
              "      <td>0.024390</td>\n",
              "      <td>0.028571</td>\n",
              "      <td>0.000000</td>\n",
              "      <td>0.081712</td>\n",
              "      <td>0.029126</td>\n",
              "    </tr>\n",
              "    <tr>\n",
              "      <th>30</th>\n",
              "      <td>0.142857</td>\n",
              "      <td>0.36</td>\n",
              "      <td>0.266667</td>\n",
              "      <td>0.222222</td>\n",
              "      <td>0.219512</td>\n",
              "      <td>0.285714</td>\n",
              "      <td>0.000000</td>\n",
              "      <td>0.354086</td>\n",
              "      <td>0.475728</td>\n",
              "    </tr>\n",
              "    <tr>\n",
              "      <th>31</th>\n",
              "      <td>0.380952</td>\n",
              "      <td>0.84</td>\n",
              "      <td>0.866667</td>\n",
              "      <td>0.666667</td>\n",
              "      <td>0.719512</td>\n",
              "      <td>0.742857</td>\n",
              "      <td>0.000000</td>\n",
              "      <td>0.747082</td>\n",
              "      <td>0.815534</td>\n",
              "    </tr>\n",
              "    <tr>\n",
              "      <th>32</th>\n",
              "      <td>0.047619</td>\n",
              "      <td>0.04</td>\n",
              "      <td>0.200000</td>\n",
              "      <td>0.111111</td>\n",
              "      <td>0.219512</td>\n",
              "      <td>0.028571</td>\n",
              "      <td>0.000000</td>\n",
              "      <td>0.214008</td>\n",
              "      <td>0.291262</td>\n",
              "    </tr>\n",
              "    <tr>\n",
              "      <th>33</th>\n",
              "      <td>0.476190</td>\n",
              "      <td>0.84</td>\n",
              "      <td>0.533333</td>\n",
              "      <td>0.777778</td>\n",
              "      <td>0.719512</td>\n",
              "      <td>0.742857</td>\n",
              "      <td>0.333333</td>\n",
              "      <td>0.793774</td>\n",
              "      <td>0.980583</td>\n",
              "    </tr>\n",
              "    <tr>\n",
              "      <th>34</th>\n",
              "      <td>0.857143</td>\n",
              "      <td>0.80</td>\n",
              "      <td>0.533333</td>\n",
              "      <td>0.888889</td>\n",
              "      <td>0.865854</td>\n",
              "      <td>0.600000</td>\n",
              "      <td>0.000000</td>\n",
              "      <td>0.922179</td>\n",
              "      <td>1.000000</td>\n",
              "    </tr>\n",
              "    <tr>\n",
              "      <th>35</th>\n",
              "      <td>0.047619</td>\n",
              "      <td>0.24</td>\n",
              "      <td>0.200000</td>\n",
              "      <td>0.111111</td>\n",
              "      <td>0.219512</td>\n",
              "      <td>0.028571</td>\n",
              "      <td>0.000000</td>\n",
              "      <td>0.315175</td>\n",
              "      <td>0.504854</td>\n",
              "    </tr>\n",
              "    <tr>\n",
              "      <th>36</th>\n",
              "      <td>0.380952</td>\n",
              "      <td>0.64</td>\n",
              "      <td>0.600000</td>\n",
              "      <td>0.555556</td>\n",
              "      <td>0.548780</td>\n",
              "      <td>0.257143</td>\n",
              "      <td>0.000000</td>\n",
              "      <td>0.591440</td>\n",
              "      <td>0.699029</td>\n",
              "    </tr>\n",
              "    <tr>\n",
              "      <th>37</th>\n",
              "      <td>0.380952</td>\n",
              "      <td>0.44</td>\n",
              "      <td>0.400000</td>\n",
              "      <td>0.777778</td>\n",
              "      <td>0.512195</td>\n",
              "      <td>0.085714</td>\n",
              "      <td>0.000000</td>\n",
              "      <td>0.560311</td>\n",
              "      <td>0.582524</td>\n",
              "    </tr>\n",
              "    <tr>\n",
              "      <th>38</th>\n",
              "      <td>0.238095</td>\n",
              "      <td>0.32</td>\n",
              "      <td>0.333333</td>\n",
              "      <td>0.333333</td>\n",
              "      <td>0.304878</td>\n",
              "      <td>0.085714</td>\n",
              "      <td>0.000000</td>\n",
              "      <td>0.459144</td>\n",
              "      <td>0.485437</td>\n",
              "    </tr>\n",
              "    <tr>\n",
              "      <th>39</th>\n",
              "      <td>0.714286</td>\n",
              "      <td>0.72</td>\n",
              "      <td>0.800000</td>\n",
              "      <td>0.888889</td>\n",
              "      <td>0.731707</td>\n",
              "      <td>0.542857</td>\n",
              "      <td>0.333333</td>\n",
              "      <td>0.859922</td>\n",
              "      <td>0.873786</td>\n",
              "    </tr>\n",
              "    <tr>\n",
              "      <th>40</th>\n",
              "      <td>0.714286</td>\n",
              "      <td>0.84</td>\n",
              "      <td>0.800000</td>\n",
              "      <td>0.888889</td>\n",
              "      <td>0.902439</td>\n",
              "      <td>0.571429</td>\n",
              "      <td>1.000000</td>\n",
              "      <td>0.894942</td>\n",
              "      <td>0.961165</td>\n",
              "    </tr>\n",
              "    <tr>\n",
              "      <th>41</th>\n",
              "      <td>0.095238</td>\n",
              "      <td>0.24</td>\n",
              "      <td>0.266667</td>\n",
              "      <td>0.333333</td>\n",
              "      <td>0.353659</td>\n",
              "      <td>0.228571</td>\n",
              "      <td>0.000000</td>\n",
              "      <td>0.377432</td>\n",
              "      <td>0.456311</td>\n",
              "    </tr>\n",
              "    <tr>\n",
              "      <th>42</th>\n",
              "      <td>0.238095</td>\n",
              "      <td>0.60</td>\n",
              "      <td>0.600000</td>\n",
              "      <td>0.555556</td>\n",
              "      <td>0.524390</td>\n",
              "      <td>0.314286</td>\n",
              "      <td>0.333333</td>\n",
              "      <td>0.575875</td>\n",
              "      <td>0.601942</td>\n",
              "    </tr>\n",
              "    <tr>\n",
              "      <th>43</th>\n",
              "      <td>0.285714</td>\n",
              "      <td>0.64</td>\n",
              "      <td>0.600000</td>\n",
              "      <td>0.333333</td>\n",
              "      <td>0.512195</td>\n",
              "      <td>0.371429</td>\n",
              "      <td>0.000000</td>\n",
              "      <td>0.568093</td>\n",
              "      <td>0.650485</td>\n",
              "    </tr>\n",
              "    <tr>\n",
              "      <th>44</th>\n",
              "      <td>0.571429</td>\n",
              "      <td>0.72</td>\n",
              "      <td>0.933333</td>\n",
              "      <td>1.000000</td>\n",
              "      <td>0.829268</td>\n",
              "      <td>0.514286</td>\n",
              "      <td>0.666667</td>\n",
              "      <td>0.902724</td>\n",
              "      <td>0.970874</td>\n",
              "    </tr>\n",
              "    <tr>\n",
              "      <th>45</th>\n",
              "      <td>1.000000</td>\n",
              "      <td>0.84</td>\n",
              "      <td>0.933333</td>\n",
              "      <td>1.000000</td>\n",
              "      <td>1.000000</td>\n",
              "      <td>1.000000</td>\n",
              "      <td>0.333333</td>\n",
              "      <td>1.000000</td>\n",
              "      <td>0.961165</td>\n",
              "    </tr>\n",
              "    <tr>\n",
              "      <th>46</th>\n",
              "      <td>0.095238</td>\n",
              "      <td>0.08</td>\n",
              "      <td>0.133333</td>\n",
              "      <td>0.000000</td>\n",
              "      <td>0.085366</td>\n",
              "      <td>0.085714</td>\n",
              "      <td>0.000000</td>\n",
              "      <td>0.217899</td>\n",
              "      <td>0.262136</td>\n",
              "    </tr>\n",
              "    <tr>\n",
              "      <th>47</th>\n",
              "      <td>0.095238</td>\n",
              "      <td>0.08</td>\n",
              "      <td>0.133333</td>\n",
              "      <td>0.222222</td>\n",
              "      <td>0.146341</td>\n",
              "      <td>0.028571</td>\n",
              "      <td>0.000000</td>\n",
              "      <td>0.264591</td>\n",
              "      <td>0.349515</td>\n",
              "    </tr>\n",
              "    <tr>\n",
              "      <th>48</th>\n",
              "      <td>0.476190</td>\n",
              "      <td>1.00</td>\n",
              "      <td>1.000000</td>\n",
              "      <td>0.888889</td>\n",
              "      <td>0.719512</td>\n",
              "      <td>0.314286</td>\n",
              "      <td>0.333333</td>\n",
              "      <td>0.785992</td>\n",
              "      <td>0.893204</td>\n",
              "    </tr>\n",
              "  </tbody>\n",
              "</table>\n",
              "</div>\n",
              "      <button class=\"colab-df-convert\" onclick=\"convertToInteractive('df-4f4ea963-88fe-4b88-bab9-bddc87cc9c73')\"\n",
              "              title=\"Convert this dataframe to an interactive table.\"\n",
              "              style=\"display:none;\">\n",
              "        \n",
              "  <svg xmlns=\"http://www.w3.org/2000/svg\" height=\"24px\"viewBox=\"0 0 24 24\"\n",
              "       width=\"24px\">\n",
              "    <path d=\"M0 0h24v24H0V0z\" fill=\"none\"/>\n",
              "    <path d=\"M18.56 5.44l.94 2.06.94-2.06 2.06-.94-2.06-.94-.94-2.06-.94 2.06-2.06.94zm-11 1L8.5 8.5l.94-2.06 2.06-.94-2.06-.94L8.5 2.5l-.94 2.06-2.06.94zm10 10l.94 2.06.94-2.06 2.06-.94-2.06-.94-.94-2.06-.94 2.06-2.06.94z\"/><path d=\"M17.41 7.96l-1.37-1.37c-.4-.4-.92-.59-1.43-.59-.52 0-1.04.2-1.43.59L10.3 9.45l-7.72 7.72c-.78.78-.78 2.05 0 2.83L4 21.41c.39.39.9.59 1.41.59.51 0 1.02-.2 1.41-.59l7.78-7.78 2.81-2.81c.8-.78.8-2.07 0-2.86zM5.41 20L4 18.59l7.72-7.72 1.47 1.35L5.41 20z\"/>\n",
              "  </svg>\n",
              "      </button>\n",
              "      \n",
              "  <style>\n",
              "    .colab-df-container {\n",
              "      display:flex;\n",
              "      flex-wrap:wrap;\n",
              "      gap: 12px;\n",
              "    }\n",
              "\n",
              "    .colab-df-convert {\n",
              "      background-color: #E8F0FE;\n",
              "      border: none;\n",
              "      border-radius: 50%;\n",
              "      cursor: pointer;\n",
              "      display: none;\n",
              "      fill: #1967D2;\n",
              "      height: 32px;\n",
              "      padding: 0 0 0 0;\n",
              "      width: 32px;\n",
              "    }\n",
              "\n",
              "    .colab-df-convert:hover {\n",
              "      background-color: #E2EBFA;\n",
              "      box-shadow: 0px 1px 2px rgba(60, 64, 67, 0.3), 0px 1px 3px 1px rgba(60, 64, 67, 0.15);\n",
              "      fill: #174EA6;\n",
              "    }\n",
              "\n",
              "    [theme=dark] .colab-df-convert {\n",
              "      background-color: #3B4455;\n",
              "      fill: #D2E3FC;\n",
              "    }\n",
              "\n",
              "    [theme=dark] .colab-df-convert:hover {\n",
              "      background-color: #434B5C;\n",
              "      box-shadow: 0px 1px 3px 1px rgba(0, 0, 0, 0.15);\n",
              "      filter: drop-shadow(0px 1px 2px rgba(0, 0, 0, 0.3));\n",
              "      fill: #FFFFFF;\n",
              "    }\n",
              "  </style>\n",
              "\n",
              "      <script>\n",
              "        const buttonEl =\n",
              "          document.querySelector('#df-4f4ea963-88fe-4b88-bab9-bddc87cc9c73 button.colab-df-convert');\n",
              "        buttonEl.style.display =\n",
              "          google.colab.kernel.accessAllowed ? 'block' : 'none';\n",
              "\n",
              "        async function convertToInteractive(key) {\n",
              "          const element = document.querySelector('#df-4f4ea963-88fe-4b88-bab9-bddc87cc9c73');\n",
              "          const dataTable =\n",
              "            await google.colab.kernel.invokeFunction('convertToInteractive',\n",
              "                                                     [key], {});\n",
              "          if (!dataTable) return;\n",
              "\n",
              "          const docLinkHtml = 'Like what you see? Visit the ' +\n",
              "            '<a target=\"_blank\" href=https://colab.research.google.com/notebooks/data_table.ipynb>data table notebook</a>'\n",
              "            + ' to learn more about interactive tables.';\n",
              "          element.innerHTML = '';\n",
              "          dataTable['output_type'] = 'display_data';\n",
              "          await google.colab.output.renderOutput(dataTable, element);\n",
              "          const docLink = document.createElement('div');\n",
              "          docLink.innerHTML = docLinkHtml;\n",
              "          element.appendChild(docLink);\n",
              "        }\n",
              "      </script>\n",
              "    </div>\n",
              "  </div>\n",
              "  "
            ]
          },
          "metadata": {},
          "execution_count": 37
        }
      ]
    },
    {
      "cell_type": "code",
      "source": [
        "hierachical_clustering(\n",
        "    trait_to_tissue_count_df,\n",
        "    'Tissue-Associations-Weighted',\n",
        "    implicated_tissue_weighted_encoding)"
      ],
      "metadata": {
        "colab": {
          "base_uri": "https://localhost:8080/",
          "height": 454
        },
        "id": "u2i0ycs5eGrW",
        "outputId": "20e2ca30-8144-4b81-b88e-54dd381dc526"
      },
      "execution_count": 38,
      "outputs": [
        {
          "output_type": "display_data",
          "data": {
            "text/plain": [
              "<Figure size 432x288 with 1 Axes>"
            ],
            "image/png": "[encoded data removed]"
          },
          "metadata": {
            "needs_background": "light"
          }
        }
      ]
    },
    {
      "cell_type": "markdown",
      "source": [
        "Actually quite different from other plots. The ADHD, eating disorder, drug dependence sub-cluster seems to be very distinct from the other group. Schizophrenia and bipolar disorder are still closely related.\n",
        "\n",
        "Although normalizing the encoded values to the ranges 0-1 somewhat accounts for varying data sizes, it may not be sufficient since more data means more potential to have tissue associations, which could lead to denser vectors for these traits which may not actually have any clinical significance."
      ],
      "metadata": {
        "id": "mtW6E3v9eRBu"
      }
    }
  ]
}