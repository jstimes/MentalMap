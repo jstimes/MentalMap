{
 "cells": [
  {
   "cell_type": "code",
   "execution_count": null,
   "metadata": {
    "id": "UAbXVgy5KjX7"
   },
   "outputs": [],
   "source": [
    "import pandas as pd\n",
    "import numpy as np\n",
    "import math"
   ]
  },
  {
   "cell_type": "markdown",
   "metadata": {
    "id": "mTxAgT2zOibe"
   },
   "source": [
    "# Exploratory analysis of CSV data retrieved from GWAS Catalog.\n",
    "This specific data is for Schizophrenia, but other data in GWAS catalog can be retrieved in the same format."
   ]
  },
  {
   "cell_type": "markdown",
   "metadata": {
    "id": "XW0Lgdp_O5Vd"
   },
   "source": [
    "## Exploring raw data types, range of data, etc."
   ]
  },
  {
   "cell_type": "markdown",
   "metadata": {
    "id": "TQdTvW4PdZ4U"
   },
   "source": [
    "### Overall"
   ]
  },
  {
   "cell_type": "code",
   "execution_count": null,
   "metadata": {
    "colab": {
     "base_uri": "https://localhost:8080/",
     "height": 406
    },
    "id": "nXJNKD_CLlUG",
    "outputId": "83ae8814-f9fc-4ee5-c96d-06a6966f8aec"
   },
   "outputs": [],
   "source": [
    "raw_schizo_df = pd.read_csv('schizophrenia_gwas_catalog_2022.csv')\n",
    "raw_schizo_df.head()"
   ]
  },
  {
   "cell_type": "code",
   "execution_count": null,
   "metadata": {
    "colab": {
     "base_uri": "https://localhost:8080/"
    },
    "id": "zCA0sf0KOGyb",
    "outputId": "3aacdead-5840-4c2d-b557-c6de7d108365"
   },
   "outputs": [],
   "source": [
    "total_rows = len(raw_schizo_df)\n",
    "print(total_rows)"
   ]
  },
  {
   "cell_type": "markdown",
   "metadata": {
    "id": "paPFoTXsie8g"
   },
   "source": [
    "### Variants"
   ]
  },
  {
   "cell_type": "code",
   "execution_count": null,
   "metadata": {
    "colab": {
     "base_uri": "https://localhost:8080/"
    },
    "id": "FDBrlIoQgdEH",
    "outputId": "7a247bd0-4d17-4948-ee69-4b33e527f00b"
   },
   "outputs": [],
   "source": [
    "num_unique_variants = len(raw_schizo_df['Variant and risk allele'].unique())\n",
    "print(f\"{num_unique_variants} unique variants out of {total_rows} records.\")\n",
    "\n",
    "variant_counts = raw_schizo_df['Variant and risk allele'].value_counts()"
   ]
  },
  {
   "cell_type": "code",
   "execution_count": null,
   "metadata": {
    "colab": {
     "base_uri": "https://localhost:8080/",
     "height": 357
    },
    "id": "YDuCCGgphyH6",
    "outputId": "fadeb362-4f13-447a-9752-d73bbb0c02ae"
   },
   "outputs": [],
   "source": [
    "# Explore entries for one repeated variant to assess differences.\n",
    "duplicates = raw_schizo_df.groupby('Variant and risk allele').filter(lambda x: len(x) > 1)\n",
    "one_variant = duplicates.iloc[0]['Variant and risk allele']\n",
    "duplicates[duplicates['Variant and risk allele'] == one_variant]"
   ]
  },
  {
   "cell_type": "markdown",
   "metadata": {
    "id": "PbmATP9YddQj"
   },
   "source": [
    "### P-values"
   ]
  },
  {
   "cell_type": "code",
   "execution_count": null,
   "metadata": {
    "colab": {
     "base_uri": "https://localhost:8080/"
    },
    "id": "g41Sh8RuLnPN",
    "outputId": "5d6026e9-0b72-463d-9295-efb36cebd569"
   },
   "outputs": [],
   "source": [
    "raw_schizo_df['P-value'].describe()"
   ]
  },
  {
   "cell_type": "code",
   "execution_count": null,
   "metadata": {
    "colab": {
     "base_uri": "https://localhost:8080/"
    },
    "id": "mgVNo3V-MP6N",
    "outputId": "456ed24a-a078-4295-e317-97c0bf7a720e"
   },
   "outputs": [],
   "source": [
    "len(raw_schizo_df['Mapped gene'].unique())"
   ]
  },
  {
   "cell_type": "markdown",
   "metadata": {
    "id": "e_LgZVotdffl"
   },
   "source": [
    "### Genes"
   ]
  },
  {
   "cell_type": "code",
   "execution_count": null,
   "metadata": {
    "colab": {
     "base_uri": "https://localhost:8080/"
    },
    "id": "ZM4sTedCQ-Oi",
    "outputId": "b0e0b2f6-1859-40ff-aec0-de28efcf7ef3"
   },
   "outputs": [],
   "source": [
    "def has_multiple_genes(mapped_gene):\n",
    "  return \",\" in mapped_gene\n",
    "\n",
    "\n",
    "multi_gene_index = raw_schizo_df['Mapped gene'].apply(has_multiple_genes)\n",
    "len(raw_schizo_df[multi_gene_index])"
   ]
  },
  {
   "cell_type": "markdown",
   "metadata": {
    "id": "Gf8cidfkdh1k"
   },
   "source": [
    "### Reported trait / Trait(s)"
   ]
  },
  {
   "cell_type": "code",
   "execution_count": null,
   "metadata": {
    "colab": {
     "base_uri": "https://localhost:8080/"
    },
    "id": "5mnchVO9cL2a",
    "outputId": "ab002d74-fe00-401b-ceec-1f10ebd74ba5"
   },
   "outputs": [],
   "source": [
    "raw_schizo_df['Reported trait'].unique()"
   ]
  },
  {
   "cell_type": "code",
   "execution_count": null,
   "metadata": {
    "colab": {
     "base_uri": "https://localhost:8080/"
    },
    "id": "kkaJyiFPcjHA",
    "outputId": "c8384653-fa19-49f3-ffc7-e1a8b5b0bdd3"
   },
   "outputs": [],
   "source": [
    "raw_schizo_df['Trait(s)'].unique()"
   ]
  },
  {
   "cell_type": "code",
   "execution_count": null,
   "metadata": {
    "colab": {
     "base_uri": "https://localhost:8080/"
    },
    "id": "kWJP-ikGdtuo",
    "outputId": "b186e564-c6a5-40fe-f8f7-705dc4c66f74"
   },
   "outputs": [],
   "source": [
    "num_just_schizo = len(raw_schizo_df[raw_schizo_df['Trait(s)'] == 'schizophrenia'])\n",
    "print(f\"{num_just_schizo} / {total_rows} rows are for the trait schizophrenia only.\")"
   ]
  },
  {
   "cell_type": "markdown",
   "metadata": {
    "id": "ENGk5KD2OM2t"
   },
   "source": [
    "### Initial observations:\n",
    "\n",
    "\n",
    "*   3849 records total\n",
    "*   P-values are currently objects/strings\n",
    "*   A lot of genes - 1427 unique values, although some normalization seems to be required (e.g. to fix \"SLAMF1, SETP9\"). After normalizing it may be good to analyze counts per gene - maybe genes only implicated once are less signficant than others which appear multiple times.\n",
    "*   Many records have multiple traits in addition to schizophrenia (e.g. one trait value is \"anorexia nervosa, obsessive-compulsive disorder, attention deficit hyperactivity disorder, Tourette syndrome, unipolar depression, autism spectrum disorder, schizophrenia, bipolar disorder\"). I assume these studies examined patients with either condition, but it's not entirely clear without checking the studies themselves. To make this a scalable approach, it may be best to omit records that are for more than just schizophrenia to avoid any potential biases in the future similarity analysis.\n",
    "* A fair amount of the variants in the dataset appear multiple times (e.g. reported by different studies). It's worth noting this, although at the moment it's unclear what the best way to handle this is. Maybe subsequent analysis should only focus on variants identified multiple time; maybe for each repeated variant, only the lowest p-value should be retained. However, some care should be applied given the above point about traits (maybe want the lowest p-value among records for just the trait schizophrenia).\n",
    "\n"
   ]
  },
  {
   "cell_type": "markdown",
   "metadata": {
    "id": "U8SyM_12O1MI"
   },
   "source": [
    "## Cleaning/normalizing data"
   ]
  },
  {
   "cell_type": "code",
   "execution_count": null,
   "metadata": {
    "id": "2KAjcAXParMN"
   },
   "outputs": [],
   "source": [
    "# Create copy of DF to hold normalized data and leave raw DF untouched.\n",
    "schizo_df = raw_schizo_df.copy()"
   ]
  },
  {
   "cell_type": "markdown",
   "metadata": {
    "id": "eP-3GQ0uQZvM"
   },
   "source": [
    "### P-values"
   ]
  },
  {
   "cell_type": "code",
   "execution_count": null,
   "metadata": {
    "colab": {
     "base_uri": "https://localhost:8080/"
    },
    "id": "hbsuFR9pPA43",
    "outputId": "d6d0203f-b838-4a07-a799-5274cd95dd47"
   },
   "outputs": [],
   "source": [
    "def pval_to_num(pval):\n",
    "  parts = pval.split(\" x 10-\")\n",
    "  return float(parts[0]) * pow(10, -float(parts[1]))\n",
    "\n",
    "\n",
    "print(pval_to_num(\"2 x 10-7\"))"
   ]
  },
  {
   "cell_type": "code",
   "execution_count": null,
   "metadata": {
    "id": "SQrLRsBxQL5h"
   },
   "outputs": [],
   "source": [
    "schizo_df['P-value_norm'] = raw_schizo_df['P-value'].apply(pval_to_num)"
   ]
  },
  {
   "cell_type": "code",
   "execution_count": null,
   "metadata": {
    "colab": {
     "base_uri": "https://localhost:8080/"
    },
    "id": "zoS3N2RGQM9g",
    "outputId": "9083d0c9-6864-484f-934b-9e058781d4d4"
   },
   "outputs": [],
   "source": [
    "schizo_df['P-value_norm'].describe()"
   ]
  },
  {
   "cell_type": "markdown",
   "metadata": {
    "id": "0SSZg5kfl3XG"
   },
   "source": [
    "### Traits"
   ]
  },
  {
   "cell_type": "code",
   "execution_count": null,
   "metadata": {
    "colab": {
     "base_uri": "https://localhost:8080/"
    },
    "id": "iI-9G6dXl5rF",
    "outputId": "0556f952-be20-40d6-9765-008e2765d733"
   },
   "outputs": [],
   "source": [
    "# As mentioned above, it may be best to use the subset of data which focused \n",
    "# solely on the trait of interest (schizophrenia).\n",
    "# There are some others that are probably fine to include (e.g. treatment \n",
    "# refractory schizophrenia), but for the sake of simplicity and \n",
    "# generalizability, we'll assume there is one canonical GWAS catalog trait of \n",
    "# interest for each condition to be analyzed.\n",
    "canonical_trait = 'schizophrenia'\n",
    "filtered_df = schizo_df[schizo_df['Trait(s)'] == canonical_trait]\n",
    "print(f\"Filtered from {len(schizo_df)} rows to {len(filtered_df)} rows.\")"
   ]
  },
  {
   "cell_type": "code",
   "execution_count": null,
   "metadata": {
    "id": "IfJGflY2mqHX"
   },
   "outputs": [],
   "source": [
    "# The majority of the data is retained, so we'll use just this subset.\n",
    "schizo_df = filtered_df"
   ]
  },
  {
   "cell_type": "markdown",
   "metadata": {
    "id": "nKmkwArwnIDb"
   },
   "source": [
    "### Variants"
   ]
  },
  {
   "cell_type": "code",
   "execution_count": null,
   "metadata": {
    "colab": {
     "base_uri": "https://localhost:8080/"
    },
    "id": "vetPumTLnJ2N",
    "outputId": "5420ea26-0297-4455-cdea-a937b797faac"
   },
   "outputs": [],
   "source": [
    "# Sanity-check that all duplicated variants are reported to map to same gene(s)\n",
    "# before we split multi-gene associations into separate rows.\n",
    "# If all repeated variants map to same gene, we can just retain the entry with\n",
    "# lowest p-value (or any really, since subsequent analysis just cares about \n",
    "# variant ID and implicated genes).\n",
    "duplicate_variants = schizo_df.groupby('Variant and risk allele').filter(lambda x: len(x) > 1)['Variant and risk allele'].unique()\n",
    "all_good = True\n",
    "for variant in duplicate_variants:\n",
    "  all_mapped_genes = schizo_df[schizo_df['Variant and risk allele'] == variant]['Mapped gene'].unique()\n",
    "  if len(all_mapped_genes) > 1:\n",
    "    print(f\"Found variant, {variant}, with differing mapped gene values.\")\n",
    "    all_good = False\n",
    "\n",
    "\n",
    "if all_good:\n",
    "  print(\"No repeated variants with differing mapped gene values.\")"
   ]
  },
  {
   "cell_type": "code",
   "execution_count": null,
   "metadata": {
    "id": "53XXnWXNqEQc"
   },
   "outputs": [],
   "source": [
    "# Proceed with just choosing the record with the lowest p-value.\n",
    "# It may later be useful to revisit this step and retain these duplicates - \n",
    "# maybe only focusing on those associations that have been found in multiple\n",
    "# independent studies will lead to better results in the subsequent analysis.\n",
    "min_indices = schizo_df.groupby('Variant and risk allele')['P-value_norm'].idxmin()\n",
    "schizo_df = schizo_df.loc[min_indices]"
   ]
  },
  {
   "cell_type": "code",
   "execution_count": null,
   "metadata": {
    "colab": {
     "base_uri": "https://localhost:8080/"
    },
    "id": "_crAXbNtrHBI",
    "outputId": "2ea4d164-f7fa-40f2-fbae-80021bf368de"
   },
   "outputs": [],
   "source": [
    "# Sanity-check duplicates are gone:\n",
    "num_unique_variants = len(schizo_df['Variant and risk allele'].unique())\n",
    "num_total = len(schizo_df)\n",
    "print(f\"{num_unique_variants} unique variants of {num_total} records\")"
   ]
  },
  {
   "cell_type": "markdown",
   "metadata": {
    "id": "TjAJKd7OQgNG"
   },
   "source": [
    "### Genes"
   ]
  },
  {
   "cell_type": "code",
   "execution_count": null,
   "metadata": {
    "colab": {
     "base_uri": "https://localhost:8080/"
    },
    "id": "c-D2Wq0CQhe8",
    "outputId": "92c0a181-3430-4105-a857-651ef6b968a4"
   },
   "outputs": [],
   "source": [
    "# Genes are comma-separated so `explode` can be used to create a new row for \n",
    "# each gene (with all other columns identical).\n",
    "# https://pandas.pydata.org/docs/reference/api/pandas.DataFrame.explode.html\n",
    "schizo_df['gene_norm'] = raw_schizo_df['Mapped gene'].apply(lambda val: val.split(\", \"))\n",
    "exploded_schizo_df = schizo_df.explode('gene_norm')\n",
    "len(exploded_schizo_df)"
   ]
  },
  {
   "cell_type": "code",
   "execution_count": null,
   "metadata": {
    "colab": {
     "base_uri": "https://localhost:8080/"
    },
    "id": "ttmhefBRZS_K",
    "outputId": "65c54c2e-c527-4b0a-e442-65f1b62405ad"
   },
   "outputs": [],
   "source": [
    "# Sanity check that the final number of rows is expected:\n",
    "schizo_df['gene_norm'].apply(lambda x: len(x)).value_counts()"
   ]
  },
  {
   "cell_type": "code",
   "execution_count": null,
   "metadata": {
    "id": "4bquAPS6aIpt"
   },
   "outputs": [],
   "source": [
    "# 1444 entries with one gene + 2 * 377 entries with two + 3 * 1 entries with three\n",
    "assert len(exploded_schizo_df) == 1444 + 2 * 377 + 3 * 1"
   ]
  },
  {
   "cell_type": "code",
   "execution_count": null,
   "metadata": {
    "id": "PgQSMDN5aSMs"
   },
   "outputs": [],
   "source": [
    "# Sanity-check passes so set schizo_df to the exploded version.\n",
    "schizo_df = exploded_schizo_df"
   ]
  },
  {
   "cell_type": "code",
   "execution_count": null,
   "metadata": {
    "colab": {
     "base_uri": "https://localhost:8080/"
    },
    "id": "D7LStdgxabEn",
    "outputId": "e7ff50ce-8d32-4108-9711-4607c905aea8"
   },
   "outputs": [],
   "source": [
    "schizo_df['gene_norm'].value_counts()"
   ]
  },
  {
   "cell_type": "code",
   "execution_count": null,
   "metadata": {
    "colab": {
     "base_uri": "https://localhost:8080/"
    },
    "id": "7XE6zG6wbsTu",
    "outputId": "d057d2fd-06b3-416d-ab00-29d78fd67137"
   },
   "outputs": [],
   "source": [
    "# 491 / 4764 entries have \"'-\" for their gene; I'm assuming this indicates an \n",
    "# unknown/unconfirmed gene association.\n",
    "UNKNOWN_GENE = \"UNKNOWN\"\n",
    "\n",
    "def replace_unknown_gene(gene):\n",
    "  return UNKNOWN_GENE if gene == \"'-\" else gene\n",
    "\n",
    "\n",
    "schizo_df['gene_norm'] = schizo_df['gene_norm'].apply(replace_unknown_gene)\n",
    "schizo_df['gene_norm'].value_counts()"
   ]
  },
  {
   "cell_type": "markdown",
   "metadata": {
    "id": "DFnQI_hkDZgH"
   },
   "source": [
    "## Output"
   ]
  },
  {
   "cell_type": "markdown",
   "metadata": {
    "id": "-YBXctUmD0bp"
   },
   "source": [
    "Finally, write out the normalized version of the data for use\n",
    "in further analysis."
   ]
  },
  {
   "cell_type": "code",
   "execution_count": null,
   "metadata": {
    "colab": {
     "base_uri": "https://localhost:8080/",
     "height": 374
    },
    "id": "thtqxks8Dbu4",
    "outputId": "122374c8-2259-43ae-e16a-16304c00e70a"
   },
   "outputs": [],
   "source": [
    "schizo_df.head()"
   ]
  },
  {
   "cell_type": "code",
   "execution_count": null,
   "metadata": {
    "colab": {
     "base_uri": "https://localhost:8080/",
     "height": 206
    },
    "id": "msxbPLRaDqzn",
    "outputId": "1ef06a1c-343f-41ef-a7a6-b01a6b5d4993"
   },
   "outputs": [],
   "source": [
    "# Keep only the relevant, normalized columns for brevity. This can always be \n",
    "# updated later to retain more if there's a use for it.\n",
    "\n",
    "out_df = schizo_df[['Variant and risk allele', 'P-value_norm', 'Trait(s)', 'gene_norm']]\n",
    "column_remapping = {\n",
    "    'Variant and risk allele': 'variant_and_allele', \n",
    "    'P-value_norm': 'p_value',\n",
    "    'Trait(s)': 'trait',\n",
    "    'gene_norm': 'gene',\n",
    "}\n",
    "out_df = out_df.rename(columns=column_remapping)\n",
    "out_df.head()"
   ]
  },
  {
   "cell_type": "code",
   "execution_count": null,
   "metadata": {
    "id": "2vKBD11aFAJL"
   },
   "outputs": [],
   "source": [
    "out_df.to_csv('schizophrenia_gwas_catalog_2022_cleaned.csv')"
   ]
  }
 ],
 "metadata": {
  "colab": {
   "collapsed_sections": [
    "PbmATP9YddQj",
    "e_LgZVotdffl",
    "Gf8cidfkdh1k",
    "eP-3GQ0uQZvM",
    "0SSZg5kfl3XG",
    "TjAJKd7OQgNG"
   ],
   "name": "GWAS_catalog_EDA_and_normalization.ipynb",
   "provenance": []
  },
  "kernelspec": {
   "display_name": "Python 3",
   "name": "python3"
  },
  "language_info": {
   "name": "python"
  }
 },
 "nbformat": 4,
 "nbformat_minor": 0
}
