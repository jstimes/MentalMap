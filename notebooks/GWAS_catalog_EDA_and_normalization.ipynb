{
  "nbformat": 4,
  "nbformat_minor": 0,
  "metadata": {
    "colab": {
      "name": "GWAS_catalog_EDA_and_normalization.ipynb",
      "provenance": [],
      "collapsed_sections": [
        "TQdTvW4PdZ4U",
        "PbmATP9YddQj",
        "e_LgZVotdffl",
        "Gf8cidfkdh1k",
        "eP-3GQ0uQZvM",
        "0SSZg5kfl3XG",
        "TjAJKd7OQgNG"
      ]
    },
    "kernelspec": {
      "name": "python3",
      "display_name": "Python 3"
    },
    "language_info": {
      "name": "python"
    }
  },
  "cells": [
    {
      "cell_type": "code",
      "execution_count": 2,
      "metadata": {
        "id": "UAbXVgy5KjX7"
      },
      "outputs": [],
      "source": [
        "import pandas as pd\n",
        "import numpy as np\n",
        "import math"
      ]
    },
    {
      "cell_type": "markdown",
      "source": [
        "# Exploratory analysis of CSV data retrieved from GWAS Catalog.\n",
        "This specific data is for Schizophrenia, but other data in GWAS catalog can be retrieved in the same format."
      ],
      "metadata": {
        "id": "mTxAgT2zOibe"
      }
    },
    {
      "cell_type": "markdown",
      "source": [
        "## Exploring raw data types, range of data, etc."
      ],
      "metadata": {
        "id": "XW0Lgdp_O5Vd"
      }
    },
    {
      "cell_type": "markdown",
      "source": [
        "### Overall"
      ],
      "metadata": {
        "id": "TQdTvW4PdZ4U"
      }
    },
    {
      "cell_type": "code",
      "source": [
        "raw_schizo_df = pd.read_csv('schizophrenia_gwas_catalog_2022.csv')\n",
        "raw_schizo_df.head()"
      ],
      "metadata": {
        "colab": {
          "base_uri": "https://localhost:8080/",
          "height": 443
        },
        "id": "nXJNKD_CLlUG",
        "outputId": "f175aabf-11ca-4dda-aecc-852113110e6e"
      },
      "execution_count": 3,
      "outputs": [
        {
          "output_type": "execute_result",
          "data": {
            "text/plain": [
              "  Variant and risk allele    P-value P-value annotation   RAF     OR Beta  \\\n",
              "0     rs11265461-<b>C</b>   2 x 10-7                NaN  0.41   1.45   '-   \n",
              "1       rs230529-<b>T</b>   2 x 10-7                NaN  0.47   1.45   '-   \n",
              "2      rs2237457-<b>T</b>   6 x 10-7  (Recessive model)  0.36   1.74   '-   \n",
              "3      rs2269372-<b>A</b>   4 x 10-8                NaN    NR  1.313   '-   \n",
              "4      rs7597593-<b>T</b>  9 x 10-11                NaN    NR  1.066   '-   \n",
              "\n",
              "            CI    Mapped gene                       Reported trait  \\\n",
              "0  [1.26-1.67]  SLAMF1, SETP9  Schizophrenia (treatment resistant)   \n",
              "1  [1.26-1.66]          NFKB1  Schizophrenia (treatment resistant)   \n",
              "2         [NR]          GRB10  Schizophrenia (treatment resistant)   \n",
              "3         [NR]          RENBP                        Schizophrenia   \n",
              "4  [1.05-1.09]        ZNF804A                        Schizophrenia   \n",
              "\n",
              "                             Trait(s) Background trait(s) Study accession  \\\n",
              "0  treatment refractory schizophrenia                  '-      GCST001458   \n",
              "1  treatment refractory schizophrenia                  '-      GCST001458   \n",
              "2  treatment refractory schizophrenia                  '-      GCST002604   \n",
              "3                       schizophrenia                  '-      GCST002190   \n",
              "4                       schizophrenia                  '-      GCST004946   \n",
              "\n",
              "      Location  \n",
              "0  1:160660353  \n",
              "1  4:102536261  \n",
              "2   7:50658447  \n",
              "3  X:153942092  \n",
              "4  2:184668853  "
            ],
            "text/html": [
              "\n",
              "  <div id=\"df-86ee8903-5550-4b0b-a410-5231eca193e2\">\n",
              "    <div class=\"colab-df-container\">\n",
              "      <div>\n",
              "<style scoped>\n",
              "    .dataframe tbody tr th:only-of-type {\n",
              "        vertical-align: middle;\n",
              "    }\n",
              "\n",
              "    .dataframe tbody tr th {\n",
              "        vertical-align: top;\n",
              "    }\n",
              "\n",
              "    .dataframe thead th {\n",
              "        text-align: right;\n",
              "    }\n",
              "</style>\n",
              "<table border=\"1\" class=\"dataframe\">\n",
              "  <thead>\n",
              "    <tr style=\"text-align: right;\">\n",
              "      <th></th>\n",
              "      <th>Variant and risk allele</th>\n",
              "      <th>P-value</th>\n",
              "      <th>P-value annotation</th>\n",
              "      <th>RAF</th>\n",
              "      <th>OR</th>\n",
              "      <th>Beta</th>\n",
              "      <th>CI</th>\n",
              "      <th>Mapped gene</th>\n",
              "      <th>Reported trait</th>\n",
              "      <th>Trait(s)</th>\n",
              "      <th>Background trait(s)</th>\n",
              "      <th>Study accession</th>\n",
              "      <th>Location</th>\n",
              "    </tr>\n",
              "  </thead>\n",
              "  <tbody>\n",
              "    <tr>\n",
              "      <th>0</th>\n",
              "      <td>rs11265461-&lt;b&gt;C&lt;/b&gt;</td>\n",
              "      <td>2 x 10-7</td>\n",
              "      <td>NaN</td>\n",
              "      <td>0.41</td>\n",
              "      <td>1.45</td>\n",
              "      <td>'-</td>\n",
              "      <td>[1.26-1.67]</td>\n",
              "      <td>SLAMF1, SETP9</td>\n",
              "      <td>Schizophrenia (treatment resistant)</td>\n",
              "      <td>treatment refractory schizophrenia</td>\n",
              "      <td>'-</td>\n",
              "      <td>GCST001458</td>\n",
              "      <td>1:160660353</td>\n",
              "    </tr>\n",
              "    <tr>\n",
              "      <th>1</th>\n",
              "      <td>rs230529-&lt;b&gt;T&lt;/b&gt;</td>\n",
              "      <td>2 x 10-7</td>\n",
              "      <td>NaN</td>\n",
              "      <td>0.47</td>\n",
              "      <td>1.45</td>\n",
              "      <td>'-</td>\n",
              "      <td>[1.26-1.66]</td>\n",
              "      <td>NFKB1</td>\n",
              "      <td>Schizophrenia (treatment resistant)</td>\n",
              "      <td>treatment refractory schizophrenia</td>\n",
              "      <td>'-</td>\n",
              "      <td>GCST001458</td>\n",
              "      <td>4:102536261</td>\n",
              "    </tr>\n",
              "    <tr>\n",
              "      <th>2</th>\n",
              "      <td>rs2237457-&lt;b&gt;T&lt;/b&gt;</td>\n",
              "      <td>6 x 10-7</td>\n",
              "      <td>(Recessive model)</td>\n",
              "      <td>0.36</td>\n",
              "      <td>1.74</td>\n",
              "      <td>'-</td>\n",
              "      <td>[NR]</td>\n",
              "      <td>GRB10</td>\n",
              "      <td>Schizophrenia (treatment resistant)</td>\n",
              "      <td>treatment refractory schizophrenia</td>\n",
              "      <td>'-</td>\n",
              "      <td>GCST002604</td>\n",
              "      <td>7:50658447</td>\n",
              "    </tr>\n",
              "    <tr>\n",
              "      <th>3</th>\n",
              "      <td>rs2269372-&lt;b&gt;A&lt;/b&gt;</td>\n",
              "      <td>4 x 10-8</td>\n",
              "      <td>NaN</td>\n",
              "      <td>NR</td>\n",
              "      <td>1.313</td>\n",
              "      <td>'-</td>\n",
              "      <td>[NR]</td>\n",
              "      <td>RENBP</td>\n",
              "      <td>Schizophrenia</td>\n",
              "      <td>schizophrenia</td>\n",
              "      <td>'-</td>\n",
              "      <td>GCST002190</td>\n",
              "      <td>X:153942092</td>\n",
              "    </tr>\n",
              "    <tr>\n",
              "      <th>4</th>\n",
              "      <td>rs7597593-&lt;b&gt;T&lt;/b&gt;</td>\n",
              "      <td>9 x 10-11</td>\n",
              "      <td>NaN</td>\n",
              "      <td>NR</td>\n",
              "      <td>1.066</td>\n",
              "      <td>'-</td>\n",
              "      <td>[1.05-1.09]</td>\n",
              "      <td>ZNF804A</td>\n",
              "      <td>Schizophrenia</td>\n",
              "      <td>schizophrenia</td>\n",
              "      <td>'-</td>\n",
              "      <td>GCST004946</td>\n",
              "      <td>2:184668853</td>\n",
              "    </tr>\n",
              "  </tbody>\n",
              "</table>\n",
              "</div>\n",
              "      <button class=\"colab-df-convert\" onclick=\"convertToInteractive('df-86ee8903-5550-4b0b-a410-5231eca193e2')\"\n",
              "              title=\"Convert this dataframe to an interactive table.\"\n",
              "              style=\"display:none;\">\n",
              "        \n",
              "  <svg xmlns=\"http://www.w3.org/2000/svg\" height=\"24px\"viewBox=\"0 0 24 24\"\n",
              "       width=\"24px\">\n",
              "    <path d=\"M0 0h24v24H0V0z\" fill=\"none\"/>\n",
              "    <path d=\"M18.56 5.44l.94 2.06.94-2.06 2.06-.94-2.06-.94-.94-2.06-.94 2.06-2.06.94zm-11 1L8.5 8.5l.94-2.06 2.06-.94-2.06-.94L8.5 2.5l-.94 2.06-2.06.94zm10 10l.94 2.06.94-2.06 2.06-.94-2.06-.94-.94-2.06-.94 2.06-2.06.94z\"/><path d=\"M17.41 7.96l-1.37-1.37c-.4-.4-.92-.59-1.43-.59-.52 0-1.04.2-1.43.59L10.3 9.45l-7.72 7.72c-.78.78-.78 2.05 0 2.83L4 21.41c.39.39.9.59 1.41.59.51 0 1.02-.2 1.41-.59l7.78-7.78 2.81-2.81c.8-.78.8-2.07 0-2.86zM5.41 20L4 18.59l7.72-7.72 1.47 1.35L5.41 20z\"/>\n",
              "  </svg>\n",
              "      </button>\n",
              "      \n",
              "  <style>\n",
              "    .colab-df-container {\n",
              "      display:flex;\n",
              "      flex-wrap:wrap;\n",
              "      gap: 12px;\n",
              "    }\n",
              "\n",
              "    .colab-df-convert {\n",
              "      background-color: #E8F0FE;\n",
              "      border: none;\n",
              "      border-radius: 50%;\n",
              "      cursor: pointer;\n",
              "      display: none;\n",
              "      fill: #1967D2;\n",
              "      height: 32px;\n",
              "      padding: 0 0 0 0;\n",
              "      width: 32px;\n",
              "    }\n",
              "\n",
              "    .colab-df-convert:hover {\n",
              "      background-color: #E2EBFA;\n",
              "      box-shadow: 0px 1px 2px rgba(60, 64, 67, 0.3), 0px 1px 3px 1px rgba(60, 64, 67, 0.15);\n",
              "      fill: #174EA6;\n",
              "    }\n",
              "\n",
              "    [theme=dark] .colab-df-convert {\n",
              "      background-color: #3B4455;\n",
              "      fill: #D2E3FC;\n",
              "    }\n",
              "\n",
              "    [theme=dark] .colab-df-convert:hover {\n",
              "      background-color: #434B5C;\n",
              "      box-shadow: 0px 1px 3px 1px rgba(0, 0, 0, 0.15);\n",
              "      filter: drop-shadow(0px 1px 2px rgba(0, 0, 0, 0.3));\n",
              "      fill: #FFFFFF;\n",
              "    }\n",
              "  </style>\n",
              "\n",
              "      <script>\n",
              "        const buttonEl =\n",
              "          document.querySelector('#df-86ee8903-5550-4b0b-a410-5231eca193e2 button.colab-df-convert');\n",
              "        buttonEl.style.display =\n",
              "          google.colab.kernel.accessAllowed ? 'block' : 'none';\n",
              "\n",
              "        async function convertToInteractive(key) {\n",
              "          const element = document.querySelector('#df-86ee8903-5550-4b0b-a410-5231eca193e2');\n",
              "          const dataTable =\n",
              "            await google.colab.kernel.invokeFunction('convertToInteractive',\n",
              "                                                     [key], {});\n",
              "          if (!dataTable) return;\n",
              "\n",
              "          const docLinkHtml = 'Like what you see? Visit the ' +\n",
              "            '<a target=\"_blank\" href=https://colab.research.google.com/notebooks/data_table.ipynb>data table notebook</a>'\n",
              "            + ' to learn more about interactive tables.';\n",
              "          element.innerHTML = '';\n",
              "          dataTable['output_type'] = 'display_data';\n",
              "          await google.colab.output.renderOutput(dataTable, element);\n",
              "          const docLink = document.createElement('div');\n",
              "          docLink.innerHTML = docLinkHtml;\n",
              "          element.appendChild(docLink);\n",
              "        }\n",
              "      </script>\n",
              "    </div>\n",
              "  </div>\n",
              "  "
            ]
          },
          "metadata": {},
          "execution_count": 3
        }
      ]
    },
    {
      "cell_type": "code",
      "source": [
        "total_rows = len(raw_schizo_df)\n",
        "print(total_rows)"
      ],
      "metadata": {
        "colab": {
          "base_uri": "https://localhost:8080/"
        },
        "id": "zCA0sf0KOGyb",
        "outputId": "70f948b0-8225-417e-a27e-c6a3a38e976f"
      },
      "execution_count": 4,
      "outputs": [
        {
          "output_type": "stream",
          "name": "stdout",
          "text": [
            "3849\n"
          ]
        }
      ]
    },
    {
      "cell_type": "markdown",
      "source": [
        "### Variants"
      ],
      "metadata": {
        "id": "paPFoTXsie8g"
      }
    },
    {
      "cell_type": "code",
      "source": [
        "num_unique_variants = len(raw_schizo_df['Variant and risk allele'].unique())\n",
        "print(f\"{num_unique_variants} unique variants out of {total_rows} records.\")\n",
        "\n",
        "variant_counts = raw_schizo_df['Variant and risk allele'].value_counts()"
      ],
      "metadata": {
        "colab": {
          "base_uri": "https://localhost:8080/"
        },
        "id": "FDBrlIoQgdEH",
        "outputId": "bb901cd2-cff8-481a-bc31-6985c1d60dd3"
      },
      "execution_count": 5,
      "outputs": [
        {
          "output_type": "stream",
          "name": "stdout",
          "text": [
            "2739 unique variants out of 3849 records.\n"
          ]
        }
      ]
    },
    {
      "cell_type": "code",
      "source": [
        "# Explore entries for one repeated variant to assess differences.\n",
        "duplicates = raw_schizo_df.groupby('Variant and risk allele').filter(lambda x: len(x) > 1)\n",
        "one_variant = duplicates.iloc[0]['Variant and risk allele']\n",
        "duplicates[duplicates['Variant and risk allele'] == one_variant]"
      ],
      "metadata": {
        "colab": {
          "base_uri": "https://localhost:8080/",
          "height": 0
        },
        "id": "YDuCCGgphyH6",
        "outputId": "26ea8e23-b457-42cd-c525-cc792d27a790"
      },
      "execution_count": 6,
      "outputs": [
        {
          "output_type": "execute_result",
          "data": {
            "text/plain": [
              "     Variant and risk allele    P-value          P-value annotation   RAF  \\\n",
              "4         rs7597593-<b>T</b>  9 x 10-11                         NaN    NR   \n",
              "747       rs7597593-<b>T</b>  2 x 10-11                         NaN    NR   \n",
              "2878      rs7597593-<b>T</b>  3 x 10-12                         NaN  0.62   \n",
              "3625      rs7597593-<b>T</b>   8 x 10-6  (5 degree of freedom test)    NR   \n",
              "\n",
              "         OR Beta           CI Mapped gene  \\\n",
              "4     1.066   '-  [1.05-1.09]     ZNF804A   \n",
              "747   1.069   '-  [1.05-1.09]     ZNF804A   \n",
              "2878     '-   '-           '-     ZNF804A   \n",
              "3625  1.055   '-  [1.03-1.08]     ZNF804A   \n",
              "\n",
              "                                         Reported trait  \\\n",
              "4                                         Schizophrenia   \n",
              "747                                       Schizophrenia   \n",
              "2878                  Broad depression or schizophrenia   \n",
              "3625  Autism spectrum disorder, attention deficit-hy...   \n",
              "\n",
              "                                               Trait(s) Background trait(s)  \\\n",
              "4                                         schizophrenia                  '-   \n",
              "747                                       schizophrenia                  '-   \n",
              "2878                 unipolar depression, schizophrenia                  '-   \n",
              "3625  attention deficit hyperactivity disorder, unip...                  '-   \n",
              "\n",
              "     Study accession     Location  \n",
              "4         GCST004946  2:184668853  \n",
              "747       GCST007201  2:184668853  \n",
              "2878      GCST007257  2:184668853  \n",
              "3625      GCST001877  2:184668853  "
            ],
            "text/html": [
              "\n",
              "  <div id=\"df-d00a42f6-94d2-4ebf-987b-b1ba8e70e245\">\n",
              "    <div class=\"colab-df-container\">\n",
              "      <div>\n",
              "<style scoped>\n",
              "    .dataframe tbody tr th:only-of-type {\n",
              "        vertical-align: middle;\n",
              "    }\n",
              "\n",
              "    .dataframe tbody tr th {\n",
              "        vertical-align: top;\n",
              "    }\n",
              "\n",
              "    .dataframe thead th {\n",
              "        text-align: right;\n",
              "    }\n",
              "</style>\n",
              "<table border=\"1\" class=\"dataframe\">\n",
              "  <thead>\n",
              "    <tr style=\"text-align: right;\">\n",
              "      <th></th>\n",
              "      <th>Variant and risk allele</th>\n",
              "      <th>P-value</th>\n",
              "      <th>P-value annotation</th>\n",
              "      <th>RAF</th>\n",
              "      <th>OR</th>\n",
              "      <th>Beta</th>\n",
              "      <th>CI</th>\n",
              "      <th>Mapped gene</th>\n",
              "      <th>Reported trait</th>\n",
              "      <th>Trait(s)</th>\n",
              "      <th>Background trait(s)</th>\n",
              "      <th>Study accession</th>\n",
              "      <th>Location</th>\n",
              "    </tr>\n",
              "  </thead>\n",
              "  <tbody>\n",
              "    <tr>\n",
              "      <th>4</th>\n",
              "      <td>rs7597593-&lt;b&gt;T&lt;/b&gt;</td>\n",
              "      <td>9 x 10-11</td>\n",
              "      <td>NaN</td>\n",
              "      <td>NR</td>\n",
              "      <td>1.066</td>\n",
              "      <td>'-</td>\n",
              "      <td>[1.05-1.09]</td>\n",
              "      <td>ZNF804A</td>\n",
              "      <td>Schizophrenia</td>\n",
              "      <td>schizophrenia</td>\n",
              "      <td>'-</td>\n",
              "      <td>GCST004946</td>\n",
              "      <td>2:184668853</td>\n",
              "    </tr>\n",
              "    <tr>\n",
              "      <th>747</th>\n",
              "      <td>rs7597593-&lt;b&gt;T&lt;/b&gt;</td>\n",
              "      <td>2 x 10-11</td>\n",
              "      <td>NaN</td>\n",
              "      <td>NR</td>\n",
              "      <td>1.069</td>\n",
              "      <td>'-</td>\n",
              "      <td>[1.05-1.09]</td>\n",
              "      <td>ZNF804A</td>\n",
              "      <td>Schizophrenia</td>\n",
              "      <td>schizophrenia</td>\n",
              "      <td>'-</td>\n",
              "      <td>GCST007201</td>\n",
              "      <td>2:184668853</td>\n",
              "    </tr>\n",
              "    <tr>\n",
              "      <th>2878</th>\n",
              "      <td>rs7597593-&lt;b&gt;T&lt;/b&gt;</td>\n",
              "      <td>3 x 10-12</td>\n",
              "      <td>NaN</td>\n",
              "      <td>0.62</td>\n",
              "      <td>'-</td>\n",
              "      <td>'-</td>\n",
              "      <td>'-</td>\n",
              "      <td>ZNF804A</td>\n",
              "      <td>Broad depression or schizophrenia</td>\n",
              "      <td>unipolar depression, schizophrenia</td>\n",
              "      <td>'-</td>\n",
              "      <td>GCST007257</td>\n",
              "      <td>2:184668853</td>\n",
              "    </tr>\n",
              "    <tr>\n",
              "      <th>3625</th>\n",
              "      <td>rs7597593-&lt;b&gt;T&lt;/b&gt;</td>\n",
              "      <td>8 x 10-6</td>\n",
              "      <td>(5 degree of freedom test)</td>\n",
              "      <td>NR</td>\n",
              "      <td>1.055</td>\n",
              "      <td>'-</td>\n",
              "      <td>[1.03-1.08]</td>\n",
              "      <td>ZNF804A</td>\n",
              "      <td>Autism spectrum disorder, attention deficit-hy...</td>\n",
              "      <td>attention deficit hyperactivity disorder, unip...</td>\n",
              "      <td>'-</td>\n",
              "      <td>GCST001877</td>\n",
              "      <td>2:184668853</td>\n",
              "    </tr>\n",
              "  </tbody>\n",
              "</table>\n",
              "</div>\n",
              "      <button class=\"colab-df-convert\" onclick=\"convertToInteractive('df-d00a42f6-94d2-4ebf-987b-b1ba8e70e245')\"\n",
              "              title=\"Convert this dataframe to an interactive table.\"\n",
              "              style=\"display:none;\">\n",
              "        \n",
              "  <svg xmlns=\"http://www.w3.org/2000/svg\" height=\"24px\"viewBox=\"0 0 24 24\"\n",
              "       width=\"24px\">\n",
              "    <path d=\"M0 0h24v24H0V0z\" fill=\"none\"/>\n",
              "    <path d=\"M18.56 5.44l.94 2.06.94-2.06 2.06-.94-2.06-.94-.94-2.06-.94 2.06-2.06.94zm-11 1L8.5 8.5l.94-2.06 2.06-.94-2.06-.94L8.5 2.5l-.94 2.06-2.06.94zm10 10l.94 2.06.94-2.06 2.06-.94-2.06-.94-.94-2.06-.94 2.06-2.06.94z\"/><path d=\"M17.41 7.96l-1.37-1.37c-.4-.4-.92-.59-1.43-.59-.52 0-1.04.2-1.43.59L10.3 9.45l-7.72 7.72c-.78.78-.78 2.05 0 2.83L4 21.41c.39.39.9.59 1.41.59.51 0 1.02-.2 1.41-.59l7.78-7.78 2.81-2.81c.8-.78.8-2.07 0-2.86zM5.41 20L4 18.59l7.72-7.72 1.47 1.35L5.41 20z\"/>\n",
              "  </svg>\n",
              "      </button>\n",
              "      \n",
              "  <style>\n",
              "    .colab-df-container {\n",
              "      display:flex;\n",
              "      flex-wrap:wrap;\n",
              "      gap: 12px;\n",
              "    }\n",
              "\n",
              "    .colab-df-convert {\n",
              "      background-color: #E8F0FE;\n",
              "      border: none;\n",
              "      border-radius: 50%;\n",
              "      cursor: pointer;\n",
              "      display: none;\n",
              "      fill: #1967D2;\n",
              "      height: 32px;\n",
              "      padding: 0 0 0 0;\n",
              "      width: 32px;\n",
              "    }\n",
              "\n",
              "    .colab-df-convert:hover {\n",
              "      background-color: #E2EBFA;\n",
              "      box-shadow: 0px 1px 2px rgba(60, 64, 67, 0.3), 0px 1px 3px 1px rgba(60, 64, 67, 0.15);\n",
              "      fill: #174EA6;\n",
              "    }\n",
              "\n",
              "    [theme=dark] .colab-df-convert {\n",
              "      background-color: #3B4455;\n",
              "      fill: #D2E3FC;\n",
              "    }\n",
              "\n",
              "    [theme=dark] .colab-df-convert:hover {\n",
              "      background-color: #434B5C;\n",
              "      box-shadow: 0px 1px 3px 1px rgba(0, 0, 0, 0.15);\n",
              "      filter: drop-shadow(0px 1px 2px rgba(0, 0, 0, 0.3));\n",
              "      fill: #FFFFFF;\n",
              "    }\n",
              "  </style>\n",
              "\n",
              "      <script>\n",
              "        const buttonEl =\n",
              "          document.querySelector('#df-d00a42f6-94d2-4ebf-987b-b1ba8e70e245 button.colab-df-convert');\n",
              "        buttonEl.style.display =\n",
              "          google.colab.kernel.accessAllowed ? 'block' : 'none';\n",
              "\n",
              "        async function convertToInteractive(key) {\n",
              "          const element = document.querySelector('#df-d00a42f6-94d2-4ebf-987b-b1ba8e70e245');\n",
              "          const dataTable =\n",
              "            await google.colab.kernel.invokeFunction('convertToInteractive',\n",
              "                                                     [key], {});\n",
              "          if (!dataTable) return;\n",
              "\n",
              "          const docLinkHtml = 'Like what you see? Visit the ' +\n",
              "            '<a target=\"_blank\" href=https://colab.research.google.com/notebooks/data_table.ipynb>data table notebook</a>'\n",
              "            + ' to learn more about interactive tables.';\n",
              "          element.innerHTML = '';\n",
              "          dataTable['output_type'] = 'display_data';\n",
              "          await google.colab.output.renderOutput(dataTable, element);\n",
              "          const docLink = document.createElement('div');\n",
              "          docLink.innerHTML = docLinkHtml;\n",
              "          element.appendChild(docLink);\n",
              "        }\n",
              "      </script>\n",
              "    </div>\n",
              "  </div>\n",
              "  "
            ]
          },
          "metadata": {},
          "execution_count": 6
        }
      ]
    },
    {
      "cell_type": "markdown",
      "source": [
        "### P-values"
      ],
      "metadata": {
        "id": "PbmATP9YddQj"
      }
    },
    {
      "cell_type": "code",
      "source": [
        "raw_schizo_df['P-value'].describe()"
      ],
      "metadata": {
        "colab": {
          "base_uri": "https://localhost:8080/"
        },
        "id": "g41Sh8RuLnPN",
        "outputId": "01c3d6be-c110-480c-9027-b519f5601b99"
      },
      "execution_count": 7,
      "outputs": [
        {
          "output_type": "execute_result",
          "data": {
            "text/plain": [
              "count         3849\n",
              "unique         163\n",
              "top       2 x 10-8\n",
              "freq           201\n",
              "Name: P-value, dtype: object"
            ]
          },
          "metadata": {},
          "execution_count": 7
        }
      ]
    },
    {
      "cell_type": "code",
      "source": [
        "len(raw_schizo_df['Mapped gene'].unique())"
      ],
      "metadata": {
        "colab": {
          "base_uri": "https://localhost:8080/"
        },
        "id": "mgVNo3V-MP6N",
        "outputId": "2eaec706-0fd6-42d5-eab1-1e35cdfbdbaa"
      },
      "execution_count": 8,
      "outputs": [
        {
          "output_type": "execute_result",
          "data": {
            "text/plain": [
              "1427"
            ]
          },
          "metadata": {},
          "execution_count": 8
        }
      ]
    },
    {
      "cell_type": "markdown",
      "source": [
        "### Genes"
      ],
      "metadata": {
        "id": "e_LgZVotdffl"
      }
    },
    {
      "cell_type": "code",
      "source": [
        "def has_multiple_genes(mapped_gene):\n",
        "  return \",\" in mapped_gene\n",
        "\n",
        "\n",
        "multi_gene_index = raw_schizo_df['Mapped gene'].apply(has_multiple_genes)\n",
        "len(raw_schizo_df[multi_gene_index])"
      ],
      "metadata": {
        "colab": {
          "base_uri": "https://localhost:8080/"
        },
        "id": "ZM4sTedCQ-Oi",
        "outputId": "b3cdc06a-268c-4170-daf2-36a5206c2185"
      },
      "execution_count": 9,
      "outputs": [
        {
          "output_type": "execute_result",
          "data": {
            "text/plain": [
              "913"
            ]
          },
          "metadata": {},
          "execution_count": 9
        }
      ]
    },
    {
      "cell_type": "markdown",
      "source": [
        "### Reported trait / Trait(s)"
      ],
      "metadata": {
        "id": "Gf8cidfkdh1k"
      }
    },
    {
      "cell_type": "code",
      "source": [
        "raw_schizo_df['Reported trait'].unique()"
      ],
      "metadata": {
        "colab": {
          "base_uri": "https://localhost:8080/"
        },
        "id": "5mnchVO9cL2a",
        "outputId": "09e19efe-da62-4b75-f23c-f7915f49f471"
      },
      "execution_count": 10,
      "outputs": [
        {
          "output_type": "execute_result",
          "data": {
            "text/plain": [
              "array(['Schizophrenia (treatment resistant)', 'Schizophrenia',\n",
              "       'Schizophrenia (MTAG)', 'Schizophrenia or bipolar disorder',\n",
              "       'Schizophrenia (negative symptoms)', 'Methamphetamine dependence',\n",
              "       'Early-onset schizophrenia',\n",
              "       'Autism spectrum disorder or schizophrenia',\n",
              "       'Gray matter volume (schizophrenia interaction)',\n",
              "       'Schizophrenia (inflammation and infection response interaction)',\n",
              "       'Broad depression or schizophrenia',\n",
              "       'Dentate gyrus volume x schizophrenia interaction',\n",
              "       'Schizophrenia vs type 2 diabetes',\n",
              "       'Schizophrenia and type 2 diabetes',\n",
              "       'Autism and schizophrenia (MTAG)',\n",
              "       'Left superior temporal gyrus thickness (schizophrenia interaction)',\n",
              "       'Bipolar disorder and schizophrenia',\n",
              "       'Schizophrenia (cytomegalovirus infection interaction)',\n",
              "       'Schizophrenia (age at onset)',\n",
              "       'Schizophrenia or schizoaffective disorder',\n",
              "       'Schizophrenia vs autism spectrum disorder (ordinary least squares (OLS))',\n",
              "       'Schizophrenia vs bipolar disorder (ordinary least squares (OLS))',\n",
              "       'Schizophrenia vs anorexia nervosa (ordinary least squares (OLS))',\n",
              "       'Schizophrenia vs ADHD (ordinary least squares (OLS))',\n",
              "       'Schizophrenia vs major depressive disorder (ordinary least squares (OLS))',\n",
              "       \"Schizophrenia vs Tourette's syndrome and other tic disorders (ordinary least squares (OLS))\",\n",
              "       'Schizophrenia x sex interaction',\n",
              "       'Bipolar disorder lithium response (continuous) or schizophrenia',\n",
              "       'Bipolar disorder lithium response (categorical) or schizophrenia',\n",
              "       'Cognitive ability, years of educational attainment or schizophrenia (pleiotropy)',\n",
              "       'Brain imaging in schizophrenia (dorsolateral prefrontal cortex interaction)',\n",
              "       'Schizophrenia, schizoaffective disorder or bipolar disorder',\n",
              "       'Schizophrenia, bipolar disorder or recurrent major depressive disorder x sex interaction (3df)',\n",
              "       'Schizophrenia, bipolar disorder or recurrent major depressive disorder',\n",
              "       'Schizophrenia, bipolar disorder or major depressive disorder x sex interaction',\n",
              "       'Schizophrenia, bipolar disorder or major depressive disorder',\n",
              "       'Schizophrenia, bipolar disorder or major depressive disorder x sex interaction (3df)',\n",
              "       'Neuropsychiatric disorders',\n",
              "       'Autism spectrum disorder, attention deficit-hyperactivity disorder, bipolar disorder, major depressive disorder, and schizophrenia (combined)',\n",
              "       'Psychiatric diseases (pleiotropy) (HIPO component 1)',\n",
              "       'Schizophrenia, bipolar disorder or recurrent major depressive disorder x sex interaction',\n",
              "       'Anorexia nervosa, attention-deficit/hyperactivity disorder, autism spectrum disorder, bipolar disorder, major depression, obsessive-compulsive disorder, schizophrenia, or Tourette syndrome (pleiotropy)'],\n",
              "      dtype=object)"
            ]
          },
          "metadata": {},
          "execution_count": 10
        }
      ]
    },
    {
      "cell_type": "code",
      "source": [
        "raw_schizo_df['Trait(s)'].unique()"
      ],
      "metadata": {
        "colab": {
          "base_uri": "https://localhost:8080/"
        },
        "id": "kkaJyiFPcjHA",
        "outputId": "20ef23d8-a276-4983-9b08-7dbcf2df8a38"
      },
      "execution_count": 11,
      "outputs": [
        {
          "output_type": "execute_result",
          "data": {
            "text/plain": [
              "array(['treatment refractory schizophrenia', 'schizophrenia',\n",
              "       'autism spectrum disorder, schizophrenia',\n",
              "       'schizophrenia, grey matter volume measurement',\n",
              "       'schizophrenia, cytomegalovirus seropositivity',\n",
              "       'schizophrenia, HSV1 seropositivity',\n",
              "       'schizophrenia, Toxoplasma gondii seropositivity',\n",
              "       'unipolar depression, schizophrenia',\n",
              "       'dentate gyrus volume measurement, schizophrenia',\n",
              "       'schizophrenia, type 2 diabetes mellitus',\n",
              "       'schizophrenia, bipolar disorder',\n",
              "       'schizophrenia, left superior temporal gyrus thickness measurement',\n",
              "       'schizophrenia, cytomegalovirus infection',\n",
              "       'schizophrenia, age at onset',\n",
              "       'schizophrenia, schizoaffective disorder',\n",
              "       'anorexia nervosa, schizophrenia',\n",
              "       'attention deficit hyperactivity disorder, schizophrenia',\n",
              "       'Tourette syndrome, schizophrenia',\n",
              "       'schizophrenia, sex interaction measurement',\n",
              "       'schizophrenia, bipolar disorder, response to lithium ion',\n",
              "       'schizophrenia, intelligence, self reported educational attainment',\n",
              "       'schizophrenia, dorsolateral prefrontal cortex functional measurement, brain measurement',\n",
              "       'schizophrenia, bipolar disorder, schizoaffective disorder',\n",
              "       'unipolar depression, schizophrenia, sex interaction measurement, bipolar disorder',\n",
              "       'disease recurrence, unipolar depression, schizophrenia, bipolar disorder',\n",
              "       'unipolar depression, schizophrenia, bipolar disorder',\n",
              "       'attention deficit hyperactivity disorder, autism spectrum disorder, schizophrenia, bipolar disorder, major depressive disorder',\n",
              "       'attention deficit hyperactivity disorder, unipolar depression, autism spectrum disorder, schizophrenia, bipolar disorder',\n",
              "       'disease recurrence, unipolar depression, schizophrenia, sex interaction measurement, bipolar disorder',\n",
              "       'anorexia nervosa, obsessive-compulsive disorder, attention deficit hyperactivity disorder, Tourette syndrome, unipolar depression, autism spectrum disorder, schizophrenia, bipolar disorder'],\n",
              "      dtype=object)"
            ]
          },
          "metadata": {},
          "execution_count": 11
        }
      ]
    },
    {
      "cell_type": "code",
      "source": [
        "num_just_schizo = len(raw_schizo_df[raw_schizo_df['Trait(s)'] == 'schizophrenia'])\n",
        "print(f\"{num_just_schizo} / {total_rows} rows are for the trait schizophrenia only.\")"
      ],
      "metadata": {
        "colab": {
          "base_uri": "https://localhost:8080/"
        },
        "id": "kWJP-ikGdtuo",
        "outputId": "4298f4c5-5d5c-4d34-abca-b9ffeed8cb8c"
      },
      "execution_count": 12,
      "outputs": [
        {
          "output_type": "stream",
          "name": "stdout",
          "text": [
            "2564 / 3849 rows are for the trait schizophrenia only.\n"
          ]
        }
      ]
    },
    {
      "cell_type": "markdown",
      "source": [
        "### Initial observations:\n",
        "\n",
        "\n",
        "*   3849 records total\n",
        "*   P-values are currently objects/strings\n",
        "*   A lot of genes - 1427 unique values, although some normalization seems to be required (e.g. to fix \"SLAMF1, SETP9\"). After normalizing it may be good to analyze counts per gene - maybe genes only implicated once are less signficant than others which appear multiple times.\n",
        "*   Many records have multiple traits in addition to schizophrenia (e.g. one trait value is \"anorexia nervosa, obsessive-compulsive disorder, attention deficit hyperactivity disorder, Tourette syndrome, unipolar depression, autism spectrum disorder, schizophrenia, bipolar disorder\"). I assume these studies examined patients with either condition, but it's not entirely clear without checking the studies themselves. To make this a scalable approach, it may be best to omit records that are for more than just schizophrenia to avoid any potential biases in the future similarity analysis.\n",
        "* A fair amount of the variants in the dataset appear multiple times (e.g. reported by different studies). It's worth noting this, although at the moment it's unclear what the best way to handle this is. Maybe subsequent analysis should only focus on variants identified multiple time; maybe for each repeated variant, only the lowest p-value should be retained. However, some care should be applied given the above point about traits (maybe want the lowest p-value among records for just the trait schizophrenia).\n",
        "\n"
      ],
      "metadata": {
        "id": "ENGk5KD2OM2t"
      }
    },
    {
      "cell_type": "markdown",
      "source": [
        "## Cleaning/normalizing data"
      ],
      "metadata": {
        "id": "U8SyM_12O1MI"
      }
    },
    {
      "cell_type": "code",
      "source": [
        "# Create copy of DF to hold normalized data and leave raw DF untouched.\n",
        "schizo_df = raw_schizo_df"
      ],
      "metadata": {
        "id": "2KAjcAXParMN"
      },
      "execution_count": 37,
      "outputs": []
    },
    {
      "cell_type": "markdown",
      "source": [
        "### P-values"
      ],
      "metadata": {
        "id": "eP-3GQ0uQZvM"
      }
    },
    {
      "cell_type": "code",
      "source": [
        "def pval_to_num(pval):\n",
        "  parts = pval.split(\" x 10-\")\n",
        "  return float(parts[0]) * pow(10, -float(parts[1]))\n",
        "\n",
        "\n",
        "print(pval_to_num(\"2 x 10-7\"))"
      ],
      "metadata": {
        "colab": {
          "base_uri": "https://localhost:8080/"
        },
        "id": "hbsuFR9pPA43",
        "outputId": "7837d0dd-9dea-4a3c-aba3-23cee9a1a5d9"
      },
      "execution_count": 38,
      "outputs": [
        {
          "output_type": "stream",
          "name": "stdout",
          "text": [
            "2e-07\n"
          ]
        }
      ]
    },
    {
      "cell_type": "code",
      "source": [
        "schizo_df['P-value_norm'] = raw_schizo_df['P-value'].apply(pval_to_num)"
      ],
      "metadata": {
        "id": "SQrLRsBxQL5h"
      },
      "execution_count": 39,
      "outputs": []
    },
    {
      "cell_type": "code",
      "source": [
        "schizo_df['P-value_norm'].describe()"
      ],
      "metadata": {
        "colab": {
          "base_uri": "https://localhost:8080/"
        },
        "id": "zoS3N2RGQM9g",
        "outputId": "1f68c7af-9561-4ccf-ef22-3e696db7aa6e"
      },
      "execution_count": 40,
      "outputs": [
        {
          "output_type": "execute_result",
          "data": {
            "text/plain": [
              "count    3.849000e+03\n",
              "mean     1.072234e-06\n",
              "std      2.255918e-06\n",
              "min      2.000000e-44\n",
              "25%      3.000000e-10\n",
              "50%      2.000000e-08\n",
              "75%      6.000000e-07\n",
              "max      1.000000e-05\n",
              "Name: P-value_norm, dtype: float64"
            ]
          },
          "metadata": {},
          "execution_count": 40
        }
      ]
    },
    {
      "cell_type": "markdown",
      "source": [
        "### Traits"
      ],
      "metadata": {
        "id": "0SSZg5kfl3XG"
      }
    },
    {
      "cell_type": "code",
      "source": [
        "# As mentioned above, it may be best to use the subset of data which focused \n",
        "# solely on the trait of interest (schizophrenia).\n",
        "# There are some others that are probably fine to include (e.g. treatment \n",
        "# refractory schizophrenia), but for the sake of simplicity and \n",
        "# generalizability, we'll assume there is one canonical GWAS catalog trait of \n",
        "# interest for each condition to be analyzed.\n",
        "canonical_trait = 'schizophrenia'\n",
        "filtered_df = schizo_df[schizo_df['Trait(s)'] == canonical_trait]\n",
        "print(f\"Filtered from {len(schizo_df)} rows to {len(filtered_df)} rows.\")"
      ],
      "metadata": {
        "colab": {
          "base_uri": "https://localhost:8080/"
        },
        "id": "iI-9G6dXl5rF",
        "outputId": "df9df5b6-d0ec-4756-c615-dab6d7935c12"
      },
      "execution_count": 41,
      "outputs": [
        {
          "output_type": "stream",
          "name": "stdout",
          "text": [
            "Filtered from 3849 rows to 2564 rows.\n"
          ]
        }
      ]
    },
    {
      "cell_type": "code",
      "source": [
        "# The majority of the data is retained, so we'll use just this subset.\n",
        "schizo_df = filtered_df"
      ],
      "metadata": {
        "id": "IfJGflY2mqHX"
      },
      "execution_count": 42,
      "outputs": []
    },
    {
      "cell_type": "markdown",
      "source": [
        "### Variants"
      ],
      "metadata": {
        "id": "nKmkwArwnIDb"
      }
    },
    {
      "cell_type": "code",
      "source": [
        "# Sanity-check that all duplicated variants are reported to map to same gene(s)\n",
        "# before we split multi-gene associations into separate rows.\n",
        "# If all repeated variants map to same gene, we can just retain the entry with\n",
        "# lowest p-value (or any really, since subsequent analysis just cares about \n",
        "# variant ID and implicated genes).\n",
        "duplicate_variants = schizo_df.groupby('Variant and risk allele').filter(lambda x: len(x) > 1)['Variant and risk allele'].unique()\n",
        "all_good = True\n",
        "for variant in duplicate_variants:\n",
        "  all_mapped_genes = schizo_df[schizo_df['Variant and risk allele'] == variant]['Mapped gene'].unique()\n",
        "  if len(all_mapped_genes) > 1:\n",
        "    print(f\"Found variant, {variant}, with differing mapped gene values.\")\n",
        "    all_good = False\n",
        "\n",
        "\n",
        "if all_good:\n",
        "  print(\"No repeated variants with differing mapped gene values.\")"
      ],
      "metadata": {
        "colab": {
          "base_uri": "https://localhost:8080/"
        },
        "id": "vetPumTLnJ2N",
        "outputId": "ebecdcab-19e0-40a4-b0dd-8a4fa036352f"
      },
      "execution_count": 19,
      "outputs": [
        {
          "output_type": "stream",
          "name": "stdout",
          "text": [
            "No repeated variants with differing mapped gene values.\n"
          ]
        }
      ]
    },
    {
      "cell_type": "code",
      "source": [
        "# Proceed with just choosing the record with the lowest p-value.\n",
        "# It may later be useful to revisit this step and retain these duplicates - \n",
        "# maybe only focusing on those associations that have been found in multiple\n",
        "# independent studies will lead to better results in the subsequent analysis.\n",
        "schizo_df = schizo_df.groupby('Variant and risk allele')['P-value_norm'].min().reset_index()"
      ],
      "metadata": {
        "id": "53XXnWXNqEQc"
      },
      "execution_count": 46,
      "outputs": []
    },
    {
      "cell_type": "code",
      "source": [
        "# Sanity-check duplicates are gone:\n",
        "num_unique_variants = len(schizo_df['Variant and risk allele'].unique())\n",
        "num_total = len(schizo_df)\n",
        "print(f\"{num_unique_variants} unique variants of {num_total} records\")"
      ],
      "metadata": {
        "colab": {
          "base_uri": "https://localhost:8080/"
        },
        "id": "_crAXbNtrHBI",
        "outputId": "f223977c-ea94-4fae-d8e1-26d0a7f80c3a"
      },
      "execution_count": 47,
      "outputs": [
        {
          "output_type": "stream",
          "name": "stdout",
          "text": [
            "1822 unique variants of 1822 records\n"
          ]
        }
      ]
    },
    {
      "cell_type": "markdown",
      "source": [
        "### Genes"
      ],
      "metadata": {
        "id": "TjAJKd7OQgNG"
      }
    },
    {
      "cell_type": "code",
      "source": [
        "# Genes are comma-separated so `explode` can be used to create a new row for \n",
        "# each gene (with all other columns identical).\n",
        "# https://pandas.pydata.org/docs/reference/api/pandas.DataFrame.explode.html\n",
        "schizo_df['gene_norm'] = schizo_df['Mapped gene'].apply(lambda val: val.split(\", \"))\n",
        "exploded_schizo_df = schizo_df.explode('gene_norm')\n",
        "len(exploded_schizo_df)"
      ],
      "metadata": {
        "colab": {
          "base_uri": "https://localhost:8080/"
        },
        "id": "c-D2Wq0CQhe8",
        "outputId": "f4d1e899-94da-4949-e970-3a74ac30dcfc"
      },
      "execution_count": 24,
      "outputs": [
        {
          "output_type": "execute_result",
          "data": {
            "text/plain": [
              "2201"
            ]
          },
          "metadata": {},
          "execution_count": 24
        }
      ]
    },
    {
      "cell_type": "code",
      "source": [
        "# Sanity check that the final number of rows is expected:\n",
        "schizo_df['gene_norm'].apply(lambda x: len(x)).value_counts()"
      ],
      "metadata": {
        "colab": {
          "base_uri": "https://localhost:8080/"
        },
        "id": "ttmhefBRZS_K",
        "outputId": "9f8ae3cc-231d-4d76-afab-76d862a8ac4b"
      },
      "execution_count": 25,
      "outputs": [
        {
          "output_type": "execute_result",
          "data": {
            "text/plain": [
              "1    1444\n",
              "2     377\n",
              "3       1\n",
              "Name: gene_norm, dtype: int64"
            ]
          },
          "metadata": {},
          "execution_count": 25
        }
      ]
    },
    {
      "cell_type": "code",
      "source": [
        "# 1444 entries with one gene + 2 * 377 entries with two + 3 * 1 entries with three\n",
        "assert len(exploded_schizo_df) == 1444 + 2 * 377 + 3 * 1"
      ],
      "metadata": {
        "id": "4bquAPS6aIpt"
      },
      "execution_count": 27,
      "outputs": []
    },
    {
      "cell_type": "code",
      "source": [
        "# Sanity-check passes so set schizo_df to the exploded version.\n",
        "schizo_df = exploded_schizo_df"
      ],
      "metadata": {
        "id": "PgQSMDN5aSMs"
      },
      "execution_count": 28,
      "outputs": []
    },
    {
      "cell_type": "code",
      "source": [
        "schizo_df['gene_norm'].value_counts()"
      ],
      "metadata": {
        "colab": {
          "base_uri": "https://localhost:8080/"
        },
        "id": "D7LStdgxabEn",
        "outputId": "6516152c-4d2d-4898-8f82-ae01557c5c06"
      },
      "execution_count": 29,
      "outputs": [
        {
          "output_type": "execute_result",
          "data": {
            "text/plain": [
              "'-           251\n",
              "LINC01470     21\n",
              "CACNA1C       15\n",
              "Y_RNA         15\n",
              "VRK2          11\n",
              "            ... \n",
              "DNAJA3         1\n",
              "MEMO1P1        1\n",
              "SETD4          1\n",
              "HMGB1P36       1\n",
              "MIR548AE1      1\n",
              "Name: gene_norm, Length: 1118, dtype: int64"
            ]
          },
          "metadata": {},
          "execution_count": 29
        }
      ]
    },
    {
      "cell_type": "code",
      "source": [
        "# 491 / 4764 entries have \"'-\" for their gene; I'm assuming this indicates an \n",
        "# unknown/unconfirmed gene association.\n",
        "UNKNOWN_GENE = \"UNKNOWN\"\n",
        "\n",
        "def replace_unknown_gene(gene):\n",
        "  return UNKNOWN_GENE if gene == \"'-\" else gene\n",
        "\n",
        "\n",
        "schizo_df['gene_norm'] = schizo_df['gene_norm'].apply(replace_unknown_gene)\n",
        "schizo_df['gene_norm'].value_counts()"
      ],
      "metadata": {
        "colab": {
          "base_uri": "https://localhost:8080/"
        },
        "id": "7XE6zG6wbsTu",
        "outputId": "1a5615f9-5647-42bd-c7ff-c2663153f711"
      },
      "execution_count": 30,
      "outputs": [
        {
          "output_type": "execute_result",
          "data": {
            "text/plain": [
              "UNKNOWN      251\n",
              "LINC01470     21\n",
              "CACNA1C       15\n",
              "Y_RNA         15\n",
              "VRK2          11\n",
              "            ... \n",
              "DNAJA3         1\n",
              "MEMO1P1        1\n",
              "SETD4          1\n",
              "HMGB1P36       1\n",
              "MIR548AE1      1\n",
              "Name: gene_norm, Length: 1118, dtype: int64"
            ]
          },
          "metadata": {},
          "execution_count": 30
        }
      ]
    },
    {
      "cell_type": "markdown",
      "source": [
        "## Output"
      ],
      "metadata": {
        "id": "DFnQI_hkDZgH"
      }
    },
    {
      "cell_type": "markdown",
      "source": [
        "Finally, write out the normalized version of the data for use\n",
        "in further analysis."
      ],
      "metadata": {
        "id": "-YBXctUmD0bp"
      }
    },
    {
      "cell_type": "code",
      "source": [
        "schizo_df.head()"
      ],
      "metadata": {
        "colab": {
          "base_uri": "https://localhost:8080/",
          "height": 391
        },
        "id": "thtqxks8Dbu4",
        "outputId": "18de11ef-b3f1-4498-8b85-d1fec8689ed0"
      },
      "execution_count": 31,
      "outputs": [
        {
          "output_type": "execute_result",
          "data": {
            "text/plain": [
              "  Variant and risk allele    P-value P-value annotation RAF     OR Beta  \\\n",
              "3      rs2269372-<b>A</b>   4 x 10-8                NaN  NR  1.313   '-   \n",
              "5      rs6846161-<b>A</b>   1 x 10-9                NaN  NR  1.067   '-   \n",
              "6      rs3735025-<b>T</b>  4 x 10-12                NaN  NR  1.068   '-   \n",
              "7      rs2057884-<b>T</b>  2 x 10-12                NaN  NR  1.069   '-   \n",
              "8       rs215411-<b>A</b>  6 x 10-10                NaN  NR  1.069   '-   \n",
              "\n",
              "            CI Mapped gene Reported trait       Trait(s) Background trait(s)  \\\n",
              "3         [NR]       RENBP  Schizophrenia  schizophrenia                  '-   \n",
              "5  [1.05-1.09]       GPM6A  Schizophrenia  schizophrenia                  '-   \n",
              "6  [1.05-1.09]        DGKI  Schizophrenia  schizophrenia                  '-   \n",
              "7  [1.05-1.09]       SRPK2  Schizophrenia  schizophrenia                  '-   \n",
              "8  [1.05-1.09]    RFPL4AP3  Schizophrenia  schizophrenia                  '-   \n",
              "\n",
              "  Study accession     Location  P-value_norm gene_norm  \n",
              "3      GCST002190  X:153942092  4.000000e-08     RENBP  \n",
              "5      GCST004946  4:175945308  1.000000e-09     GPM6A  \n",
              "6      GCST004946  7:137390098  4.000000e-12      DGKI  \n",
              "7      GCST004946  7:105289803  2.000000e-12     SRPK2  \n",
              "8      GCST004946   4:23421980  6.000000e-10  RFPL4AP3  "
            ],
            "text/html": [
              "\n",
              "  <div id=\"df-1f47b436-510a-4a2e-9888-00e79bf1f053\">\n",
              "    <div class=\"colab-df-container\">\n",
              "      <div>\n",
              "<style scoped>\n",
              "    .dataframe tbody tr th:only-of-type {\n",
              "        vertical-align: middle;\n",
              "    }\n",
              "\n",
              "    .dataframe tbody tr th {\n",
              "        vertical-align: top;\n",
              "    }\n",
              "\n",
              "    .dataframe thead th {\n",
              "        text-align: right;\n",
              "    }\n",
              "</style>\n",
              "<table border=\"1\" class=\"dataframe\">\n",
              "  <thead>\n",
              "    <tr style=\"text-align: right;\">\n",
              "      <th></th>\n",
              "      <th>Variant and risk allele</th>\n",
              "      <th>P-value</th>\n",
              "      <th>P-value annotation</th>\n",
              "      <th>RAF</th>\n",
              "      <th>OR</th>\n",
              "      <th>Beta</th>\n",
              "      <th>CI</th>\n",
              "      <th>Mapped gene</th>\n",
              "      <th>Reported trait</th>\n",
              "      <th>Trait(s)</th>\n",
              "      <th>Background trait(s)</th>\n",
              "      <th>Study accession</th>\n",
              "      <th>Location</th>\n",
              "      <th>P-value_norm</th>\n",
              "      <th>gene_norm</th>\n",
              "    </tr>\n",
              "  </thead>\n",
              "  <tbody>\n",
              "    <tr>\n",
              "      <th>3</th>\n",
              "      <td>rs2269372-&lt;b&gt;A&lt;/b&gt;</td>\n",
              "      <td>4 x 10-8</td>\n",
              "      <td>NaN</td>\n",
              "      <td>NR</td>\n",
              "      <td>1.313</td>\n",
              "      <td>'-</td>\n",
              "      <td>[NR]</td>\n",
              "      <td>RENBP</td>\n",
              "      <td>Schizophrenia</td>\n",
              "      <td>schizophrenia</td>\n",
              "      <td>'-</td>\n",
              "      <td>GCST002190</td>\n",
              "      <td>X:153942092</td>\n",
              "      <td>4.000000e-08</td>\n",
              "      <td>RENBP</td>\n",
              "    </tr>\n",
              "    <tr>\n",
              "      <th>5</th>\n",
              "      <td>rs6846161-&lt;b&gt;A&lt;/b&gt;</td>\n",
              "      <td>1 x 10-9</td>\n",
              "      <td>NaN</td>\n",
              "      <td>NR</td>\n",
              "      <td>1.067</td>\n",
              "      <td>'-</td>\n",
              "      <td>[1.05-1.09]</td>\n",
              "      <td>GPM6A</td>\n",
              "      <td>Schizophrenia</td>\n",
              "      <td>schizophrenia</td>\n",
              "      <td>'-</td>\n",
              "      <td>GCST004946</td>\n",
              "      <td>4:175945308</td>\n",
              "      <td>1.000000e-09</td>\n",
              "      <td>GPM6A</td>\n",
              "    </tr>\n",
              "    <tr>\n",
              "      <th>6</th>\n",
              "      <td>rs3735025-&lt;b&gt;T&lt;/b&gt;</td>\n",
              "      <td>4 x 10-12</td>\n",
              "      <td>NaN</td>\n",
              "      <td>NR</td>\n",
              "      <td>1.068</td>\n",
              "      <td>'-</td>\n",
              "      <td>[1.05-1.09]</td>\n",
              "      <td>DGKI</td>\n",
              "      <td>Schizophrenia</td>\n",
              "      <td>schizophrenia</td>\n",
              "      <td>'-</td>\n",
              "      <td>GCST004946</td>\n",
              "      <td>7:137390098</td>\n",
              "      <td>4.000000e-12</td>\n",
              "      <td>DGKI</td>\n",
              "    </tr>\n",
              "    <tr>\n",
              "      <th>7</th>\n",
              "      <td>rs2057884-&lt;b&gt;T&lt;/b&gt;</td>\n",
              "      <td>2 x 10-12</td>\n",
              "      <td>NaN</td>\n",
              "      <td>NR</td>\n",
              "      <td>1.069</td>\n",
              "      <td>'-</td>\n",
              "      <td>[1.05-1.09]</td>\n",
              "      <td>SRPK2</td>\n",
              "      <td>Schizophrenia</td>\n",
              "      <td>schizophrenia</td>\n",
              "      <td>'-</td>\n",
              "      <td>GCST004946</td>\n",
              "      <td>7:105289803</td>\n",
              "      <td>2.000000e-12</td>\n",
              "      <td>SRPK2</td>\n",
              "    </tr>\n",
              "    <tr>\n",
              "      <th>8</th>\n",
              "      <td>rs215411-&lt;b&gt;A&lt;/b&gt;</td>\n",
              "      <td>6 x 10-10</td>\n",
              "      <td>NaN</td>\n",
              "      <td>NR</td>\n",
              "      <td>1.069</td>\n",
              "      <td>'-</td>\n",
              "      <td>[1.05-1.09]</td>\n",
              "      <td>RFPL4AP3</td>\n",
              "      <td>Schizophrenia</td>\n",
              "      <td>schizophrenia</td>\n",
              "      <td>'-</td>\n",
              "      <td>GCST004946</td>\n",
              "      <td>4:23421980</td>\n",
              "      <td>6.000000e-10</td>\n",
              "      <td>RFPL4AP3</td>\n",
              "    </tr>\n",
              "  </tbody>\n",
              "</table>\n",
              "</div>\n",
              "      <button class=\"colab-df-convert\" onclick=\"convertToInteractive('df-1f47b436-510a-4a2e-9888-00e79bf1f053')\"\n",
              "              title=\"Convert this dataframe to an interactive table.\"\n",
              "              style=\"display:none;\">\n",
              "        \n",
              "  <svg xmlns=\"http://www.w3.org/2000/svg\" height=\"24px\"viewBox=\"0 0 24 24\"\n",
              "       width=\"24px\">\n",
              "    <path d=\"M0 0h24v24H0V0z\" fill=\"none\"/>\n",
              "    <path d=\"M18.56 5.44l.94 2.06.94-2.06 2.06-.94-2.06-.94-.94-2.06-.94 2.06-2.06.94zm-11 1L8.5 8.5l.94-2.06 2.06-.94-2.06-.94L8.5 2.5l-.94 2.06-2.06.94zm10 10l.94 2.06.94-2.06 2.06-.94-2.06-.94-.94-2.06-.94 2.06-2.06.94z\"/><path d=\"M17.41 7.96l-1.37-1.37c-.4-.4-.92-.59-1.43-.59-.52 0-1.04.2-1.43.59L10.3 9.45l-7.72 7.72c-.78.78-.78 2.05 0 2.83L4 21.41c.39.39.9.59 1.41.59.51 0 1.02-.2 1.41-.59l7.78-7.78 2.81-2.81c.8-.78.8-2.07 0-2.86zM5.41 20L4 18.59l7.72-7.72 1.47 1.35L5.41 20z\"/>\n",
              "  </svg>\n",
              "      </button>\n",
              "      \n",
              "  <style>\n",
              "    .colab-df-container {\n",
              "      display:flex;\n",
              "      flex-wrap:wrap;\n",
              "      gap: 12px;\n",
              "    }\n",
              "\n",
              "    .colab-df-convert {\n",
              "      background-color: #E8F0FE;\n",
              "      border: none;\n",
              "      border-radius: 50%;\n",
              "      cursor: pointer;\n",
              "      display: none;\n",
              "      fill: #1967D2;\n",
              "      height: 32px;\n",
              "      padding: 0 0 0 0;\n",
              "      width: 32px;\n",
              "    }\n",
              "\n",
              "    .colab-df-convert:hover {\n",
              "      background-color: #E2EBFA;\n",
              "      box-shadow: 0px 1px 2px rgba(60, 64, 67, 0.3), 0px 1px 3px 1px rgba(60, 64, 67, 0.15);\n",
              "      fill: #174EA6;\n",
              "    }\n",
              "\n",
              "    [theme=dark] .colab-df-convert {\n",
              "      background-color: #3B4455;\n",
              "      fill: #D2E3FC;\n",
              "    }\n",
              "\n",
              "    [theme=dark] .colab-df-convert:hover {\n",
              "      background-color: #434B5C;\n",
              "      box-shadow: 0px 1px 3px 1px rgba(0, 0, 0, 0.15);\n",
              "      filter: drop-shadow(0px 1px 2px rgba(0, 0, 0, 0.3));\n",
              "      fill: #FFFFFF;\n",
              "    }\n",
              "  </style>\n",
              "\n",
              "      <script>\n",
              "        const buttonEl =\n",
              "          document.querySelector('#df-1f47b436-510a-4a2e-9888-00e79bf1f053 button.colab-df-convert');\n",
              "        buttonEl.style.display =\n",
              "          google.colab.kernel.accessAllowed ? 'block' : 'none';\n",
              "\n",
              "        async function convertToInteractive(key) {\n",
              "          const element = document.querySelector('#df-1f47b436-510a-4a2e-9888-00e79bf1f053');\n",
              "          const dataTable =\n",
              "            await google.colab.kernel.invokeFunction('convertToInteractive',\n",
              "                                                     [key], {});\n",
              "          if (!dataTable) return;\n",
              "\n",
              "          const docLinkHtml = 'Like what you see? Visit the ' +\n",
              "            '<a target=\"_blank\" href=https://colab.research.google.com/notebooks/data_table.ipynb>data table notebook</a>'\n",
              "            + ' to learn more about interactive tables.';\n",
              "          element.innerHTML = '';\n",
              "          dataTable['output_type'] = 'display_data';\n",
              "          await google.colab.output.renderOutput(dataTable, element);\n",
              "          const docLink = document.createElement('div');\n",
              "          docLink.innerHTML = docLinkHtml;\n",
              "          element.appendChild(docLink);\n",
              "        }\n",
              "      </script>\n",
              "    </div>\n",
              "  </div>\n",
              "  "
            ]
          },
          "metadata": {},
          "execution_count": 31
        }
      ]
    },
    {
      "cell_type": "code",
      "source": [
        "# Keep only the relevant, normalized columns for brevity. This can always be \n",
        "# updated later to retain more if there's a use for it.\n",
        "\n",
        "out_df = schizo_df[['Variant and risk allele', 'P-value_norm', 'Trait(s)', 'gene_norm']]\n",
        "column_remapping = {\n",
        "    'Variant and risk allele': 'variant_and_allele', \n",
        "    'P-value_norm': 'p_value',\n",
        "    'Trait(s)': 'trait',\n",
        "    'gene_norm': 'gene',\n",
        "}\n",
        "out_df = out_df.rename(columns=column_remapping)\n",
        "out_df.head()"
      ],
      "metadata": {
        "colab": {
          "base_uri": "https://localhost:8080/",
          "height": 206
        },
        "id": "msxbPLRaDqzn",
        "outputId": "c38e705a-dfac-4e01-d8be-9ac2a7ee08c8"
      },
      "execution_count": 34,
      "outputs": [
        {
          "output_type": "execute_result",
          "data": {
            "text/plain": [
              "   variant_and_allele       p_value          trait      gene\n",
              "3  rs2269372-<b>A</b>  4.000000e-08  schizophrenia     RENBP\n",
              "5  rs6846161-<b>A</b>  1.000000e-09  schizophrenia     GPM6A\n",
              "6  rs3735025-<b>T</b>  4.000000e-12  schizophrenia      DGKI\n",
              "7  rs2057884-<b>T</b>  2.000000e-12  schizophrenia     SRPK2\n",
              "8   rs215411-<b>A</b>  6.000000e-10  schizophrenia  RFPL4AP3"
            ],
            "text/html": [
              "\n",
              "  <div id=\"df-8ba1fea9-7f97-40f9-85a0-a2329a657e75\">\n",
              "    <div class=\"colab-df-container\">\n",
              "      <div>\n",
              "<style scoped>\n",
              "    .dataframe tbody tr th:only-of-type {\n",
              "        vertical-align: middle;\n",
              "    }\n",
              "\n",
              "    .dataframe tbody tr th {\n",
              "        vertical-align: top;\n",
              "    }\n",
              "\n",
              "    .dataframe thead th {\n",
              "        text-align: right;\n",
              "    }\n",
              "</style>\n",
              "<table border=\"1\" class=\"dataframe\">\n",
              "  <thead>\n",
              "    <tr style=\"text-align: right;\">\n",
              "      <th></th>\n",
              "      <th>variant_and_allele</th>\n",
              "      <th>p_value</th>\n",
              "      <th>trait</th>\n",
              "      <th>gene</th>\n",
              "    </tr>\n",
              "  </thead>\n",
              "  <tbody>\n",
              "    <tr>\n",
              "      <th>3</th>\n",
              "      <td>rs2269372-&lt;b&gt;A&lt;/b&gt;</td>\n",
              "      <td>4.000000e-08</td>\n",
              "      <td>schizophrenia</td>\n",
              "      <td>RENBP</td>\n",
              "    </tr>\n",
              "    <tr>\n",
              "      <th>5</th>\n",
              "      <td>rs6846161-&lt;b&gt;A&lt;/b&gt;</td>\n",
              "      <td>1.000000e-09</td>\n",
              "      <td>schizophrenia</td>\n",
              "      <td>GPM6A</td>\n",
              "    </tr>\n",
              "    <tr>\n",
              "      <th>6</th>\n",
              "      <td>rs3735025-&lt;b&gt;T&lt;/b&gt;</td>\n",
              "      <td>4.000000e-12</td>\n",
              "      <td>schizophrenia</td>\n",
              "      <td>DGKI</td>\n",
              "    </tr>\n",
              "    <tr>\n",
              "      <th>7</th>\n",
              "      <td>rs2057884-&lt;b&gt;T&lt;/b&gt;</td>\n",
              "      <td>2.000000e-12</td>\n",
              "      <td>schizophrenia</td>\n",
              "      <td>SRPK2</td>\n",
              "    </tr>\n",
              "    <tr>\n",
              "      <th>8</th>\n",
              "      <td>rs215411-&lt;b&gt;A&lt;/b&gt;</td>\n",
              "      <td>6.000000e-10</td>\n",
              "      <td>schizophrenia</td>\n",
              "      <td>RFPL4AP3</td>\n",
              "    </tr>\n",
              "  </tbody>\n",
              "</table>\n",
              "</div>\n",
              "      <button class=\"colab-df-convert\" onclick=\"convertToInteractive('df-8ba1fea9-7f97-40f9-85a0-a2329a657e75')\"\n",
              "              title=\"Convert this dataframe to an interactive table.\"\n",
              "              style=\"display:none;\">\n",
              "        \n",
              "  <svg xmlns=\"http://www.w3.org/2000/svg\" height=\"24px\"viewBox=\"0 0 24 24\"\n",
              "       width=\"24px\">\n",
              "    <path d=\"M0 0h24v24H0V0z\" fill=\"none\"/>\n",
              "    <path d=\"M18.56 5.44l.94 2.06.94-2.06 2.06-.94-2.06-.94-.94-2.06-.94 2.06-2.06.94zm-11 1L8.5 8.5l.94-2.06 2.06-.94-2.06-.94L8.5 2.5l-.94 2.06-2.06.94zm10 10l.94 2.06.94-2.06 2.06-.94-2.06-.94-.94-2.06-.94 2.06-2.06.94z\"/><path d=\"M17.41 7.96l-1.37-1.37c-.4-.4-.92-.59-1.43-.59-.52 0-1.04.2-1.43.59L10.3 9.45l-7.72 7.72c-.78.78-.78 2.05 0 2.83L4 21.41c.39.39.9.59 1.41.59.51 0 1.02-.2 1.41-.59l7.78-7.78 2.81-2.81c.8-.78.8-2.07 0-2.86zM5.41 20L4 18.59l7.72-7.72 1.47 1.35L5.41 20z\"/>\n",
              "  </svg>\n",
              "      </button>\n",
              "      \n",
              "  <style>\n",
              "    .colab-df-container {\n",
              "      display:flex;\n",
              "      flex-wrap:wrap;\n",
              "      gap: 12px;\n",
              "    }\n",
              "\n",
              "    .colab-df-convert {\n",
              "      background-color: #E8F0FE;\n",
              "      border: none;\n",
              "      border-radius: 50%;\n",
              "      cursor: pointer;\n",
              "      display: none;\n",
              "      fill: #1967D2;\n",
              "      height: 32px;\n",
              "      padding: 0 0 0 0;\n",
              "      width: 32px;\n",
              "    }\n",
              "\n",
              "    .colab-df-convert:hover {\n",
              "      background-color: #E2EBFA;\n",
              "      box-shadow: 0px 1px 2px rgba(60, 64, 67, 0.3), 0px 1px 3px 1px rgba(60, 64, 67, 0.15);\n",
              "      fill: #174EA6;\n",
              "    }\n",
              "\n",
              "    [theme=dark] .colab-df-convert {\n",
              "      background-color: #3B4455;\n",
              "      fill: #D2E3FC;\n",
              "    }\n",
              "\n",
              "    [theme=dark] .colab-df-convert:hover {\n",
              "      background-color: #434B5C;\n",
              "      box-shadow: 0px 1px 3px 1px rgba(0, 0, 0, 0.15);\n",
              "      filter: drop-shadow(0px 1px 2px rgba(0, 0, 0, 0.3));\n",
              "      fill: #FFFFFF;\n",
              "    }\n",
              "  </style>\n",
              "\n",
              "      <script>\n",
              "        const buttonEl =\n",
              "          document.querySelector('#df-8ba1fea9-7f97-40f9-85a0-a2329a657e75 button.colab-df-convert');\n",
              "        buttonEl.style.display =\n",
              "          google.colab.kernel.accessAllowed ? 'block' : 'none';\n",
              "\n",
              "        async function convertToInteractive(key) {\n",
              "          const element = document.querySelector('#df-8ba1fea9-7f97-40f9-85a0-a2329a657e75');\n",
              "          const dataTable =\n",
              "            await google.colab.kernel.invokeFunction('convertToInteractive',\n",
              "                                                     [key], {});\n",
              "          if (!dataTable) return;\n",
              "\n",
              "          const docLinkHtml = 'Like what you see? Visit the ' +\n",
              "            '<a target=\"_blank\" href=https://colab.research.google.com/notebooks/data_table.ipynb>data table notebook</a>'\n",
              "            + ' to learn more about interactive tables.';\n",
              "          element.innerHTML = '';\n",
              "          dataTable['output_type'] = 'display_data';\n",
              "          await google.colab.output.renderOutput(dataTable, element);\n",
              "          const docLink = document.createElement('div');\n",
              "          docLink.innerHTML = docLinkHtml;\n",
              "          element.appendChild(docLink);\n",
              "        }\n",
              "      </script>\n",
              "    </div>\n",
              "  </div>\n",
              "  "
            ]
          },
          "metadata": {},
          "execution_count": 34
        }
      ]
    },
    {
      "cell_type": "code",
      "source": [
        "out_df.to_csv('schizophrenia_gwas_catalog_2022_cleaned.csv')"
      ],
      "metadata": {
        "id": "2vKBD11aFAJL"
      },
      "execution_count": 36,
      "outputs": []
    }
  ]
}