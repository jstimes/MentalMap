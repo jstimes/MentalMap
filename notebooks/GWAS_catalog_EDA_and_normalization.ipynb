{
  "nbformat": 4,
  "nbformat_minor": 0,
  "metadata": {
    "colab": {
      "name": "GWAS_catalog_EDA_and_normalization.ipynb",
      "provenance": [],
      "collapsed_sections": [
        "XW0Lgdp_O5Vd",
        "PbmATP9YddQj",
        "e_LgZVotdffl",
        "Gf8cidfkdh1k",
        "eP-3GQ0uQZvM",
        "0SSZg5kfl3XG"
      ]
    },
    "kernelspec": {
      "name": "python3",
      "display_name": "Python 3"
    },
    "language_info": {
      "name": "python"
    }
  },
  "cells": [
    {
      "cell_type": "code",
      "execution_count": 1,
      "metadata": {
        "id": "UAbXVgy5KjX7"
      },
      "outputs": [],
      "source": [
        "from typing import Any, Dict, List, Mapping, Sequence, Set, Text\n",
        "\n",
        "import pandas as pd\n",
        "import numpy as np\n",
        "import math\n",
        "import json\n",
        "import re\n",
        "import requests\n",
        "import time"
      ]
    },
    {
      "cell_type": "code",
      "source": [
        "SKIP_MAFS = True"
      ],
      "metadata": {
        "id": "ELrxLcnbO9WN"
      },
      "execution_count": 2,
      "outputs": []
    },
    {
      "cell_type": "markdown",
      "source": [
        "# Exploratory analysis of CSV data retrieved from GWAS Catalog.\n",
        "This specific data is for Schizophrenia, but other data in GWAS catalog can be retrieved in the same format."
      ],
      "metadata": {
        "id": "mTxAgT2zOibe"
      }
    },
    {
      "cell_type": "markdown",
      "source": [
        "## Exploring raw data types, range of data, etc."
      ],
      "metadata": {
        "id": "XW0Lgdp_O5Vd"
      }
    },
    {
      "cell_type": "markdown",
      "source": [
        "### Overall"
      ],
      "metadata": {
        "id": "TQdTvW4PdZ4U"
      }
    },
    {
      "cell_type": "code",
      "source": [
        "raw_schizo_df = pd.read_csv('schizophrenia_gwas_catalog_2022.csv')\n",
        "raw_schizo_df.head()"
      ],
      "metadata": {
        "colab": {
          "base_uri": "https://localhost:8080/",
          "height": 0
        },
        "id": "nXJNKD_CLlUG",
        "outputId": "a3aef97f-ac8a-4eae-85d7-501e291cab6a"
      },
      "execution_count": 3,
      "outputs": [
        {
          "output_type": "execute_result",
          "data": {
            "text/plain": [
              "  Variant and risk allele    P-value P-value annotation   RAF     OR Beta  \\\n",
              "0     rs11265461-<b>C</b>   2 x 10-7                NaN  0.41   1.45   '-   \n",
              "1       rs230529-<b>T</b>   2 x 10-7                NaN  0.47   1.45   '-   \n",
              "2      rs2237457-<b>T</b>   6 x 10-7  (Recessive model)  0.36   1.74   '-   \n",
              "3      rs2269372-<b>A</b>   4 x 10-8                NaN    NR  1.313   '-   \n",
              "4      rs7597593-<b>T</b>  9 x 10-11                NaN    NR  1.066   '-   \n",
              "\n",
              "            CI    Mapped gene                       Reported trait  \\\n",
              "0  [1.26-1.67]  SLAMF1, SETP9  Schizophrenia (treatment resistant)   \n",
              "1  [1.26-1.66]          NFKB1  Schizophrenia (treatment resistant)   \n",
              "2         [NR]          GRB10  Schizophrenia (treatment resistant)   \n",
              "3         [NR]          RENBP                        Schizophrenia   \n",
              "4  [1.05-1.09]        ZNF804A                        Schizophrenia   \n",
              "\n",
              "                             Trait(s) Background trait(s) Study accession  \\\n",
              "0  treatment refractory schizophrenia                  '-      GCST001458   \n",
              "1  treatment refractory schizophrenia                  '-      GCST001458   \n",
              "2  treatment refractory schizophrenia                  '-      GCST002604   \n",
              "3                       schizophrenia                  '-      GCST002190   \n",
              "4                       schizophrenia                  '-      GCST004946   \n",
              "\n",
              "      Location  \n",
              "0  1:160660353  \n",
              "1  4:102536261  \n",
              "2   7:50658447  \n",
              "3  X:153942092  \n",
              "4  2:184668853  "
            ],
            "text/html": [
              "\n",
              "  <div id=\"df-a0fb0b6e-cfda-4f61-af25-9c192c2da7e2\">\n",
              "    <div class=\"colab-df-container\">\n",
              "      <div>\n",
              "<style scoped>\n",
              "    .dataframe tbody tr th:only-of-type {\n",
              "        vertical-align: middle;\n",
              "    }\n",
              "\n",
              "    .dataframe tbody tr th {\n",
              "        vertical-align: top;\n",
              "    }\n",
              "\n",
              "    .dataframe thead th {\n",
              "        text-align: right;\n",
              "    }\n",
              "</style>\n",
              "<table border=\"1\" class=\"dataframe\">\n",
              "  <thead>\n",
              "    <tr style=\"text-align: right;\">\n",
              "      <th></th>\n",
              "      <th>Variant and risk allele</th>\n",
              "      <th>P-value</th>\n",
              "      <th>P-value annotation</th>\n",
              "      <th>RAF</th>\n",
              "      <th>OR</th>\n",
              "      <th>Beta</th>\n",
              "      <th>CI</th>\n",
              "      <th>Mapped gene</th>\n",
              "      <th>Reported trait</th>\n",
              "      <th>Trait(s)</th>\n",
              "      <th>Background trait(s)</th>\n",
              "      <th>Study accession</th>\n",
              "      <th>Location</th>\n",
              "    </tr>\n",
              "  </thead>\n",
              "  <tbody>\n",
              "    <tr>\n",
              "      <th>0</th>\n",
              "      <td>rs11265461-&lt;b&gt;C&lt;/b&gt;</td>\n",
              "      <td>2 x 10-7</td>\n",
              "      <td>NaN</td>\n",
              "      <td>0.41</td>\n",
              "      <td>1.45</td>\n",
              "      <td>'-</td>\n",
              "      <td>[1.26-1.67]</td>\n",
              "      <td>SLAMF1, SETP9</td>\n",
              "      <td>Schizophrenia (treatment resistant)</td>\n",
              "      <td>treatment refractory schizophrenia</td>\n",
              "      <td>'-</td>\n",
              "      <td>GCST001458</td>\n",
              "      <td>1:160660353</td>\n",
              "    </tr>\n",
              "    <tr>\n",
              "      <th>1</th>\n",
              "      <td>rs230529-&lt;b&gt;T&lt;/b&gt;</td>\n",
              "      <td>2 x 10-7</td>\n",
              "      <td>NaN</td>\n",
              "      <td>0.47</td>\n",
              "      <td>1.45</td>\n",
              "      <td>'-</td>\n",
              "      <td>[1.26-1.66]</td>\n",
              "      <td>NFKB1</td>\n",
              "      <td>Schizophrenia (treatment resistant)</td>\n",
              "      <td>treatment refractory schizophrenia</td>\n",
              "      <td>'-</td>\n",
              "      <td>GCST001458</td>\n",
              "      <td>4:102536261</td>\n",
              "    </tr>\n",
              "    <tr>\n",
              "      <th>2</th>\n",
              "      <td>rs2237457-&lt;b&gt;T&lt;/b&gt;</td>\n",
              "      <td>6 x 10-7</td>\n",
              "      <td>(Recessive model)</td>\n",
              "      <td>0.36</td>\n",
              "      <td>1.74</td>\n",
              "      <td>'-</td>\n",
              "      <td>[NR]</td>\n",
              "      <td>GRB10</td>\n",
              "      <td>Schizophrenia (treatment resistant)</td>\n",
              "      <td>treatment refractory schizophrenia</td>\n",
              "      <td>'-</td>\n",
              "      <td>GCST002604</td>\n",
              "      <td>7:50658447</td>\n",
              "    </tr>\n",
              "    <tr>\n",
              "      <th>3</th>\n",
              "      <td>rs2269372-&lt;b&gt;A&lt;/b&gt;</td>\n",
              "      <td>4 x 10-8</td>\n",
              "      <td>NaN</td>\n",
              "      <td>NR</td>\n",
              "      <td>1.313</td>\n",
              "      <td>'-</td>\n",
              "      <td>[NR]</td>\n",
              "      <td>RENBP</td>\n",
              "      <td>Schizophrenia</td>\n",
              "      <td>schizophrenia</td>\n",
              "      <td>'-</td>\n",
              "      <td>GCST002190</td>\n",
              "      <td>X:153942092</td>\n",
              "    </tr>\n",
              "    <tr>\n",
              "      <th>4</th>\n",
              "      <td>rs7597593-&lt;b&gt;T&lt;/b&gt;</td>\n",
              "      <td>9 x 10-11</td>\n",
              "      <td>NaN</td>\n",
              "      <td>NR</td>\n",
              "      <td>1.066</td>\n",
              "      <td>'-</td>\n",
              "      <td>[1.05-1.09]</td>\n",
              "      <td>ZNF804A</td>\n",
              "      <td>Schizophrenia</td>\n",
              "      <td>schizophrenia</td>\n",
              "      <td>'-</td>\n",
              "      <td>GCST004946</td>\n",
              "      <td>2:184668853</td>\n",
              "    </tr>\n",
              "  </tbody>\n",
              "</table>\n",
              "</div>\n",
              "      <button class=\"colab-df-convert\" onclick=\"convertToInteractive('df-a0fb0b6e-cfda-4f61-af25-9c192c2da7e2')\"\n",
              "              title=\"Convert this dataframe to an interactive table.\"\n",
              "              style=\"display:none;\">\n",
              "        \n",
              "  <svg xmlns=\"http://www.w3.org/2000/svg\" height=\"24px\"viewBox=\"0 0 24 24\"\n",
              "       width=\"24px\">\n",
              "    <path d=\"M0 0h24v24H0V0z\" fill=\"none\"/>\n",
              "    <path d=\"M18.56 5.44l.94 2.06.94-2.06 2.06-.94-2.06-.94-.94-2.06-.94 2.06-2.06.94zm-11 1L8.5 8.5l.94-2.06 2.06-.94-2.06-.94L8.5 2.5l-.94 2.06-2.06.94zm10 10l.94 2.06.94-2.06 2.06-.94-2.06-.94-.94-2.06-.94 2.06-2.06.94z\"/><path d=\"M17.41 7.96l-1.37-1.37c-.4-.4-.92-.59-1.43-.59-.52 0-1.04.2-1.43.59L10.3 9.45l-7.72 7.72c-.78.78-.78 2.05 0 2.83L4 21.41c.39.39.9.59 1.41.59.51 0 1.02-.2 1.41-.59l7.78-7.78 2.81-2.81c.8-.78.8-2.07 0-2.86zM5.41 20L4 18.59l7.72-7.72 1.47 1.35L5.41 20z\"/>\n",
              "  </svg>\n",
              "      </button>\n",
              "      \n",
              "  <style>\n",
              "    .colab-df-container {\n",
              "      display:flex;\n",
              "      flex-wrap:wrap;\n",
              "      gap: 12px;\n",
              "    }\n",
              "\n",
              "    .colab-df-convert {\n",
              "      background-color: #E8F0FE;\n",
              "      border: none;\n",
              "      border-radius: 50%;\n",
              "      cursor: pointer;\n",
              "      display: none;\n",
              "      fill: #1967D2;\n",
              "      height: 32px;\n",
              "      padding: 0 0 0 0;\n",
              "      width: 32px;\n",
              "    }\n",
              "\n",
              "    .colab-df-convert:hover {\n",
              "      background-color: #E2EBFA;\n",
              "      box-shadow: 0px 1px 2px rgba(60, 64, 67, 0.3), 0px 1px 3px 1px rgba(60, 64, 67, 0.15);\n",
              "      fill: #174EA6;\n",
              "    }\n",
              "\n",
              "    [theme=dark] .colab-df-convert {\n",
              "      background-color: #3B4455;\n",
              "      fill: #D2E3FC;\n",
              "    }\n",
              "\n",
              "    [theme=dark] .colab-df-convert:hover {\n",
              "      background-color: #434B5C;\n",
              "      box-shadow: 0px 1px 3px 1px rgba(0, 0, 0, 0.15);\n",
              "      filter: drop-shadow(0px 1px 2px rgba(0, 0, 0, 0.3));\n",
              "      fill: #FFFFFF;\n",
              "    }\n",
              "  </style>\n",
              "\n",
              "      <script>\n",
              "        const buttonEl =\n",
              "          document.querySelector('#df-a0fb0b6e-cfda-4f61-af25-9c192c2da7e2 button.colab-df-convert');\n",
              "        buttonEl.style.display =\n",
              "          google.colab.kernel.accessAllowed ? 'block' : 'none';\n",
              "\n",
              "        async function convertToInteractive(key) {\n",
              "          const element = document.querySelector('#df-a0fb0b6e-cfda-4f61-af25-9c192c2da7e2');\n",
              "          const dataTable =\n",
              "            await google.colab.kernel.invokeFunction('convertToInteractive',\n",
              "                                                     [key], {});\n",
              "          if (!dataTable) return;\n",
              "\n",
              "          const docLinkHtml = 'Like what you see? Visit the ' +\n",
              "            '<a target=\"_blank\" href=https://colab.research.google.com/notebooks/data_table.ipynb>data table notebook</a>'\n",
              "            + ' to learn more about interactive tables.';\n",
              "          element.innerHTML = '';\n",
              "          dataTable['output_type'] = 'display_data';\n",
              "          await google.colab.output.renderOutput(dataTable, element);\n",
              "          const docLink = document.createElement('div');\n",
              "          docLink.innerHTML = docLinkHtml;\n",
              "          element.appendChild(docLink);\n",
              "        }\n",
              "      </script>\n",
              "    </div>\n",
              "  </div>\n",
              "  "
            ]
          },
          "metadata": {},
          "execution_count": 3
        }
      ]
    },
    {
      "cell_type": "code",
      "source": [
        "total_rows = len(raw_schizo_df)\n",
        "print(total_rows)"
      ],
      "metadata": {
        "colab": {
          "base_uri": "https://localhost:8080/"
        },
        "id": "zCA0sf0KOGyb",
        "outputId": "d6d14541-d3cb-4640-d93a-5c69face5396"
      },
      "execution_count": 4,
      "outputs": [
        {
          "output_type": "stream",
          "name": "stdout",
          "text": [
            "3849\n"
          ]
        }
      ]
    },
    {
      "cell_type": "markdown",
      "source": [
        "According to https://www.ebi.ac.uk/gwas/docs/methods/curation\n",
        "- \n",
        "\"RISK ALLELE FREQUENCY: Reported risk/effect allele frequency associated with strongest SNP in controls (if not available among all controls, among the control group with the largest sample size). If the associated locus is a haplotype the haplotype frequency will be extracted.\"\n",
        "So RAF is not global AF, but rather that of the study group. Since this are less comparable across studies, we'll lookup global AF for variants."
      ],
      "metadata": {
        "id": "vGaC_tC-tBwZ"
      }
    },
    {
      "cell_type": "markdown",
      "source": [
        "### Variants"
      ],
      "metadata": {
        "id": "paPFoTXsie8g"
      }
    },
    {
      "cell_type": "code",
      "source": [
        "num_unique_variants = len(raw_schizo_df['Variant and risk allele'].unique())\n",
        "print(f\"{num_unique_variants} unique variants out of {total_rows} records.\")\n",
        "\n",
        "variant_counts = raw_schizo_df['Variant and risk allele'].value_counts()"
      ],
      "metadata": {
        "colab": {
          "base_uri": "https://localhost:8080/"
        },
        "id": "FDBrlIoQgdEH",
        "outputId": "5d8d2a28-aad2-479a-c967-e8be74abc2ea"
      },
      "execution_count": 5,
      "outputs": [
        {
          "output_type": "stream",
          "name": "stdout",
          "text": [
            "2739 unique variants out of 3849 records.\n"
          ]
        }
      ]
    },
    {
      "cell_type": "code",
      "source": [
        "# Explore entries for one repeated variant to assess differences.\n",
        "duplicates = raw_schizo_df.groupby('Variant and risk allele').filter(lambda x: len(x) > 1)\n",
        "one_variant = duplicates.iloc[0]['Variant and risk allele']\n",
        "duplicates[duplicates['Variant and risk allele'] == one_variant]"
      ],
      "metadata": {
        "colab": {
          "base_uri": "https://localhost:8080/",
          "height": 0
        },
        "id": "YDuCCGgphyH6",
        "outputId": "4696f479-d92e-4e42-b225-4ea55308f721"
      },
      "execution_count": 6,
      "outputs": [
        {
          "output_type": "execute_result",
          "data": {
            "text/plain": [
              "     Variant and risk allele    P-value          P-value annotation   RAF  \\\n",
              "4         rs7597593-<b>T</b>  9 x 10-11                         NaN    NR   \n",
              "747       rs7597593-<b>T</b>  2 x 10-11                         NaN    NR   \n",
              "2878      rs7597593-<b>T</b>  3 x 10-12                         NaN  0.62   \n",
              "3625      rs7597593-<b>T</b>   8 x 10-6  (5 degree of freedom test)    NR   \n",
              "\n",
              "         OR Beta           CI Mapped gene  \\\n",
              "4     1.066   '-  [1.05-1.09]     ZNF804A   \n",
              "747   1.069   '-  [1.05-1.09]     ZNF804A   \n",
              "2878     '-   '-           '-     ZNF804A   \n",
              "3625  1.055   '-  [1.03-1.08]     ZNF804A   \n",
              "\n",
              "                                         Reported trait  \\\n",
              "4                                         Schizophrenia   \n",
              "747                                       Schizophrenia   \n",
              "2878                  Broad depression or schizophrenia   \n",
              "3625  Autism spectrum disorder, attention deficit-hy...   \n",
              "\n",
              "                                               Trait(s) Background trait(s)  \\\n",
              "4                                         schizophrenia                  '-   \n",
              "747                                       schizophrenia                  '-   \n",
              "2878                 unipolar depression, schizophrenia                  '-   \n",
              "3625  attention deficit hyperactivity disorder, unip...                  '-   \n",
              "\n",
              "     Study accession     Location  \n",
              "4         GCST004946  2:184668853  \n",
              "747       GCST007201  2:184668853  \n",
              "2878      GCST007257  2:184668853  \n",
              "3625      GCST001877  2:184668853  "
            ],
            "text/html": [
              "\n",
              "  <div id=\"df-545e5ae0-00e5-47ab-bab6-6190b26d1860\">\n",
              "    <div class=\"colab-df-container\">\n",
              "      <div>\n",
              "<style scoped>\n",
              "    .dataframe tbody tr th:only-of-type {\n",
              "        vertical-align: middle;\n",
              "    }\n",
              "\n",
              "    .dataframe tbody tr th {\n",
              "        vertical-align: top;\n",
              "    }\n",
              "\n",
              "    .dataframe thead th {\n",
              "        text-align: right;\n",
              "    }\n",
              "</style>\n",
              "<table border=\"1\" class=\"dataframe\">\n",
              "  <thead>\n",
              "    <tr style=\"text-align: right;\">\n",
              "      <th></th>\n",
              "      <th>Variant and risk allele</th>\n",
              "      <th>P-value</th>\n",
              "      <th>P-value annotation</th>\n",
              "      <th>RAF</th>\n",
              "      <th>OR</th>\n",
              "      <th>Beta</th>\n",
              "      <th>CI</th>\n",
              "      <th>Mapped gene</th>\n",
              "      <th>Reported trait</th>\n",
              "      <th>Trait(s)</th>\n",
              "      <th>Background trait(s)</th>\n",
              "      <th>Study accession</th>\n",
              "      <th>Location</th>\n",
              "    </tr>\n",
              "  </thead>\n",
              "  <tbody>\n",
              "    <tr>\n",
              "      <th>4</th>\n",
              "      <td>rs7597593-&lt;b&gt;T&lt;/b&gt;</td>\n",
              "      <td>9 x 10-11</td>\n",
              "      <td>NaN</td>\n",
              "      <td>NR</td>\n",
              "      <td>1.066</td>\n",
              "      <td>'-</td>\n",
              "      <td>[1.05-1.09]</td>\n",
              "      <td>ZNF804A</td>\n",
              "      <td>Schizophrenia</td>\n",
              "      <td>schizophrenia</td>\n",
              "      <td>'-</td>\n",
              "      <td>GCST004946</td>\n",
              "      <td>2:184668853</td>\n",
              "    </tr>\n",
              "    <tr>\n",
              "      <th>747</th>\n",
              "      <td>rs7597593-&lt;b&gt;T&lt;/b&gt;</td>\n",
              "      <td>2 x 10-11</td>\n",
              "      <td>NaN</td>\n",
              "      <td>NR</td>\n",
              "      <td>1.069</td>\n",
              "      <td>'-</td>\n",
              "      <td>[1.05-1.09]</td>\n",
              "      <td>ZNF804A</td>\n",
              "      <td>Schizophrenia</td>\n",
              "      <td>schizophrenia</td>\n",
              "      <td>'-</td>\n",
              "      <td>GCST007201</td>\n",
              "      <td>2:184668853</td>\n",
              "    </tr>\n",
              "    <tr>\n",
              "      <th>2878</th>\n",
              "      <td>rs7597593-&lt;b&gt;T&lt;/b&gt;</td>\n",
              "      <td>3 x 10-12</td>\n",
              "      <td>NaN</td>\n",
              "      <td>0.62</td>\n",
              "      <td>'-</td>\n",
              "      <td>'-</td>\n",
              "      <td>'-</td>\n",
              "      <td>ZNF804A</td>\n",
              "      <td>Broad depression or schizophrenia</td>\n",
              "      <td>unipolar depression, schizophrenia</td>\n",
              "      <td>'-</td>\n",
              "      <td>GCST007257</td>\n",
              "      <td>2:184668853</td>\n",
              "    </tr>\n",
              "    <tr>\n",
              "      <th>3625</th>\n",
              "      <td>rs7597593-&lt;b&gt;T&lt;/b&gt;</td>\n",
              "      <td>8 x 10-6</td>\n",
              "      <td>(5 degree of freedom test)</td>\n",
              "      <td>NR</td>\n",
              "      <td>1.055</td>\n",
              "      <td>'-</td>\n",
              "      <td>[1.03-1.08]</td>\n",
              "      <td>ZNF804A</td>\n",
              "      <td>Autism spectrum disorder, attention deficit-hy...</td>\n",
              "      <td>attention deficit hyperactivity disorder, unip...</td>\n",
              "      <td>'-</td>\n",
              "      <td>GCST001877</td>\n",
              "      <td>2:184668853</td>\n",
              "    </tr>\n",
              "  </tbody>\n",
              "</table>\n",
              "</div>\n",
              "      <button class=\"colab-df-convert\" onclick=\"convertToInteractive('df-545e5ae0-00e5-47ab-bab6-6190b26d1860')\"\n",
              "              title=\"Convert this dataframe to an interactive table.\"\n",
              "              style=\"display:none;\">\n",
              "        \n",
              "  <svg xmlns=\"http://www.w3.org/2000/svg\" height=\"24px\"viewBox=\"0 0 24 24\"\n",
              "       width=\"24px\">\n",
              "    <path d=\"M0 0h24v24H0V0z\" fill=\"none\"/>\n",
              "    <path d=\"M18.56 5.44l.94 2.06.94-2.06 2.06-.94-2.06-.94-.94-2.06-.94 2.06-2.06.94zm-11 1L8.5 8.5l.94-2.06 2.06-.94-2.06-.94L8.5 2.5l-.94 2.06-2.06.94zm10 10l.94 2.06.94-2.06 2.06-.94-2.06-.94-.94-2.06-.94 2.06-2.06.94z\"/><path d=\"M17.41 7.96l-1.37-1.37c-.4-.4-.92-.59-1.43-.59-.52 0-1.04.2-1.43.59L10.3 9.45l-7.72 7.72c-.78.78-.78 2.05 0 2.83L4 21.41c.39.39.9.59 1.41.59.51 0 1.02-.2 1.41-.59l7.78-7.78 2.81-2.81c.8-.78.8-2.07 0-2.86zM5.41 20L4 18.59l7.72-7.72 1.47 1.35L5.41 20z\"/>\n",
              "  </svg>\n",
              "      </button>\n",
              "      \n",
              "  <style>\n",
              "    .colab-df-container {\n",
              "      display:flex;\n",
              "      flex-wrap:wrap;\n",
              "      gap: 12px;\n",
              "    }\n",
              "\n",
              "    .colab-df-convert {\n",
              "      background-color: #E8F0FE;\n",
              "      border: none;\n",
              "      border-radius: 50%;\n",
              "      cursor: pointer;\n",
              "      display: none;\n",
              "      fill: #1967D2;\n",
              "      height: 32px;\n",
              "      padding: 0 0 0 0;\n",
              "      width: 32px;\n",
              "    }\n",
              "\n",
              "    .colab-df-convert:hover {\n",
              "      background-color: #E2EBFA;\n",
              "      box-shadow: 0px 1px 2px rgba(60, 64, 67, 0.3), 0px 1px 3px 1px rgba(60, 64, 67, 0.15);\n",
              "      fill: #174EA6;\n",
              "    }\n",
              "\n",
              "    [theme=dark] .colab-df-convert {\n",
              "      background-color: #3B4455;\n",
              "      fill: #D2E3FC;\n",
              "    }\n",
              "\n",
              "    [theme=dark] .colab-df-convert:hover {\n",
              "      background-color: #434B5C;\n",
              "      box-shadow: 0px 1px 3px 1px rgba(0, 0, 0, 0.15);\n",
              "      filter: drop-shadow(0px 1px 2px rgba(0, 0, 0, 0.3));\n",
              "      fill: #FFFFFF;\n",
              "    }\n",
              "  </style>\n",
              "\n",
              "      <script>\n",
              "        const buttonEl =\n",
              "          document.querySelector('#df-545e5ae0-00e5-47ab-bab6-6190b26d1860 button.colab-df-convert');\n",
              "        buttonEl.style.display =\n",
              "          google.colab.kernel.accessAllowed ? 'block' : 'none';\n",
              "\n",
              "        async function convertToInteractive(key) {\n",
              "          const element = document.querySelector('#df-545e5ae0-00e5-47ab-bab6-6190b26d1860');\n",
              "          const dataTable =\n",
              "            await google.colab.kernel.invokeFunction('convertToInteractive',\n",
              "                                                     [key], {});\n",
              "          if (!dataTable) return;\n",
              "\n",
              "          const docLinkHtml = 'Like what you see? Visit the ' +\n",
              "            '<a target=\"_blank\" href=https://colab.research.google.com/notebooks/data_table.ipynb>data table notebook</a>'\n",
              "            + ' to learn more about interactive tables.';\n",
              "          element.innerHTML = '';\n",
              "          dataTable['output_type'] = 'display_data';\n",
              "          await google.colab.output.renderOutput(dataTable, element);\n",
              "          const docLink = document.createElement('div');\n",
              "          docLink.innerHTML = docLinkHtml;\n",
              "          element.appendChild(docLink);\n",
              "        }\n",
              "      </script>\n",
              "    </div>\n",
              "  </div>\n",
              "  "
            ]
          },
          "metadata": {},
          "execution_count": 6
        }
      ]
    },
    {
      "cell_type": "markdown",
      "source": [
        "### P-values"
      ],
      "metadata": {
        "id": "PbmATP9YddQj"
      }
    },
    {
      "cell_type": "code",
      "source": [
        "raw_schizo_df['P-value'].describe()"
      ],
      "metadata": {
        "colab": {
          "base_uri": "https://localhost:8080/"
        },
        "id": "g41Sh8RuLnPN",
        "outputId": "cae83547-ace1-4b23-9c02-c7a9e6275844"
      },
      "execution_count": 7,
      "outputs": [
        {
          "output_type": "execute_result",
          "data": {
            "text/plain": [
              "count         3849\n",
              "unique         163\n",
              "top       2 x 10-8\n",
              "freq           201\n",
              "Name: P-value, dtype: object"
            ]
          },
          "metadata": {},
          "execution_count": 7
        }
      ]
    },
    {
      "cell_type": "code",
      "source": [
        "len(raw_schizo_df['Mapped gene'].unique())"
      ],
      "metadata": {
        "colab": {
          "base_uri": "https://localhost:8080/"
        },
        "id": "mgVNo3V-MP6N",
        "outputId": "0a94c060-2ee1-4e90-d207-b8c83ad82302"
      },
      "execution_count": 8,
      "outputs": [
        {
          "output_type": "execute_result",
          "data": {
            "text/plain": [
              "1427"
            ]
          },
          "metadata": {},
          "execution_count": 8
        }
      ]
    },
    {
      "cell_type": "markdown",
      "source": [
        "### Genes"
      ],
      "metadata": {
        "id": "e_LgZVotdffl"
      }
    },
    {
      "cell_type": "code",
      "source": [
        "def has_multiple_genes(mapped_gene):\n",
        "  return \",\" in mapped_gene\n",
        "\n",
        "\n",
        "multi_gene_index = raw_schizo_df['Mapped gene'].apply(has_multiple_genes)\n",
        "len(raw_schizo_df[multi_gene_index])"
      ],
      "metadata": {
        "colab": {
          "base_uri": "https://localhost:8080/"
        },
        "id": "ZM4sTedCQ-Oi",
        "outputId": "aa2b45fa-2b24-424b-edcd-ffb27522ea9a"
      },
      "execution_count": 9,
      "outputs": [
        {
          "output_type": "execute_result",
          "data": {
            "text/plain": [
              "913"
            ]
          },
          "metadata": {},
          "execution_count": 9
        }
      ]
    },
    {
      "cell_type": "markdown",
      "source": [
        "### Reported trait / Trait(s)"
      ],
      "metadata": {
        "id": "Gf8cidfkdh1k"
      }
    },
    {
      "cell_type": "code",
      "source": [
        "raw_schizo_df['Reported trait'].unique()"
      ],
      "metadata": {
        "colab": {
          "base_uri": "https://localhost:8080/"
        },
        "id": "5mnchVO9cL2a",
        "outputId": "a19991e3-6595-4e91-ba0b-735b49d233a2"
      },
      "execution_count": 10,
      "outputs": [
        {
          "output_type": "execute_result",
          "data": {
            "text/plain": [
              "array(['Schizophrenia (treatment resistant)', 'Schizophrenia',\n",
              "       'Schizophrenia (MTAG)', 'Schizophrenia or bipolar disorder',\n",
              "       'Schizophrenia (negative symptoms)', 'Methamphetamine dependence',\n",
              "       'Early-onset schizophrenia',\n",
              "       'Autism spectrum disorder or schizophrenia',\n",
              "       'Gray matter volume (schizophrenia interaction)',\n",
              "       'Schizophrenia (inflammation and infection response interaction)',\n",
              "       'Broad depression or schizophrenia',\n",
              "       'Dentate gyrus volume x schizophrenia interaction',\n",
              "       'Schizophrenia vs type 2 diabetes',\n",
              "       'Schizophrenia and type 2 diabetes',\n",
              "       'Autism and schizophrenia (MTAG)',\n",
              "       'Left superior temporal gyrus thickness (schizophrenia interaction)',\n",
              "       'Bipolar disorder and schizophrenia',\n",
              "       'Schizophrenia (cytomegalovirus infection interaction)',\n",
              "       'Schizophrenia (age at onset)',\n",
              "       'Schizophrenia or schizoaffective disorder',\n",
              "       'Schizophrenia vs autism spectrum disorder (ordinary least squares (OLS))',\n",
              "       'Schizophrenia vs bipolar disorder (ordinary least squares (OLS))',\n",
              "       'Schizophrenia vs anorexia nervosa (ordinary least squares (OLS))',\n",
              "       'Schizophrenia vs ADHD (ordinary least squares (OLS))',\n",
              "       'Schizophrenia vs major depressive disorder (ordinary least squares (OLS))',\n",
              "       \"Schizophrenia vs Tourette's syndrome and other tic disorders (ordinary least squares (OLS))\",\n",
              "       'Schizophrenia x sex interaction',\n",
              "       'Bipolar disorder lithium response (continuous) or schizophrenia',\n",
              "       'Bipolar disorder lithium response (categorical) or schizophrenia',\n",
              "       'Cognitive ability, years of educational attainment or schizophrenia (pleiotropy)',\n",
              "       'Brain imaging in schizophrenia (dorsolateral prefrontal cortex interaction)',\n",
              "       'Schizophrenia, schizoaffective disorder or bipolar disorder',\n",
              "       'Schizophrenia, bipolar disorder or recurrent major depressive disorder x sex interaction (3df)',\n",
              "       'Schizophrenia, bipolar disorder or recurrent major depressive disorder',\n",
              "       'Schizophrenia, bipolar disorder or major depressive disorder x sex interaction',\n",
              "       'Schizophrenia, bipolar disorder or major depressive disorder',\n",
              "       'Schizophrenia, bipolar disorder or major depressive disorder x sex interaction (3df)',\n",
              "       'Neuropsychiatric disorders',\n",
              "       'Autism spectrum disorder, attention deficit-hyperactivity disorder, bipolar disorder, major depressive disorder, and schizophrenia (combined)',\n",
              "       'Psychiatric diseases (pleiotropy) (HIPO component 1)',\n",
              "       'Schizophrenia, bipolar disorder or recurrent major depressive disorder x sex interaction',\n",
              "       'Anorexia nervosa, attention-deficit/hyperactivity disorder, autism spectrum disorder, bipolar disorder, major depression, obsessive-compulsive disorder, schizophrenia, or Tourette syndrome (pleiotropy)'],\n",
              "      dtype=object)"
            ]
          },
          "metadata": {},
          "execution_count": 10
        }
      ]
    },
    {
      "cell_type": "code",
      "source": [
        "raw_schizo_df['Trait(s)'].unique()"
      ],
      "metadata": {
        "colab": {
          "base_uri": "https://localhost:8080/"
        },
        "id": "kkaJyiFPcjHA",
        "outputId": "70853d89-2ee8-4578-c90a-7e7efcc3f797"
      },
      "execution_count": 11,
      "outputs": [
        {
          "output_type": "execute_result",
          "data": {
            "text/plain": [
              "array(['treatment refractory schizophrenia', 'schizophrenia',\n",
              "       'autism spectrum disorder, schizophrenia',\n",
              "       'schizophrenia, grey matter volume measurement',\n",
              "       'schizophrenia, cytomegalovirus seropositivity',\n",
              "       'schizophrenia, HSV1 seropositivity',\n",
              "       'schizophrenia, Toxoplasma gondii seropositivity',\n",
              "       'unipolar depression, schizophrenia',\n",
              "       'dentate gyrus volume measurement, schizophrenia',\n",
              "       'schizophrenia, type 2 diabetes mellitus',\n",
              "       'schizophrenia, bipolar disorder',\n",
              "       'schizophrenia, left superior temporal gyrus thickness measurement',\n",
              "       'schizophrenia, cytomegalovirus infection',\n",
              "       'schizophrenia, age at onset',\n",
              "       'schizophrenia, schizoaffective disorder',\n",
              "       'anorexia nervosa, schizophrenia',\n",
              "       'attention deficit hyperactivity disorder, schizophrenia',\n",
              "       'Tourette syndrome, schizophrenia',\n",
              "       'schizophrenia, sex interaction measurement',\n",
              "       'schizophrenia, bipolar disorder, response to lithium ion',\n",
              "       'schizophrenia, intelligence, self reported educational attainment',\n",
              "       'schizophrenia, dorsolateral prefrontal cortex functional measurement, brain measurement',\n",
              "       'schizophrenia, bipolar disorder, schizoaffective disorder',\n",
              "       'unipolar depression, schizophrenia, sex interaction measurement, bipolar disorder',\n",
              "       'disease recurrence, unipolar depression, schizophrenia, bipolar disorder',\n",
              "       'unipolar depression, schizophrenia, bipolar disorder',\n",
              "       'attention deficit hyperactivity disorder, autism spectrum disorder, schizophrenia, bipolar disorder, major depressive disorder',\n",
              "       'attention deficit hyperactivity disorder, unipolar depression, autism spectrum disorder, schizophrenia, bipolar disorder',\n",
              "       'disease recurrence, unipolar depression, schizophrenia, sex interaction measurement, bipolar disorder',\n",
              "       'anorexia nervosa, obsessive-compulsive disorder, attention deficit hyperactivity disorder, Tourette syndrome, unipolar depression, autism spectrum disorder, schizophrenia, bipolar disorder'],\n",
              "      dtype=object)"
            ]
          },
          "metadata": {},
          "execution_count": 11
        }
      ]
    },
    {
      "cell_type": "code",
      "source": [
        "num_just_schizo = len(raw_schizo_df[raw_schizo_df['Trait(s)'] == 'schizophrenia'])\n",
        "print(f\"{num_just_schizo} / {total_rows} rows are for the trait schizophrenia only.\")"
      ],
      "metadata": {
        "colab": {
          "base_uri": "https://localhost:8080/"
        },
        "id": "kWJP-ikGdtuo",
        "outputId": "8fbd5bdd-bb76-4446-cbb3-3eca16672281"
      },
      "execution_count": 12,
      "outputs": [
        {
          "output_type": "stream",
          "name": "stdout",
          "text": [
            "2564 / 3849 rows are for the trait schizophrenia only.\n"
          ]
        }
      ]
    },
    {
      "cell_type": "markdown",
      "source": [
        "### Initial observations:\n",
        "\n",
        "\n",
        "*   3849 records total\n",
        "*   P-values are currently objects/strings\n",
        "*   A lot of genes - 1427 unique values, although some normalization seems to be required (e.g. to fix \"SLAMF1, SETP9\"). After normalizing it may be good to analyze counts per gene - maybe genes only implicated once are less signficant than others which appear multiple times.\n",
        "*   Many records have multiple traits in addition to schizophrenia (e.g. one trait value is \"anorexia nervosa, obsessive-compulsive disorder, attention deficit hyperactivity disorder, Tourette syndrome, unipolar depression, autism spectrum disorder, schizophrenia, bipolar disorder\"). I assume these studies examined patients with either condition, but it's not entirely clear without checking the studies themselves. To make this a scalable approach, it may be best to omit records that are for more than just schizophrenia to avoid any potential biases in the future similarity analysis.\n",
        "* A fair amount of the variants in the dataset appear multiple times (e.g. reported by different studies). It's worth noting this, although at the moment it's unclear what the best way to handle this is. Maybe subsequent analysis should only focus on variants identified multiple time; maybe for each repeated variant, only the lowest p-value should be retained. However, some care should be applied given the above point about traits (maybe want the lowest p-value among records for just the trait schizophrenia).\n",
        "\n"
      ],
      "metadata": {
        "id": "ENGk5KD2OM2t"
      }
    },
    {
      "cell_type": "markdown",
      "source": [
        "## Cleaning/normalizing data"
      ],
      "metadata": {
        "id": "U8SyM_12O1MI"
      }
    },
    {
      "cell_type": "code",
      "source": [
        "# Create copy of DF to hold normalized data and leave raw DF untouched.\n",
        "schizo_df = raw_schizo_df.copy()"
      ],
      "metadata": {
        "id": "2KAjcAXParMN"
      },
      "execution_count": 13,
      "outputs": []
    },
    {
      "cell_type": "markdown",
      "source": [
        "### P-values"
      ],
      "metadata": {
        "id": "eP-3GQ0uQZvM"
      }
    },
    {
      "cell_type": "code",
      "source": [
        "def pval_to_num(pval):\n",
        "  parts = pval.split(\" x 10-\")\n",
        "  return float(parts[0]) * pow(10, -float(parts[1]))\n",
        "\n",
        "\n",
        "print(pval_to_num(\"2 x 10-7\"))"
      ],
      "metadata": {
        "colab": {
          "base_uri": "https://localhost:8080/"
        },
        "id": "hbsuFR9pPA43",
        "outputId": "aea70d91-adba-4b6e-b92f-cbf956a5d60c"
      },
      "execution_count": 14,
      "outputs": [
        {
          "output_type": "stream",
          "name": "stdout",
          "text": [
            "2e-07\n"
          ]
        }
      ]
    },
    {
      "cell_type": "code",
      "source": [
        "schizo_df['P-value_norm'] = raw_schizo_df['P-value'].apply(pval_to_num)"
      ],
      "metadata": {
        "id": "SQrLRsBxQL5h"
      },
      "execution_count": 15,
      "outputs": []
    },
    {
      "cell_type": "code",
      "source": [
        "schizo_df['P-value_norm'].describe()"
      ],
      "metadata": {
        "colab": {
          "base_uri": "https://localhost:8080/"
        },
        "id": "zoS3N2RGQM9g",
        "outputId": "f957c4c7-3ca7-4ee0-9a9b-e254d5b1d3cd"
      },
      "execution_count": 16,
      "outputs": [
        {
          "output_type": "execute_result",
          "data": {
            "text/plain": [
              "count    3.849000e+03\n",
              "mean     1.072234e-06\n",
              "std      2.255918e-06\n",
              "min      2.000000e-44\n",
              "25%      3.000000e-10\n",
              "50%      2.000000e-08\n",
              "75%      6.000000e-07\n",
              "max      1.000000e-05\n",
              "Name: P-value_norm, dtype: float64"
            ]
          },
          "metadata": {},
          "execution_count": 16
        }
      ]
    },
    {
      "cell_type": "markdown",
      "source": [
        "### Traits"
      ],
      "metadata": {
        "id": "0SSZg5kfl3XG"
      }
    },
    {
      "cell_type": "code",
      "source": [
        "# As mentioned above, it may be best to use the subset of data which focused \n",
        "# solely on the trait of interest (schizophrenia).\n",
        "# There are some others that are probably fine to include (e.g. treatment \n",
        "# refractory schizophrenia), but for the sake of simplicity and \n",
        "# generalizability, we'll assume there is one canonical GWAS catalog trait of \n",
        "# interest for each condition to be analyzed.\n",
        "canonical_trait = 'schizophrenia'\n",
        "filtered_df = schizo_df[schizo_df['Trait(s)'] == canonical_trait]\n",
        "print(f\"Filtered from {len(schizo_df)} rows to {len(filtered_df)} rows.\")"
      ],
      "metadata": {
        "colab": {
          "base_uri": "https://localhost:8080/"
        },
        "id": "iI-9G6dXl5rF",
        "outputId": "2d4f04df-42a0-44a7-ed9e-d3fa30dbea94"
      },
      "execution_count": 17,
      "outputs": [
        {
          "output_type": "stream",
          "name": "stdout",
          "text": [
            "Filtered from 3849 rows to 2564 rows.\n"
          ]
        }
      ]
    },
    {
      "cell_type": "code",
      "source": [
        "# The majority of the data is retained, so we'll use just this subset.\n",
        "schizo_df = filtered_df"
      ],
      "metadata": {
        "id": "IfJGflY2mqHX"
      },
      "execution_count": 18,
      "outputs": []
    },
    {
      "cell_type": "markdown",
      "source": [
        "### Variants"
      ],
      "metadata": {
        "id": "nKmkwArwnIDb"
      }
    },
    {
      "cell_type": "code",
      "source": [
        "# Sanity-check that all duplicated variants are reported to map to same gene(s)\n",
        "# before we split multi-gene associations into separate rows.\n",
        "# If all repeated variants map to same gene, we can just retain the entry with\n",
        "# lowest p-value (or any really, since subsequent analysis just cares about \n",
        "# variant ID and implicated genes).\n",
        "duplicate_variants = schizo_df.groupby('Variant and risk allele').filter(lambda x: len(x) > 1)['Variant and risk allele'].unique()\n",
        "all_good = True\n",
        "for variant in duplicate_variants:\n",
        "  all_mapped_genes = schizo_df[schizo_df['Variant and risk allele'] == variant]['Mapped gene'].unique()\n",
        "  if len(all_mapped_genes) > 1:\n",
        "    print(f\"Found variant, {variant}, with differing mapped gene values.\")\n",
        "    all_good = False\n",
        "\n",
        "\n",
        "if all_good:\n",
        "  print(\"No repeated variants with differing mapped gene values.\")"
      ],
      "metadata": {
        "colab": {
          "base_uri": "https://localhost:8080/"
        },
        "id": "vetPumTLnJ2N",
        "outputId": "362d4de2-ef4b-41f5-b485-ab19b77a3507"
      },
      "execution_count": 19,
      "outputs": [
        {
          "output_type": "stream",
          "name": "stdout",
          "text": [
            "No repeated variants with differing mapped gene values.\n"
          ]
        }
      ]
    },
    {
      "cell_type": "code",
      "source": [
        "# Proceed with just choosing the record with the lowest p-value.\n",
        "# It may later be useful to revisit this step and retain these duplicates - \n",
        "# maybe only focusing on those associations that have been found in multiple\n",
        "# independent studies will lead to better results in the subsequent analysis.\n",
        "min_indices = schizo_df.groupby('Variant and risk allele')['P-value_norm'].idxmin()\n",
        "schizo_df = schizo_df.loc[min_indices]"
      ],
      "metadata": {
        "id": "53XXnWXNqEQc"
      },
      "execution_count": 20,
      "outputs": []
    },
    {
      "cell_type": "code",
      "source": [
        "# Sanity-check duplicates are gone:\n",
        "num_unique_variants = len(schizo_df['Variant and risk allele'].unique())\n",
        "num_total = len(schizo_df)\n",
        "print(f\"{num_unique_variants} unique variants of {num_total} records\")"
      ],
      "metadata": {
        "colab": {
          "base_uri": "https://localhost:8080/"
        },
        "id": "_crAXbNtrHBI",
        "outputId": "c116dfb8-4aee-4014-9afd-4d1828c33ba6"
      },
      "execution_count": 21,
      "outputs": [
        {
          "output_type": "stream",
          "name": "stdout",
          "text": [
            "1822 unique variants of 1822 records\n"
          ]
        }
      ]
    },
    {
      "cell_type": "markdown",
      "source": [
        "### Genes"
      ],
      "metadata": {
        "id": "TjAJKd7OQgNG"
      }
    },
    {
      "cell_type": "code",
      "source": [
        "# Genes are comma-separated so `explode` can be used to create a new row for \n",
        "# each gene (with all other columns identical).\n",
        "# https://pandas.pydata.org/docs/reference/api/pandas.DataFrame.explode.html\n",
        "schizo_df['gene_norm'] = raw_schizo_df['Mapped gene'].apply(lambda val: val.split(\", \"))\n",
        "exploded_schizo_df = schizo_df.explode('gene_norm')\n",
        "len(exploded_schizo_df)"
      ],
      "metadata": {
        "colab": {
          "base_uri": "https://localhost:8080/"
        },
        "id": "c-D2Wq0CQhe8",
        "outputId": "39b41403-4790-4e0d-ae86-f42c49f1e8ec"
      },
      "execution_count": 22,
      "outputs": [
        {
          "output_type": "execute_result",
          "data": {
            "text/plain": [
              "2201"
            ]
          },
          "metadata": {},
          "execution_count": 22
        }
      ]
    },
    {
      "cell_type": "code",
      "source": [
        "# Sanity check that the final number of rows is expected:\n",
        "schizo_df['gene_norm'].apply(lambda x: len(x)).value_counts()"
      ],
      "metadata": {
        "colab": {
          "base_uri": "https://localhost:8080/"
        },
        "id": "ttmhefBRZS_K",
        "outputId": "5f73530a-e7e3-4253-bcda-4653ec5b3f72"
      },
      "execution_count": 23,
      "outputs": [
        {
          "output_type": "execute_result",
          "data": {
            "text/plain": [
              "1    1444\n",
              "2     377\n",
              "3       1\n",
              "Name: gene_norm, dtype: int64"
            ]
          },
          "metadata": {},
          "execution_count": 23
        }
      ]
    },
    {
      "cell_type": "code",
      "source": [
        "# 1444 entries with one gene + 2 * 377 entries with two + 3 * 1 entries with three\n",
        "assert len(exploded_schizo_df) == 1444 + 2 * 377 + 3 * 1"
      ],
      "metadata": {
        "id": "4bquAPS6aIpt"
      },
      "execution_count": 24,
      "outputs": []
    },
    {
      "cell_type": "code",
      "source": [
        "# Sanity-check passes so set schizo_df to the exploded version.\n",
        "schizo_df = exploded_schizo_df"
      ],
      "metadata": {
        "id": "PgQSMDN5aSMs"
      },
      "execution_count": 25,
      "outputs": []
    },
    {
      "cell_type": "code",
      "source": [
        "schizo_df['gene_norm'].value_counts()"
      ],
      "metadata": {
        "colab": {
          "base_uri": "https://localhost:8080/"
        },
        "id": "D7LStdgxabEn",
        "outputId": "eab2b48f-7457-446d-9e82-399773ba2db9"
      },
      "execution_count": 26,
      "outputs": [
        {
          "output_type": "execute_result",
          "data": {
            "text/plain": [
              "'-           251\n",
              "LINC01470     21\n",
              "CACNA1C       15\n",
              "Y_RNA         15\n",
              "VRK2          11\n",
              "            ... \n",
              "ARHGAP31       1\n",
              "ADAMTS6        1\n",
              "NLRC5          1\n",
              "VN1R18P        1\n",
              "NRIP1          1\n",
              "Name: gene_norm, Length: 1118, dtype: int64"
            ]
          },
          "metadata": {},
          "execution_count": 26
        }
      ]
    },
    {
      "cell_type": "code",
      "source": [
        "# 491 / 4764 entries have \"'-\" for their gene; I'm assuming this indicates an \n",
        "# unknown/unconfirmed gene association. According to curation site, it says\n",
        "# 'NR' is used for not reported and 'intergenic' is used to denote intergenic \n",
        "# regions, but neither of these appear in this data\n",
        "UNKNOWN_GENE = \"UNKNOWN\"\n",
        "\n",
        "def replace_unknown_gene(gene):\n",
        "  return UNKNOWN_GENE if gene == \"'-\" else gene\n",
        "\n",
        "\n",
        "schizo_df['gene_norm'] = schizo_df['gene_norm'].apply(replace_unknown_gene)\n",
        "schizo_df['gene_norm'].value_counts()"
      ],
      "metadata": {
        "colab": {
          "base_uri": "https://localhost:8080/"
        },
        "id": "7XE6zG6wbsTu",
        "outputId": "ead80954-2677-4c77-ec8c-e2eb7bada4a6"
      },
      "execution_count": 27,
      "outputs": [
        {
          "output_type": "execute_result",
          "data": {
            "text/plain": [
              "UNKNOWN      251\n",
              "LINC01470     21\n",
              "CACNA1C       15\n",
              "Y_RNA         15\n",
              "VRK2          11\n",
              "            ... \n",
              "ARHGAP31       1\n",
              "ADAMTS6        1\n",
              "NLRC5          1\n",
              "VN1R18P        1\n",
              "NRIP1          1\n",
              "Name: gene_norm, Length: 1118, dtype: int64"
            ]
          },
          "metadata": {},
          "execution_count": 27
        }
      ]
    },
    {
      "cell_type": "code",
      "source": [
        "unique_genes = schizo_df['gene_norm'].unique()\n",
        "'NR' in unique_genes or 'intergenic' in unique_genes"
      ],
      "metadata": {
        "colab": {
          "base_uri": "https://localhost:8080/"
        },
        "id": "hM3jVNKhuSZF",
        "outputId": "59e051c8-b438-4164-9997-620d28d58eed"
      },
      "execution_count": 28,
      "outputs": [
        {
          "output_type": "execute_result",
          "data": {
            "text/plain": [
              "False"
            ]
          },
          "metadata": {},
          "execution_count": 28
        }
      ]
    },
    {
      "cell_type": "markdown",
      "source": [
        "### Location"
      ],
      "metadata": {
        "id": "FbwL4qv2w0NY"
      }
    },
    {
      "cell_type": "code",
      "source": [
        "# Location is mostly fine. Some associations don't report an rs ID in 'Variant \n",
        "# and risk allele' and instead report in the format 'chrX:location-<b>?</b>',\n",
        "# and then their Location value is 'Mapping not available'. Just copy over the\n",
        "# location info in same format as other variants. Note some rs ID variants also\n",
        "# use 'Mapping not available' though, so leave those as is.\n",
        "NON_RSVAR_FORMAT_LOCATION_VALUE = 'Mapping not available'\n",
        "\n",
        "\n",
        "def try_fix_variant_location(variant_row: pd.Series) -> Text:\n",
        "  \"\"\"Given variants of form 'chr6:55564517-<b>?</b>' returns '6:55564517'.\"\"\"\n",
        "  if variant_row['Location'] != NON_RSVAR_FORMAT_LOCATION_VALUE:\n",
        "    return variant_row['Location']\n",
        "  variant = variant_row['Variant and risk allele']\n",
        "  if 'rs' in variant:\n",
        "    return NON_RSVAR_FORMAT_LOCATION_VALUE\n",
        "  parts = variant.split(\":\")\n",
        "  chr_num = parts[0][3]\n",
        "  location = parts[1].split(\"-\")[0]\n",
        "  return f'{chr_num}:{location}'\n",
        "\n",
        "\n",
        "nonstandard_variants_df = schizo_df.loc[schizo_df['Location'] == NON_RSVAR_FORMAT_LOCATION_VALUE]\n",
        "print(f'{len(nonstandard_variants_df)} variants missing location info.')\n",
        "schizo_df['Location'] = schizo_df.apply(try_fix_variant_location, axis=1)\n",
        "\n",
        "still_missing_count = len(schizo_df.loc[schizo_df['Location'] == NON_RSVAR_FORMAT_LOCATION_VALUE])\n",
        "print(f'{still_missing_count} variants still missing location info.')"
      ],
      "metadata": {
        "colab": {
          "base_uri": "https://localhost:8080/"
        },
        "id": "0iCRtNIjw4MU",
        "outputId": "28dc583f-50e4-4dd0-8681-a85e00f2442b"
      },
      "execution_count": 29,
      "outputs": [
        {
          "output_type": "stream",
          "name": "stdout",
          "text": [
            "130 variants missing location info.\n",
            "129 variants still missing location info.\n"
          ]
        }
      ]
    },
    {
      "cell_type": "markdown",
      "source": [
        "## Output"
      ],
      "metadata": {
        "id": "DFnQI_hkDZgH"
      }
    },
    {
      "cell_type": "markdown",
      "source": [
        "Finally, write out the normalized version of the data for use\n",
        "in further analysis."
      ],
      "metadata": {
        "id": "-YBXctUmD0bp"
      }
    },
    {
      "cell_type": "code",
      "source": [
        "schizo_df.head()"
      ],
      "metadata": {
        "colab": {
          "base_uri": "https://localhost:8080/",
          "height": 374
        },
        "id": "thtqxks8Dbu4",
        "outputId": "3249859a-63b0-4349-c2bb-c24e5f64e920"
      },
      "execution_count": 30,
      "outputs": [
        {
          "output_type": "execute_result",
          "data": {
            "text/plain": [
              "     Variant and risk allele   P-value P-value annotation     RAF         OR  \\\n",
              "2388  chr6:55564517-<b>?</b>  3 x 10-6           (female)  0.5665         '-   \n",
              "1176      rs1001780-<b>G</b>  8 x 10-6                NaN      NR  1.0752687   \n",
              "2036     rs10043984-<b>?</b>  5 x 10-8                NaN      '-         '-   \n",
              "615      rs10043984-<b>T</b>  4 x 10-8                NaN  0.2614         '-   \n",
              "236      rs10046758-<b>?</b>  9 x 10-8                NaN      NR         '-   \n",
              "\n",
              "                           Beta             CI Mapped gene  \\\n",
              "2388       0.1622 unit increase   [0.094-0.23]          '-   \n",
              "1176                         '-           [NR]     DLX2-DT   \n",
              "2036                         '-             '-       KDM3B   \n",
              "615   0.067151085 unit increase  [0.043-0.091]       KDM3B   \n",
              "236                          '-             '-       CSMD1   \n",
              "\n",
              "            Reported trait       Trait(s) Background trait(s) Study accession  \\\n",
              "2388         Schizophrenia  schizophrenia                  '-      GCST012309   \n",
              "1176         Schizophrenia  schizophrenia                  '-      GCST003048   \n",
              "2036  Schizophrenia (MTAG)  schizophrenia                  '-      GCST010640   \n",
              "615   Schizophrenia (MTAG)  schizophrenia                  '-      GCST012089   \n",
              "236          Schizophrenia  schizophrenia                  '-      GCST008459   \n",
              "\n",
              "         Location  P-value_norm gene_norm  \n",
              "2388   6:55564517  3.000000e-06   UNKNOWN  \n",
              "1176  2:172107630  8.000000e-06   DLX2-DT  \n",
              "2036  5:138376432  5.000000e-08     KDM3B  \n",
              "615   5:138376432  4.000000e-08     KDM3B  \n",
              "236     8:4326648  9.000000e-08     CSMD1  "
            ],
            "text/html": [
              "\n",
              "  <div id=\"df-cb5e01ad-6d59-40cb-bd0c-4a1e0452312e\">\n",
              "    <div class=\"colab-df-container\">\n",
              "      <div>\n",
              "<style scoped>\n",
              "    .dataframe tbody tr th:only-of-type {\n",
              "        vertical-align: middle;\n",
              "    }\n",
              "\n",
              "    .dataframe tbody tr th {\n",
              "        vertical-align: top;\n",
              "    }\n",
              "\n",
              "    .dataframe thead th {\n",
              "        text-align: right;\n",
              "    }\n",
              "</style>\n",
              "<table border=\"1\" class=\"dataframe\">\n",
              "  <thead>\n",
              "    <tr style=\"text-align: right;\">\n",
              "      <th></th>\n",
              "      <th>Variant and risk allele</th>\n",
              "      <th>P-value</th>\n",
              "      <th>P-value annotation</th>\n",
              "      <th>RAF</th>\n",
              "      <th>OR</th>\n",
              "      <th>Beta</th>\n",
              "      <th>CI</th>\n",
              "      <th>Mapped gene</th>\n",
              "      <th>Reported trait</th>\n",
              "      <th>Trait(s)</th>\n",
              "      <th>Background trait(s)</th>\n",
              "      <th>Study accession</th>\n",
              "      <th>Location</th>\n",
              "      <th>P-value_norm</th>\n",
              "      <th>gene_norm</th>\n",
              "    </tr>\n",
              "  </thead>\n",
              "  <tbody>\n",
              "    <tr>\n",
              "      <th>2388</th>\n",
              "      <td>chr6:55564517-&lt;b&gt;?&lt;/b&gt;</td>\n",
              "      <td>3 x 10-6</td>\n",
              "      <td>(female)</td>\n",
              "      <td>0.5665</td>\n",
              "      <td>'-</td>\n",
              "      <td>0.1622 unit increase</td>\n",
              "      <td>[0.094-0.23]</td>\n",
              "      <td>'-</td>\n",
              "      <td>Schizophrenia</td>\n",
              "      <td>schizophrenia</td>\n",
              "      <td>'-</td>\n",
              "      <td>GCST012309</td>\n",
              "      <td>6:55564517</td>\n",
              "      <td>3.000000e-06</td>\n",
              "      <td>UNKNOWN</td>\n",
              "    </tr>\n",
              "    <tr>\n",
              "      <th>1176</th>\n",
              "      <td>rs1001780-&lt;b&gt;G&lt;/b&gt;</td>\n",
              "      <td>8 x 10-6</td>\n",
              "      <td>NaN</td>\n",
              "      <td>NR</td>\n",
              "      <td>1.0752687</td>\n",
              "      <td>'-</td>\n",
              "      <td>[NR]</td>\n",
              "      <td>DLX2-DT</td>\n",
              "      <td>Schizophrenia</td>\n",
              "      <td>schizophrenia</td>\n",
              "      <td>'-</td>\n",
              "      <td>GCST003048</td>\n",
              "      <td>2:172107630</td>\n",
              "      <td>8.000000e-06</td>\n",
              "      <td>DLX2-DT</td>\n",
              "    </tr>\n",
              "    <tr>\n",
              "      <th>2036</th>\n",
              "      <td>rs10043984-&lt;b&gt;?&lt;/b&gt;</td>\n",
              "      <td>5 x 10-8</td>\n",
              "      <td>NaN</td>\n",
              "      <td>'-</td>\n",
              "      <td>'-</td>\n",
              "      <td>'-</td>\n",
              "      <td>'-</td>\n",
              "      <td>KDM3B</td>\n",
              "      <td>Schizophrenia (MTAG)</td>\n",
              "      <td>schizophrenia</td>\n",
              "      <td>'-</td>\n",
              "      <td>GCST010640</td>\n",
              "      <td>5:138376432</td>\n",
              "      <td>5.000000e-08</td>\n",
              "      <td>KDM3B</td>\n",
              "    </tr>\n",
              "    <tr>\n",
              "      <th>615</th>\n",
              "      <td>rs10043984-&lt;b&gt;T&lt;/b&gt;</td>\n",
              "      <td>4 x 10-8</td>\n",
              "      <td>NaN</td>\n",
              "      <td>0.2614</td>\n",
              "      <td>'-</td>\n",
              "      <td>0.067151085 unit increase</td>\n",
              "      <td>[0.043-0.091]</td>\n",
              "      <td>KDM3B</td>\n",
              "      <td>Schizophrenia (MTAG)</td>\n",
              "      <td>schizophrenia</td>\n",
              "      <td>'-</td>\n",
              "      <td>GCST012089</td>\n",
              "      <td>5:138376432</td>\n",
              "      <td>4.000000e-08</td>\n",
              "      <td>KDM3B</td>\n",
              "    </tr>\n",
              "    <tr>\n",
              "      <th>236</th>\n",
              "      <td>rs10046758-&lt;b&gt;?&lt;/b&gt;</td>\n",
              "      <td>9 x 10-8</td>\n",
              "      <td>NaN</td>\n",
              "      <td>NR</td>\n",
              "      <td>'-</td>\n",
              "      <td>'-</td>\n",
              "      <td>'-</td>\n",
              "      <td>CSMD1</td>\n",
              "      <td>Schizophrenia</td>\n",
              "      <td>schizophrenia</td>\n",
              "      <td>'-</td>\n",
              "      <td>GCST008459</td>\n",
              "      <td>8:4326648</td>\n",
              "      <td>9.000000e-08</td>\n",
              "      <td>CSMD1</td>\n",
              "    </tr>\n",
              "  </tbody>\n",
              "</table>\n",
              "</div>\n",
              "      <button class=\"colab-df-convert\" onclick=\"convertToInteractive('df-cb5e01ad-6d59-40cb-bd0c-4a1e0452312e')\"\n",
              "              title=\"Convert this dataframe to an interactive table.\"\n",
              "              style=\"display:none;\">\n",
              "        \n",
              "  <svg xmlns=\"http://www.w3.org/2000/svg\" height=\"24px\"viewBox=\"0 0 24 24\"\n",
              "       width=\"24px\">\n",
              "    <path d=\"M0 0h24v24H0V0z\" fill=\"none\"/>\n",
              "    <path d=\"M18.56 5.44l.94 2.06.94-2.06 2.06-.94-2.06-.94-.94-2.06-.94 2.06-2.06.94zm-11 1L8.5 8.5l.94-2.06 2.06-.94-2.06-.94L8.5 2.5l-.94 2.06-2.06.94zm10 10l.94 2.06.94-2.06 2.06-.94-2.06-.94-.94-2.06-.94 2.06-2.06.94z\"/><path d=\"M17.41 7.96l-1.37-1.37c-.4-.4-.92-.59-1.43-.59-.52 0-1.04.2-1.43.59L10.3 9.45l-7.72 7.72c-.78.78-.78 2.05 0 2.83L4 21.41c.39.39.9.59 1.41.59.51 0 1.02-.2 1.41-.59l7.78-7.78 2.81-2.81c.8-.78.8-2.07 0-2.86zM5.41 20L4 18.59l7.72-7.72 1.47 1.35L5.41 20z\"/>\n",
              "  </svg>\n",
              "      </button>\n",
              "      \n",
              "  <style>\n",
              "    .colab-df-container {\n",
              "      display:flex;\n",
              "      flex-wrap:wrap;\n",
              "      gap: 12px;\n",
              "    }\n",
              "\n",
              "    .colab-df-convert {\n",
              "      background-color: #E8F0FE;\n",
              "      border: none;\n",
              "      border-radius: 50%;\n",
              "      cursor: pointer;\n",
              "      display: none;\n",
              "      fill: #1967D2;\n",
              "      height: 32px;\n",
              "      padding: 0 0 0 0;\n",
              "      width: 32px;\n",
              "    }\n",
              "\n",
              "    .colab-df-convert:hover {\n",
              "      background-color: #E2EBFA;\n",
              "      box-shadow: 0px 1px 2px rgba(60, 64, 67, 0.3), 0px 1px 3px 1px rgba(60, 64, 67, 0.15);\n",
              "      fill: #174EA6;\n",
              "    }\n",
              "\n",
              "    [theme=dark] .colab-df-convert {\n",
              "      background-color: #3B4455;\n",
              "      fill: #D2E3FC;\n",
              "    }\n",
              "\n",
              "    [theme=dark] .colab-df-convert:hover {\n",
              "      background-color: #434B5C;\n",
              "      box-shadow: 0px 1px 3px 1px rgba(0, 0, 0, 0.15);\n",
              "      filter: drop-shadow(0px 1px 2px rgba(0, 0, 0, 0.3));\n",
              "      fill: #FFFFFF;\n",
              "    }\n",
              "  </style>\n",
              "\n",
              "      <script>\n",
              "        const buttonEl =\n",
              "          document.querySelector('#df-cb5e01ad-6d59-40cb-bd0c-4a1e0452312e button.colab-df-convert');\n",
              "        buttonEl.style.display =\n",
              "          google.colab.kernel.accessAllowed ? 'block' : 'none';\n",
              "\n",
              "        async function convertToInteractive(key) {\n",
              "          const element = document.querySelector('#df-cb5e01ad-6d59-40cb-bd0c-4a1e0452312e');\n",
              "          const dataTable =\n",
              "            await google.colab.kernel.invokeFunction('convertToInteractive',\n",
              "                                                     [key], {});\n",
              "          if (!dataTable) return;\n",
              "\n",
              "          const docLinkHtml = 'Like what you see? Visit the ' +\n",
              "            '<a target=\"_blank\" href=https://colab.research.google.com/notebooks/data_table.ipynb>data table notebook</a>'\n",
              "            + ' to learn more about interactive tables.';\n",
              "          element.innerHTML = '';\n",
              "          dataTable['output_type'] = 'display_data';\n",
              "          await google.colab.output.renderOutput(dataTable, element);\n",
              "          const docLink = document.createElement('div');\n",
              "          docLink.innerHTML = docLinkHtml;\n",
              "          element.appendChild(docLink);\n",
              "        }\n",
              "      </script>\n",
              "    </div>\n",
              "  </div>\n",
              "  "
            ]
          },
          "metadata": {},
          "execution_count": 30
        }
      ]
    },
    {
      "cell_type": "code",
      "source": [
        "# Keep only the relevant, normalized columns for brevity. This can always be \n",
        "# updated later to retain more if there's a use for it.\n",
        "\n",
        "out_df = schizo_df[['Variant and risk allele', 'P-value_norm', 'Trait(s)', 'gene_norm', 'Location']]\n",
        "column_remapping = {\n",
        "    'Variant and risk allele': 'variant_and_allele', \n",
        "    'P-value_norm': 'p_value',\n",
        "    'Trait(s)': 'trait',\n",
        "    'gene_norm': 'gene',\n",
        "    'Location': 'location',\n",
        "}\n",
        "out_df = out_df.rename(columns=column_remapping)\n",
        "out_df.head()"
      ],
      "metadata": {
        "colab": {
          "base_uri": "https://localhost:8080/",
          "height": 206
        },
        "id": "msxbPLRaDqzn",
        "outputId": "ae12ccf5-84ef-44bd-feac-28a6a782042e"
      },
      "execution_count": 31,
      "outputs": [
        {
          "output_type": "execute_result",
          "data": {
            "text/plain": [
              "          variant_and_allele       p_value          trait     gene  \\\n",
              "2388  chr6:55564517-<b>?</b>  3.000000e-06  schizophrenia  UNKNOWN   \n",
              "1176      rs1001780-<b>G</b>  8.000000e-06  schizophrenia  DLX2-DT   \n",
              "2036     rs10043984-<b>?</b>  5.000000e-08  schizophrenia    KDM3B   \n",
              "615      rs10043984-<b>T</b>  4.000000e-08  schizophrenia    KDM3B   \n",
              "236      rs10046758-<b>?</b>  9.000000e-08  schizophrenia    CSMD1   \n",
              "\n",
              "         location  \n",
              "2388   6:55564517  \n",
              "1176  2:172107630  \n",
              "2036  5:138376432  \n",
              "615   5:138376432  \n",
              "236     8:4326648  "
            ],
            "text/html": [
              "\n",
              "  <div id=\"df-f092bc9e-9488-4fb9-8944-b79a4af88ca1\">\n",
              "    <div class=\"colab-df-container\">\n",
              "      <div>\n",
              "<style scoped>\n",
              "    .dataframe tbody tr th:only-of-type {\n",
              "        vertical-align: middle;\n",
              "    }\n",
              "\n",
              "    .dataframe tbody tr th {\n",
              "        vertical-align: top;\n",
              "    }\n",
              "\n",
              "    .dataframe thead th {\n",
              "        text-align: right;\n",
              "    }\n",
              "</style>\n",
              "<table border=\"1\" class=\"dataframe\">\n",
              "  <thead>\n",
              "    <tr style=\"text-align: right;\">\n",
              "      <th></th>\n",
              "      <th>variant_and_allele</th>\n",
              "      <th>p_value</th>\n",
              "      <th>trait</th>\n",
              "      <th>gene</th>\n",
              "      <th>location</th>\n",
              "    </tr>\n",
              "  </thead>\n",
              "  <tbody>\n",
              "    <tr>\n",
              "      <th>2388</th>\n",
              "      <td>chr6:55564517-&lt;b&gt;?&lt;/b&gt;</td>\n",
              "      <td>3.000000e-06</td>\n",
              "      <td>schizophrenia</td>\n",
              "      <td>UNKNOWN</td>\n",
              "      <td>6:55564517</td>\n",
              "    </tr>\n",
              "    <tr>\n",
              "      <th>1176</th>\n",
              "      <td>rs1001780-&lt;b&gt;G&lt;/b&gt;</td>\n",
              "      <td>8.000000e-06</td>\n",
              "      <td>schizophrenia</td>\n",
              "      <td>DLX2-DT</td>\n",
              "      <td>2:172107630</td>\n",
              "    </tr>\n",
              "    <tr>\n",
              "      <th>2036</th>\n",
              "      <td>rs10043984-&lt;b&gt;?&lt;/b&gt;</td>\n",
              "      <td>5.000000e-08</td>\n",
              "      <td>schizophrenia</td>\n",
              "      <td>KDM3B</td>\n",
              "      <td>5:138376432</td>\n",
              "    </tr>\n",
              "    <tr>\n",
              "      <th>615</th>\n",
              "      <td>rs10043984-&lt;b&gt;T&lt;/b&gt;</td>\n",
              "      <td>4.000000e-08</td>\n",
              "      <td>schizophrenia</td>\n",
              "      <td>KDM3B</td>\n",
              "      <td>5:138376432</td>\n",
              "    </tr>\n",
              "    <tr>\n",
              "      <th>236</th>\n",
              "      <td>rs10046758-&lt;b&gt;?&lt;/b&gt;</td>\n",
              "      <td>9.000000e-08</td>\n",
              "      <td>schizophrenia</td>\n",
              "      <td>CSMD1</td>\n",
              "      <td>8:4326648</td>\n",
              "    </tr>\n",
              "  </tbody>\n",
              "</table>\n",
              "</div>\n",
              "      <button class=\"colab-df-convert\" onclick=\"convertToInteractive('df-f092bc9e-9488-4fb9-8944-b79a4af88ca1')\"\n",
              "              title=\"Convert this dataframe to an interactive table.\"\n",
              "              style=\"display:none;\">\n",
              "        \n",
              "  <svg xmlns=\"http://www.w3.org/2000/svg\" height=\"24px\"viewBox=\"0 0 24 24\"\n",
              "       width=\"24px\">\n",
              "    <path d=\"M0 0h24v24H0V0z\" fill=\"none\"/>\n",
              "    <path d=\"M18.56 5.44l.94 2.06.94-2.06 2.06-.94-2.06-.94-.94-2.06-.94 2.06-2.06.94zm-11 1L8.5 8.5l.94-2.06 2.06-.94-2.06-.94L8.5 2.5l-.94 2.06-2.06.94zm10 10l.94 2.06.94-2.06 2.06-.94-2.06-.94-.94-2.06-.94 2.06-2.06.94z\"/><path d=\"M17.41 7.96l-1.37-1.37c-.4-.4-.92-.59-1.43-.59-.52 0-1.04.2-1.43.59L10.3 9.45l-7.72 7.72c-.78.78-.78 2.05 0 2.83L4 21.41c.39.39.9.59 1.41.59.51 0 1.02-.2 1.41-.59l7.78-7.78 2.81-2.81c.8-.78.8-2.07 0-2.86zM5.41 20L4 18.59l7.72-7.72 1.47 1.35L5.41 20z\"/>\n",
              "  </svg>\n",
              "      </button>\n",
              "      \n",
              "  <style>\n",
              "    .colab-df-container {\n",
              "      display:flex;\n",
              "      flex-wrap:wrap;\n",
              "      gap: 12px;\n",
              "    }\n",
              "\n",
              "    .colab-df-convert {\n",
              "      background-color: #E8F0FE;\n",
              "      border: none;\n",
              "      border-radius: 50%;\n",
              "      cursor: pointer;\n",
              "      display: none;\n",
              "      fill: #1967D2;\n",
              "      height: 32px;\n",
              "      padding: 0 0 0 0;\n",
              "      width: 32px;\n",
              "    }\n",
              "\n",
              "    .colab-df-convert:hover {\n",
              "      background-color: #E2EBFA;\n",
              "      box-shadow: 0px 1px 2px rgba(60, 64, 67, 0.3), 0px 1px 3px 1px rgba(60, 64, 67, 0.15);\n",
              "      fill: #174EA6;\n",
              "    }\n",
              "\n",
              "    [theme=dark] .colab-df-convert {\n",
              "      background-color: #3B4455;\n",
              "      fill: #D2E3FC;\n",
              "    }\n",
              "\n",
              "    [theme=dark] .colab-df-convert:hover {\n",
              "      background-color: #434B5C;\n",
              "      box-shadow: 0px 1px 3px 1px rgba(0, 0, 0, 0.15);\n",
              "      filter: drop-shadow(0px 1px 2px rgba(0, 0, 0, 0.3));\n",
              "      fill: #FFFFFF;\n",
              "    }\n",
              "  </style>\n",
              "\n",
              "      <script>\n",
              "        const buttonEl =\n",
              "          document.querySelector('#df-f092bc9e-9488-4fb9-8944-b79a4af88ca1 button.colab-df-convert');\n",
              "        buttonEl.style.display =\n",
              "          google.colab.kernel.accessAllowed ? 'block' : 'none';\n",
              "\n",
              "        async function convertToInteractive(key) {\n",
              "          const element = document.querySelector('#df-f092bc9e-9488-4fb9-8944-b79a4af88ca1');\n",
              "          const dataTable =\n",
              "            await google.colab.kernel.invokeFunction('convertToInteractive',\n",
              "                                                     [key], {});\n",
              "          if (!dataTable) return;\n",
              "\n",
              "          const docLinkHtml = 'Like what you see? Visit the ' +\n",
              "            '<a target=\"_blank\" href=https://colab.research.google.com/notebooks/data_table.ipynb>data table notebook</a>'\n",
              "            + ' to learn more about interactive tables.';\n",
              "          element.innerHTML = '';\n",
              "          dataTable['output_type'] = 'display_data';\n",
              "          await google.colab.output.renderOutput(dataTable, element);\n",
              "          const docLink = document.createElement('div');\n",
              "          docLink.innerHTML = docLinkHtml;\n",
              "          element.appendChild(docLink);\n",
              "        }\n",
              "      </script>\n",
              "    </div>\n",
              "  </div>\n",
              "  "
            ]
          },
          "metadata": {},
          "execution_count": 31
        }
      ]
    },
    {
      "cell_type": "code",
      "source": [
        "out_df.to_csv('schizophrenia_gwas_catalog_2022_cleaned.csv')"
      ],
      "metadata": {
        "id": "2vKBD11aFAJL"
      },
      "execution_count": 32,
      "outputs": []
    },
    {
      "cell_type": "markdown",
      "source": [
        "# Load auxiliary data from dbSNP"
      ],
      "metadata": {
        "id": "SJzV9834CW8j"
      }
    },
    {
      "cell_type": "code",
      "source": [
        "DB_SNP = 'snp'\n",
        "\n",
        "# dbsnp efetch max refsnp results:\n",
        "MAX_DBSNP_QUERIES = 15\n",
        "\n",
        "# dbsnp API min time between requests.\n",
        "SLEEP_SECONDS = 3\n",
        "\n",
        "SUBCOL_DELIM = ';'\n",
        "\n",
        "# Use this study for reporting population mean allele frequency (MAF).\n",
        "PREFFERED_AF_STUDY = 'dbGaP_PopFreq'\n",
        "\n",
        "# Given a dbSNP ID, fetches allele frequency data about the SNP from dbSNP.\n",
        "# Returns a dict of dicts, where outer key is SNP ID, inner dict key is allele,\n",
        "# and value is MAF for that allele for that SNP.\n",
        "def get_mafs_for_refsnps(snp_ids):\n",
        "    start = 0\n",
        "    stop = len(snp_ids)\n",
        "    data = {}\n",
        "    while start < stop:\n",
        "        cutoff = start + MAX_DBSNP_QUERIES\n",
        "        cutoff = min(stop, cutoff)\n",
        "        time.sleep(SLEEP_SECONDS)\n",
        "        data_batch = _get_mafs_for_refsnps_internal(snp_ids[start:cutoff])\n",
        "        # Pythonic way to merge dicts (3.5+)\n",
        "        data = {**data, **data_batch}\n",
        "        start += MAX_DBSNP_QUERIES\n",
        "    return data\n",
        "\n",
        "\n",
        "# Wrapped to avoid exceeding API request/response size limitations.\n",
        "def _get_mafs_for_refsnps_internal(snp_ids):\n",
        "    url = 'https://eutils.ncbi.nlm.nih.gov/entrez/eutils/efetch.fcgi'\n",
        "    params = {\n",
        "        'db': DB_SNP,\n",
        "        'id': snp_ids,\n",
        "        'rettype': 'json',\n",
        "        'retmode': 'text',\n",
        "    }\n",
        "\n",
        "    maf_dicts = {}\n",
        "    request = requests.get(url=url, params=params)\n",
        "    parseable_json = '[{' + request.text[1:].replace('{\"refsnp_id\":', ',{\"refsnp_id\":') + ']'\n",
        "    response = json.loads(parseable_json)\n",
        "    for snp_response in response:\n",
        "        if 'primary_snapshot_data' not in snp_response:\n",
        "            continue\n",
        "\n",
        "        snp_id = 'rs' + snp_response['refsnp_id']\n",
        "        allele_to_maf = {}\n",
        "        allele_annotations = snp_response['primary_snapshot_data']['allele_annotations']\n",
        "        for allele_annotation in allele_annotations:\n",
        "            frequencies = allele_annotation['frequency']\n",
        "            pop_freq_entries = [entry for entry in frequencies if entry['study_name'] == PREFFERED_AF_STUDY]\n",
        "            if len(pop_freq_entries) == 0:\n",
        "              continue\n",
        "            pop_freq_entry = pop_freq_entries[0]\n",
        "            pop_maf = pop_freq_entry['allele_count'] / pop_freq_entry['total_count']\n",
        "            allele = pop_freq_entry['observation']['inserted_sequence']\n",
        "            allele_to_maf[allele] = pop_maf\n",
        "        # Sometimes all alleles are reported, even with 0.0 values.\n",
        "        # Drop those, assuming they are truly 0 and should be ignored.\n",
        "        allele_to_maf = {key: value for key, value in allele_to_maf.items() if value > 0.0}\n",
        "        maf_dicts[snp_id] = allele_to_maf\n",
        "        \n",
        "    return maf_dicts"
      ],
      "metadata": {
        "id": "NifyQsYzCiL9"
      },
      "execution_count": 33,
      "outputs": []
    },
    {
      "cell_type": "code",
      "source": [
        "all_variants = out_df['variant_and_allele'].tolist()\n",
        "rs_variants_and_alleles = [var for var in all_variants if 'rs' in var]\n",
        "other_variants = [var for var in all_variants if var not in rs_variants_and_alleles]\n",
        "\n",
        "print(f\"{len(rs_variants_and_alleles)} rs variants out of {len(all_variants)} total variants\")"
      ],
      "metadata": {
        "colab": {
          "base_uri": "https://localhost:8080/"
        },
        "id": "JdEk86eJCzgV",
        "outputId": "dfea3611-a6d7-431d-a57a-0d2d8f3141fe"
      },
      "execution_count": 34,
      "outputs": [
        {
          "output_type": "stream",
          "name": "stdout",
          "text": [
            "2200 rs variants out of 2201 total variants\n"
          ]
        }
      ]
    },
    {
      "cell_type": "code",
      "source": [
        "print(other_variants)"
      ],
      "metadata": {
        "colab": {
          "base_uri": "https://localhost:8080/"
        },
        "id": "vR7K_NxXEhyh",
        "outputId": "438d193d-91a6-450c-960c-f79cbec69844"
      },
      "execution_count": 35,
      "outputs": [
        {
          "output_type": "stream",
          "name": "stdout",
          "text": [
            "['chr6:55564517-<b>?</b>']\n"
          ]
        }
      ]
    },
    {
      "cell_type": "code",
      "source": [
        "ALLELE_REGEX_PATTERN = r\"<b>(.*)</b>\"\n",
        "\n",
        "\n",
        "def parse_variant_and_allele(variant_and_allele):\n",
        "  \"\"\"Given a string like 'rs1001780-<b>G</b>', returns ('rs1001780', 'G').\"\"\"\n",
        "  parts = variant_and_allele.split(\"-\")\n",
        "  variant = parts[0]\n",
        "  allele = re.findall(ALLELE_REGEX_PATTERN, parts[1], flags=0)[0]\n",
        "  return (variant, allele)\n",
        "\n",
        "\n",
        "def parse_variant(variant_and_allele):\n",
        "  \"\"\"Given a string like 'rs1001780-<b>G</b>', returns 'rs1001780'.\"\"\"\n",
        "  return parse_variant_and_allele(variant_and_allele)[0]\n",
        "\n",
        "\n",
        "rs_variants = [parse_variant(var) for var in rs_variants_and_alleles]"
      ],
      "metadata": {
        "id": "1kW_NdSDEkb3"
      },
      "execution_count": 36,
      "outputs": []
    },
    {
      "cell_type": "code",
      "source": [
        "rs_variants[0:10]"
      ],
      "metadata": {
        "colab": {
          "base_uri": "https://localhost:8080/"
        },
        "id": "MpHBI1E1Fgh5",
        "outputId": "8d78a354-6d96-451d-c682-7485cae9b0b5"
      },
      "execution_count": 37,
      "outputs": [
        {
          "output_type": "execute_result",
          "data": {
            "text/plain": [
              "['rs1001780',\n",
              " 'rs10043984',\n",
              " 'rs10043984',\n",
              " 'rs10046758',\n",
              " 'rs10052004',\n",
              " 'rs1006737',\n",
              " 'rs1006737',\n",
              " 'rs10077591',\n",
              " 'rs10077591',\n",
              " 'rs10083370']"
            ]
          },
          "metadata": {},
          "execution_count": 37
        }
      ]
    },
    {
      "cell_type": "code",
      "source": [
        "# Demo\n",
        "mafs = get_mafs_for_refsnps(rs_variants[0:5])\n",
        "mafs"
      ],
      "metadata": {
        "colab": {
          "base_uri": "https://localhost:8080/"
        },
        "id": "-R29thmFFlff",
        "outputId": "09f2bcef-c247-4721-c183-dcdcef793a48"
      },
      "execution_count": 38,
      "outputs": [
        {
          "output_type": "execute_result",
          "data": {
            "text/plain": [
              "{'rs1001780': {'G': 0.907379924446843, 'T': 0.09262007555315704},\n",
              " 'rs10043984': {'C': 0.745363299149029, 'T': 0.25463670085097095},\n",
              " 'rs10046758': {'C': 0.8966909848879625, 'G': 0.10330901511203752},\n",
              " 'rs10052004': {'A': 0.29921583447493977, 'G': 0.7007841655250602}}"
            ]
          },
          "metadata": {},
          "execution_count": 38
        }
      ]
    },
    {
      "cell_type": "code",
      "source": [
        "# Takes ~45 minutes to run :|\n",
        "mafs = get_mafs_for_refsnps(rs_variants)"
      ],
      "metadata": {
        "id": "xzaHS3bEZkWX"
      },
      "execution_count": 39,
      "outputs": []
    },
    {
      "cell_type": "code",
      "source": [
        "UNKNOWN_AF = -1.0\n",
        "# From https://www.ebi.ac.uk/gwas/docs/methods/curation\n",
        "# \"? for unknown risk allele\"\n",
        "UNKNOWN_ALLELE = '?'\n",
        "\n",
        "\n",
        "def try_get_maf_for_variant_and_allele(variant_and_allele):\n",
        "  variant, allele = parse_variant_and_allele(variant_and_allele)\n",
        "  if variant not in mafs:\n",
        "    return UNKNOWN_AF\n",
        "\n",
        "  var_mafs = mafs[variant]\n",
        "  if allele == UNKNOWN_ALLELE:\n",
        "    # Assume the significant association to be with the allele with min value if\n",
        "    # not reported explicitly when there are only two alleles.\n",
        "    if len(var_mafs.keys()) == 2:\n",
        "      return min(var_mafs.values())\n",
        "    print(f'Found variant with no reported allele for non-biallelic variant.')\n",
        "    return UNKNOWN_AF\n",
        "\n",
        "  if allele not in var_mafs:\n",
        "    return UNKNOWN_AF\n",
        "\n",
        "  return var_mafs[allele]\n",
        "\n",
        "\n",
        "out_df['maf'] = out_df['variant_and_allele'].map(try_get_maf_for_variant_and_allele)\n",
        "out_df['maf'].describe()"
      ],
      "metadata": {
        "colab": {
          "base_uri": "https://localhost:8080/"
        },
        "id": "S0eAyth-auEZ",
        "outputId": "dcbecc7d-5f19-4d55-8e97-0208c0fe3703"
      },
      "execution_count": 40,
      "outputs": [
        {
          "output_type": "stream",
          "name": "stdout",
          "text": [
            "Found variant with no reported allele for non-biallelic variant.\n",
            "Found variant with no reported allele for non-biallelic variant.\n",
            "Found variant with no reported allele for non-biallelic variant.\n",
            "Found variant with no reported allele for non-biallelic variant.\n",
            "Found variant with no reported allele for non-biallelic variant.\n",
            "Found variant with no reported allele for non-biallelic variant.\n",
            "Found variant with no reported allele for non-biallelic variant.\n",
            "Found variant with no reported allele for non-biallelic variant.\n",
            "Found variant with no reported allele for non-biallelic variant.\n",
            "Found variant with no reported allele for non-biallelic variant.\n",
            "Found variant with no reported allele for non-biallelic variant.\n"
          ]
        },
        {
          "output_type": "execute_result",
          "data": {
            "text/plain": [
              "count    2201.000000\n",
              "mean        0.346703\n",
              "std         0.387918\n",
              "min        -1.000000\n",
              "25%         0.179093\n",
              "50%         0.355426\n",
              "75%         0.560081\n",
              "max         1.000000\n",
              "Name: maf, dtype: float64"
            ]
          },
          "metadata": {},
          "execution_count": 40
        }
      ]
    },
    {
      "cell_type": "code",
      "source": [
        "out_df['maf'].hist()"
      ],
      "metadata": {
        "colab": {
          "base_uri": "https://localhost:8080/",
          "height": 283
        },
        "id": "rMW1uiennixY",
        "outputId": "d52e5a95-42b9-4f73-962e-0f3dab3c1481"
      },
      "execution_count": 41,
      "outputs": [
        {
          "output_type": "execute_result",
          "data": {
            "text/plain": [
              "<matplotlib.axes._subplots.AxesSubplot at 0x7f652b4d3cd0>"
            ]
          },
          "metadata": {},
          "execution_count": 41
        },
        {
          "output_type": "display_data",
          "data": {
            "text/plain": [
              "<Figure size 432x288 with 1 Axes>"
            ],
            "image/png": "[encoded data removed]"
          },
          "metadata": {
            "needs_background": "light"
          }
        }
      ]
    },
    {
      "cell_type": "code",
      "source": [
        "ax = out_df[out_df['maf'] > 0]['maf'].plot(kind='hist', \n",
        "                                      grid=True,\n",
        "                                      title='Distribution of global AFs for schizophrenia variants')\n",
        "ax.set_xlabel('Risk allele frequency')"
      ],
      "metadata": {
        "colab": {
          "base_uri": "https://localhost:8080/",
          "height": 313
        },
        "id": "HgFw0tkNn1dj",
        "outputId": "8b50da32-30a7-4fd7-8239-47cbecac07ca"
      },
      "execution_count": 42,
      "outputs": [
        {
          "output_type": "execute_result",
          "data": {
            "text/plain": [
              "Text(0.5, 0, 'Risk allele frequency')"
            ]
          },
          "metadata": {},
          "execution_count": 42
        },
        {
          "output_type": "display_data",
          "data": {
            "text/plain": [
              "<Figure size 432x288 with 1 Axes>"
            ],
            "image/png": "[encoded data removed]"
          },
          "metadata": {
            "needs_background": "light"
          }
        }
      ]
    },
    {
      "cell_type": "markdown",
      "source": [
        "Check out the alleles with unknown AFs:"
      ],
      "metadata": {
        "id": "AEt4fdy2nDPm"
      }
    },
    {
      "cell_type": "code",
      "source": [
        "unknowns = out_df[out_df['maf'] < 0.0]\n",
        "len(unknowns)"
      ],
      "metadata": {
        "colab": {
          "base_uri": "https://localhost:8080/"
        },
        "id": "A-0izKELmT_B",
        "outputId": "1bcb2acd-b0f5-4d32-b71e-29c70cbeec1d"
      },
      "execution_count": 43,
      "outputs": [
        {
          "output_type": "execute_result",
          "data": {
            "text/plain": [
              "99"
            ]
          },
          "metadata": {},
          "execution_count": 43
        }
      ]
    },
    {
      "cell_type": "code",
      "source": [
        "unknowns.head()"
      ],
      "metadata": {
        "colab": {
          "base_uri": "https://localhost:8080/",
          "height": 206
        },
        "id": "l0D0D8LnnqQL",
        "outputId": "3e307c6b-5b7c-46bd-bbba-e6468d162275"
      },
      "execution_count": 44,
      "outputs": [
        {
          "output_type": "execute_result",
          "data": {
            "text/plain": [
              "          variant_and_allele       p_value          trait         gene  \\\n",
              "2388  chr6:55564517-<b>?</b>  3.000000e-06  schizophrenia      UNKNOWN   \n",
              "2008      rs1023330-<b>?</b>  9.000000e-09  schizophrenia  TLCD4-RWDD3   \n",
              "2008      rs1023330-<b>?</b>  9.000000e-09  schizophrenia        TLCD4   \n",
              "2083      rs1023497-<b>?</b>  9.000000e-09  schizophrenia        CENPM   \n",
              "1847     rs10489202-<b>A</b>  1.000000e-08  schizophrenia      UNKNOWN   \n",
              "\n",
              "                   location  maf  \n",
              "2388             6:55564517 -1.0  \n",
              "2008             1:95121217 -1.0  \n",
              "2008             1:95121217 -1.0  \n",
              "2083            22:41944504 -1.0  \n",
              "1847  Mapping not available -1.0  "
            ],
            "text/html": [
              "\n",
              "  <div id=\"df-b9aa31b8-f428-464f-b8e8-bdb4576e2c13\">\n",
              "    <div class=\"colab-df-container\">\n",
              "      <div>\n",
              "<style scoped>\n",
              "    .dataframe tbody tr th:only-of-type {\n",
              "        vertical-align: middle;\n",
              "    }\n",
              "\n",
              "    .dataframe tbody tr th {\n",
              "        vertical-align: top;\n",
              "    }\n",
              "\n",
              "    .dataframe thead th {\n",
              "        text-align: right;\n",
              "    }\n",
              "</style>\n",
              "<table border=\"1\" class=\"dataframe\">\n",
              "  <thead>\n",
              "    <tr style=\"text-align: right;\">\n",
              "      <th></th>\n",
              "      <th>variant_and_allele</th>\n",
              "      <th>p_value</th>\n",
              "      <th>trait</th>\n",
              "      <th>gene</th>\n",
              "      <th>location</th>\n",
              "      <th>maf</th>\n",
              "    </tr>\n",
              "  </thead>\n",
              "  <tbody>\n",
              "    <tr>\n",
              "      <th>2388</th>\n",
              "      <td>chr6:55564517-&lt;b&gt;?&lt;/b&gt;</td>\n",
              "      <td>3.000000e-06</td>\n",
              "      <td>schizophrenia</td>\n",
              "      <td>UNKNOWN</td>\n",
              "      <td>6:55564517</td>\n",
              "      <td>-1.0</td>\n",
              "    </tr>\n",
              "    <tr>\n",
              "      <th>2008</th>\n",
              "      <td>rs1023330-&lt;b&gt;?&lt;/b&gt;</td>\n",
              "      <td>9.000000e-09</td>\n",
              "      <td>schizophrenia</td>\n",
              "      <td>TLCD4-RWDD3</td>\n",
              "      <td>1:95121217</td>\n",
              "      <td>-1.0</td>\n",
              "    </tr>\n",
              "    <tr>\n",
              "      <th>2008</th>\n",
              "      <td>rs1023330-&lt;b&gt;?&lt;/b&gt;</td>\n",
              "      <td>9.000000e-09</td>\n",
              "      <td>schizophrenia</td>\n",
              "      <td>TLCD4</td>\n",
              "      <td>1:95121217</td>\n",
              "      <td>-1.0</td>\n",
              "    </tr>\n",
              "    <tr>\n",
              "      <th>2083</th>\n",
              "      <td>rs1023497-&lt;b&gt;?&lt;/b&gt;</td>\n",
              "      <td>9.000000e-09</td>\n",
              "      <td>schizophrenia</td>\n",
              "      <td>CENPM</td>\n",
              "      <td>22:41944504</td>\n",
              "      <td>-1.0</td>\n",
              "    </tr>\n",
              "    <tr>\n",
              "      <th>1847</th>\n",
              "      <td>rs10489202-&lt;b&gt;A&lt;/b&gt;</td>\n",
              "      <td>1.000000e-08</td>\n",
              "      <td>schizophrenia</td>\n",
              "      <td>UNKNOWN</td>\n",
              "      <td>Mapping not available</td>\n",
              "      <td>-1.0</td>\n",
              "    </tr>\n",
              "  </tbody>\n",
              "</table>\n",
              "</div>\n",
              "      <button class=\"colab-df-convert\" onclick=\"convertToInteractive('df-b9aa31b8-f428-464f-b8e8-bdb4576e2c13')\"\n",
              "              title=\"Convert this dataframe to an interactive table.\"\n",
              "              style=\"display:none;\">\n",
              "        \n",
              "  <svg xmlns=\"http://www.w3.org/2000/svg\" height=\"24px\"viewBox=\"0 0 24 24\"\n",
              "       width=\"24px\">\n",
              "    <path d=\"M0 0h24v24H0V0z\" fill=\"none\"/>\n",
              "    <path d=\"M18.56 5.44l.94 2.06.94-2.06 2.06-.94-2.06-.94-.94-2.06-.94 2.06-2.06.94zm-11 1L8.5 8.5l.94-2.06 2.06-.94-2.06-.94L8.5 2.5l-.94 2.06-2.06.94zm10 10l.94 2.06.94-2.06 2.06-.94-2.06-.94-.94-2.06-.94 2.06-2.06.94z\"/><path d=\"M17.41 7.96l-1.37-1.37c-.4-.4-.92-.59-1.43-.59-.52 0-1.04.2-1.43.59L10.3 9.45l-7.72 7.72c-.78.78-.78 2.05 0 2.83L4 21.41c.39.39.9.59 1.41.59.51 0 1.02-.2 1.41-.59l7.78-7.78 2.81-2.81c.8-.78.8-2.07 0-2.86zM5.41 20L4 18.59l7.72-7.72 1.47 1.35L5.41 20z\"/>\n",
              "  </svg>\n",
              "      </button>\n",
              "      \n",
              "  <style>\n",
              "    .colab-df-container {\n",
              "      display:flex;\n",
              "      flex-wrap:wrap;\n",
              "      gap: 12px;\n",
              "    }\n",
              "\n",
              "    .colab-df-convert {\n",
              "      background-color: #E8F0FE;\n",
              "      border: none;\n",
              "      border-radius: 50%;\n",
              "      cursor: pointer;\n",
              "      display: none;\n",
              "      fill: #1967D2;\n",
              "      height: 32px;\n",
              "      padding: 0 0 0 0;\n",
              "      width: 32px;\n",
              "    }\n",
              "\n",
              "    .colab-df-convert:hover {\n",
              "      background-color: #E2EBFA;\n",
              "      box-shadow: 0px 1px 2px rgba(60, 64, 67, 0.3), 0px 1px 3px 1px rgba(60, 64, 67, 0.15);\n",
              "      fill: #174EA6;\n",
              "    }\n",
              "\n",
              "    [theme=dark] .colab-df-convert {\n",
              "      background-color: #3B4455;\n",
              "      fill: #D2E3FC;\n",
              "    }\n",
              "\n",
              "    [theme=dark] .colab-df-convert:hover {\n",
              "      background-color: #434B5C;\n",
              "      box-shadow: 0px 1px 3px 1px rgba(0, 0, 0, 0.15);\n",
              "      filter: drop-shadow(0px 1px 2px rgba(0, 0, 0, 0.3));\n",
              "      fill: #FFFFFF;\n",
              "    }\n",
              "  </style>\n",
              "\n",
              "      <script>\n",
              "        const buttonEl =\n",
              "          document.querySelector('#df-b9aa31b8-f428-464f-b8e8-bdb4576e2c13 button.colab-df-convert');\n",
              "        buttonEl.style.display =\n",
              "          google.colab.kernel.accessAllowed ? 'block' : 'none';\n",
              "\n",
              "        async function convertToInteractive(key) {\n",
              "          const element = document.querySelector('#df-b9aa31b8-f428-464f-b8e8-bdb4576e2c13');\n",
              "          const dataTable =\n",
              "            await google.colab.kernel.invokeFunction('convertToInteractive',\n",
              "                                                     [key], {});\n",
              "          if (!dataTable) return;\n",
              "\n",
              "          const docLinkHtml = 'Like what you see? Visit the ' +\n",
              "            '<a target=\"_blank\" href=https://colab.research.google.com/notebooks/data_table.ipynb>data table notebook</a>'\n",
              "            + ' to learn more about interactive tables.';\n",
              "          element.innerHTML = '';\n",
              "          dataTable['output_type'] = 'display_data';\n",
              "          await google.colab.output.renderOutput(dataTable, element);\n",
              "          const docLink = document.createElement('div');\n",
              "          docLink.innerHTML = docLinkHtml;\n",
              "          element.appendChild(docLink);\n",
              "        }\n",
              "      </script>\n",
              "    </div>\n",
              "  </div>\n",
              "  "
            ]
          },
          "metadata": {},
          "execution_count": 44
        }
      ]
    },
    {
      "cell_type": "code",
      "source": [
        "mafs['rs1023330']"
      ],
      "metadata": {
        "colab": {
          "base_uri": "https://localhost:8080/"
        },
        "id": "it4-hqqentca",
        "outputId": "00ecd10d-9c06-43f5-c7dd-ca551d7361b8"
      },
      "execution_count": 45,
      "outputs": [
        {
          "output_type": "execute_result",
          "data": {
            "text/plain": [
              "{'A': 8.575226171590276e-06, 'C': 0.6589289542511684, 'T': 0.34106247052266003}"
            ]
          },
          "metadata": {},
          "execution_count": 45
        }
      ]
    },
    {
      "cell_type": "code",
      "source": [
        "mafs['rs1023497']"
      ],
      "metadata": {
        "colab": {
          "base_uri": "https://localhost:8080/"
        },
        "id": "FJ6Ghyr_pIvy",
        "outputId": "dbeb68fb-2b5c-44a2-9787-dacb0aab15ba"
      },
      "execution_count": 46,
      "outputs": [
        {
          "output_type": "execute_result",
          "data": {
            "text/plain": [
              "{'C': 0.9115666616788868, 'G': 0.08805925482567709, 'T': 0.0003740834954361814}"
            ]
          },
          "metadata": {},
          "execution_count": 46
        }
      ]
    },
    {
      "cell_type": "code",
      "source": [
        "mafs['rs10489202']"
      ],
      "metadata": {
        "colab": {
          "base_uri": "https://localhost:8080/"
        },
        "id": "qG5uMv18pP9a",
        "outputId": "18babc08-db36-4727-8020-f3c5a661a1de"
      },
      "execution_count": 47,
      "outputs": [
        {
          "output_type": "execute_result",
          "data": {
            "text/plain": [
              "{'G': 0.7572409986349701, 'T': 0.24275900136502987}"
            ]
          },
          "metadata": {},
          "execution_count": 47
        }
      ]
    },
    {
      "cell_type": "markdown",
      "source": [
        "Most seem to be tri-allelic and risk allele is not specified. Some don't appear to have data for the risk allele."
      ],
      "metadata": {
        "id": "ALiI5Z63o_8c"
      }
    },
    {
      "cell_type": "markdown",
      "source": [
        "Also inspect the ones with AFs close to 1:"
      ],
      "metadata": {
        "id": "xcJ0D9o3nGr8"
      }
    },
    {
      "cell_type": "code",
      "source": [
        "ones = out_df[out_df['maf'] > 0.99]\n",
        "len(ones)"
      ],
      "metadata": {
        "colab": {
          "base_uri": "https://localhost:8080/"
        },
        "id": "e6B9sXSTmhbH",
        "outputId": "c26cfff5-ec08-46a5-fb77-01f1cf6cec53"
      },
      "execution_count": 48,
      "outputs": [
        {
          "output_type": "execute_result",
          "data": {
            "text/plain": [
              "8"
            ]
          },
          "metadata": {},
          "execution_count": 48
        }
      ]
    },
    {
      "cell_type": "code",
      "source": [
        "ones.head()"
      ],
      "metadata": {
        "colab": {
          "base_uri": "https://localhost:8080/",
          "height": 206
        },
        "id": "Mz-0MIncmoQb",
        "outputId": "06a46d47-5169-4ab1-be00-9965a0a56099"
      },
      "execution_count": 49,
      "outputs": [
        {
          "output_type": "execute_result",
          "data": {
            "text/plain": [
              "        variant_and_allele       p_value          trait       gene  \\\n",
              "1230  rs117509195-<b>G</b>  5.000000e-06  schizophrenia  LINC00301   \n",
              "575    rs12620761-<b>C</b>  2.000000e-06  schizophrenia      MGAT5   \n",
              "1339  rs148114321-<b>T</b>  9.000000e-06  schizophrenia   RALGAPA1   \n",
              "1412  rs190474885-<b>C</b>  1.000000e-06  schizophrenia      NT5C2   \n",
              "894    rs60005721-<b>A</b>  8.000000e-09  schizophrenia      CMAHP   \n",
              "\n",
              "          location       maf  \n",
              "1230   11:60619545  0.995525  \n",
              "575    2:134096560  0.998044  \n",
              "1339   14:35744236  0.992117  \n",
              "1412  10:103213560  0.991070  \n",
              "894     6:25262991  1.000000  "
            ],
            "text/html": [
              "\n",
              "  <div id=\"df-be0cac70-635f-406c-83dc-878b7fb9d305\">\n",
              "    <div class=\"colab-df-container\">\n",
              "      <div>\n",
              "<style scoped>\n",
              "    .dataframe tbody tr th:only-of-type {\n",
              "        vertical-align: middle;\n",
              "    }\n",
              "\n",
              "    .dataframe tbody tr th {\n",
              "        vertical-align: top;\n",
              "    }\n",
              "\n",
              "    .dataframe thead th {\n",
              "        text-align: right;\n",
              "    }\n",
              "</style>\n",
              "<table border=\"1\" class=\"dataframe\">\n",
              "  <thead>\n",
              "    <tr style=\"text-align: right;\">\n",
              "      <th></th>\n",
              "      <th>variant_and_allele</th>\n",
              "      <th>p_value</th>\n",
              "      <th>trait</th>\n",
              "      <th>gene</th>\n",
              "      <th>location</th>\n",
              "      <th>maf</th>\n",
              "    </tr>\n",
              "  </thead>\n",
              "  <tbody>\n",
              "    <tr>\n",
              "      <th>1230</th>\n",
              "      <td>rs117509195-&lt;b&gt;G&lt;/b&gt;</td>\n",
              "      <td>5.000000e-06</td>\n",
              "      <td>schizophrenia</td>\n",
              "      <td>LINC00301</td>\n",
              "      <td>11:60619545</td>\n",
              "      <td>0.995525</td>\n",
              "    </tr>\n",
              "    <tr>\n",
              "      <th>575</th>\n",
              "      <td>rs12620761-&lt;b&gt;C&lt;/b&gt;</td>\n",
              "      <td>2.000000e-06</td>\n",
              "      <td>schizophrenia</td>\n",
              "      <td>MGAT5</td>\n",
              "      <td>2:134096560</td>\n",
              "      <td>0.998044</td>\n",
              "    </tr>\n",
              "    <tr>\n",
              "      <th>1339</th>\n",
              "      <td>rs148114321-&lt;b&gt;T&lt;/b&gt;</td>\n",
              "      <td>9.000000e-06</td>\n",
              "      <td>schizophrenia</td>\n",
              "      <td>RALGAPA1</td>\n",
              "      <td>14:35744236</td>\n",
              "      <td>0.992117</td>\n",
              "    </tr>\n",
              "    <tr>\n",
              "      <th>1412</th>\n",
              "      <td>rs190474885-&lt;b&gt;C&lt;/b&gt;</td>\n",
              "      <td>1.000000e-06</td>\n",
              "      <td>schizophrenia</td>\n",
              "      <td>NT5C2</td>\n",
              "      <td>10:103213560</td>\n",
              "      <td>0.991070</td>\n",
              "    </tr>\n",
              "    <tr>\n",
              "      <th>894</th>\n",
              "      <td>rs60005721-&lt;b&gt;A&lt;/b&gt;</td>\n",
              "      <td>8.000000e-09</td>\n",
              "      <td>schizophrenia</td>\n",
              "      <td>CMAHP</td>\n",
              "      <td>6:25262991</td>\n",
              "      <td>1.000000</td>\n",
              "    </tr>\n",
              "  </tbody>\n",
              "</table>\n",
              "</div>\n",
              "      <button class=\"colab-df-convert\" onclick=\"convertToInteractive('df-be0cac70-635f-406c-83dc-878b7fb9d305')\"\n",
              "              title=\"Convert this dataframe to an interactive table.\"\n",
              "              style=\"display:none;\">\n",
              "        \n",
              "  <svg xmlns=\"http://www.w3.org/2000/svg\" height=\"24px\"viewBox=\"0 0 24 24\"\n",
              "       width=\"24px\">\n",
              "    <path d=\"M0 0h24v24H0V0z\" fill=\"none\"/>\n",
              "    <path d=\"M18.56 5.44l.94 2.06.94-2.06 2.06-.94-2.06-.94-.94-2.06-.94 2.06-2.06.94zm-11 1L8.5 8.5l.94-2.06 2.06-.94-2.06-.94L8.5 2.5l-.94 2.06-2.06.94zm10 10l.94 2.06.94-2.06 2.06-.94-2.06-.94-.94-2.06-.94 2.06-2.06.94z\"/><path d=\"M17.41 7.96l-1.37-1.37c-.4-.4-.92-.59-1.43-.59-.52 0-1.04.2-1.43.59L10.3 9.45l-7.72 7.72c-.78.78-.78 2.05 0 2.83L4 21.41c.39.39.9.59 1.41.59.51 0 1.02-.2 1.41-.59l7.78-7.78 2.81-2.81c.8-.78.8-2.07 0-2.86zM5.41 20L4 18.59l7.72-7.72 1.47 1.35L5.41 20z\"/>\n",
              "  </svg>\n",
              "      </button>\n",
              "      \n",
              "  <style>\n",
              "    .colab-df-container {\n",
              "      display:flex;\n",
              "      flex-wrap:wrap;\n",
              "      gap: 12px;\n",
              "    }\n",
              "\n",
              "    .colab-df-convert {\n",
              "      background-color: #E8F0FE;\n",
              "      border: none;\n",
              "      border-radius: 50%;\n",
              "      cursor: pointer;\n",
              "      display: none;\n",
              "      fill: #1967D2;\n",
              "      height: 32px;\n",
              "      padding: 0 0 0 0;\n",
              "      width: 32px;\n",
              "    }\n",
              "\n",
              "    .colab-df-convert:hover {\n",
              "      background-color: #E2EBFA;\n",
              "      box-shadow: 0px 1px 2px rgba(60, 64, 67, 0.3), 0px 1px 3px 1px rgba(60, 64, 67, 0.15);\n",
              "      fill: #174EA6;\n",
              "    }\n",
              "\n",
              "    [theme=dark] .colab-df-convert {\n",
              "      background-color: #3B4455;\n",
              "      fill: #D2E3FC;\n",
              "    }\n",
              "\n",
              "    [theme=dark] .colab-df-convert:hover {\n",
              "      background-color: #434B5C;\n",
              "      box-shadow: 0px 1px 3px 1px rgba(0, 0, 0, 0.15);\n",
              "      filter: drop-shadow(0px 1px 2px rgba(0, 0, 0, 0.3));\n",
              "      fill: #FFFFFF;\n",
              "    }\n",
              "  </style>\n",
              "\n",
              "      <script>\n",
              "        const buttonEl =\n",
              "          document.querySelector('#df-be0cac70-635f-406c-83dc-878b7fb9d305 button.colab-df-convert');\n",
              "        buttonEl.style.display =\n",
              "          google.colab.kernel.accessAllowed ? 'block' : 'none';\n",
              "\n",
              "        async function convertToInteractive(key) {\n",
              "          const element = document.querySelector('#df-be0cac70-635f-406c-83dc-878b7fb9d305');\n",
              "          const dataTable =\n",
              "            await google.colab.kernel.invokeFunction('convertToInteractive',\n",
              "                                                     [key], {});\n",
              "          if (!dataTable) return;\n",
              "\n",
              "          const docLinkHtml = 'Like what you see? Visit the ' +\n",
              "            '<a target=\"_blank\" href=https://colab.research.google.com/notebooks/data_table.ipynb>data table notebook</a>'\n",
              "            + ' to learn more about interactive tables.';\n",
              "          element.innerHTML = '';\n",
              "          dataTable['output_type'] = 'display_data';\n",
              "          await google.colab.output.renderOutput(dataTable, element);\n",
              "          const docLink = document.createElement('div');\n",
              "          docLink.innerHTML = docLinkHtml;\n",
              "          element.appendChild(docLink);\n",
              "        }\n",
              "      </script>\n",
              "    </div>\n",
              "  </div>\n",
              "  "
            ]
          },
          "metadata": {},
          "execution_count": 49
        }
      ]
    },
    {
      "cell_type": "code",
      "source": [
        "mafs['rs60005721']"
      ],
      "metadata": {
        "colab": {
          "base_uri": "https://localhost:8080/"
        },
        "id": "OU50f_pCmri-",
        "outputId": "0b9908a3-79ad-44aa-d429-7ea108c8e449"
      },
      "execution_count": 50,
      "outputs": [
        {
          "output_type": "execute_result",
          "data": {
            "text/plain": [
              "{'A': 1.0}"
            ]
          },
          "metadata": {},
          "execution_count": 50
        }
      ]
    },
    {
      "cell_type": "code",
      "source": [
        "mafs['rs117509195']"
      ],
      "metadata": {
        "colab": {
          "base_uri": "https://localhost:8080/"
        },
        "id": "OhApo1LMnALm",
        "outputId": "2a99863c-44f6-4e40-9de8-b46dea181746"
      },
      "execution_count": 51,
      "outputs": [
        {
          "output_type": "execute_result",
          "data": {
            "text/plain": [
              "{'C': 0.004475005457323728, 'G': 0.9955249945426763}"
            ]
          },
          "metadata": {},
          "execution_count": 51
        }
      ]
    },
    {
      "cell_type": "markdown",
      "source": [
        "Interestingly, some of the reported risk alleles appear to be the dominant allele, not the minor alleles.\n",
        "\n",
        "This means the assumption to choose the min AF for biallelic variants may not be correct. Fix that, even though a significant number of variants do not report the risk allele:"
      ],
      "metadata": {
        "id": "C_IMEFcNqDGs"
      }
    },
    {
      "cell_type": "code",
      "source": [
        "def try_get_maf_for_variant_and_allele(variant_and_allele):\n",
        "  variant, allele = parse_variant_and_allele(variant_and_allele)\n",
        "  if variant not in mafs:\n",
        "    return UNKNOWN_AF\n",
        "\n",
        "  var_mafs = mafs[variant]\n",
        "  if allele == UNKNOWN_ALLELE or allele not in var_mafs:\n",
        "    return UNKNOWN_AF\n",
        "\n",
        "  return var_mafs[allele]\n",
        "\n",
        "\n",
        "out_df['maf'] = out_df['variant_and_allele'].map(try_get_maf_for_variant_and_allele)\n",
        "out_df['maf'].describe()"
      ],
      "metadata": {
        "colab": {
          "base_uri": "https://localhost:8080/"
        },
        "id": "O765Z5rAqq8N",
        "outputId": "f4c513a0-ec17-4efe-ea50-20afa522eb55"
      },
      "execution_count": 52,
      "outputs": [
        {
          "output_type": "execute_result",
          "data": {
            "text/plain": [
              "count    2201.000000\n",
              "mean       -0.075961\n",
              "std         0.753832\n",
              "min        -1.000000\n",
              "25%        -1.000000\n",
              "50%         0.196713\n",
              "75%         0.560081\n",
              "max         1.000000\n",
              "Name: maf, dtype: float64"
            ]
          },
          "metadata": {},
          "execution_count": 52
        }
      ]
    },
    {
      "cell_type": "code",
      "source": [
        "out_df['maf'].hist()"
      ],
      "metadata": {
        "colab": {
          "base_uri": "https://localhost:8080/",
          "height": 283
        },
        "id": "sPUcd4E4q_lH",
        "outputId": "111f8ee9-0c21-4550-e912-b29de25b3231"
      },
      "execution_count": 53,
      "outputs": [
        {
          "output_type": "execute_result",
          "data": {
            "text/plain": [
              "<matplotlib.axes._subplots.AxesSubplot at 0x7f652b15a890>"
            ]
          },
          "metadata": {},
          "execution_count": 53
        },
        {
          "output_type": "display_data",
          "data": {
            "text/plain": [
              "<Figure size 432x288 with 1 Axes>"
            ],
            "image/png": "[encoded data removed]"
          },
          "metadata": {
            "needs_background": "light"
          }
        }
      ]
    },
    {
      "cell_type": "code",
      "source": [
        "ax = out_df[out_df['maf'] > 0]['maf'].plot(kind='hist', \n",
        "                                      grid=True,\n",
        "                                      title='Distribution of global AFs for schizophrenia variants')\n",
        "ax.set_xlabel('Risk allele frequency')"
      ],
      "metadata": {
        "colab": {
          "base_uri": "https://localhost:8080/",
          "height": 313
        },
        "id": "pqDaMPqirGgj",
        "outputId": "3191de10-029d-4931-9403-add77622673b"
      },
      "execution_count": 54,
      "outputs": [
        {
          "output_type": "execute_result",
          "data": {
            "text/plain": [
              "Text(0.5, 0, 'Risk allele frequency')"
            ]
          },
          "metadata": {},
          "execution_count": 54
        },
        {
          "output_type": "display_data",
          "data": {
            "text/plain": [
              "<Figure size 432x288 with 1 Axes>"
            ],
            "image/png": "[encoded data removed]"
          },
          "metadata": {
            "needs_background": "light"
          }
        }
      ]
    },
    {
      "cell_type": "code",
      "source": [
        "unknowns = out_df[out_df['maf'] < 0.0]\n",
        "print(f'{len(unknowns)} variants with unknown risk alleles out of {len(out_df)} total variants')"
      ],
      "metadata": {
        "colab": {
          "base_uri": "https://localhost:8080/"
        },
        "id": "MQldbqElrOwu",
        "outputId": "3cb16548-7583-4e4c-ab00-4e13bfc048d5"
      },
      "execution_count": 55,
      "outputs": [
        {
          "output_type": "stream",
          "name": "stdout",
          "text": [
            "833 variants with unknown risk alleles out of 2201 total variants\n"
          ]
        }
      ]
    },
    {
      "cell_type": "markdown",
      "source": [
        "# Join with cis-eQTL data\n",
        "Join with processed lists of variants signficantly associated with genes in select tissues."
      ],
      "metadata": {
        "id": "SNSB20SpPXSE"
      }
    },
    {
      "cell_type": "code",
      "source": [
        "tissue_files = [\n",
        "  'Adipose_Subcutaneous.significant_variant_locations.txt',\n",
        "  'Adipose_Visceral_Omentum.significant_variant_locations.txt',\n",
        "  'Adrenal_Gland.significant_variant_locations.txt',\n",
        "  'Artery_Aorta.significant_variant_locations.txt',\n",
        "  'Artery_Coronary.significant_variant_locations.txt',\n",
        "  'Artery_Tibial.significant_variant_locations.txt',\n",
        "  'Brain_Amygdala.significant_variant_locations.txt',\n",
        "  'Brain_Anterior_cingulate_cortex_BA24.significant_variant_locations.txt',\n",
        "  'Brain_Caudate_basal_ganglia.significant_variant_locations.txt',\n",
        "  'Brain_Cerebellar_Hemisphere.significant_variant_locations.txt',\n",
        "  'Brain_Cerebellum.significant_variant_locations.txt',\n",
        "  'Brain_Cortex.significant_variant_locations.txt',\n",
        "  'Brain_Frontal_Cortex_BA9.significant_variant_locations.txt',\n",
        "  'Brain_Hippocampus.significant_variant_locations.txt',\n",
        "  'Brain_Hypothalamus.significant_variant_locations.txt',\n",
        "  'Brain_Nucleus_accumbens_basal_ganglia.significant_variant_locations.txt',\n",
        "]"
      ],
      "metadata": {
        "id": "NLPw8e-0PdqA"
      },
      "execution_count": 56,
      "outputs": []
    },
    {
      "cell_type": "code",
      "source": [
        "NON_RSVAR_FORMAT_LOCATION_VALUE = 'Mapping not available'\n",
        "INVALID_LOCATION = 'Invalid variant location'\n",
        "\n",
        "\n",
        "def gtex_location_to_gwas_location(gtex_location: Text) -> Text:\n",
        "  \"\"\"Converts variant locations in GWAS catalog format to GTEx format.\n",
        "  \n",
        "  i.e. given 'chr1_64764_C_T_b38', returns '4:79296443'.\n",
        "  \"\"\"\n",
        "  parts = gtex_location.split(\"_\")\n",
        "  chr = parts[0][3]\n",
        "  return f'{chr}:{parts[1]}'\n",
        "\n",
        "\n",
        "def find_tissue_associations(variant_pos_set: Set, tissue_filepath: Text) -> Dict[Text, Text]:\n",
        "  \"\"\"Identifies variants with significant tissue associations.\n",
        "  \n",
        "  Returns:\n",
        "      A dict mapping variant locations to tissue. Always same tissue per \n",
        "      function invocation, but idea is to merge later.\n",
        "  \"\"\"\n",
        "  tissue_associations = {}\n",
        "  tissue = tissue_filepath.split(\".\")[0]\n",
        "  with open(tissue_filepath) as tissue_file:\n",
        "    for variant_pos_with_allele in tissue_file.readlines():\n",
        "      gwas_variant_pos = gtex_location_to_gwas_location(variant_pos_with_allele)\n",
        "      if gwas_variant_pos in variant_pos_set:\n",
        "        tissue_associations[gwas_variant_pos] = tissue\n",
        "  return tissue_associations\n",
        "\n",
        "\n",
        "variant_positions = set(out_df['location'])\n",
        "variant_positions.remove(NON_RSVAR_FORMAT_LOCATION_VALUE)\n",
        "for tissue_file in tissue_files:\n",
        "  tas = find_tissue_associations(variant_positions, tissue_file)\n",
        "  num_associations = len(tas.keys())\n",
        "  tissue = tissue_file.split(\".\")[0]\n",
        "  print(f'Found {num_associations} associations with tissue {tissue}')"
      ],
      "metadata": {
        "colab": {
          "base_uri": "https://localhost:8080/"
        },
        "id": "GTUs7KsXPzWl",
        "outputId": "0cb36abd-e73a-40b3-efdb-248cdc407a57"
      },
      "execution_count": 57,
      "outputs": [
        {
          "output_type": "stream",
          "name": "stdout",
          "text": [
            "Found 314 associations with tissue Adipose_Subcutaneous\n",
            "Found 260 associations with tissue Adipose_Visceral_Omentum\n",
            "Found 173 associations with tissue Adrenal_Gland\n",
            "Found 275 associations with tissue Artery_Aorta\n",
            "Found 134 associations with tissue Artery_Coronary\n",
            "Found 316 associations with tissue Artery_Tibial\n",
            "Found 76 associations with tissue Brain_Amygdala\n",
            "Found 112 associations with tissue Brain_Anterior_cingulate_cortex_BA24\n",
            "Found 172 associations with tissue Brain_Caudate_basal_ganglia\n",
            "Found 179 associations with tissue Brain_Cerebellar_Hemisphere\n",
            "Found 218 associations with tissue Brain_Cerebellum\n",
            "Found 182 associations with tissue Brain_Cortex\n",
            "Found 157 associations with tissue Brain_Frontal_Cortex_BA9\n",
            "Found 125 associations with tissue Brain_Hippocampus\n",
            "Found 111 associations with tissue Brain_Hypothalamus\n",
            "Found 157 associations with tissue Brain_Nucleus_accumbens_basal_ganglia\n"
          ]
        }
      ]
    }
  ]
}